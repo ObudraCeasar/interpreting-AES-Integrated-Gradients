{
  "nbformat": 4,
  "nbformat_minor": 0,
  "metadata": {
    "colab": {
      "name": "IG_SF_7.ipynb",
      "provenance": [],
      "collapsed_sections": []
    },
    "kernelspec": {
      "display_name": "Python 3",
      "name": "python3"
    }
  },
  "cells": [
    {
      "cell_type": "code",
      "metadata": {
        "id": "BvV8eIHtD0vY",
        "colab": {
          "base_uri": "https://localhost:8080/"
        },
        "outputId": "eb52ee8a-aacd-4da4-92df-cca0b388be0c"
      },
      "source": [
        "! git clone https://github.com/SwapnilDreams100/calling-out-bluff.git"
      ],
      "execution_count": 1,
      "outputs": [
        {
          "output_type": "stream",
          "text": [
            "Cloning into 'calling-out-bluff'...\n",
            "remote: Enumerating objects: 16, done.\u001b[K\n",
            "remote: Counting objects: 100% (16/16), done.\u001b[K\n",
            "remote: Compressing objects: 100% (14/14), done.\u001b[K\n",
            "remote: Total 3471 (delta 3), reused 12 (delta 2), pack-reused 3455\u001b[K\n",
            "Receiving objects: 100% (3471/3471), 908.76 MiB | 31.94 MiB/s, done.\n",
            "Resolving deltas: 100% (711/711), done.\n",
            "Checking out files: 100% (3481/3481), done.\n"
          ],
          "name": "stdout"
        }
      ]
    },
    {
      "cell_type": "code",
      "metadata": {
        "id": "O-0SO__LN7Sj",
        "colab": {
          "base_uri": "https://localhost:8080/"
        },
        "outputId": "c1b4d7f9-4cbc-4753-9f43-9e62180de2e0"
      },
      "source": [
        "! pip install alibi xhtml2pdf "
      ],
      "execution_count": 2,
      "outputs": [
        {
          "output_type": "stream",
          "text": [
            "Collecting alibi\n",
            "\u001b[?25l  Downloading https://files.pythonhosted.org/packages/89/c1/7e6bbb4a69d84063d84dbf39ef5f95d9ee230379c542bed4e44ca8b878d8/alibi-0.5.5-py3-none-any.whl (228kB)\n",
            "\u001b[K     |████████████████████████████████| 235kB 4.5MB/s \n",
            "\u001b[?25hCollecting xhtml2pdf\n",
            "\u001b[?25l  Downloading https://files.pythonhosted.org/packages/1a/a3/6d4c760bb08e7669f8c8a565ef62fe5a42d28aebf8dbc44476d9dd13782c/xhtml2pdf-0.2.5.tar.gz (100kB)\n",
            "\u001b[K     |████████████████████████████████| 102kB 5.1MB/s \n",
            "\u001b[?25hRequirement already satisfied: attrs in /usr/local/lib/python3.6/dist-packages (from alibi) (20.3.0)\n",
            "Requirement already satisfied: matplotlib in /usr/local/lib/python3.6/dist-packages (from alibi) (3.2.2)\n",
            "Requirement already satisfied: scikit-image!=0.17.1 in /usr/local/lib/python3.6/dist-packages (from alibi) (0.16.2)\n",
            "Collecting shap>=0.36\n",
            "\u001b[?25l  Downloading https://files.pythonhosted.org/packages/85/a3/c0eab9dd6a894165e2cb87504ff5b2710ac5ede3447d9138620b7341b6a2/shap-0.37.0.tar.gz (326kB)\n",
            "\u001b[K     |████████████████████████████████| 327kB 9.0MB/s \n",
            "\u001b[?25hRequirement already satisfied: scipy in /usr/local/lib/python3.6/dist-packages (from alibi) (1.4.1)\n",
            "Requirement already satisfied: beautifulsoup4 in /usr/local/lib/python3.6/dist-packages (from alibi) (4.6.3)\n",
            "Requirement already satisfied: pandas in /usr/local/lib/python3.6/dist-packages (from alibi) (1.1.5)\n",
            "Requirement already satisfied: requests in /usr/local/lib/python3.6/dist-packages (from alibi) (2.23.0)\n",
            "Requirement already satisfied: scikit-learn in /usr/local/lib/python3.6/dist-packages (from alibi) (0.22.2.post1)\n",
            "Requirement already satisfied: spacy[lookups] in /usr/local/lib/python3.6/dist-packages (from alibi) (2.2.4)\n",
            "Requirement already satisfied: typing-extensions>=3.7.2 in /usr/local/lib/python3.6/dist-packages (from alibi) (3.7.4.3)\n",
            "Requirement already satisfied: tensorflow>=2.0 in /usr/local/lib/python3.6/dist-packages (from alibi) (2.4.0)\n",
            "Requirement already satisfied: Pillow in /usr/local/lib/python3.6/dist-packages (from alibi) (7.0.0)\n",
            "Requirement already satisfied: numpy in /usr/local/lib/python3.6/dist-packages (from alibi) (1.19.4)\n",
            "Requirement already satisfied: html5lib>=1.0 in /usr/local/lib/python3.6/dist-packages (from xhtml2pdf) (1.0.1)\n",
            "Collecting pyPdf2\n",
            "\u001b[?25l  Downloading https://files.pythonhosted.org/packages/b4/01/68fcc0d43daf4c6bdbc6b33cc3f77bda531c86b174cac56ef0ffdb96faab/PyPDF2-1.26.0.tar.gz (77kB)\n",
            "\u001b[K     |████████████████████████████████| 81kB 7.0MB/s \n",
            "\u001b[?25hCollecting reportlab>=3.3.0\n",
            "\u001b[?25l  Downloading https://files.pythonhosted.org/packages/4e/ca/f109a94f816b08e1b2f90711c83bdd5596c4b31b3112fe3fa0051ec3c6e6/reportlab-3.5.56-cp36-cp36m-manylinux2010_x86_64.whl (2.6MB)\n",
            "\u001b[K     |████████████████████████████████| 2.6MB 15.1MB/s \n",
            "\u001b[?25hRequirement already satisfied: six in /usr/local/lib/python3.6/dist-packages (from xhtml2pdf) (1.15.0)\n",
            "Collecting python-bidi>=0.4.2\n",
            "  Downloading https://files.pythonhosted.org/packages/33/b0/f942d146a2f457233baaafd6bdf624eba8e0f665045b4abd69d1b62d097d/python_bidi-0.4.2-py2.py3-none-any.whl\n",
            "Collecting arabic-reshaper>=2.1.0\n",
            "  Downloading https://files.pythonhosted.org/packages/0a/1e/b78cacd22bd55c43f2711115d67ece3ed9616ba82d2d0e0914db2a6db985/arabic_reshaper-2.1.1.tar.gz\n",
            "Requirement already satisfied: pyparsing!=2.0.4,!=2.1.2,!=2.1.6,>=2.0.1 in /usr/local/lib/python3.6/dist-packages (from matplotlib->alibi) (2.4.7)\n",
            "Requirement already satisfied: cycler>=0.10 in /usr/local/lib/python3.6/dist-packages (from matplotlib->alibi) (0.10.0)\n",
            "Requirement already satisfied: kiwisolver>=1.0.1 in /usr/local/lib/python3.6/dist-packages (from matplotlib->alibi) (1.3.1)\n",
            "Requirement already satisfied: python-dateutil>=2.1 in /usr/local/lib/python3.6/dist-packages (from matplotlib->alibi) (2.8.1)\n",
            "Requirement already satisfied: imageio>=2.3.0 in /usr/local/lib/python3.6/dist-packages (from scikit-image!=0.17.1->alibi) (2.4.1)\n",
            "Requirement already satisfied: PyWavelets>=0.4.0 in /usr/local/lib/python3.6/dist-packages (from scikit-image!=0.17.1->alibi) (1.1.1)\n",
            "Requirement already satisfied: networkx>=2.0 in /usr/local/lib/python3.6/dist-packages (from scikit-image!=0.17.1->alibi) (2.5)\n",
            "Requirement already satisfied: tqdm>4.25.0 in /usr/local/lib/python3.6/dist-packages (from shap>=0.36->alibi) (4.41.1)\n",
            "Collecting slicer==0.0.3\n",
            "  Downloading https://files.pythonhosted.org/packages/02/a6/c708c5a0f338e99cfbcb6288b88794525548e4fc1b8457feec2c552a81a4/slicer-0.0.3-py3-none-any.whl\n",
            "Requirement already satisfied: numba in /usr/local/lib/python3.6/dist-packages (from shap>=0.36->alibi) (0.48.0)\n",
            "Requirement already satisfied: pytz>=2017.2 in /usr/local/lib/python3.6/dist-packages (from pandas->alibi) (2018.9)\n",
            "Requirement already satisfied: chardet<4,>=3.0.2 in /usr/local/lib/python3.6/dist-packages (from requests->alibi) (3.0.4)\n",
            "Requirement already satisfied: certifi>=2017.4.17 in /usr/local/lib/python3.6/dist-packages (from requests->alibi) (2020.12.5)\n",
            "Requirement already satisfied: idna<3,>=2.5 in /usr/local/lib/python3.6/dist-packages (from requests->alibi) (2.10)\n",
            "Requirement already satisfied: urllib3!=1.25.0,!=1.25.1,<1.26,>=1.21.1 in /usr/local/lib/python3.6/dist-packages (from requests->alibi) (1.24.3)\n",
            "Requirement already satisfied: joblib>=0.11 in /usr/local/lib/python3.6/dist-packages (from scikit-learn->alibi) (1.0.0)\n",
            "Requirement already satisfied: murmurhash<1.1.0,>=0.28.0 in /usr/local/lib/python3.6/dist-packages (from spacy[lookups]->alibi) (1.0.5)\n",
            "Requirement already satisfied: cymem<2.1.0,>=2.0.2 in /usr/local/lib/python3.6/dist-packages (from spacy[lookups]->alibi) (2.0.5)\n",
            "Requirement already satisfied: plac<1.2.0,>=0.9.6 in /usr/local/lib/python3.6/dist-packages (from spacy[lookups]->alibi) (1.1.3)\n",
            "Requirement already satisfied: srsly<1.1.0,>=1.0.2 in /usr/local/lib/python3.6/dist-packages (from spacy[lookups]->alibi) (1.0.5)\n",
            "Requirement already satisfied: preshed<3.1.0,>=3.0.2 in /usr/local/lib/python3.6/dist-packages (from spacy[lookups]->alibi) (3.0.5)\n",
            "Requirement already satisfied: blis<0.5.0,>=0.4.0 in /usr/local/lib/python3.6/dist-packages (from spacy[lookups]->alibi) (0.4.1)\n",
            "Requirement already satisfied: catalogue<1.1.0,>=0.0.7 in /usr/local/lib/python3.6/dist-packages (from spacy[lookups]->alibi) (1.0.0)\n",
            "Requirement already satisfied: thinc==7.4.0 in /usr/local/lib/python3.6/dist-packages (from spacy[lookups]->alibi) (7.4.0)\n",
            "Requirement already satisfied: setuptools in /usr/local/lib/python3.6/dist-packages (from spacy[lookups]->alibi) (50.3.2)\n",
            "Requirement already satisfied: wasabi<1.1.0,>=0.4.0 in /usr/local/lib/python3.6/dist-packages (from spacy[lookups]->alibi) (0.8.0)\n",
            "Collecting spacy-lookups-data<0.2.0,>=0.0.5; extra == \"lookups\"\n",
            "\u001b[?25l  Downloading https://files.pythonhosted.org/packages/27/3c/4a37ca7d0c21dc2287a8bb5d249f5f3211cdf3d598acf742bf5bb8c87169/spacy_lookups_data-0.1.0.tar.gz (28.0MB)\n",
            "\u001b[K     |████████████████████████████████| 28.0MB 164kB/s \n",
            "\u001b[?25hRequirement already satisfied: wheel~=0.35 in /usr/local/lib/python3.6/dist-packages (from tensorflow>=2.0->alibi) (0.36.2)\n",
            "Requirement already satisfied: keras-preprocessing~=1.1.2 in /usr/local/lib/python3.6/dist-packages (from tensorflow>=2.0->alibi) (1.1.2)\n",
            "Requirement already satisfied: tensorboard~=2.4 in /usr/local/lib/python3.6/dist-packages (from tensorflow>=2.0->alibi) (2.4.0)\n",
            "Requirement already satisfied: tensorflow-estimator<2.5.0,>=2.4.0rc0 in /usr/local/lib/python3.6/dist-packages (from tensorflow>=2.0->alibi) (2.4.0)\n",
            "Requirement already satisfied: wrapt~=1.12.1 in /usr/local/lib/python3.6/dist-packages (from tensorflow>=2.0->alibi) (1.12.1)\n",
            "Requirement already satisfied: protobuf>=3.9.2 in /usr/local/lib/python3.6/dist-packages (from tensorflow>=2.0->alibi) (3.12.4)\n",
            "Requirement already satisfied: astunparse~=1.6.3 in /usr/local/lib/python3.6/dist-packages (from tensorflow>=2.0->alibi) (1.6.3)\n",
            "Requirement already satisfied: google-pasta~=0.2 in /usr/local/lib/python3.6/dist-packages (from tensorflow>=2.0->alibi) (0.2.0)\n",
            "Requirement already satisfied: absl-py~=0.10 in /usr/local/lib/python3.6/dist-packages (from tensorflow>=2.0->alibi) (0.10.0)\n",
            "Requirement already satisfied: flatbuffers~=1.12.0 in /usr/local/lib/python3.6/dist-packages (from tensorflow>=2.0->alibi) (1.12)\n",
            "Requirement already satisfied: termcolor~=1.1.0 in /usr/local/lib/python3.6/dist-packages (from tensorflow>=2.0->alibi) (1.1.0)\n",
            "Requirement already satisfied: grpcio~=1.32.0 in /usr/local/lib/python3.6/dist-packages (from tensorflow>=2.0->alibi) (1.32.0)\n",
            "Requirement already satisfied: gast==0.3.3 in /usr/local/lib/python3.6/dist-packages (from tensorflow>=2.0->alibi) (0.3.3)\n",
            "Requirement already satisfied: h5py~=2.10.0 in /usr/local/lib/python3.6/dist-packages (from tensorflow>=2.0->alibi) (2.10.0)\n",
            "Requirement already satisfied: opt-einsum~=3.3.0 in /usr/local/lib/python3.6/dist-packages (from tensorflow>=2.0->alibi) (3.3.0)\n",
            "Requirement already satisfied: webencodings in /usr/local/lib/python3.6/dist-packages (from html5lib>=1.0->xhtml2pdf) (0.5.1)\n",
            "Requirement already satisfied: future in /usr/local/lib/python3.6/dist-packages (from arabic-reshaper>=2.1.0->xhtml2pdf) (0.16.0)\n",
            "Requirement already satisfied: decorator>=4.3.0 in /usr/local/lib/python3.6/dist-packages (from networkx>=2.0->scikit-image!=0.17.1->alibi) (4.4.2)\n",
            "Requirement already satisfied: llvmlite<0.32.0,>=0.31.0dev0 in /usr/local/lib/python3.6/dist-packages (from numba->shap>=0.36->alibi) (0.31.0)\n",
            "Requirement already satisfied: importlib-metadata>=0.20; python_version < \"3.8\" in /usr/local/lib/python3.6/dist-packages (from catalogue<1.1.0,>=0.0.7->spacy[lookups]->alibi) (3.3.0)\n",
            "Requirement already satisfied: werkzeug>=0.11.15 in /usr/local/lib/python3.6/dist-packages (from tensorboard~=2.4->tensorflow>=2.0->alibi) (1.0.1)\n",
            "Requirement already satisfied: google-auth<2,>=1.6.3 in /usr/local/lib/python3.6/dist-packages (from tensorboard~=2.4->tensorflow>=2.0->alibi) (1.17.2)\n",
            "Requirement already satisfied: google-auth-oauthlib<0.5,>=0.4.1 in /usr/local/lib/python3.6/dist-packages (from tensorboard~=2.4->tensorflow>=2.0->alibi) (0.4.2)\n",
            "Requirement already satisfied: markdown>=2.6.8 in /usr/local/lib/python3.6/dist-packages (from tensorboard~=2.4->tensorflow>=2.0->alibi) (3.3.3)\n",
            "Requirement already satisfied: tensorboard-plugin-wit>=1.6.0 in /usr/local/lib/python3.6/dist-packages (from tensorboard~=2.4->tensorflow>=2.0->alibi) (1.7.0)\n",
            "Requirement already satisfied: zipp>=0.5 in /usr/local/lib/python3.6/dist-packages (from importlib-metadata>=0.20; python_version < \"3.8\"->catalogue<1.1.0,>=0.0.7->spacy[lookups]->alibi) (3.4.0)\n",
            "Requirement already satisfied: cachetools<5.0,>=2.0.0 in /usr/local/lib/python3.6/dist-packages (from google-auth<2,>=1.6.3->tensorboard~=2.4->tensorflow>=2.0->alibi) (4.2.0)\n",
            "Requirement already satisfied: pyasn1-modules>=0.2.1 in /usr/local/lib/python3.6/dist-packages (from google-auth<2,>=1.6.3->tensorboard~=2.4->tensorflow>=2.0->alibi) (0.2.8)\n",
            "Requirement already satisfied: rsa<5,>=3.1.4; python_version >= \"3\" in /usr/local/lib/python3.6/dist-packages (from google-auth<2,>=1.6.3->tensorboard~=2.4->tensorflow>=2.0->alibi) (4.6)\n",
            "Requirement already satisfied: requests-oauthlib>=0.7.0 in /usr/local/lib/python3.6/dist-packages (from google-auth-oauthlib<0.5,>=0.4.1->tensorboard~=2.4->tensorflow>=2.0->alibi) (1.3.0)\n",
            "Requirement already satisfied: pyasn1<0.5.0,>=0.4.6 in /usr/local/lib/python3.6/dist-packages (from pyasn1-modules>=0.2.1->google-auth<2,>=1.6.3->tensorboard~=2.4->tensorflow>=2.0->alibi) (0.4.8)\n",
            "Requirement already satisfied: oauthlib>=3.0.0 in /usr/local/lib/python3.6/dist-packages (from requests-oauthlib>=0.7.0->google-auth-oauthlib<0.5,>=0.4.1->tensorboard~=2.4->tensorflow>=2.0->alibi) (3.1.0)\n",
            "Building wheels for collected packages: xhtml2pdf, shap, pyPdf2, arabic-reshaper, spacy-lookups-data\n",
            "  Building wheel for xhtml2pdf (setup.py) ... \u001b[?25l\u001b[?25hdone\n",
            "  Created wheel for xhtml2pdf: filename=xhtml2pdf-0.2.5-cp36-none-any.whl size=234491 sha256=456e44704dc7a1df5385439c1d28bb7f47e34bacf7b6d1b4d142428fcd96d2af\n",
            "  Stored in directory: /root/.cache/pip/wheels/69/0f/15/6f8008b18ca84c08c198445b465c8038f745e444d7251a8266\n",
            "  Building wheel for shap (setup.py) ... \u001b[?25l\u001b[?25hdone\n",
            "  Created wheel for shap: filename=shap-0.37.0-cp36-cp36m-linux_x86_64.whl size=463918 sha256=765427597e58184ab5d25271f834a4512bd9abd08e03818b52809d900cc38e33\n",
            "  Stored in directory: /root/.cache/pip/wheels/df/ad/b0/aa7815ec68850d66551ef618095eccb962c8f6022f1d3dd989\n",
            "  Building wheel for pyPdf2 (setup.py) ... \u001b[?25l\u001b[?25hdone\n",
            "  Created wheel for pyPdf2: filename=PyPDF2-1.26.0-cp36-none-any.whl size=61087 sha256=f0f05367f56118ee430dbf153fedc1d47a277ee942f793545e31e1e6e6480e94\n",
            "  Stored in directory: /root/.cache/pip/wheels/53/84/19/35bc977c8bf5f0c23a8a011aa958acd4da4bbd7a229315c1b7\n",
            "  Building wheel for arabic-reshaper (setup.py) ... \u001b[?25l\u001b[?25hdone\n",
            "  Created wheel for arabic-reshaper: filename=arabic_reshaper-2.1.1-cp36-none-any.whl size=16504 sha256=415aa5a21ac69437f1b121349a0913a5c6d1660d931a3c07caa10269beee0521\n",
            "  Stored in directory: /root/.cache/pip/wheels/62/52/d8/bd0dcbf00f9e77e3bd0184285ed77dfa9c475dac494a5353d1\n",
            "  Building wheel for spacy-lookups-data (setup.py) ... \u001b[?25l\u001b[?25hdone\n",
            "  Created wheel for spacy-lookups-data: filename=spacy_lookups_data-0.1.0-py2.py3-none-any.whl size=28052145 sha256=dcceeeda863c6afa0424e02b8feac63ae31e4a202c2e5e79195be333006e4cbb\n",
            "  Stored in directory: /root/.cache/pip/wheels/2a/2b/0a/d6fb6235c56d014d224bca760d15d7cbdd820813085ffcd35d\n",
            "Successfully built xhtml2pdf shap pyPdf2 arabic-reshaper spacy-lookups-data\n",
            "Installing collected packages: slicer, shap, alibi, pyPdf2, reportlab, python-bidi, arabic-reshaper, xhtml2pdf, spacy-lookups-data\n",
            "Successfully installed alibi-0.5.5 arabic-reshaper-2.1.1 pyPdf2-1.26.0 python-bidi-0.4.2 reportlab-3.5.56 shap-0.37.0 slicer-0.0.3 spacy-lookups-data-0.1.0 xhtml2pdf-0.2.5\n"
          ],
          "name": "stdout"
        }
      ]
    },
    {
      "cell_type": "code",
      "metadata": {
        "id": "wPgMhah0mZlZ",
        "colab": {
          "base_uri": "https://localhost:8080/"
        },
        "outputId": "5e2c56dd-8e4d-40e9-c2f8-e3b1a0ae98b2"
      },
      "source": [
        "from google.colab import drive\n",
        "drive.mount('/content/drive')"
      ],
      "execution_count": 3,
      "outputs": [
        {
          "output_type": "stream",
          "text": [
            "Mounted at /content/drive\n"
          ],
          "name": "stdout"
        }
      ]
    },
    {
      "cell_type": "code",
      "metadata": {
        "id": "QjfY1O0HmgDg"
      },
      "source": [
        "! cp ./drive/My\\ Drive/glove.6B.300d.txt ./"
      ],
      "execution_count": 4,
      "outputs": []
    },
    {
      "cell_type": "code",
      "metadata": {
        "id": "tCmiWiirD7Tw",
        "colab": {
          "base_uri": "https://localhost:8080/"
        },
        "outputId": "aa82ac83-85a6-4ed7-b4d5-cddb60633264"
      },
      "source": [
        "essay_type = '7'\n",
        "\n",
        "import keras.layers as klayers \n",
        "from keras.preprocessing.text import text_to_word_sequence\n",
        "from keras.preprocessing.sequence import pad_sequences\n",
        "from keras.layers import Dense, LSTM, Input, Embedding, GlobalAveragePooling1D, Concatenate, Activation, Lambda, BatchNormalization, Convolution1D, Dropout\n",
        "from keras.preprocessing.text import Tokenizer\n",
        "import numpy as np\n",
        "import nltk\n",
        "nltk.download('punkt')\n",
        "# from quadratic_weighted_kappa import QWK\n",
        "from sklearn.metrics import cohen_kappa_score\n",
        "from keras.models import Model\n",
        "from keras import backend as K\n",
        "from keras.engine.topology import Layer, InputSpec\n",
        "from keras.optimizers import Adam\n",
        "from keras.callbacks import EarlyStopping\n",
        "from keras import regularizers\n",
        "from keras import initializers\n",
        "from scipy import stats\n",
        "import matplotlib as mpl\n",
        "from IPython.display import HTML\n",
        "from alibi.explainers import IntegratedGradients\n",
        "import tensorflow.compat.v1 as tf\n",
        "tf.enable_eager_execution()\n",
        "import gc\n",
        "import matplotlib.pyplot as plt\n",
        "from collections import Counter\n",
        "# tf.disable_v2_behavior()"
      ],
      "execution_count": 5,
      "outputs": [
        {
          "output_type": "stream",
          "text": [
            "[nltk_data] Downloading package punkt to /root/nltk_data...\n",
            "[nltk_data]   Unzipping tokenizers/punkt.zip.\n"
          ],
          "name": "stdout"
        }
      ]
    },
    {
      "cell_type": "code",
      "metadata": {
        "id": "WGDDEFynjk5B"
      },
      "source": [
        "class Neural_Tensor_layer(Layer):\n",
        "\tdef __init__(self,output_dim,input_dim=None, **kwargs):\n",
        "\t\tself.output_dim=output_dim\n",
        "\t\tself.input_dim=input_dim\n",
        "\t\tif self.input_dim:\n",
        "\t\t\tkwargs['input_shape']=(self.input_dim,)\n",
        "# \t\tprint(\"YAYY\", input_dim, output_dim)\n",
        "\t\tsuper(Neural_Tensor_layer,self).__init__(**kwargs)\n",
        "\n",
        "\tdef call(self,inputs,mask=None):\n",
        "\t\te1=inputs[0]\n",
        "\t\te2=inputs[1]\n",
        "\t\tbatch_size=K.shape(e1)[0]\n",
        "\t\tk=self.output_dim\n",
        "\t\t\n",
        "\t\tfeed_forward=K.dot(K.concatenate([e1,e2]),self.V)\n",
        "\n",
        "\t\tbilinear_tensor_products = [ K.sum((e2 * K.dot(e1, self.W[0])) + self.b, axis=1) ]\n",
        "\n",
        "\t\tfor i in range(k)[1:]:\t\n",
        "\t\t\tbtp=K.sum((e2*K.dot(e1,self.W[i]))+self.b,axis=1)\n",
        "\t\t\tbilinear_tensor_products.append(btp)\n",
        "\n",
        "\t\tresult=K.tanh(K.reshape(K.concatenate(bilinear_tensor_products,axis=0),(batch_size,k))+feed_forward)\n",
        "\n",
        "\t\treturn result\n",
        "    \n",
        "\tdef build(self,input_shape):\n",
        "\t\tmean=0.0\n",
        "\t\tstd=1.0\n",
        "\t\tk=self.output_dim\n",
        "\t\td=self.input_dim\n",
        "\t\t##truncnorm generate continuous random numbers in given range\n",
        "\t\tW_val=stats.truncnorm.rvs(-2 * std, 2 * std, loc=mean, scale=std, size=(k,d,d))\n",
        "\t\tV_val=stats.truncnorm.rvs(-2 * std, 2 * std, loc=mean, scale=std, size=(2*d,k))\n",
        "\t\tself.W=K.variable(W_val)\n",
        "\t\tself.V=K.variable(V_val)\n",
        "\t\tself.b=K.zeros((self.input_dim,))\n",
        "\t\tself.trainable_weights.append([self.W,self.V,self.b])\n",
        "\n",
        "\tdef compute_output_shape(self, input_shape):\n",
        "\t\tbatch_size=input_shape[0][0]\n",
        "\t\treturn(batch_size,self.output_dim)\n",
        "  \n",
        "\n",
        "class Temporal_Mean_Pooling(Layer): # conversion from (samples,timesteps,features) to (samples,features)\n",
        "\tdef __init__(self, **kwargs):\n",
        "\t\tsuper(Temporal_Mean_Pooling,self).__init__(**kwargs)\n",
        "\t\t# masked values in x (number_of_samples,time)\n",
        "\t\tself.supports_masking=True\n",
        "\t\t# Specifies number of dimensions to each layer\n",
        "\t\tself.input_spec=InputSpec(ndim=3)\n",
        "        \n",
        "\tdef call(self,x,mask=None):\n",
        "\t\tif mask is None:\n",
        "\t\t\tmask=K.mean(K.ones_like(x),axis=-1)\n",
        "\n",
        "\t\tmask=K.cast(mask,K.floatx())\n",
        "\t\t\t\t#dimension size single vec/number of samples\n",
        "\t\treturn K.sum(x,axis=-2)/K.sum(mask,axis=-1,keepdims=True)        \n",
        "\n",
        "\tdef compute_mask(self,input,mask):\n",
        "\t\treturn None\n",
        "    \n",
        "\tdef compute_output_shape(self,input_shape):\n",
        "\t\treturn (input_shape[0],input_shape[2])"
      ],
      "execution_count": 6,
      "outputs": []
    },
    {
      "cell_type": "code",
      "metadata": {
        "id": "E2DwocEp1OIP"
      },
      "source": [
        "main_path = './calling-out-bluff/Model3(SkipFlow)/'"
      ],
      "execution_count": 7,
      "outputs": []
    },
    {
      "cell_type": "code",
      "metadata": {
        "id": "g5-V6Sn5kLGd"
      },
      "source": [
        "EMBEDDING_DIM=300\n",
        "MAX_NB_WORDS=4000\n",
        "\n",
        "MAX_SEQUENCE_LENGTH=500\n",
        "VALIDATION_SPLIT=0.20\n",
        "DELTA=20\n",
        "\n",
        "texts=[]\n",
        "labels=[]\n",
        "\n",
        "originals = []\n",
        "\n",
        "fp1=open(\"glove.6B.300d.txt\",\"r\", encoding=\"utf-8\")\n",
        "glove_emb={}\n",
        "for line in fp1:\n",
        "  temp=line.split(\" \")\n",
        "  try:\n",
        "    glove_emb[temp[0]]=np.asarray([float(i) for i in temp[1:]])\n",
        "  except Exception as e:\n",
        "    pass"
      ],
      "execution_count": 8,
      "outputs": []
    },
    {
      "cell_type": "code",
      "metadata": {
        "id": "jy65qcfLz6ye",
        "colab": {
          "base_uri": "https://localhost:8080/"
        },
        "outputId": "d2a08f66-d7ff-4d45-a9e1-58a712e32ff2"
      },
      "source": [
        "fp=open(main_path+\"data/training_set_rel3.tsv\",'r', encoding=\"ascii\", errors=\"ignore\")\n",
        "fp.readline()\n",
        "originals = []\n",
        "for line in fp:\n",
        "    temp=line.split(\"\\t\")\n",
        "    if(temp[1]==essay_type): ## why only 4 ?? - evals in prompt specific fashion\n",
        "        originals.append(float(temp[6]))\n",
        "# print(originals)\n",
        "fp.close()\n",
        "# print(originals)\n",
        "print(\"range min - \", min(originals) , \" ; range max - \", max(originals))\n",
        "\n",
        "range_min = min(originals)\n",
        "range_max = max(originals)\n",
        "\n",
        "fp=open(main_path+\"data/training_set_rel3.tsv\",'r', encoding=\"ascii\", errors=\"ignore\")\n",
        "fp.readline()\n",
        "sentences=[]\n",
        "for line in fp:\n",
        "    temp=line.split(\"\\t\")\n",
        "    if(temp[1]==essay_type): ## why only 4 ?? - evals in prompt specific fashion\n",
        "        texts.append(temp[2])\n",
        "        labels.append((float(temp[6])-range_min)/(range_max-range_min)) ## why ??  - normalize to range [0-1]\n",
        "        line=temp[2].strip()\n",
        "        sentences.append(nltk.tokenize.word_tokenize(line))\n",
        "\n",
        "fp.close()\n",
        "orig_labels  = labels"
      ],
      "execution_count": 9,
      "outputs": [
        {
          "output_type": "stream",
          "text": [
            "range min -  2.0  ; range max -  24.0\n"
          ],
          "name": "stdout"
        }
      ]
    },
    {
      "cell_type": "code",
      "metadata": {
        "id": "7z17z3Co13R3"
      },
      "source": [
        "for i in sentences:\n",
        "\ttemp1=np.zeros((1, EMBEDDING_DIM))\n",
        "\tfor w in i:\n",
        "\t\tif(w in glove_emb):\n",
        "\t\t\ttemp1+=glove_emb[w]\n",
        "\ttemp1/=len(i)"
      ],
      "execution_count": 10,
      "outputs": []
    },
    {
      "cell_type": "code",
      "metadata": {
        "id": "X1mdxlR31_uU",
        "colab": {
          "base_uri": "https://localhost:8080/"
        },
        "outputId": "e06707e5-3eea-4f5d-ee13-1268a5249c1a"
      },
      "source": [
        "tokenizer=Tokenizer(nb_words = MAX_NB_WORDS) #num_words=MAX_NB_WORDS) #limits vocabulory size\n",
        "tokenizer.fit_on_texts(texts) #encoding the text\n",
        "sequences=tokenizer.texts_to_sequences(texts) #returns list of sequences\n",
        "word_index=tokenizer.word_index #dictionary mapping, word and specific token for that word...\n",
        "print('Found %s unique tokens.' % len(word_index))\n",
        "\n",
        "data = pad_sequences(sequences, maxlen=MAX_SEQUENCE_LENGTH) #padding to max_length"
      ],
      "execution_count": 11,
      "outputs": [
        {
          "output_type": "stream",
          "text": [
            "The `nb_words` argument in `Tokenizer` has been renamed `num_words`.\n"
          ],
          "name": "stderr"
        },
        {
          "output_type": "stream",
          "text": [
            "Found 10432 unique tokens.\n"
          ],
          "name": "stdout"
        }
      ]
    },
    {
      "cell_type": "code",
      "metadata": {
        "id": "GGizQhV-2Az1",
        "colab": {
          "base_uri": "https://localhost:8080/"
        },
        "outputId": "eff75be8-9385-46c9-f9d8-7090fa4cf992"
      },
      "source": [
        "np.random.seed(0)\n",
        "indices=np.arange(data.shape[0]) #with one argument, start=0, step =1\n",
        "print(data.shape)\n",
        "np.random.shuffle(indices)\n",
        "data=data[indices]\n",
        "print(data.shape)\n",
        "labels=np.asarray(labels)\n",
        "labels=labels[indices]\n",
        "# np.reshape(labels, ())\n",
        "print(labels.shape)\n",
        "validation_size=int(VALIDATION_SPLIT*data.shape[0])\n",
        "print(validation_size)"
      ],
      "execution_count": 12,
      "outputs": [
        {
          "output_type": "stream",
          "text": [
            "(1569, 500)\n",
            "(1569, 500)\n",
            "(1569,)\n",
            "313\n"
          ],
          "name": "stdout"
        }
      ]
    },
    {
      "cell_type": "code",
      "metadata": {
        "id": "gO1p22Ze2D3l",
        "colab": {
          "base_uri": "https://localhost:8080/"
        },
        "outputId": "1fc9c8d3-20ab-4994-ef99-3a46a88b0655"
      },
      "source": [
        "x_train=data[:-validation_size] #data-validation data\n",
        "print(x_train.shape)\n",
        "# print(x_train)\n",
        "# print(labels)\n",
        "y_train=labels[:-validation_size]\n",
        "# print(y_train.transpose)\n",
        "print(y_train.shape)\n",
        "# y_train = np.reshape(y_train, (1427, 1))\n",
        "# print(y_train_new)\n",
        "# print(y_train)\n",
        "x_val=data[-validation_size:]\n",
        "print(x_val.shape)\n",
        "y_val=labels[-validation_size:]"
      ],
      "execution_count": 13,
      "outputs": [
        {
          "output_type": "stream",
          "text": [
            "(1256, 500)\n",
            "(1256,)\n",
            "(313, 500)\n"
          ],
          "name": "stdout"
        }
      ]
    },
    {
      "cell_type": "code",
      "metadata": {
        "id": "LQwJwLH42GKl",
        "colab": {
          "base_uri": "https://localhost:8080/"
        },
        "outputId": "1057f6d1-2efc-4f5f-b922-4389c6667aee"
      },
      "source": [
        "embedding_matrix = np.zeros((len(word_index), EMBEDDING_DIM))\n",
        "for word,i in word_index.items():\n",
        "\tif(i>=len(word_index)):\n",
        "\t\tcontinue\n",
        "\tif word in glove_emb:\n",
        "\t\t\tembedding_matrix[i]=glove_emb[word]\n",
        "vocab_size=len(word_index)\n",
        "print(vocab_size)"
      ],
      "execution_count": 14,
      "outputs": [
        {
          "output_type": "stream",
          "text": [
            "10432\n"
          ],
          "name": "stdout"
        }
      ]
    },
    {
      "cell_type": "code",
      "metadata": {
        "id": "28IjYXAMyigW"
      },
      "source": [
        "embedding_layer=Embedding(vocab_size,EMBEDDING_DIM,weights=[embedding_matrix],\n",
        "\t\t\t\t\t\t\tinput_length=MAX_SEQUENCE_LENGTH,\n",
        "\t\t\t\t\t\t\tmask_zero=True,\n",
        "\t\t\t\t\t\t\ttrainable=False)\n",
        "# print(embedding_layer.shape)\n",
        "side_embedding_layer=Embedding(vocab_size,EMBEDDING_DIM,weights=[embedding_matrix],\n",
        "\t\t\t\t\t\t\tinput_length=MAX_SEQUENCE_LENGTH,\n",
        "\t\t\t\t\t\t\tmask_zero=False,\n",
        "\t\t\t\t\t\t\ttrainable=False)"
      ],
      "execution_count": 15,
      "outputs": []
    },
    {
      "cell_type": "code",
      "metadata": {
        "id": "fMLxL07gkLNo"
      },
      "source": [
        "def SKIPFLOW(lstm_dim=50, lr=1e-4, lr_decay=1e-6, k=4, eta=3, delta=50, activation=\"relu\", maxlen=MAX_SEQUENCE_LENGTH, seed=None):\n",
        "    e = Input(name='essay',shape=(maxlen,))\n",
        "    print(\"e\", e)\n",
        "#     trad_feats=Input(shape=(7,))\n",
        "#     print(\"trad_feats\", trad_feats)\n",
        "    embed = embedding_layer(e)\n",
        "    print(embed.shape)\n",
        "    lstm_layer=LSTM(lstm_dim,return_sequences=True)\n",
        "    # print(lstm_layer)\n",
        "    hidden_states=lstm_layer(embed)\n",
        "    htm=Temporal_Mean_Pooling()(hidden_states)    \n",
        "    side_embed = side_embedding_layer(e)\n",
        "    side_hidden_states=lstm_layer(side_embed)    \n",
        "    tensor_layer=Neural_Tensor_layer(output_dim=k,input_dim=500)\n",
        "#     print(input_dim, output_dim)\n",
        "    pairs = [((eta + i * delta) % maxlen, (eta + i * delta + delta) % maxlen) for i in range(maxlen // delta)]\n",
        "    hidden_pairs = [ (Lambda(lambda t: t[:, p[0], :])(side_hidden_states), Lambda(lambda t: t[:, p[1], :])(side_hidden_states)) for p in pairs]\n",
        "    sigmoid = Dense(1, activation=\"sigmoid\", kernel_initializer=initializers.glorot_normal(seed=seed))\n",
        "    coherence = [sigmoid(tensor_layer([hp[0], hp[1]])) for hp in hidden_pairs]\n",
        "    co_tm=Concatenate()(coherence[:]+[htm])\n",
        "    dense = Dense(256, activation=activation,kernel_initializer=initializers.glorot_normal(seed=seed))(co_tm)\n",
        "    dense = Dense(128, activation=activation,kernel_initializer=initializers.glorot_normal(seed=seed))(dense)\n",
        "    dense = Dense(64, activation=activation,kernel_initializer=initializers.glorot_normal(seed=seed))(dense)\n",
        "    out = Dense(1, activation=\"sigmoid\")(dense)\n",
        "    model = Model(inputs=[e], outputs=[out])\n",
        "    print(\"input\", [e])\n",
        "    print(\"outputs\", out)\n",
        "    adam = Adam(lr=lr, decay=lr_decay)\n",
        "    model.compile(loss=\"mean_squared_error\", optimizer=adam, metrics=[\"MSE\"])\n",
        "    return model"
      ],
      "execution_count": 16,
      "outputs": []
    },
    {
      "cell_type": "code",
      "metadata": {
        "id": "om8A9O8ZkLLL",
        "colab": {
          "base_uri": "https://localhost:8080/"
        },
        "outputId": "c0cc3aba-ef67-4293-9eab-8ddad8439d01"
      },
      "source": [
        "earlystopping = EarlyStopping(monitor=\"val_mean_squared_error\", patience=5)\n",
        "sf = SKIPFLOW(lstm_dim=500, lr=2e-4, lr_decay=2e-6, k=4, eta=13, delta=50, activation=\"relu\", seed=None)\n",
        "# sf.summary()"
      ],
      "execution_count": 17,
      "outputs": [
        {
          "output_type": "stream",
          "text": [
            "e KerasTensor(type_spec=TensorSpec(shape=(None, 500), dtype=tf.float32, name='essay'), name='essay', description=\"created by layer 'essay'\")\n",
            "(None, 500, 300)\n",
            "input [<KerasTensor: shape=(None, 500) dtype=float32 (created by layer 'essay')>]\n",
            "outputs KerasTensor(type_spec=TensorSpec(shape=(None, 1), dtype=tf.float32, name=None), name='dense_4/Sigmoid:0', description=\"created by layer 'dense_4'\")\n"
          ],
          "name": "stdout"
        }
      ]
    },
    {
      "cell_type": "code",
      "metadata": {
        "id": "GFTMhyT-zAUn"
      },
      "source": [
        "# sf.load_weights(main_path+'weights_final/'+essay_type+'_weights.h5')"
      ],
      "execution_count": 18,
      "outputs": []
    },
    {
      "cell_type": "code",
      "metadata": {
        "id": "h4I7qRNNuHon"
      },
      "source": [
        "import pickle\n",
        "pklfile= \"./drive/My Drive/sf_models/\"+essay_type+\"_weights.pkl\"\n",
        "fpkl= open(pklfile, 'rb')   \n",
        "sf.set_weights(pickle.load(fpkl))\n",
        "fpkl.close()"
      ],
      "execution_count": 19,
      "outputs": []
    },
    {
      "cell_type": "code",
      "metadata": {
        "id": "ijeJFS4_DqPk",
        "colab": {
          "base_uri": "https://localhost:8080/"
        },
        "outputId": "e401339a-5840-4147-f532-3fdb885c88a4"
      },
      "source": [
        "import pandas as pd\n",
        "import nltk\n",
        "from nltk import tokenize\n",
        "import pickle\n",
        "from random import shuffle\n",
        "import random\n",
        "import numpy as np\n",
        "from scipy import spatial\n",
        "from xhtml2pdf import pisa\n",
        "import math\n",
        "from alibi.explainers import IntegratedGradients as alibi_ig\n",
        "import matplotlib as mpl\n",
        "from collections import Counter\n",
        "from sklearn.metrics import cohen_kappa_score\n",
        "import matplotlib.pyplot as plt\n",
        "import os\n",
        "import copy\n",
        "import gc\n",
        "\n",
        "from google_drive_downloader import GoogleDriveDownloader as gdd\n",
        "gdd.download_file_from_google_drive(file_id='1CIEpiDmzLmJ6LMCVSOmCKw_eOg4ocuS4', dest_path='/content/AES.zip', unzip=True)\n",
        "\n",
        "preds_main = sf.predict(x_val)\n",
        "preds_main =[int(round(a*(range_max-range_min)+range_min)) for a in preds_main.flatten().tolist()]"
      ],
      "execution_count": 20,
      "outputs": [
        {
          "output_type": "stream",
          "text": [
            "Downloading 1CIEpiDmzLmJ6LMCVSOmCKw_eOg4ocuS4 into /content/AES.zip... Done.\n",
            "Unzipping...Done.\n"
          ],
          "name": "stdout"
        }
      ]
    },
    {
      "cell_type": "code",
      "metadata": {
        "id": "dY6oi9B2C9fj"
      },
      "source": [
        "class gen_adv_examples:\n",
        "    def __init__(self, maxlen, tokenizer, prompt, model, input_name, type_ig, model_name, val_preds):\n",
        "        self.MAX_SEQUENCE_LENGTH = maxlen\n",
        "        self.tokenizer = tokenizer\n",
        "        self.word_map = tokenizer.word_index\n",
        "        self.reversed_word_map = dict(map(reversed, self.word_map.items()))\n",
        "        self.prompt = prompt\n",
        "        self.model = model\n",
        "        self.input_name = input_name\n",
        "        self.type_ig = type_ig\n",
        "        prompt_to_range = {'1':[2,12],'2':[1,6],'3':[0,3],'4':[0,3],'5':[0,4],'6':[0,4],'7':[0,30],'8':[0,60]}\n",
        "        self.range_min = prompt_to_range[self.prompt][0]\n",
        "        self.range_max = prompt_to_range[self.prompt][1]\n",
        "        self.model_name = model_name\n",
        "        self.ATTRS_DIR = '/content/drive/My Drive/IG RESULTS/'+self.model_name+'/P'+self.prompt+'/'\n",
        "        self.ATTRS_TSV = self.ATTRS_DIR + 'attrs.tsv'\n",
        "        self.small_preds_orig = []\n",
        "        self.big_preds_orig   = val_preds\n",
        "\n",
        "    def normalize(self, labels):\n",
        "        if type(labels) == 'numpy.ndarray':\n",
        "          labels_new = labels.flatten().tolist()\n",
        "        else:\n",
        "          labels_new = copy.deepcopy(labels)\n",
        "        l = [0]*len(labels_new)\n",
        "        for i, label in enumerate(labels_new):\n",
        "          l[i] = (float(label)-self.range_min)/(self.range_max-self.range_min)\n",
        "        return l\n",
        "    \n",
        "    def denormalize(self, labels):\n",
        "        if type(labels) == 'numpy.ndarray':\n",
        "          labels_new = labels.flatten().tolist()\n",
        "        else:\n",
        "          labels_new = copy.deepcopy(labels)\n",
        "        l = [0]*len(labels_new)\n",
        "        for i, label in enumerate(labels_new):\n",
        "          if math.isnan(labels_new[i]):\n",
        "            l[i] = self.range_max+1\n",
        "          else:\n",
        "            l[i] = int(label*(self.range_max-self.range_min) + self.range_min)\n",
        "        return l\n",
        "\n",
        "    def vectorize(self, text_array, is_text = False, pad='pre'):\n",
        "        texts = copy.deepcopy(text_array)\n",
        "        if is_text:\n",
        "            texts = self.tokenizer.texts_to_sequences(texts)\n",
        "        padded_seq = pad_sequences(texts, maxlen = self.MAX_SEQUENCE_LENGTH, padding = pad, truncating = pad)\n",
        "        return padded_seq\n",
        "\n",
        "    def choose_examples(self, prompt_data, prompt_labels):\n",
        "        labels = copy.deepcopy(list(prompt_labels))\n",
        "        data = copy.deepcopy(list(prompt_data))\n",
        "        labels = self.denormalize(labels)        \n",
        "        \n",
        "        min_val = min(labels)\n",
        "        max_val = max(labels)\n",
        "        avg_val = (min_val+max_val)//2\n",
        "        min_idxs = [i for i, value in enumerate(labels) if value == min_val][:3]\n",
        "        max_idxs = [i for i, value in enumerate(labels) if value == max_val][:3]\n",
        "        avg_idxs = [i for i, value in enumerate(labels) if value == avg_val][:3]\n",
        "        indices = min_idxs + max_idxs + avg_idxs\n",
        "        print(len(indices))\n",
        "        self.labels_orig = [min_val]*len(min_idxs) + [max_val]*len(max_idxs) + [avg_val]*len(avg_idxs)\n",
        "        # indices = list(set(indices))\n",
        "        data = [data[i] for i in indices]\n",
        "        preds = self.predict_and_norm(np.array(data))\n",
        "        print('NEW PREDS:' ,preds)\n",
        "        self.small_preds_orig = preds\n",
        "        return data, preds\n",
        "        \n",
        "    def gen_igs(self, n_steps=50, method=\"riemann_trapezoid\",  batch_size=100):\n",
        "        self.ig  = alibi_ig(self.model,\n",
        "                            layer=self.model.get_layer(self.input_name),\n",
        "                            n_steps=n_steps, \n",
        "                            method=method,\n",
        "                            internal_batch_size=batch_size)\n",
        "    \n",
        "    def save_data(self, data, name, is_text=False):\n",
        "        all_texts = []\n",
        "        for i,tokens in enumerate(data): \n",
        "          d={}\n",
        "          if not is_text:\n",
        "            text,_ = self.sequence_to_text(tokens)\n",
        "          else:\n",
        "            text = tokens\n",
        "          d['text'] = ' '.join(text)\n",
        "          d['label_orig'] = self.labels_orig[i]\n",
        "          all_texts.append(d)\n",
        "        df = pd.DataFrame(all_texts)\n",
        "        df.to_csv('/content/drive/My Drive/IG RESULTS/'+name+'_'+self.prompt+'.csv')\n",
        "\n",
        "    def make_glove(self, glove_emb):\n",
        "        self.glove_emb = glove_emb\n",
        "\n",
        "    def find_closest_embeddings(self, embedding):\n",
        "        return sorted(self.glove_emb.keys(), key=lambda word: spatial.distance.euclidean(self.glove_emb[word], embedding))[1]\n",
        "    def top_k_attrs(self, tokens, attrs, k):\n",
        "        k = min(k, len(tokens))\n",
        "        return ([tokens[i].strip() for i in np.argpartition(attrs, -k)[-k:]])\n",
        "        \n",
        "    def rindex(self, lst, value):\n",
        "        lst.reverse()\n",
        "        i = lst.index(value)\n",
        "        lst.reverse()\n",
        "        return len(lst) - i - 1\n",
        "    \n",
        "    def normal(self, path = '/content/drive/My Drive/IG RESULTS/'):\n",
        "        norm = pd.read_csv(path+self.prompt+'_normal.csv')['text'].tolist()\n",
        "        normal_data = self.vectorize(norm, pad = 'pre', is_text=True)\n",
        "        preds = self.predict_and_norm(np.array(normal_data))\n",
        "        self.small_preds_orig = preds\n",
        "        # self.general_proc(normal_data, self.small_preds_orig, save = True, NAME = 'normal')\n",
        "\n",
        "    def adv_add_song(self, path = '/content/drive/My Drive/IG RESULTS/'):        \n",
        "        song_beg = pd.read_csv(path+self.prompt+'_song_beg.csv')['text'].tolist()\n",
        "        song_end = pd.read_csv(path+self.prompt+'_song_end.csv')['text'].tolist()\n",
        "\n",
        "        song_beg_data = self.vectorize(song_beg, pad = 'pre', is_text=True)\n",
        "        song_end_data = self.vectorize(song_end, pad = 'post', is_text=True) \n",
        "\n",
        "        self.general_proc(song_beg_data, self.small_preds_orig, save = True, NAME = 'song_beg')\n",
        "        self.general_proc(song_end_data, self.small_preds_orig, save = True, NAME = 'song_end')\n",
        "    \n",
        "    def adv_del(self, path = '/content/drive/My Drive/IG RESULTS/'):\n",
        "        del_beg = pd.read_csv(path+self.prompt+'_del_beg.csv')['text'].tolist()\n",
        "        del_end = pd.read_csv(path+self.prompt+'_del_end.csv')['text'].tolist()\n",
        "\n",
        "        del_beg_data = self.vectorize(del_beg, pad = 'pre', is_text=True)\n",
        "        del_end_data = self.vectorize(del_end, pad = 'pre', is_text=True)\n",
        "        self.general_proc(del_beg_data, self.small_preds_orig, save = True, NAME = 'del_beg')\n",
        "        self.general_proc(del_end_data, self.small_preds_orig, save = True, NAME = 'del_end')\n",
        "\n",
        "    def adv_modify_syn(self, top_k=10, path = '/content/drive/My Drive/IG RESULTS/'):\n",
        "        result = []\n",
        "        norm = pd.read_csv(path+self.prompt+'_normal.csv')['text'].tolist()\n",
        "        data_test = self.vectorize(norm, pad = 'pre', is_text=True)\n",
        "\n",
        "        for i,r in enumerate(data_test):\n",
        "            attrs = self.get_attrs_alibi(np.array([r]))[0]\n",
        "            res_words,counts = self.sequence_to_text(r)\n",
        "\n",
        "            assert (len(res_words[counts:]) == len(attrs[counts:]))\n",
        "            high_attr_tokens = self.top_k_attrs(res_words[counts:],attrs[counts:], top_k)   \n",
        "            high_attr_tokens = [x for x in high_attr_tokens if x in self.glove_emb.keys()]         \n",
        "            high_attr_tokens = list(set(list(high_attr_tokens)))\n",
        "            print(high_attr_tokens)\n",
        "\n",
        "            syn_dict = {}\n",
        "            for token in high_attr_tokens:\n",
        "              syn = self.find_closest_embeddings(self.glove_emb[token])\n",
        "              # if syn in self.reversed_word_map.keys():\n",
        "              syn_dict[token] = syn\n",
        "              # else:\n",
        "              #   continue\n",
        "            print(syn_dict)\n",
        "            for i, token in enumerate(res_words):\n",
        "                if token in high_attr_tokens:\n",
        "                    res_words[i] = syn_dict[token]\n",
        "            result.append(res_words[counts:])\n",
        "        # res_data = self.vectorize(result, pad='pre', is_text = True)\n",
        "        self.save_data(result, 'syn', is_text = True)\n",
        "        \n",
        "        self.general_proc(res_data, self.small_preds_orig, save = True, NAME = 'syn')\n",
        "        \n",
        "    def adv_syn_all(self, percent=0.1, top_k= None):\n",
        "        import tqdm\n",
        "        result = []\n",
        "        syn_dict = {}\n",
        "        with open(self.ATTRS_TSV) as f:\n",
        "          for line in tqdm.tqdm(f):\n",
        "              line = line.strip()\n",
        "              all_attrs = line.split('\\t')[0]\n",
        "              tokens = []\n",
        "              attrs = []\n",
        "              for word_attr in all_attrs.split('||'): \n",
        "                  if word_attr == 'done':\n",
        "                    break\n",
        "                  word, attr = word_attr.split('|')\n",
        "                  tokens.append(word)\n",
        "                  attrs.append(float(attr))\n",
        "              if top_k == None:\n",
        "                top_k = int(percent*len(tokens))\n",
        "\n",
        "              high_attr_tokens = self.top_k_attrs(tokens, attrs, top_k)\n",
        "              high_attr_tokens = list(set(high_attr_tokens))\n",
        "              \n",
        "              for token in high_attr_tokens:\n",
        "                if token not in syn_dict.keys():\n",
        "                  try:\n",
        "                    syn_dict[token] = self.find_closest_embeddings(self.glove_emb[token])\n",
        "                  except Exception as e:\n",
        "                    pass\n",
        "              \n",
        "              c = 0\n",
        "              for i, token in enumerate(tokens):\n",
        "                if token in high_attr_tokens and c<=top_k and token in syn_dict.keys():\n",
        "                    tokens[i] = syn_dict[token]\n",
        "                    c+=1\n",
        "                  \n",
        "              result.append(tokens)\n",
        "        res_data = self.vectorize(result, pad='pre', is_text = True)\n",
        "        self.general_proc(res_data, self.big_preds_orig, save = False, NAME = 'syn_all')\n",
        "\n",
        "    def adv_babel(self, path):\n",
        "        babel_csv = pd.read_csv(path, names = ['text'])    \n",
        "        result = babel_csv['text'].tolist()[:2]\n",
        "        self.save_data(result, 'babel')\n",
        "        \n",
        "        res_data = self.vectorize(result, is_text = True)\n",
        "        self.general_proc(res_data, self.small_preds_orig, save = True, NAME = 'babel')\n",
        "        \n",
        "    def general_proc(self, result, preds_orig, save = False, NAME = None):\n",
        "        print(NAME+': PREDICTING')\n",
        "        res_pred = self.predict_and_norm(result)\n",
        "        \n",
        "        if save:\n",
        "          print(NAME+': SAVING')\n",
        "          if NAME == 'babel':\n",
        "            res_pred = [self.range_min]*len(result)\n",
        "          self.save_attrs_pdf(result, preds_orig, res_pred, NAME)\n",
        "\n",
        "        else:\n",
        "          print(NAME+': GETTING STATS')\n",
        "          self.get_pred_stats(preds_orig, res_pred, NAME)\n",
        "\n",
        "        print(NAME+': DONE')\n",
        "    \n",
        "    def remove_tokens(self, data, counts_list, MAX_LEN = 10):\n",
        "        t_new= []\n",
        "        l = 0\n",
        "        for i,v in enumerate(data):\n",
        "          x_new = []\n",
        "          l_max = 0\n",
        "          for w in v:\n",
        "            if l_max < MAX_LEN:\n",
        "              if w==0:\n",
        "                pass\n",
        "              elif w in counts_list[i]:\n",
        "                l_max += 1\n",
        "                pass\n",
        "              else:\n",
        "                x_new.append(w)                \n",
        "\n",
        "            else:\n",
        "              x_new.append(w)\n",
        "\n",
        "          l+=len(x_new)\n",
        "          t_new.append(x_new)\n",
        "        avg_len = l/len(t_new)\n",
        "        t_new = self.vectorize(t_new, is_text = True)\n",
        "        return t_new , avg_len\n",
        "\n",
        "    def get_data_from_tsv(self):\n",
        "        data= [] \n",
        "        with open(self.ATTRS_TSV) as f:\n",
        "          for line in f:\n",
        "            line = line.strip()\n",
        "            all_attrs = line.split('\\t')[0]\n",
        "            tokens = []\n",
        "            for word_attr in all_attrs.split('||'):\n",
        "                if word_attr == 'done':\n",
        "                  break\n",
        "                word, _ = word_attr.split('|')\n",
        "                tokens.append(word)\n",
        "            data.append(tokens)\n",
        "        return np.array(data)\n",
        "\n",
        "    def init_test(self, n = 1, is_abs= False):\n",
        "        top_counts_list,_ = self.get_top_bottom_attrs(n, is_top = True, is_abs= is_abs)\n",
        "        bottom_counts_list,_ = self.get_top_bottom_attrs(n, is_top = False, is_abs= is_abs)\n",
        "        top_counts_list = list(top_counts_list)\n",
        "        bottom_counts_list = list(bottom_counts_list)\n",
        "        data = self.get_data_from_tsv()\n",
        "        assert len(top_counts_list) == len(bottom_counts_list)\n",
        "        new_top,top_len = self.remove_tokens(data, top_counts_list, MAX_LEN =n)\n",
        "        new_bottom,bottom_len = self.remove_tokens(data, bottom_counts_list, MAX_LEN =n)\n",
        "\n",
        "        print(top_len,bottom_len)\n",
        "        top_pred = self.predict_and_norm(new_top)\n",
        "        bottom_pred = self.predict_and_norm(new_bottom)\n",
        "\n",
        "        self.get_pred_stats(self.big_preds_orig, top_pred, 'top')\n",
        "        self.get_pred_stats(self.big_preds_orig, bottom_pred, 'bottom')\n",
        "       \n",
        "    def get_attrs_alibi(self, v = x_val[0:1]):\n",
        "        baseline = np.zeros(x_val[0:1].shape)\n",
        "        baseline[0][0] = tokenizer.word_index['a']\n",
        "        explanation = self.ig.explain(v, baselines=baseline)      \n",
        "        attrs = explanation.attributions\n",
        "        attrs = attrs.sum(axis=2)      \n",
        "        return attrs\n",
        "\n",
        "    def sequence_to_text(self, list_of_indices):\n",
        "        count = 0\n",
        "        words = [self.reversed_word_map.get(letter) for letter in list_of_indices]\n",
        "        for x in words:\n",
        "          if x == None:\n",
        "            count+=1\n",
        "        return(words, count)\n",
        "\n",
        "    def explain(self, essay):\n",
        "        attrs = self.get_attrs_alibi(np.array([essay]))[0]\n",
        "        words,count = self.sequence_to_text(essay)\n",
        "        assert len(words[count:]) == len(attrs[count:])\n",
        "        html = self.visualize_token_attrs(words[count:], attrs[count:])\n",
        "        return attrs, words, count\n",
        "\n",
        "    def visualize_token_attrs(self, tokens, attrs):\n",
        "        cmap='PiYG'\n",
        "        cmap_bound = np.abs(attrs).max()\n",
        "        norm = mpl.colors.Normalize(vmin=-cmap_bound, vmax=cmap_bound)\n",
        "        cmap = mpl.cm.get_cmap(cmap)\n",
        "\n",
        "        html_text = \"\"\n",
        "        for i, tok in enumerate(tokens):\n",
        "            if tok is not None:\n",
        "              color = mpl.colors.rgb2hex(cmap(norm(attrs[i])))\n",
        "              html_text += \" <mark style='background-color:{}'>{}</mark>\".format(color, tok)\n",
        "        return (html_text)\n",
        "\n",
        "    \n",
        "\n",
        "    def convert_html_to_pdf(self, source_html, output_filename):\n",
        "        result_file = open(output_filename, \"w+b\")\n",
        "        pisa_status = pisa.CreatePDF(source_html, dest=result_file)          \n",
        "        result_file.close()\n",
        "\n",
        "    def save_attrs_pdf(self, data, labels_orig, labels_new, essay_type):\n",
        "        dir =  self.ATTRS_DIR+essay_type+'/'\n",
        "        if not os.path.exists(dir):\n",
        "          os.makedirs(dir)\n",
        "        for i,essay in enumerate(data):\n",
        "          attrs = self.get_attrs_alibi(np.array([essay]))[0]\n",
        "          words,count = self.sequence_to_text(essay)\n",
        "          assert len(words[count:]) == len(attrs[count:])\n",
        "          question_attrs = []\n",
        "          html = self.visualize_token_attrs(words[count:], attrs[count:])\n",
        "          self.convert_html_to_pdf(html, dir+str(i)+'_'+str(labels_orig[i])+'_'+str(labels_new[i])+'.pdf')\n",
        "    \n",
        "    def save_attrs_tsv(self, data):\n",
        "        self.ATTRS_TSV = self.ATTRS_DIR + 'attrs.tsv'\n",
        "        if os.path.isdir(self.ATTRS_DIR):\n",
        "          pass\n",
        "        else:\n",
        "          os.mkdir(self.ATTRS_DIR)\n",
        "        n = len(data)\n",
        "        batch = 1\n",
        "        with open(self.ATTRS_TSV, 'a') as outf:\n",
        "          c=0\n",
        "          while c<n:\n",
        "            ans = ''\n",
        "            for i,v in enumerate(data[c:c+batch]):\n",
        "                tsv_string = ''\n",
        "                attrs = self.get_attrs_alibi(np.array([v]))[0]\n",
        "                words,count = self.sequence_to_text(v)\n",
        "                assert len(words[count:]) == len(attrs[count:])\n",
        "                question_attrs = []\n",
        "                for ind in range(len(words[count:])):\n",
        "                  if words[count:][ind] != None and str(attrs[count:][ind])!=None:\n",
        "                    question_attrs.append(\n",
        "                        '|'.join([ words[count:][ind], str(attrs[count:][ind]) ])\n",
        "                        )\n",
        "                tsv_string = ['||'.join(question_attrs)]\n",
        "                ans += '\\t'.join(tsv_string) + '\\n'\n",
        "                del attrs, words, question_attrs, tsv_string\n",
        "                gc.collect()\n",
        "            c+=batch\n",
        "            print(c)\n",
        "            outf.write(ans)\n",
        "            outf.flush()\n",
        "            del ans\n",
        "            gc.collect()\n",
        "        print('DONE ALL')\n",
        "    \n",
        "    def top_k_attrs(self, tokens, attrs, k):\n",
        "        k = min(k, len(tokens))\n",
        "        return ([tokens[i].strip() for i in np.argpartition(attrs, -k)[-k:]])\n",
        "\n",
        "    def bottom_k_attrs(self, tokens, attrs, k):\n",
        "        k = min(k, len(tokens))\n",
        "        return [tokens[i].strip() for i in np.argpartition(attrs, k)[:k]]\n",
        "\n",
        "    def get_top_bottom_attrs(self, top_k, is_top = True, is_abs=False): #top k attributions from each line\n",
        "      counts_list = []\n",
        "      with open(self.ATTRS_TSV) as f:\n",
        "          for line in f:\n",
        "              line = line.strip()\n",
        "              all_attrs = line.split('\\t')[0]\n",
        "              tokens = []\n",
        "              attrs = []\n",
        "              for word_attr in all_attrs.split('||'):\n",
        "                  if word_attr == 'done':\n",
        "                    break\n",
        "                  word, attr = word_attr.split('|')\n",
        "                  tokens.append(word)\n",
        "                  if is_abs:\n",
        "                    attrs.append(abs(float(attr)))\n",
        "                  else:\n",
        "                    attrs.append(float(attr))\n",
        "              try:\n",
        "                if is_top:\n",
        "                  counts_list.append(self.top_k_attrs(tokens, attrs, top_k))\n",
        "                else:\n",
        "                  counts_list.append(self.bottom_k_attrs(tokens, attrs, top_k))\n",
        "              except Exception as e:\n",
        "                pass\n",
        "      flat_counts_list = [item for sublist in counts_list for item in sublist]\n",
        "      frequent_attributions = Counter(flat_counts_list)\n",
        "      if is_top:\n",
        "        with open(self.ATTRS_DIR+'highest_attrs.txt', 'w') as f:\n",
        "          attr_to_save = frequent_attributions.most_common(10)\n",
        "          f.write(str(attr_to_save))\n",
        "        # frequent_attributions = Counter(counts_list)\n",
        "      return counts_list, frequent_attributions\n",
        "\n",
        "    def npos(self, orig, new):\n",
        "      count = 0\n",
        "      for i in range(len(orig)):\n",
        "        if new[i]>orig[i]:\n",
        "          count+=1 \n",
        "      return count\n",
        "\n",
        "    def nneg(self, orig, new):\n",
        "      count = 0\n",
        "      for i in range(len(orig)):\n",
        "        if new[i]<orig[i]:\n",
        "          count+=1 \n",
        "      return count\n",
        "\n",
        "    def nsame(self, orig, new):\n",
        "      count = 0\n",
        "      for i in range(len(orig)):\n",
        "        if new[i]==orig[i]:\n",
        "          count+=1 \n",
        "      return count\n",
        "\n",
        "    def get_pred_stats(self, orig, new, name):\n",
        "      # a = ('kappa', cohen_kappa_score(orig, new, weights='quadratic'))\n",
        "      b = ('NPOS', self.npos(orig, new))\n",
        "      c = ('NNEG', self.nneg(orig, new))\n",
        "      d = ('NSAME', self.nsame(orig, new))\n",
        "      with open(self.ATTRS_DIR+ 'results_'+name+'.txt', 'w') as f:\n",
        "        f.write(str([b,c,d]))\n",
        "      \n",
        "    def get_overstability_data(self, data, labels, top_k=100, spacing = 10):\n",
        "      curve_data = {}\n",
        "      counts_list,_ = self.get_top_bottom_attrs(top_k, is_top=True) \n",
        "      if type(counts_list[0]) == list:\n",
        "        counts_list = [item for sublist in counts_list for item in sublist]\n",
        "      preds_orig = self.predict_and_norm(np.array(data))\n",
        "      # print(preds_orig, labels)\n",
        "      orig_acc = cohen_kappa_score(preds_orig, labels, weights='quadratic')\n",
        "          \n",
        "      for K in np.append(0, np.unique(np.floor(np.geomspace(1, len(Counter(counts_list)), spacing)))):\n",
        "          # take K most top attributed words\n",
        "          if K in curve_data:\n",
        "              continue\n",
        "          whitelist = set([self.word_map[w] for w in counts_list[:int(K)]]) if K > 0 else set()\n",
        "          print('wh len', len(whitelist))\n",
        "          num_batches = 0\n",
        "          avg_question_length_orig = 0\n",
        "          avg_question_length_new = 0\n",
        "          num_questions = 0\n",
        "          pred_array = []\n",
        "          batch_size = 10\n",
        "          # iterator over the validation dataset\n",
        "          for ind in range(0, len(data), batch_size):\n",
        "\n",
        "              test = np.array(data[ind:ind+batch_size])\n",
        "              new_test = np.zeros(test.shape)\n",
        "              curr_batch_size = int(test.shape[0])\n",
        "              for batch_i in range(curr_batch_size):\n",
        "                  len_counter = 0\n",
        "                  # avg_question_length_orig += int(test[batch_i])\n",
        "                  for word_i, w in enumerate(test[batch_i]):\n",
        "                      if int(w) in whitelist:\n",
        "                          new_test[batch_i, len_counter] = int(w)\n",
        "                          len_counter += 1\n",
        "                  if len_counter == 0:\n",
        "                      len_counter = 1\n",
        "                  avg_question_length_new += int(len_counter)\n",
        "                  num_questions += 1\n",
        "                  \n",
        "              input_df = [new_test]\n",
        "              pred = self.predict_and_norm(input_df)\n",
        "              pred_array.extend(pred)\n",
        "\n",
        "          acc = cohen_kappa_score(pred_array, labels, weights='quadratic')\n",
        "          print(acc, orig_acc)\n",
        "          curve_data[len(whitelist)] = acc\n",
        "          self.plot_overstability(curve_data, orig_acc)\n",
        "    \n",
        "    def plot_overstability(self, curve_data, orig_acc):\n",
        "      OVERSTABILITY_CURVE_FILE = self.ATTRS_DIR + 'over_'+self.prompt+'.eps'\n",
        "      plt.plot(list(curve_data.keys()), list(curve_data.values())/orig_acc)\n",
        "      plt.xscale('symlog')\n",
        "      plt.xlabel('num. words in vocab')\n",
        "      plt.ylabel('relative accuracy')\n",
        "      plt.savefig(OVERSTABILITY_CURVE_FILE, format='eps')\n",
        "      plt.savefig(OVERSTABILITY_CURVE_FILE.replace('eps','png'), format='png')\n",
        "    \n",
        "    def predict_and_norm(self, data):\n",
        "      preds = self.model.predict(data)\n",
        "      new_labels = self.denormalize(preds)\n",
        "      return new_labels"
      ],
      "execution_count": 21,
      "outputs": []
    },
    {
      "cell_type": "code",
      "metadata": {
        "id": "AaCUO7fpDqKW"
      },
      "source": [
        "adv = gen_adv_examples(MAX_SEQUENCE_LENGTH, tokenizer, essay_type, sf, 'embedding','alibi', 'SKIPFLOW', preds_main)\n",
        "# # data, labels = adv.choose_examples(x_val, y_val)\n",
        "# # labels_main = adv.denormalize(y_val)\n",
        "# adv.make_glove(path = '')\n",
        "adv.gen_igs()"
      ],
      "execution_count": 22,
      "outputs": []
    },
    {
      "cell_type": "code",
      "metadata": {
        "id": "KsRflgmvxCuy"
      },
      "source": [
        "# ATTRS_DIR = '/content/drive/MyDrive/IG RESULTS/P'+prompt+\n",
        "# ATTRS_TSV = '/content/'  \n",
        "# def get_top_bottom_attrs(top_k, is_top = True, is_abs=True): #top k attributions from each line\n",
        "#       counts_list = []\n",
        "#       with open(ATTRS_TSV) as f:\n",
        "#           for line in f:\n",
        "#               line = line.strip()\n",
        "#               all_attrs = line.split('\\t')[0]\n",
        "#               tokens = []\n",
        "#               attrs = []\n",
        "#               for word_attr in all_attrs.split('||'):\n",
        "#                   if word_attr == 'done':\n",
        "#                     break\n",
        "#                   word, attr = word_attr.split('|')\n",
        "#                   tokens.append(word)\n",
        "#                   if is_abs:\n",
        "#                     attrs.append(abs(float(attr)))\n",
        "#                   else:\n",
        "#                     attrs.append(float(attr))\n",
        "#               try:\n",
        "#                 if is_top:\n",
        "#                   counts_list.append(self.top_k_attrs(tokens, attrs, top_k))\n",
        "#                 else:\n",
        "#                   counts_list.append(bottom_k_attrs(tokens, attrs, top_k))\n",
        "#               except Exception as e:\n",
        "#                 pass\n",
        "#       flat_counts_list = [item for sublist in counts_list for item in sublist]\n",
        "#       frequent_attributions = Counter(flat_counts_list)\n",
        "#       if is_top:\n",
        "#         with open(ATTRS_DIR+'highest_attrs.txt', 'w') as f:\n",
        "#           attr_to_save = frequent_attributions.most_common(50)\n",
        "#           f.write(str(attr_to_save))\n",
        "#         # frequent_attributions = Counter(counts_list)\n",
        "#       return counts_list, frequent_attributions"
      ],
      "execution_count": 23,
      "outputs": []
    },
    {
      "cell_type": "code",
      "metadata": {
        "id": "I5ZckPeUZs90"
      },
      "source": [
        "# l =[('was', 6625), ('the', 3239), ('had', 864), ('a', 662), ('were', 361), ('after', 238), ('at', 224), ('minutes', 220), ('first', 219), ('in', 138)]"
      ],
      "execution_count": 24,
      "outputs": []
    },
    {
      "cell_type": "code",
      "metadata": {
        "id": "iMF5sW1l5DId"
      },
      "source": [
        "# p=[]\n",
        "# for i in l:\n",
        "#   p.append(i[0])\n",
        "# ','.join(p)"
      ],
      "execution_count": 25,
      "outputs": []
    },
    {
      "cell_type": "code",
      "metadata": {
        "id": "fZFIVH554HOq"
      },
      "source": [
        "# labels_main = adv.denormalize(y_val)\n",
        "# adv.get_overstability_data(x_val, labels_main, top_k=10000)"
      ],
      "execution_count": 26,
      "outputs": []
    },
    {
      "cell_type": "code",
      "metadata": {
        "id": "2qixNHjiATll"
      },
      "source": [
        "pattern_none = [0, 0, 0, 0, 0]\n",
        "def subfinder(l, sl):\n",
        "    sll=len(sl)\n",
        "    for ind in (i for i,e in enumerate(l) if e==sl[0]):\n",
        "        if l[ind:ind+sll]==sl:\n",
        "            return ind,ind+sll-1\n",
        "\n",
        "def get_loc(w):\n",
        "  count = 0\n",
        "  for x in w:\n",
        "    if x == 0:\n",
        "      count+=1\n",
        "  return count"
      ],
      "execution_count": 27,
      "outputs": []
    },
    {
      "cell_type": "code",
      "metadata": {
        "id": "FVBQBXbkVkYj"
      },
      "source": [
        "# a = []\n",
        "# ids = []\n",
        "# count = 0\n",
        "# for i,essay in enumerate(data):\n",
        "#   c = get_loc(essay)\n",
        "#   c2 = len(essay[c:])\n",
        "#   if c2>200 and c2<250 and count<10:\n",
        "#     a.append(c2)\n",
        "#     ids.append(i)\n",
        "#     count+=1"
      ],
      "execution_count": 30,
      "outputs": []
    },
    {
      "cell_type": "code",
      "metadata": {
        "id": "qbRfcw2CSzDg"
      },
      "source": [
        "# lab = adv.denormalize(labels)\n",
        "# min_val = min(lab)\n",
        "# max_val = max(lab)\n",
        "# avg_val = (min_val+max_val)//2\n",
        "# min_idxs = [i for i, value in enumerate(lab) if value == min_val][:3]\n",
        "# max_idxs = [i for i, value in enumerate(lab) if value == max_val][:3]\n",
        "# avg_idxs = [i for i, value in enumerate(lab) if value == avg_val][:3]\n",
        "# indices = min_idxs + max_idxs + avg_idxs\n",
        "# print(len(indices))\n",
        "# labels_orig = [min_val]*len(min_idxs) + [max_val]*len(max_idxs) + [avg_val]*len(avg_idxs)\n",
        "# data = [texts[i] for i in indices]"
      ],
      "execution_count": 24,
      "outputs": []
    },
    {
      "cell_type": "code",
      "metadata": {
        "id": "gBGW1uk5QNX6"
      },
      "source": [
        "def denormalize(labels, max_val, min_val):\r\n",
        "        if type(labels) == 'numpy.ndarray':\r\n",
        "          labels_new = labels.flatten().tolist()\r\n",
        "        else:\r\n",
        "          labels_new = copy.deepcopy(labels)\r\n",
        "        l = [0]*len(labels_new)\r\n",
        "        for i, label in enumerate(labels_new):\r\n",
        "          if math.isnan(labels_new[i]):\r\n",
        "            l[i] = max_val+1\r\n",
        "          else:\r\n",
        "            l[i] = int(label*(max_val-min_val) + min_val)\r\n",
        "        return l\r\n",
        "\r\n",
        "lab = denormalize(orig_labels, 30 , 0)"
      ],
      "execution_count": 22,
      "outputs": []
    },
    {
      "cell_type": "code",
      "metadata": {
        "id": "nsu3jRdNkr21"
      },
      "source": [
        "word_map = tokenizer.word_index\r\n",
        "reversed_word_map = dict(map(reversed, word_map.items()))\r\n",
        "\r\n",
        "ig = alibi_ig(sf,\r\n",
        "              layer=sf.get_layer('embedding'),\r\n",
        "              n_steps=50, \r\n",
        "              method='riemann_trapezoid',\r\n",
        "              internal_batch_size=100)\r\n",
        "\r\n",
        "def vectorize(text_array, is_text = False, pad='pre'):\r\n",
        "        texts = copy.deepcopy(text_array)\r\n",
        "        if is_text:\r\n",
        "            texts = tokenizer.texts_to_sequences(texts)\r\n",
        "        padded_seq = pad_sequences(texts, maxlen = MAX_SEQUENCE_LENGTH, padding = pad, truncating = pad)\r\n",
        "        return padded_seq\r\n",
        "\r\n",
        "def save_data(data, name, labels_orig, is_text=False):\r\n",
        "        all_texts = []\r\n",
        "        for i,tokens in enumerate(data): \r\n",
        "          d={}\r\n",
        "          if not is_text:\r\n",
        "            text,_ = sequence_to_text(tokens)\r\n",
        "          else:\r\n",
        "            text = tokens\r\n",
        "          d['text'] = ' '.join(text)\r\n",
        "          d['label_orig'] = labels_orig[i]\r\n",
        "\r\n",
        "          all_texts.append(d)\r\n",
        "        df = pd.DataFrame(all_texts)\r\n",
        "        df.to_csv('/content/drive/My Drive/IG RESULTS/'+name+'_'+self.prompt+'.csv')\r\n",
        "\r\n",
        "def get_attrs_alibi(v = x_val[0:1]):\r\n",
        "        baseline = np.zeros(x_val[0:1].shape)\r\n",
        "        baseline[0][0] = tokenizer.word_index['a']\r\n",
        "        explanation = ig.explain(v, baselines=baseline)      \r\n",
        "        attrs = explanation.attributions\r\n",
        "        attrs = attrs.sum(axis=2)      \r\n",
        "        return attrs\r\n",
        "        \r\n",
        "def sequence_to_text(list_of_indices):\r\n",
        "    count = 0\r\n",
        "    words = [reversed_word_map.get(letter) for letter in list_of_indices]\r\n",
        "    for x in words:\r\n",
        "      if x == None:\r\n",
        "        count+=1\r\n",
        "    return(words, count)\r\n",
        "\r\n",
        "def find_closest_embeddings(embedding):\r\n",
        "    return sorted(glove_emb.keys(), key=lambda word: spatial.distance.euclidean(glove_emb[word], embedding))[1]\r\n",
        "\r\n",
        "def top_k_attrs(tokens, attrs, k):\r\n",
        "    k = min(k, len(tokens))\r\n",
        "    return ([tokens[i].strip() for i in np.argpartition(attrs, -k)[-k:]])\r\n",
        "\r\n",
        "def bottom_k_attrs(tokens, attrs, k):\r\n",
        "    k = min(k, len(tokens))\r\n",
        "    return [tokens[i].strip() for i in np.argpartition(attrs, k)[:k]]\r\n",
        "\r\n",
        "def adv_modify_syn(percent=0.10, path = '/content/drive/My Drive/IG RESULTS/', prompt= '7', small= True):\r\n",
        "        result = []\r\n",
        "        if small:\r\n",
        "          norm = pd.read_csv(path+prompt+'_normal.csv')['text'].tolist()\r\n",
        "        else:\r\n",
        "          norm = pd.read_csv(path+'big_'+prompt+'_normal.csv')['text'].tolist()\r\n",
        "        data_test = vectorize(norm, pad = 'pre', is_text=True)\r\n",
        "        \r\n",
        "        for i,r in enumerate(data_test):\r\n",
        "          attrs = get_attrs_alibi(np.array([r]))[0]\r\n",
        "          res_words,counts = sequence_to_text(r)\r\n",
        "          top_k = int(percent*len(res_words[counts:]))\r\n",
        "          high_attr_tokens = top_k_attrs(res_words[counts:],attrs[counts:], top_k)   \r\n",
        "          high_attr_tokens = [x for x in high_attr_tokens if x in glove_emb.keys()]         \r\n",
        "          high_attr_tokens = list(set(list(high_attr_tokens)))\r\n",
        "          \r\n",
        "          attrs_abs = [abs(x) for x in attrs[counts:]]\r\n",
        "          low_attr_tokens = bottom_k_attrs(res_words[counts:],attrs_abs, top_k)   \r\n",
        "          low_attr_tokens = [x for x in low_attr_tokens if x in glove_emb.keys()]         \r\n",
        "          low_attr_tokens = list(set(list(low_attr_tokens)))\r\n",
        "\r\n",
        "          syn_dict = {}\r\n",
        "          for token in high_attr_tokens:\r\n",
        "            syn = find_closest_embeddings(glove_emb[token])\r\n",
        "            syn_dict[token] = syn\r\n",
        "\r\n",
        "          for token in low_attr_tokens:\r\n",
        "            syn = find_closest_embeddings(glove_emb[token])\r\n",
        "            syn_dict[token] = syn\r\n",
        "          \r\n",
        "          c_high = 0\r\n",
        "          c_low  = 0\r\n",
        "          for i, token in enumerate(res_words):\r\n",
        "              if token in high_attr_tokens and c_high<=top_k:\r\n",
        "                  res_words[i] = syn_dict[token]\r\n",
        "                  c_high += 1\r\n",
        "\r\n",
        "              elif token in low_attr_tokens and c_low<=top_k:\r\n",
        "                  res_words[i] = syn_dict[token]\r\n",
        "                  c_low +=1\r\n",
        "\r\n",
        "          text = (res_words[counts:])\r\n",
        "          result.append(' '.join(text))\r\n",
        "        print(syn_dict)\r\n",
        "        return result"
      ],
      "execution_count": 26,
      "outputs": []
    },
    {
      "cell_type": "code",
      "metadata": {
        "id": "z6sdMAT-QIoE",
        "colab": {
          "base_uri": "https://localhost:8080/"
        },
        "outputId": "c676b623-f725-4a2b-b376-da16215da91d"
      },
      "source": [
        "import random\r\n",
        "random.seed(42)\r\n",
        "\r\n",
        "def save(data, out, name):\r\n",
        "  all_texts = []\r\n",
        "  for i,text in enumerate(data): \r\n",
        "    d={}\r\n",
        "    d['text'] = text\r\n",
        "    d['label_orig'] = out[i]\r\n",
        "    all_texts.append(d)\r\n",
        "  df = pd.DataFrame(all_texts)\r\n",
        "  df.to_csv('/content/drive/My Drive/IG RESULTS/7_'+name+'.csv')\r\n",
        "\r\n",
        "def create_small_data(texts, lab):\r\n",
        "    min_val = min(lab)\r\n",
        "    max_val = max(lab)\r\n",
        "    avg_val = (min_val+max_val)//2\r\n",
        "    min_idxs = [i for i, value in enumerate(lab) if value == min_val][:3]\r\n",
        "    max_idxs = [i for i, value in enumerate(lab) if value == max_val][:3]\r\n",
        "    avg_idxs = [i for i, value in enumerate(lab) if value == avg_val][:3]\r\n",
        "    ids = min_idxs + max_idxs + avg_idxs\r\n",
        "    data = [texts[i] for i in ids]\r\n",
        "    labs_new = [lab[i] for i in ids]\r\n",
        "    \r\n",
        "    path = 'song.pickle'    \r\n",
        "    with open('/content/calling-out-bluff/'+path, 'rb') as handle:\r\n",
        "        songs= pickle.load(handle)\r\n",
        "    song_tot = songs[:4]+songs[10:16]\r\n",
        "\r\n",
        "    false_tot = [ 'There are more submarines in lakes right now than there are in the oceans. ', \\\r\n",
        "          'Apples are not fruits. ',\\\r\n",
        "          'The world is flat. ']\r\n",
        "\r\n",
        "    song_beg = []\r\n",
        "    song_end = []\r\n",
        "    for i in range(len(data)):\r\n",
        "      random_song = random.choice(song_tot)\r\n",
        "      song_beg.append(random_song + data[i])\r\n",
        "      song_end.append(data[i] + random_song)\r\n",
        "  \r\n",
        "    false_beg = []\r\n",
        "    false_end = []\r\n",
        "    for i in range(len(data)):\r\n",
        "      random_false = random.choice(false_tot)\r\n",
        "      false_beg.append(random_false +' '+ data[i])\r\n",
        "      false_end.append(data[i] + ' ' + random_false)\r\n",
        "\r\n",
        "    def scramble(sentence):\r\n",
        "        split = tokenize.sent_tokenize(sentence)\r\n",
        "        shuffle(split)  # This shuffles the list in-place.\r\n",
        "        return ''.join(split)  # Turn the list back into a string\r\n",
        "\r\n",
        "    shuffled=[]\r\n",
        "    for i in range(len(data)):\r\n",
        "      shuffled.append( scramble(  data[i]   ) ) \r\n",
        "\r\n",
        "    \r\n",
        "    out = labs_new\r\n",
        "    \r\n",
        "    # save(data, out, 'normal')\r\n",
        "    # save(song_beg, out, 'song_beg')\r\n",
        "    # save(song_end, out, 'song_end')\r\n",
        "    # save(false_beg, out, 'false_beg')\r\n",
        "    # save(false_end, out, 'false_end')\r\n",
        "    # save(shuffled, out, 'shuffle')\r\n",
        "    return out\r\n",
        "    \r\n",
        "out = create_small_data(texts, lab)\r\n",
        "\r\n",
        "syn_result = adv_modify_syn(prompt = '7')\r\n",
        "save(syn_result, out, 'syn')"
      ],
      "execution_count": 27,
      "outputs": [
        {
          "output_type": "stream",
          "text": [
            "It looks like you are passing a model with a scalar output and target is set to `None`.If your model is a regression model this will produce correct attributions. If your model is a classification model, targets for each datapoint must be defined. Not defining the target may lead to incorrect values for the attributions.Targets can be either the true classes or the classes predicted by the model.\n",
            "It looks like you are passing a model with a scalar output and target is set to `None`.If your model is a regression model this will produce correct attributions. If your model is a classification model, targets for each datapoint must be defined. Not defining the target may lead to incorrect values for the attributions.Targets can be either the true classes or the classes predicted by the model.\n",
            "It looks like you are passing a model with a scalar output and target is set to `None`.If your model is a regression model this will produce correct attributions. If your model is a classification model, targets for each datapoint must be defined. Not defining the target may lead to incorrect values for the attributions.Targets can be either the true classes or the classes predicted by the model.\n",
            "It looks like you are passing a model with a scalar output and target is set to `None`.If your model is a regression model this will produce correct attributions. If your model is a classification model, targets for each datapoint must be defined. Not defining the target may lead to incorrect values for the attributions.Targets can be either the true classes or the classes predicted by the model.\n",
            "It looks like you are passing a model with a scalar output and target is set to `None`.If your model is a regression model this will produce correct attributions. If your model is a classification model, targets for each datapoint must be defined. Not defining the target may lead to incorrect values for the attributions.Targets can be either the true classes or the classes predicted by the model.\n",
            "It looks like you are passing a model with a scalar output and target is set to `None`.If your model is a regression model this will produce correct attributions. If your model is a classification model, targets for each datapoint must be defined. Not defining the target may lead to incorrect values for the attributions.Targets can be either the true classes or the classes predicted by the model.\n",
            "It looks like you are passing a model with a scalar output and target is set to `None`.If your model is a regression model this will produce correct attributions. If your model is a classification model, targets for each datapoint must be defined. Not defining the target may lead to incorrect values for the attributions.Targets can be either the true classes or the classes predicted by the model.\n"
          ],
          "name": "stderr"
        },
        {
          "output_type": "stream",
          "text": [
            "{'didnt': 'thankfully', 'pulling': 'pulled', 'kept': 'keeping', 'little': 'bit', 'was': 'being', 'wanted': 'want', 'bad': 'unfortunately'}\n"
          ],
          "name": "stdout"
        }
      ]
    },
    {
      "cell_type": "code",
      "metadata": {
        "id": "_bKLSY5mOOuZ"
      },
      "source": [
        "def save_big(data, out, name):\r\n",
        "  all_texts = []\r\n",
        "  for i,text in enumerate(data): \r\n",
        "    d={}\r\n",
        "    d['text'] = text\r\n",
        "    d['label_orig'] = out[i]\r\n",
        "    all_texts.append(d)\r\n",
        "  df = pd.DataFrame(all_texts)\r\n",
        "  df.to_csv('/content/drive/My Drive/IG RESULTS/big_7_'+name+'.csv')\r\n",
        "\r\n",
        "def create_big_data(texts, lab, n = 100):\r\n",
        "    data = texts[:n]\r\n",
        "    labs_new = lab[:n]\r\n",
        "\r\n",
        "    path = 'song.pickle'    \r\n",
        "    with open('/content/calling-out-bluff/'+path, 'rb') as handle:\r\n",
        "        songs= pickle.load(handle)\r\n",
        "    song_tot = songs[:4]+songs[10:16]\r\n",
        "\r\n",
        "    false_tot = [ 'There are more submarines in lakes right now than there are in the oceans. ', \\\r\n",
        "          'Apples are not fruits. ',\\\r\n",
        "          'The world is flat. ']\r\n",
        "\r\n",
        "    song_beg = []\r\n",
        "    song_end = []\r\n",
        "    for i in range(len(data)):\r\n",
        "      random_song = random.choice(song_tot)\r\n",
        "      song_beg.append(random_song + data[i])\r\n",
        "      song_end.append(data[i] + random_song)\r\n",
        "  \r\n",
        "    false_beg = []\r\n",
        "    false_end = []\r\n",
        "    for i in range(len(data)):\r\n",
        "      random_false = random.choice(false_tot)\r\n",
        "      false_beg.append(random_false +' '+ data[i])\r\n",
        "      false_end.append(data[i] + ' ' + random_false)\r\n",
        "\r\n",
        "    def scramble(sentence):\r\n",
        "        split = tokenize.sent_tokenize(sentence)\r\n",
        "        shuffle(split)  # This shuffles the list in-place.\r\n",
        "        return ''.join(split)  # Turn the list back into a string\r\n",
        "\r\n",
        "    shuffled=[]\r\n",
        "    for i in range(len(data)):\r\n",
        "      shuffled.append( scramble(  data[i]   ) ) \r\n",
        "    \r\n",
        "    out = labs_new\r\n",
        "    \r\n",
        "    # save_big(data, out, 'normal')\r\n",
        "    # save_big(song_beg, out, 'song_beg')\r\n",
        "    # save_big(song_end, out, 'song_end')\r\n",
        "    # save_big(false_beg, out, 'false_beg')\r\n",
        "    # save_big(false_end, out, 'false_end')\r\n",
        "    # save_big(shuffled, out, 'shuffle')\r\n",
        "    return out\r\n",
        "    \r\n",
        "out = create_big_data(texts, lab)"
      ],
      "execution_count": 28,
      "outputs": []
    },
    {
      "cell_type": "code",
      "metadata": {
        "colab": {
          "base_uri": "https://localhost:8080/"
        },
        "id": "P9KismenOYyG",
        "outputId": "b525f5b5-c0ee-484f-f5e4-72a216faae9e"
      },
      "source": [
        "syn_result = adv_modify_syn(small = False, prompt = '7')\r\n",
        "save_big(syn_result, out, 'syn')"
      ],
      "execution_count": 29,
      "outputs": [
        {
          "output_type": "stream",
          "text": [
            "It looks like you are passing a model with a scalar output and target is set to `None`.If your model is a regression model this will produce correct attributions. If your model is a classification model, targets for each datapoint must be defined. Not defining the target may lead to incorrect values for the attributions.Targets can be either the true classes or the classes predicted by the model.\n",
            "It looks like you are passing a model with a scalar output and target is set to `None`.If your model is a regression model this will produce correct attributions. If your model is a classification model, targets for each datapoint must be defined. Not defining the target may lead to incorrect values for the attributions.Targets can be either the true classes or the classes predicted by the model.\n",
            "It looks like you are passing a model with a scalar output and target is set to `None`.If your model is a regression model this will produce correct attributions. If your model is a classification model, targets for each datapoint must be defined. Not defining the target may lead to incorrect values for the attributions.Targets can be either the true classes or the classes predicted by the model.\n",
            "It looks like you are passing a model with a scalar output and target is set to `None`.If your model is a regression model this will produce correct attributions. If your model is a classification model, targets for each datapoint must be defined. Not defining the target may lead to incorrect values for the attributions.Targets can be either the true classes or the classes predicted by the model.\n",
            "It looks like you are passing a model with a scalar output and target is set to `None`.If your model is a regression model this will produce correct attributions. If your model is a classification model, targets for each datapoint must be defined. Not defining the target may lead to incorrect values for the attributions.Targets can be either the true classes or the classes predicted by the model.\n",
            "It looks like you are passing a model with a scalar output and target is set to `None`.If your model is a regression model this will produce correct attributions. If your model is a classification model, targets for each datapoint must be defined. Not defining the target may lead to incorrect values for the attributions.Targets can be either the true classes or the classes predicted by the model.\n",
            "It looks like you are passing a model with a scalar output and target is set to `None`.If your model is a regression model this will produce correct attributions. If your model is a classification model, targets for each datapoint must be defined. Not defining the target may lead to incorrect values for the attributions.Targets can be either the true classes or the classes predicted by the model.\n",
            "It looks like you are passing a model with a scalar output and target is set to `None`.If your model is a regression model this will produce correct attributions. If your model is a classification model, targets for each datapoint must be defined. Not defining the target may lead to incorrect values for the attributions.Targets can be either the true classes or the classes predicted by the model.\n",
            "It looks like you are passing a model with a scalar output and target is set to `None`.If your model is a regression model this will produce correct attributions. If your model is a classification model, targets for each datapoint must be defined. Not defining the target may lead to incorrect values for the attributions.Targets can be either the true classes or the classes predicted by the model.\n",
            "It looks like you are passing a model with a scalar output and target is set to `None`.If your model is a regression model this will produce correct attributions. If your model is a classification model, targets for each datapoint must be defined. Not defining the target may lead to incorrect values for the attributions.Targets can be either the true classes or the classes predicted by the model.\n",
            "It looks like you are passing a model with a scalar output and target is set to `None`.If your model is a regression model this will produce correct attributions. If your model is a classification model, targets for each datapoint must be defined. Not defining the target may lead to incorrect values for the attributions.Targets can be either the true classes or the classes predicted by the model.\n",
            "It looks like you are passing a model with a scalar output and target is set to `None`.If your model is a regression model this will produce correct attributions. If your model is a classification model, targets for each datapoint must be defined. Not defining the target may lead to incorrect values for the attributions.Targets can be either the true classes or the classes predicted by the model.\n",
            "It looks like you are passing a model with a scalar output and target is set to `None`.If your model is a regression model this will produce correct attributions. If your model is a classification model, targets for each datapoint must be defined. Not defining the target may lead to incorrect values for the attributions.Targets can be either the true classes or the classes predicted by the model.\n",
            "It looks like you are passing a model with a scalar output and target is set to `None`.If your model is a regression model this will produce correct attributions. If your model is a classification model, targets for each datapoint must be defined. Not defining the target may lead to incorrect values for the attributions.Targets can be either the true classes or the classes predicted by the model.\n",
            "It looks like you are passing a model with a scalar output and target is set to `None`.If your model is a regression model this will produce correct attributions. If your model is a classification model, targets for each datapoint must be defined. Not defining the target may lead to incorrect values for the attributions.Targets can be either the true classes or the classes predicted by the model.\n",
            "It looks like you are passing a model with a scalar output and target is set to `None`.If your model is a regression model this will produce correct attributions. If your model is a classification model, targets for each datapoint must be defined. Not defining the target may lead to incorrect values for the attributions.Targets can be either the true classes or the classes predicted by the model.\n",
            "It looks like you are passing a model with a scalar output and target is set to `None`.If your model is a regression model this will produce correct attributions. If your model is a classification model, targets for each datapoint must be defined. Not defining the target may lead to incorrect values for the attributions.Targets can be either the true classes or the classes predicted by the model.\n",
            "It looks like you are passing a model with a scalar output and target is set to `None`.If your model is a regression model this will produce correct attributions. If your model is a classification model, targets for each datapoint must be defined. Not defining the target may lead to incorrect values for the attributions.Targets can be either the true classes or the classes predicted by the model.\n",
            "It looks like you are passing a model with a scalar output and target is set to `None`.If your model is a regression model this will produce correct attributions. If your model is a classification model, targets for each datapoint must be defined. Not defining the target may lead to incorrect values for the attributions.Targets can be either the true classes or the classes predicted by the model.\n",
            "It looks like you are passing a model with a scalar output and target is set to `None`.If your model is a regression model this will produce correct attributions. If your model is a classification model, targets for each datapoint must be defined. Not defining the target may lead to incorrect values for the attributions.Targets can be either the true classes or the classes predicted by the model.\n",
            "It looks like you are passing a model with a scalar output and target is set to `None`.If your model is a regression model this will produce correct attributions. If your model is a classification model, targets for each datapoint must be defined. Not defining the target may lead to incorrect values for the attributions.Targets can be either the true classes or the classes predicted by the model.\n",
            "It looks like you are passing a model with a scalar output and target is set to `None`.If your model is a regression model this will produce correct attributions. If your model is a classification model, targets for each datapoint must be defined. Not defining the target may lead to incorrect values for the attributions.Targets can be either the true classes or the classes predicted by the model.\n",
            "It looks like you are passing a model with a scalar output and target is set to `None`.If your model is a regression model this will produce correct attributions. If your model is a classification model, targets for each datapoint must be defined. Not defining the target may lead to incorrect values for the attributions.Targets can be either the true classes or the classes predicted by the model.\n",
            "It looks like you are passing a model with a scalar output and target is set to `None`.If your model is a regression model this will produce correct attributions. If your model is a classification model, targets for each datapoint must be defined. Not defining the target may lead to incorrect values for the attributions.Targets can be either the true classes or the classes predicted by the model.\n",
            "It looks like you are passing a model with a scalar output and target is set to `None`.If your model is a regression model this will produce correct attributions. If your model is a classification model, targets for each datapoint must be defined. Not defining the target may lead to incorrect values for the attributions.Targets can be either the true classes or the classes predicted by the model.\n",
            "It looks like you are passing a model with a scalar output and target is set to `None`.If your model is a regression model this will produce correct attributions. If your model is a classification model, targets for each datapoint must be defined. Not defining the target may lead to incorrect values for the attributions.Targets can be either the true classes or the classes predicted by the model.\n",
            "It looks like you are passing a model with a scalar output and target is set to `None`.If your model is a regression model this will produce correct attributions. If your model is a classification model, targets for each datapoint must be defined. Not defining the target may lead to incorrect values for the attributions.Targets can be either the true classes or the classes predicted by the model.\n",
            "It looks like you are passing a model with a scalar output and target is set to `None`.If your model is a regression model this will produce correct attributions. If your model is a classification model, targets for each datapoint must be defined. Not defining the target may lead to incorrect values for the attributions.Targets can be either the true classes or the classes predicted by the model.\n",
            "It looks like you are passing a model with a scalar output and target is set to `None`.If your model is a regression model this will produce correct attributions. If your model is a classification model, targets for each datapoint must be defined. Not defining the target may lead to incorrect values for the attributions.Targets can be either the true classes or the classes predicted by the model.\n",
            "It looks like you are passing a model with a scalar output and target is set to `None`.If your model is a regression model this will produce correct attributions. If your model is a classification model, targets for each datapoint must be defined. Not defining the target may lead to incorrect values for the attributions.Targets can be either the true classes or the classes predicted by the model.\n",
            "It looks like you are passing a model with a scalar output and target is set to `None`.If your model is a regression model this will produce correct attributions. If your model is a classification model, targets for each datapoint must be defined. Not defining the target may lead to incorrect values for the attributions.Targets can be either the true classes or the classes predicted by the model.\n",
            "It looks like you are passing a model with a scalar output and target is set to `None`.If your model is a regression model this will produce correct attributions. If your model is a classification model, targets for each datapoint must be defined. Not defining the target may lead to incorrect values for the attributions.Targets can be either the true classes or the classes predicted by the model.\n",
            "It looks like you are passing a model with a scalar output and target is set to `None`.If your model is a regression model this will produce correct attributions. If your model is a classification model, targets for each datapoint must be defined. Not defining the target may lead to incorrect values for the attributions.Targets can be either the true classes or the classes predicted by the model.\n",
            "It looks like you are passing a model with a scalar output and target is set to `None`.If your model is a regression model this will produce correct attributions. If your model is a classification model, targets for each datapoint must be defined. Not defining the target may lead to incorrect values for the attributions.Targets can be either the true classes or the classes predicted by the model.\n",
            "It looks like you are passing a model with a scalar output and target is set to `None`.If your model is a regression model this will produce correct attributions. If your model is a classification model, targets for each datapoint must be defined. Not defining the target may lead to incorrect values for the attributions.Targets can be either the true classes or the classes predicted by the model.\n",
            "It looks like you are passing a model with a scalar output and target is set to `None`.If your model is a regression model this will produce correct attributions. If your model is a classification model, targets for each datapoint must be defined. Not defining the target may lead to incorrect values for the attributions.Targets can be either the true classes or the classes predicted by the model.\n",
            "It looks like you are passing a model with a scalar output and target is set to `None`.If your model is a regression model this will produce correct attributions. If your model is a classification model, targets for each datapoint must be defined. Not defining the target may lead to incorrect values for the attributions.Targets can be either the true classes or the classes predicted by the model.\n",
            "It looks like you are passing a model with a scalar output and target is set to `None`.If your model is a regression model this will produce correct attributions. If your model is a classification model, targets for each datapoint must be defined. Not defining the target may lead to incorrect values for the attributions.Targets can be either the true classes or the classes predicted by the model.\n",
            "It looks like you are passing a model with a scalar output and target is set to `None`.If your model is a regression model this will produce correct attributions. If your model is a classification model, targets for each datapoint must be defined. Not defining the target may lead to incorrect values for the attributions.Targets can be either the true classes or the classes predicted by the model.\n",
            "It looks like you are passing a model with a scalar output and target is set to `None`.If your model is a regression model this will produce correct attributions. If your model is a classification model, targets for each datapoint must be defined. Not defining the target may lead to incorrect values for the attributions.Targets can be either the true classes or the classes predicted by the model.\n",
            "It looks like you are passing a model with a scalar output and target is set to `None`.If your model is a regression model this will produce correct attributions. If your model is a classification model, targets for each datapoint must be defined. Not defining the target may lead to incorrect values for the attributions.Targets can be either the true classes or the classes predicted by the model.\n",
            "It looks like you are passing a model with a scalar output and target is set to `None`.If your model is a regression model this will produce correct attributions. If your model is a classification model, targets for each datapoint must be defined. Not defining the target may lead to incorrect values for the attributions.Targets can be either the true classes or the classes predicted by the model.\n",
            "It looks like you are passing a model with a scalar output and target is set to `None`.If your model is a regression model this will produce correct attributions. If your model is a classification model, targets for each datapoint must be defined. Not defining the target may lead to incorrect values for the attributions.Targets can be either the true classes or the classes predicted by the model.\n",
            "It looks like you are passing a model with a scalar output and target is set to `None`.If your model is a regression model this will produce correct attributions. If your model is a classification model, targets for each datapoint must be defined. Not defining the target may lead to incorrect values for the attributions.Targets can be either the true classes or the classes predicted by the model.\n",
            "It looks like you are passing a model with a scalar output and target is set to `None`.If your model is a regression model this will produce correct attributions. If your model is a classification model, targets for each datapoint must be defined. Not defining the target may lead to incorrect values for the attributions.Targets can be either the true classes or the classes predicted by the model.\n",
            "It looks like you are passing a model with a scalar output and target is set to `None`.If your model is a regression model this will produce correct attributions. If your model is a classification model, targets for each datapoint must be defined. Not defining the target may lead to incorrect values for the attributions.Targets can be either the true classes or the classes predicted by the model.\n",
            "It looks like you are passing a model with a scalar output and target is set to `None`.If your model is a regression model this will produce correct attributions. If your model is a classification model, targets for each datapoint must be defined. Not defining the target may lead to incorrect values for the attributions.Targets can be either the true classes or the classes predicted by the model.\n",
            "It looks like you are passing a model with a scalar output and target is set to `None`.If your model is a regression model this will produce correct attributions. If your model is a classification model, targets for each datapoint must be defined. Not defining the target may lead to incorrect values for the attributions.Targets can be either the true classes or the classes predicted by the model.\n",
            "It looks like you are passing a model with a scalar output and target is set to `None`.If your model is a regression model this will produce correct attributions. If your model is a classification model, targets for each datapoint must be defined. Not defining the target may lead to incorrect values for the attributions.Targets can be either the true classes or the classes predicted by the model.\n",
            "It looks like you are passing a model with a scalar output and target is set to `None`.If your model is a regression model this will produce correct attributions. If your model is a classification model, targets for each datapoint must be defined. Not defining the target may lead to incorrect values for the attributions.Targets can be either the true classes or the classes predicted by the model.\n",
            "It looks like you are passing a model with a scalar output and target is set to `None`.If your model is a regression model this will produce correct attributions. If your model is a classification model, targets for each datapoint must be defined. Not defining the target may lead to incorrect values for the attributions.Targets can be either the true classes or the classes predicted by the model.\n",
            "It looks like you are passing a model with a scalar output and target is set to `None`.If your model is a regression model this will produce correct attributions. If your model is a classification model, targets for each datapoint must be defined. Not defining the target may lead to incorrect values for the attributions.Targets can be either the true classes or the classes predicted by the model.\n",
            "It looks like you are passing a model with a scalar output and target is set to `None`.If your model is a regression model this will produce correct attributions. If your model is a classification model, targets for each datapoint must be defined. Not defining the target may lead to incorrect values for the attributions.Targets can be either the true classes or the classes predicted by the model.\n",
            "It looks like you are passing a model with a scalar output and target is set to `None`.If your model is a regression model this will produce correct attributions. If your model is a classification model, targets for each datapoint must be defined. Not defining the target may lead to incorrect values for the attributions.Targets can be either the true classes or the classes predicted by the model.\n",
            "It looks like you are passing a model with a scalar output and target is set to `None`.If your model is a regression model this will produce correct attributions. If your model is a classification model, targets for each datapoint must be defined. Not defining the target may lead to incorrect values for the attributions.Targets can be either the true classes or the classes predicted by the model.\n",
            "It looks like you are passing a model with a scalar output and target is set to `None`.If your model is a regression model this will produce correct attributions. If your model is a classification model, targets for each datapoint must be defined. Not defining the target may lead to incorrect values for the attributions.Targets can be either the true classes or the classes predicted by the model.\n",
            "It looks like you are passing a model with a scalar output and target is set to `None`.If your model is a regression model this will produce correct attributions. If your model is a classification model, targets for each datapoint must be defined. Not defining the target may lead to incorrect values for the attributions.Targets can be either the true classes or the classes predicted by the model.\n",
            "It looks like you are passing a model with a scalar output and target is set to `None`.If your model is a regression model this will produce correct attributions. If your model is a classification model, targets for each datapoint must be defined. Not defining the target may lead to incorrect values for the attributions.Targets can be either the true classes or the classes predicted by the model.\n",
            "It looks like you are passing a model with a scalar output and target is set to `None`.If your model is a regression model this will produce correct attributions. If your model is a classification model, targets for each datapoint must be defined. Not defining the target may lead to incorrect values for the attributions.Targets can be either the true classes or the classes predicted by the model.\n",
            "It looks like you are passing a model with a scalar output and target is set to `None`.If your model is a regression model this will produce correct attributions. If your model is a classification model, targets for each datapoint must be defined. Not defining the target may lead to incorrect values for the attributions.Targets can be either the true classes or the classes predicted by the model.\n",
            "It looks like you are passing a model with a scalar output and target is set to `None`.If your model is a regression model this will produce correct attributions. If your model is a classification model, targets for each datapoint must be defined. Not defining the target may lead to incorrect values for the attributions.Targets can be either the true classes or the classes predicted by the model.\n",
            "It looks like you are passing a model with a scalar output and target is set to `None`.If your model is a regression model this will produce correct attributions. If your model is a classification model, targets for each datapoint must be defined. Not defining the target may lead to incorrect values for the attributions.Targets can be either the true classes or the classes predicted by the model.\n",
            "It looks like you are passing a model with a scalar output and target is set to `None`.If your model is a regression model this will produce correct attributions. If your model is a classification model, targets for each datapoint must be defined. Not defining the target may lead to incorrect values for the attributions.Targets can be either the true classes or the classes predicted by the model.\n",
            "It looks like you are passing a model with a scalar output and target is set to `None`.If your model is a regression model this will produce correct attributions. If your model is a classification model, targets for each datapoint must be defined. Not defining the target may lead to incorrect values for the attributions.Targets can be either the true classes or the classes predicted by the model.\n",
            "It looks like you are passing a model with a scalar output and target is set to `None`.If your model is a regression model this will produce correct attributions. If your model is a classification model, targets for each datapoint must be defined. Not defining the target may lead to incorrect values for the attributions.Targets can be either the true classes or the classes predicted by the model.\n",
            "It looks like you are passing a model with a scalar output and target is set to `None`.If your model is a regression model this will produce correct attributions. If your model is a classification model, targets for each datapoint must be defined. Not defining the target may lead to incorrect values for the attributions.Targets can be either the true classes or the classes predicted by the model.\n",
            "It looks like you are passing a model with a scalar output and target is set to `None`.If your model is a regression model this will produce correct attributions. If your model is a classification model, targets for each datapoint must be defined. Not defining the target may lead to incorrect values for the attributions.Targets can be either the true classes or the classes predicted by the model.\n",
            "It looks like you are passing a model with a scalar output and target is set to `None`.If your model is a regression model this will produce correct attributions. If your model is a classification model, targets for each datapoint must be defined. Not defining the target may lead to incorrect values for the attributions.Targets can be either the true classes or the classes predicted by the model.\n",
            "It looks like you are passing a model with a scalar output and target is set to `None`.If your model is a regression model this will produce correct attributions. If your model is a classification model, targets for each datapoint must be defined. Not defining the target may lead to incorrect values for the attributions.Targets can be either the true classes or the classes predicted by the model.\n",
            "It looks like you are passing a model with a scalar output and target is set to `None`.If your model is a regression model this will produce correct attributions. If your model is a classification model, targets for each datapoint must be defined. Not defining the target may lead to incorrect values for the attributions.Targets can be either the true classes or the classes predicted by the model.\n",
            "It looks like you are passing a model with a scalar output and target is set to `None`.If your model is a regression model this will produce correct attributions. If your model is a classification model, targets for each datapoint must be defined. Not defining the target may lead to incorrect values for the attributions.Targets can be either the true classes or the classes predicted by the model.\n",
            "It looks like you are passing a model with a scalar output and target is set to `None`.If your model is a regression model this will produce correct attributions. If your model is a classification model, targets for each datapoint must be defined. Not defining the target may lead to incorrect values for the attributions.Targets can be either the true classes or the classes predicted by the model.\n",
            "It looks like you are passing a model with a scalar output and target is set to `None`.If your model is a regression model this will produce correct attributions. If your model is a classification model, targets for each datapoint must be defined. Not defining the target may lead to incorrect values for the attributions.Targets can be either the true classes or the classes predicted by the model.\n",
            "It looks like you are passing a model with a scalar output and target is set to `None`.If your model is a regression model this will produce correct attributions. If your model is a classification model, targets for each datapoint must be defined. Not defining the target may lead to incorrect values for the attributions.Targets can be either the true classes or the classes predicted by the model.\n",
            "It looks like you are passing a model with a scalar output and target is set to `None`.If your model is a regression model this will produce correct attributions. If your model is a classification model, targets for each datapoint must be defined. Not defining the target may lead to incorrect values for the attributions.Targets can be either the true classes or the classes predicted by the model.\n",
            "It looks like you are passing a model with a scalar output and target is set to `None`.If your model is a regression model this will produce correct attributions. If your model is a classification model, targets for each datapoint must be defined. Not defining the target may lead to incorrect values for the attributions.Targets can be either the true classes or the classes predicted by the model.\n",
            "It looks like you are passing a model with a scalar output and target is set to `None`.If your model is a regression model this will produce correct attributions. If your model is a classification model, targets for each datapoint must be defined. Not defining the target may lead to incorrect values for the attributions.Targets can be either the true classes or the classes predicted by the model.\n",
            "It looks like you are passing a model with a scalar output and target is set to `None`.If your model is a regression model this will produce correct attributions. If your model is a classification model, targets for each datapoint must be defined. Not defining the target may lead to incorrect values for the attributions.Targets can be either the true classes or the classes predicted by the model.\n",
            "It looks like you are passing a model with a scalar output and target is set to `None`.If your model is a regression model this will produce correct attributions. If your model is a classification model, targets for each datapoint must be defined. Not defining the target may lead to incorrect values for the attributions.Targets can be either the true classes or the classes predicted by the model.\n",
            "It looks like you are passing a model with a scalar output and target is set to `None`.If your model is a regression model this will produce correct attributions. If your model is a classification model, targets for each datapoint must be defined. Not defining the target may lead to incorrect values for the attributions.Targets can be either the true classes or the classes predicted by the model.\n",
            "It looks like you are passing a model with a scalar output and target is set to `None`.If your model is a regression model this will produce correct attributions. If your model is a classification model, targets for each datapoint must be defined. Not defining the target may lead to incorrect values for the attributions.Targets can be either the true classes or the classes predicted by the model.\n",
            "It looks like you are passing a model with a scalar output and target is set to `None`.If your model is a regression model this will produce correct attributions. If your model is a classification model, targets for each datapoint must be defined. Not defining the target may lead to incorrect values for the attributions.Targets can be either the true classes or the classes predicted by the model.\n",
            "It looks like you are passing a model with a scalar output and target is set to `None`.If your model is a regression model this will produce correct attributions. If your model is a classification model, targets for each datapoint must be defined. Not defining the target may lead to incorrect values for the attributions.Targets can be either the true classes or the classes predicted by the model.\n",
            "It looks like you are passing a model with a scalar output and target is set to `None`.If your model is a regression model this will produce correct attributions. If your model is a classification model, targets for each datapoint must be defined. Not defining the target may lead to incorrect values for the attributions.Targets can be either the true classes or the classes predicted by the model.\n",
            "It looks like you are passing a model with a scalar output and target is set to `None`.If your model is a regression model this will produce correct attributions. If your model is a classification model, targets for each datapoint must be defined. Not defining the target may lead to incorrect values for the attributions.Targets can be either the true classes or the classes predicted by the model.\n",
            "It looks like you are passing a model with a scalar output and target is set to `None`.If your model is a regression model this will produce correct attributions. If your model is a classification model, targets for each datapoint must be defined. Not defining the target may lead to incorrect values for the attributions.Targets can be either the true classes or the classes predicted by the model.\n",
            "It looks like you are passing a model with a scalar output and target is set to `None`.If your model is a regression model this will produce correct attributions. If your model is a classification model, targets for each datapoint must be defined. Not defining the target may lead to incorrect values for the attributions.Targets can be either the true classes or the classes predicted by the model.\n",
            "It looks like you are passing a model with a scalar output and target is set to `None`.If your model is a regression model this will produce correct attributions. If your model is a classification model, targets for each datapoint must be defined. Not defining the target may lead to incorrect values for the attributions.Targets can be either the true classes or the classes predicted by the model.\n",
            "It looks like you are passing a model with a scalar output and target is set to `None`.If your model is a regression model this will produce correct attributions. If your model is a classification model, targets for each datapoint must be defined. Not defining the target may lead to incorrect values for the attributions.Targets can be either the true classes or the classes predicted by the model.\n",
            "It looks like you are passing a model with a scalar output and target is set to `None`.If your model is a regression model this will produce correct attributions. If your model is a classification model, targets for each datapoint must be defined. Not defining the target may lead to incorrect values for the attributions.Targets can be either the true classes or the classes predicted by the model.\n",
            "It looks like you are passing a model with a scalar output and target is set to `None`.If your model is a regression model this will produce correct attributions. If your model is a classification model, targets for each datapoint must be defined. Not defining the target may lead to incorrect values for the attributions.Targets can be either the true classes or the classes predicted by the model.\n",
            "It looks like you are passing a model with a scalar output and target is set to `None`.If your model is a regression model this will produce correct attributions. If your model is a classification model, targets for each datapoint must be defined. Not defining the target may lead to incorrect values for the attributions.Targets can be either the true classes or the classes predicted by the model.\n",
            "It looks like you are passing a model with a scalar output and target is set to `None`.If your model is a regression model this will produce correct attributions. If your model is a classification model, targets for each datapoint must be defined. Not defining the target may lead to incorrect values for the attributions.Targets can be either the true classes or the classes predicted by the model.\n",
            "It looks like you are passing a model with a scalar output and target is set to `None`.If your model is a regression model this will produce correct attributions. If your model is a classification model, targets for each datapoint must be defined. Not defining the target may lead to incorrect values for the attributions.Targets can be either the true classes or the classes predicted by the model.\n",
            "It looks like you are passing a model with a scalar output and target is set to `None`.If your model is a regression model this will produce correct attributions. If your model is a classification model, targets for each datapoint must be defined. Not defining the target may lead to incorrect values for the attributions.Targets can be either the true classes or the classes predicted by the model.\n",
            "It looks like you are passing a model with a scalar output and target is set to `None`.If your model is a regression model this will produce correct attributions. If your model is a classification model, targets for each datapoint must be defined. Not defining the target may lead to incorrect values for the attributions.Targets can be either the true classes or the classes predicted by the model.\n",
            "It looks like you are passing a model with a scalar output and target is set to `None`.If your model is a regression model this will produce correct attributions. If your model is a classification model, targets for each datapoint must be defined. Not defining the target may lead to incorrect values for the attributions.Targets can be either the true classes or the classes predicted by the model.\n",
            "It looks like you are passing a model with a scalar output and target is set to `None`.If your model is a regression model this will produce correct attributions. If your model is a classification model, targets for each datapoint must be defined. Not defining the target may lead to incorrect values for the attributions.Targets can be either the true classes or the classes predicted by the model.\n",
            "It looks like you are passing a model with a scalar output and target is set to `None`.If your model is a regression model this will produce correct attributions. If your model is a classification model, targets for each datapoint must be defined. Not defining the target may lead to incorrect values for the attributions.Targets can be either the true classes or the classes predicted by the model.\n",
            "It looks like you are passing a model with a scalar output and target is set to `None`.If your model is a regression model this will produce correct attributions. If your model is a classification model, targets for each datapoint must be defined. Not defining the target may lead to incorrect values for the attributions.Targets can be either the true classes or the classes predicted by the model.\n"
          ],
          "name": "stderr"
        },
        {
          "output_type": "stream",
          "text": [
            "{'around': 'just', 'came': 'brought', 'start': 'starting', 'good': 'better', 'first': 'second', 'the': 'which', 'once': 'when', 'had': 'having', 'house': 'houses', 'this': 'it', 'band': 'bands', 'phone': 'telephone', 'to': 'able', 'next': 'coming', 'my': 'your', 'happy': 'glad', 'said': 'told', 'with': 'both', 'got': 'get', 'one': 'another', 'long': 'short', 'patient': 'patients', 'story': 'stories'}\n"
          ],
          "name": "stdout"
        }
      ]
    },
    {
      "cell_type": "code",
      "metadata": {
        "id": "tnlggKZ_IJPN"
      },
      "source": [
        "import gc\r\n",
        "import multiprocessing\r\n",
        "\r\n",
        "word_map = tokenizer.word_index\r\n",
        "reversed_word_map = dict(map(reversed, word_map.items()))\r\n",
        "\r\n",
        "ig = alibi_ig(sf,\r\n",
        "              layer=sf.get_layer('embedding'),\r\n",
        "              n_steps=50, \r\n",
        "              method='riemann_trapezoid',\r\n",
        "              internal_batch_size=100)\r\n",
        "\r\n",
        "def vectorize(text_array, is_text = False, pad='pre'):\r\n",
        "  texts = copy.deepcopy(text_array)\r\n",
        "  if is_text:\r\n",
        "      texts = tokenizer.texts_to_sequences(texts)\r\n",
        "  padded_seq = pad_sequences(texts, maxlen = MAX_SEQUENCE_LENGTH, padding = pad, truncating = pad)\r\n",
        "  return padded_seq\r\n",
        "\r\n",
        "def sequence_to_text(list_of_indices):\r\n",
        "    count = 0\r\n",
        "    words = [reversed_word_map.get(letter) for letter in list_of_indices]\r\n",
        "    for x in words:\r\n",
        "      if x == None:\r\n",
        "        count+=1\r\n",
        "    return(words, count)\r\n",
        "\r\n",
        "def get_attrs_alibi(v = x_val[0:1]):\r\n",
        "        baseline = np.zeros(x_val[0:1].shape)\r\n",
        "        baseline[0][0] = tokenizer.word_index['a']\r\n",
        "        explanation = ig.explain(v, baselines=baseline)      \r\n",
        "        attrs = explanation.attributions\r\n",
        "        attrs = attrs.sum(axis=2)      \r\n",
        "        return attrs\r\n",
        "\r\n",
        "def create_model_and_train( attr_type = 'add'):\r\n",
        "\r\n",
        "  ATTRS_DIR = './drive/My Drive/IG RESULTS/'\r\n",
        "  ATTRS_TSV = ATTRS_DIR+'SKIPFLOW/P7/attrs_'+attr_type+'.tsv'\r\n",
        "  \r\n",
        "  data = pd.read_csv(ATTRS_DIR+'big_7_'+attr_type+'.csv')['text'].tolist()\r\n",
        "  data_test = vectorize(data, pad = 'pre', is_text=True)\r\n",
        "  with open(ATTRS_TSV, 'w') as outf:\r\n",
        "    ans = ''\r\n",
        "    for i,v in enumerate(data_test):\r\n",
        "        tsv_string = ''\r\n",
        "        attrs = get_attrs_alibi(np.array([v]))[0]\r\n",
        "        words,count = sequence_to_text(v)\r\n",
        "        assert len(words[count:]) == len(attrs[count:])\r\n",
        "        question_attrs = []\r\n",
        "        for ind in range(len(words[count:])):\r\n",
        "          if words[count:][ind] is not None:\r\n",
        "            question_attrs.append(\r\n",
        "                '|'.join([ words[count:][ind], str(attrs[count:][ind]) ])\r\n",
        "                )\r\n",
        "        tsv_string = ['||'.join(question_attrs)]\r\n",
        "        ans += '\\t'.join(tsv_string) + '\\n'\r\n",
        "        del attrs, words, question_attrs, tsv_string\r\n",
        "        gc.collect()\r\n",
        "    outf.write(ans)\r\n",
        "    outf.flush()\r\n",
        "    del ans\r\n",
        "    gc.collect()\r\n",
        "    outf.write('done')\r\n",
        "  print('DONE')"
      ],
      "execution_count": 23,
      "outputs": []
    },
    {
      "cell_type": "code",
      "metadata": {
        "colab": {
          "base_uri": "https://localhost:8080/"
        },
        "id": "K75XNIOXIJNa",
        "outputId": "7a62ea34-584c-441e-f733-07c726f8b661"
      },
      "source": [
        "attr_type = 'song_beg'\r\n",
        "create_model_and_train(attr_type)\r\n",
        "\r\n",
        "gc.collect()\r\n",
        "\r\n",
        "attr_type = 'song_end'\r\n",
        "create_model_and_train(attr_type)"
      ],
      "execution_count": 39,
      "outputs": [
        {
          "output_type": "stream",
          "text": [
            "It looks like you are passing a model with a scalar output and target is set to `None`.If your model is a regression model this will produce correct attributions. If your model is a classification model, targets for each datapoint must be defined. Not defining the target may lead to incorrect values for the attributions.Targets can be either the true classes or the classes predicted by the model.\n",
            "It looks like you are passing a model with a scalar output and target is set to `None`.If your model is a regression model this will produce correct attributions. If your model is a classification model, targets for each datapoint must be defined. Not defining the target may lead to incorrect values for the attributions.Targets can be either the true classes or the classes predicted by the model.\n",
            "It looks like you are passing a model with a scalar output and target is set to `None`.If your model is a regression model this will produce correct attributions. If your model is a classification model, targets for each datapoint must be defined. Not defining the target may lead to incorrect values for the attributions.Targets can be either the true classes or the classes predicted by the model.\n",
            "It looks like you are passing a model with a scalar output and target is set to `None`.If your model is a regression model this will produce correct attributions. If your model is a classification model, targets for each datapoint must be defined. Not defining the target may lead to incorrect values for the attributions.Targets can be either the true classes or the classes predicted by the model.\n",
            "It looks like you are passing a model with a scalar output and target is set to `None`.If your model is a regression model this will produce correct attributions. If your model is a classification model, targets for each datapoint must be defined. Not defining the target may lead to incorrect values for the attributions.Targets can be either the true classes or the classes predicted by the model.\n",
            "It looks like you are passing a model with a scalar output and target is set to `None`.If your model is a regression model this will produce correct attributions. If your model is a classification model, targets for each datapoint must be defined. Not defining the target may lead to incorrect values for the attributions.Targets can be either the true classes or the classes predicted by the model.\n",
            "It looks like you are passing a model with a scalar output and target is set to `None`.If your model is a regression model this will produce correct attributions. If your model is a classification model, targets for each datapoint must be defined. Not defining the target may lead to incorrect values for the attributions.Targets can be either the true classes or the classes predicted by the model.\n",
            "It looks like you are passing a model with a scalar output and target is set to `None`.If your model is a regression model this will produce correct attributions. If your model is a classification model, targets for each datapoint must be defined. Not defining the target may lead to incorrect values for the attributions.Targets can be either the true classes or the classes predicted by the model.\n",
            "It looks like you are passing a model with a scalar output and target is set to `None`.If your model is a regression model this will produce correct attributions. If your model is a classification model, targets for each datapoint must be defined. Not defining the target may lead to incorrect values for the attributions.Targets can be either the true classes or the classes predicted by the model.\n",
            "It looks like you are passing a model with a scalar output and target is set to `None`.If your model is a regression model this will produce correct attributions. If your model is a classification model, targets for each datapoint must be defined. Not defining the target may lead to incorrect values for the attributions.Targets can be either the true classes or the classes predicted by the model.\n",
            "It looks like you are passing a model with a scalar output and target is set to `None`.If your model is a regression model this will produce correct attributions. If your model is a classification model, targets for each datapoint must be defined. Not defining the target may lead to incorrect values for the attributions.Targets can be either the true classes or the classes predicted by the model.\n",
            "It looks like you are passing a model with a scalar output and target is set to `None`.If your model is a regression model this will produce correct attributions. If your model is a classification model, targets for each datapoint must be defined. Not defining the target may lead to incorrect values for the attributions.Targets can be either the true classes or the classes predicted by the model.\n",
            "It looks like you are passing a model with a scalar output and target is set to `None`.If your model is a regression model this will produce correct attributions. If your model is a classification model, targets for each datapoint must be defined. Not defining the target may lead to incorrect values for the attributions.Targets can be either the true classes or the classes predicted by the model.\n",
            "It looks like you are passing a model with a scalar output and target is set to `None`.If your model is a regression model this will produce correct attributions. If your model is a classification model, targets for each datapoint must be defined. Not defining the target may lead to incorrect values for the attributions.Targets can be either the true classes or the classes predicted by the model.\n",
            "It looks like you are passing a model with a scalar output and target is set to `None`.If your model is a regression model this will produce correct attributions. If your model is a classification model, targets for each datapoint must be defined. Not defining the target may lead to incorrect values for the attributions.Targets can be either the true classes or the classes predicted by the model.\n",
            "It looks like you are passing a model with a scalar output and target is set to `None`.If your model is a regression model this will produce correct attributions. If your model is a classification model, targets for each datapoint must be defined. Not defining the target may lead to incorrect values for the attributions.Targets can be either the true classes or the classes predicted by the model.\n",
            "It looks like you are passing a model with a scalar output and target is set to `None`.If your model is a regression model this will produce correct attributions. If your model is a classification model, targets for each datapoint must be defined. Not defining the target may lead to incorrect values for the attributions.Targets can be either the true classes or the classes predicted by the model.\n",
            "It looks like you are passing a model with a scalar output and target is set to `None`.If your model is a regression model this will produce correct attributions. If your model is a classification model, targets for each datapoint must be defined. Not defining the target may lead to incorrect values for the attributions.Targets can be either the true classes or the classes predicted by the model.\n",
            "It looks like you are passing a model with a scalar output and target is set to `None`.If your model is a regression model this will produce correct attributions. If your model is a classification model, targets for each datapoint must be defined. Not defining the target may lead to incorrect values for the attributions.Targets can be either the true classes or the classes predicted by the model.\n",
            "It looks like you are passing a model with a scalar output and target is set to `None`.If your model is a regression model this will produce correct attributions. If your model is a classification model, targets for each datapoint must be defined. Not defining the target may lead to incorrect values for the attributions.Targets can be either the true classes or the classes predicted by the model.\n",
            "It looks like you are passing a model with a scalar output and target is set to `None`.If your model is a regression model this will produce correct attributions. If your model is a classification model, targets for each datapoint must be defined. Not defining the target may lead to incorrect values for the attributions.Targets can be either the true classes or the classes predicted by the model.\n",
            "It looks like you are passing a model with a scalar output and target is set to `None`.If your model is a regression model this will produce correct attributions. If your model is a classification model, targets for each datapoint must be defined. Not defining the target may lead to incorrect values for the attributions.Targets can be either the true classes or the classes predicted by the model.\n",
            "It looks like you are passing a model with a scalar output and target is set to `None`.If your model is a regression model this will produce correct attributions. If your model is a classification model, targets for each datapoint must be defined. Not defining the target may lead to incorrect values for the attributions.Targets can be either the true classes or the classes predicted by the model.\n",
            "It looks like you are passing a model with a scalar output and target is set to `None`.If your model is a regression model this will produce correct attributions. If your model is a classification model, targets for each datapoint must be defined. Not defining the target may lead to incorrect values for the attributions.Targets can be either the true classes or the classes predicted by the model.\n",
            "It looks like you are passing a model with a scalar output and target is set to `None`.If your model is a regression model this will produce correct attributions. If your model is a classification model, targets for each datapoint must be defined. Not defining the target may lead to incorrect values for the attributions.Targets can be either the true classes or the classes predicted by the model.\n",
            "It looks like you are passing a model with a scalar output and target is set to `None`.If your model is a regression model this will produce correct attributions. If your model is a classification model, targets for each datapoint must be defined. Not defining the target may lead to incorrect values for the attributions.Targets can be either the true classes or the classes predicted by the model.\n",
            "It looks like you are passing a model with a scalar output and target is set to `None`.If your model is a regression model this will produce correct attributions. If your model is a classification model, targets for each datapoint must be defined. Not defining the target may lead to incorrect values for the attributions.Targets can be either the true classes or the classes predicted by the model.\n",
            "It looks like you are passing a model with a scalar output and target is set to `None`.If your model is a regression model this will produce correct attributions. If your model is a classification model, targets for each datapoint must be defined. Not defining the target may lead to incorrect values for the attributions.Targets can be either the true classes or the classes predicted by the model.\n",
            "It looks like you are passing a model with a scalar output and target is set to `None`.If your model is a regression model this will produce correct attributions. If your model is a classification model, targets for each datapoint must be defined. Not defining the target may lead to incorrect values for the attributions.Targets can be either the true classes or the classes predicted by the model.\n",
            "It looks like you are passing a model with a scalar output and target is set to `None`.If your model is a regression model this will produce correct attributions. If your model is a classification model, targets for each datapoint must be defined. Not defining the target may lead to incorrect values for the attributions.Targets can be either the true classes or the classes predicted by the model.\n",
            "It looks like you are passing a model with a scalar output and target is set to `None`.If your model is a regression model this will produce correct attributions. If your model is a classification model, targets for each datapoint must be defined. Not defining the target may lead to incorrect values for the attributions.Targets can be either the true classes or the classes predicted by the model.\n",
            "It looks like you are passing a model with a scalar output and target is set to `None`.If your model is a regression model this will produce correct attributions. If your model is a classification model, targets for each datapoint must be defined. Not defining the target may lead to incorrect values for the attributions.Targets can be either the true classes or the classes predicted by the model.\n",
            "It looks like you are passing a model with a scalar output and target is set to `None`.If your model is a regression model this will produce correct attributions. If your model is a classification model, targets for each datapoint must be defined. Not defining the target may lead to incorrect values for the attributions.Targets can be either the true classes or the classes predicted by the model.\n",
            "It looks like you are passing a model with a scalar output and target is set to `None`.If your model is a regression model this will produce correct attributions. If your model is a classification model, targets for each datapoint must be defined. Not defining the target may lead to incorrect values for the attributions.Targets can be either the true classes or the classes predicted by the model.\n",
            "It looks like you are passing a model with a scalar output and target is set to `None`.If your model is a regression model this will produce correct attributions. If your model is a classification model, targets for each datapoint must be defined. Not defining the target may lead to incorrect values for the attributions.Targets can be either the true classes or the classes predicted by the model.\n",
            "It looks like you are passing a model with a scalar output and target is set to `None`.If your model is a regression model this will produce correct attributions. If your model is a classification model, targets for each datapoint must be defined. Not defining the target may lead to incorrect values for the attributions.Targets can be either the true classes or the classes predicted by the model.\n",
            "It looks like you are passing a model with a scalar output and target is set to `None`.If your model is a regression model this will produce correct attributions. If your model is a classification model, targets for each datapoint must be defined. Not defining the target may lead to incorrect values for the attributions.Targets can be either the true classes or the classes predicted by the model.\n",
            "It looks like you are passing a model with a scalar output and target is set to `None`.If your model is a regression model this will produce correct attributions. If your model is a classification model, targets for each datapoint must be defined. Not defining the target may lead to incorrect values for the attributions.Targets can be either the true classes or the classes predicted by the model.\n",
            "It looks like you are passing a model with a scalar output and target is set to `None`.If your model is a regression model this will produce correct attributions. If your model is a classification model, targets for each datapoint must be defined. Not defining the target may lead to incorrect values for the attributions.Targets can be either the true classes or the classes predicted by the model.\n",
            "It looks like you are passing a model with a scalar output and target is set to `None`.If your model is a regression model this will produce correct attributions. If your model is a classification model, targets for each datapoint must be defined. Not defining the target may lead to incorrect values for the attributions.Targets can be either the true classes or the classes predicted by the model.\n",
            "It looks like you are passing a model with a scalar output and target is set to `None`.If your model is a regression model this will produce correct attributions. If your model is a classification model, targets for each datapoint must be defined. Not defining the target may lead to incorrect values for the attributions.Targets can be either the true classes or the classes predicted by the model.\n",
            "It looks like you are passing a model with a scalar output and target is set to `None`.If your model is a regression model this will produce correct attributions. If your model is a classification model, targets for each datapoint must be defined. Not defining the target may lead to incorrect values for the attributions.Targets can be either the true classes or the classes predicted by the model.\n",
            "It looks like you are passing a model with a scalar output and target is set to `None`.If your model is a regression model this will produce correct attributions. If your model is a classification model, targets for each datapoint must be defined. Not defining the target may lead to incorrect values for the attributions.Targets can be either the true classes or the classes predicted by the model.\n",
            "It looks like you are passing a model with a scalar output and target is set to `None`.If your model is a regression model this will produce correct attributions. If your model is a classification model, targets for each datapoint must be defined. Not defining the target may lead to incorrect values for the attributions.Targets can be either the true classes or the classes predicted by the model.\n",
            "It looks like you are passing a model with a scalar output and target is set to `None`.If your model is a regression model this will produce correct attributions. If your model is a classification model, targets for each datapoint must be defined. Not defining the target may lead to incorrect values for the attributions.Targets can be either the true classes or the classes predicted by the model.\n",
            "It looks like you are passing a model with a scalar output and target is set to `None`.If your model is a regression model this will produce correct attributions. If your model is a classification model, targets for each datapoint must be defined. Not defining the target may lead to incorrect values for the attributions.Targets can be either the true classes or the classes predicted by the model.\n",
            "It looks like you are passing a model with a scalar output and target is set to `None`.If your model is a regression model this will produce correct attributions. If your model is a classification model, targets for each datapoint must be defined. Not defining the target may lead to incorrect values for the attributions.Targets can be either the true classes or the classes predicted by the model.\n",
            "It looks like you are passing a model with a scalar output and target is set to `None`.If your model is a regression model this will produce correct attributions. If your model is a classification model, targets for each datapoint must be defined. Not defining the target may lead to incorrect values for the attributions.Targets can be either the true classes or the classes predicted by the model.\n",
            "It looks like you are passing a model with a scalar output and target is set to `None`.If your model is a regression model this will produce correct attributions. If your model is a classification model, targets for each datapoint must be defined. Not defining the target may lead to incorrect values for the attributions.Targets can be either the true classes or the classes predicted by the model.\n",
            "It looks like you are passing a model with a scalar output and target is set to `None`.If your model is a regression model this will produce correct attributions. If your model is a classification model, targets for each datapoint must be defined. Not defining the target may lead to incorrect values for the attributions.Targets can be either the true classes or the classes predicted by the model.\n",
            "It looks like you are passing a model with a scalar output and target is set to `None`.If your model is a regression model this will produce correct attributions. If your model is a classification model, targets for each datapoint must be defined. Not defining the target may lead to incorrect values for the attributions.Targets can be either the true classes or the classes predicted by the model.\n",
            "It looks like you are passing a model with a scalar output and target is set to `None`.If your model is a regression model this will produce correct attributions. If your model is a classification model, targets for each datapoint must be defined. Not defining the target may lead to incorrect values for the attributions.Targets can be either the true classes or the classes predicted by the model.\n",
            "It looks like you are passing a model with a scalar output and target is set to `None`.If your model is a regression model this will produce correct attributions. If your model is a classification model, targets for each datapoint must be defined. Not defining the target may lead to incorrect values for the attributions.Targets can be either the true classes or the classes predicted by the model.\n",
            "It looks like you are passing a model with a scalar output and target is set to `None`.If your model is a regression model this will produce correct attributions. If your model is a classification model, targets for each datapoint must be defined. Not defining the target may lead to incorrect values for the attributions.Targets can be either the true classes or the classes predicted by the model.\n",
            "It looks like you are passing a model with a scalar output and target is set to `None`.If your model is a regression model this will produce correct attributions. If your model is a classification model, targets for each datapoint must be defined. Not defining the target may lead to incorrect values for the attributions.Targets can be either the true classes or the classes predicted by the model.\n",
            "It looks like you are passing a model with a scalar output and target is set to `None`.If your model is a regression model this will produce correct attributions. If your model is a classification model, targets for each datapoint must be defined. Not defining the target may lead to incorrect values for the attributions.Targets can be either the true classes or the classes predicted by the model.\n",
            "It looks like you are passing a model with a scalar output and target is set to `None`.If your model is a regression model this will produce correct attributions. If your model is a classification model, targets for each datapoint must be defined. Not defining the target may lead to incorrect values for the attributions.Targets can be either the true classes or the classes predicted by the model.\n",
            "It looks like you are passing a model with a scalar output and target is set to `None`.If your model is a regression model this will produce correct attributions. If your model is a classification model, targets for each datapoint must be defined. Not defining the target may lead to incorrect values for the attributions.Targets can be either the true classes or the classes predicted by the model.\n",
            "It looks like you are passing a model with a scalar output and target is set to `None`.If your model is a regression model this will produce correct attributions. If your model is a classification model, targets for each datapoint must be defined. Not defining the target may lead to incorrect values for the attributions.Targets can be either the true classes or the classes predicted by the model.\n",
            "It looks like you are passing a model with a scalar output and target is set to `None`.If your model is a regression model this will produce correct attributions. If your model is a classification model, targets for each datapoint must be defined. Not defining the target may lead to incorrect values for the attributions.Targets can be either the true classes or the classes predicted by the model.\n",
            "It looks like you are passing a model with a scalar output and target is set to `None`.If your model is a regression model this will produce correct attributions. If your model is a classification model, targets for each datapoint must be defined. Not defining the target may lead to incorrect values for the attributions.Targets can be either the true classes or the classes predicted by the model.\n",
            "It looks like you are passing a model with a scalar output and target is set to `None`.If your model is a regression model this will produce correct attributions. If your model is a classification model, targets for each datapoint must be defined. Not defining the target may lead to incorrect values for the attributions.Targets can be either the true classes or the classes predicted by the model.\n",
            "It looks like you are passing a model with a scalar output and target is set to `None`.If your model is a regression model this will produce correct attributions. If your model is a classification model, targets for each datapoint must be defined. Not defining the target may lead to incorrect values for the attributions.Targets can be either the true classes or the classes predicted by the model.\n",
            "It looks like you are passing a model with a scalar output and target is set to `None`.If your model is a regression model this will produce correct attributions. If your model is a classification model, targets for each datapoint must be defined. Not defining the target may lead to incorrect values for the attributions.Targets can be either the true classes or the classes predicted by the model.\n",
            "It looks like you are passing a model with a scalar output and target is set to `None`.If your model is a regression model this will produce correct attributions. If your model is a classification model, targets for each datapoint must be defined. Not defining the target may lead to incorrect values for the attributions.Targets can be either the true classes or the classes predicted by the model.\n",
            "It looks like you are passing a model with a scalar output and target is set to `None`.If your model is a regression model this will produce correct attributions. If your model is a classification model, targets for each datapoint must be defined. Not defining the target may lead to incorrect values for the attributions.Targets can be either the true classes or the classes predicted by the model.\n",
            "It looks like you are passing a model with a scalar output and target is set to `None`.If your model is a regression model this will produce correct attributions. If your model is a classification model, targets for each datapoint must be defined. Not defining the target may lead to incorrect values for the attributions.Targets can be either the true classes or the classes predicted by the model.\n",
            "It looks like you are passing a model with a scalar output and target is set to `None`.If your model is a regression model this will produce correct attributions. If your model is a classification model, targets for each datapoint must be defined. Not defining the target may lead to incorrect values for the attributions.Targets can be either the true classes or the classes predicted by the model.\n",
            "It looks like you are passing a model with a scalar output and target is set to `None`.If your model is a regression model this will produce correct attributions. If your model is a classification model, targets for each datapoint must be defined. Not defining the target may lead to incorrect values for the attributions.Targets can be either the true classes or the classes predicted by the model.\n",
            "It looks like you are passing a model with a scalar output and target is set to `None`.If your model is a regression model this will produce correct attributions. If your model is a classification model, targets for each datapoint must be defined. Not defining the target may lead to incorrect values for the attributions.Targets can be either the true classes or the classes predicted by the model.\n",
            "It looks like you are passing a model with a scalar output and target is set to `None`.If your model is a regression model this will produce correct attributions. If your model is a classification model, targets for each datapoint must be defined. Not defining the target may lead to incorrect values for the attributions.Targets can be either the true classes or the classes predicted by the model.\n",
            "It looks like you are passing a model with a scalar output and target is set to `None`.If your model is a regression model this will produce correct attributions. If your model is a classification model, targets for each datapoint must be defined. Not defining the target may lead to incorrect values for the attributions.Targets can be either the true classes or the classes predicted by the model.\n",
            "It looks like you are passing a model with a scalar output and target is set to `None`.If your model is a regression model this will produce correct attributions. If your model is a classification model, targets for each datapoint must be defined. Not defining the target may lead to incorrect values for the attributions.Targets can be either the true classes or the classes predicted by the model.\n",
            "It looks like you are passing a model with a scalar output and target is set to `None`.If your model is a regression model this will produce correct attributions. If your model is a classification model, targets for each datapoint must be defined. Not defining the target may lead to incorrect values for the attributions.Targets can be either the true classes or the classes predicted by the model.\n",
            "It looks like you are passing a model with a scalar output and target is set to `None`.If your model is a regression model this will produce correct attributions. If your model is a classification model, targets for each datapoint must be defined. Not defining the target may lead to incorrect values for the attributions.Targets can be either the true classes or the classes predicted by the model.\n",
            "It looks like you are passing a model with a scalar output and target is set to `None`.If your model is a regression model this will produce correct attributions. If your model is a classification model, targets for each datapoint must be defined. Not defining the target may lead to incorrect values for the attributions.Targets can be either the true classes or the classes predicted by the model.\n",
            "It looks like you are passing a model with a scalar output and target is set to `None`.If your model is a regression model this will produce correct attributions. If your model is a classification model, targets for each datapoint must be defined. Not defining the target may lead to incorrect values for the attributions.Targets can be either the true classes or the classes predicted by the model.\n",
            "It looks like you are passing a model with a scalar output and target is set to `None`.If your model is a regression model this will produce correct attributions. If your model is a classification model, targets for each datapoint must be defined. Not defining the target may lead to incorrect values for the attributions.Targets can be either the true classes or the classes predicted by the model.\n",
            "It looks like you are passing a model with a scalar output and target is set to `None`.If your model is a regression model this will produce correct attributions. If your model is a classification model, targets for each datapoint must be defined. Not defining the target may lead to incorrect values for the attributions.Targets can be either the true classes or the classes predicted by the model.\n",
            "It looks like you are passing a model with a scalar output and target is set to `None`.If your model is a regression model this will produce correct attributions. If your model is a classification model, targets for each datapoint must be defined. Not defining the target may lead to incorrect values for the attributions.Targets can be either the true classes or the classes predicted by the model.\n",
            "It looks like you are passing a model with a scalar output and target is set to `None`.If your model is a regression model this will produce correct attributions. If your model is a classification model, targets for each datapoint must be defined. Not defining the target may lead to incorrect values for the attributions.Targets can be either the true classes or the classes predicted by the model.\n",
            "It looks like you are passing a model with a scalar output and target is set to `None`.If your model is a regression model this will produce correct attributions. If your model is a classification model, targets for each datapoint must be defined. Not defining the target may lead to incorrect values for the attributions.Targets can be either the true classes or the classes predicted by the model.\n",
            "It looks like you are passing a model with a scalar output and target is set to `None`.If your model is a regression model this will produce correct attributions. If your model is a classification model, targets for each datapoint must be defined. Not defining the target may lead to incorrect values for the attributions.Targets can be either the true classes or the classes predicted by the model.\n",
            "It looks like you are passing a model with a scalar output and target is set to `None`.If your model is a regression model this will produce correct attributions. If your model is a classification model, targets for each datapoint must be defined. Not defining the target may lead to incorrect values for the attributions.Targets can be either the true classes or the classes predicted by the model.\n",
            "It looks like you are passing a model with a scalar output and target is set to `None`.If your model is a regression model this will produce correct attributions. If your model is a classification model, targets for each datapoint must be defined. Not defining the target may lead to incorrect values for the attributions.Targets can be either the true classes or the classes predicted by the model.\n",
            "It looks like you are passing a model with a scalar output and target is set to `None`.If your model is a regression model this will produce correct attributions. If your model is a classification model, targets for each datapoint must be defined. Not defining the target may lead to incorrect values for the attributions.Targets can be either the true classes or the classes predicted by the model.\n",
            "It looks like you are passing a model with a scalar output and target is set to `None`.If your model is a regression model this will produce correct attributions. If your model is a classification model, targets for each datapoint must be defined. Not defining the target may lead to incorrect values for the attributions.Targets can be either the true classes or the classes predicted by the model.\n",
            "It looks like you are passing a model with a scalar output and target is set to `None`.If your model is a regression model this will produce correct attributions. If your model is a classification model, targets for each datapoint must be defined. Not defining the target may lead to incorrect values for the attributions.Targets can be either the true classes or the classes predicted by the model.\n",
            "It looks like you are passing a model with a scalar output and target is set to `None`.If your model is a regression model this will produce correct attributions. If your model is a classification model, targets for each datapoint must be defined. Not defining the target may lead to incorrect values for the attributions.Targets can be either the true classes or the classes predicted by the model.\n",
            "It looks like you are passing a model with a scalar output and target is set to `None`.If your model is a regression model this will produce correct attributions. If your model is a classification model, targets for each datapoint must be defined. Not defining the target may lead to incorrect values for the attributions.Targets can be either the true classes or the classes predicted by the model.\n",
            "It looks like you are passing a model with a scalar output and target is set to `None`.If your model is a regression model this will produce correct attributions. If your model is a classification model, targets for each datapoint must be defined. Not defining the target may lead to incorrect values for the attributions.Targets can be either the true classes or the classes predicted by the model.\n",
            "It looks like you are passing a model with a scalar output and target is set to `None`.If your model is a regression model this will produce correct attributions. If your model is a classification model, targets for each datapoint must be defined. Not defining the target may lead to incorrect values for the attributions.Targets can be either the true classes or the classes predicted by the model.\n",
            "It looks like you are passing a model with a scalar output and target is set to `None`.If your model is a regression model this will produce correct attributions. If your model is a classification model, targets for each datapoint must be defined. Not defining the target may lead to incorrect values for the attributions.Targets can be either the true classes or the classes predicted by the model.\n",
            "It looks like you are passing a model with a scalar output and target is set to `None`.If your model is a regression model this will produce correct attributions. If your model is a classification model, targets for each datapoint must be defined. Not defining the target may lead to incorrect values for the attributions.Targets can be either the true classes or the classes predicted by the model.\n",
            "It looks like you are passing a model with a scalar output and target is set to `None`.If your model is a regression model this will produce correct attributions. If your model is a classification model, targets for each datapoint must be defined. Not defining the target may lead to incorrect values for the attributions.Targets can be either the true classes or the classes predicted by the model.\n",
            "It looks like you are passing a model with a scalar output and target is set to `None`.If your model is a regression model this will produce correct attributions. If your model is a classification model, targets for each datapoint must be defined. Not defining the target may lead to incorrect values for the attributions.Targets can be either the true classes or the classes predicted by the model.\n",
            "It looks like you are passing a model with a scalar output and target is set to `None`.If your model is a regression model this will produce correct attributions. If your model is a classification model, targets for each datapoint must be defined. Not defining the target may lead to incorrect values for the attributions.Targets can be either the true classes or the classes predicted by the model.\n",
            "It looks like you are passing a model with a scalar output and target is set to `None`.If your model is a regression model this will produce correct attributions. If your model is a classification model, targets for each datapoint must be defined. Not defining the target may lead to incorrect values for the attributions.Targets can be either the true classes or the classes predicted by the model.\n",
            "It looks like you are passing a model with a scalar output and target is set to `None`.If your model is a regression model this will produce correct attributions. If your model is a classification model, targets for each datapoint must be defined. Not defining the target may lead to incorrect values for the attributions.Targets can be either the true classes or the classes predicted by the model.\n",
            "It looks like you are passing a model with a scalar output and target is set to `None`.If your model is a regression model this will produce correct attributions. If your model is a classification model, targets for each datapoint must be defined. Not defining the target may lead to incorrect values for the attributions.Targets can be either the true classes or the classes predicted by the model.\n"
          ],
          "name": "stderr"
        },
        {
          "output_type": "stream",
          "text": [
            "DONE\n"
          ],
          "name": "stdout"
        },
        {
          "output_type": "stream",
          "text": [
            "It looks like you are passing a model with a scalar output and target is set to `None`.If your model is a regression model this will produce correct attributions. If your model is a classification model, targets for each datapoint must be defined. Not defining the target may lead to incorrect values for the attributions.Targets can be either the true classes or the classes predicted by the model.\n",
            "It looks like you are passing a model with a scalar output and target is set to `None`.If your model is a regression model this will produce correct attributions. If your model is a classification model, targets for each datapoint must be defined. Not defining the target may lead to incorrect values for the attributions.Targets can be either the true classes or the classes predicted by the model.\n",
            "It looks like you are passing a model with a scalar output and target is set to `None`.If your model is a regression model this will produce correct attributions. If your model is a classification model, targets for each datapoint must be defined. Not defining the target may lead to incorrect values for the attributions.Targets can be either the true classes or the classes predicted by the model.\n",
            "It looks like you are passing a model with a scalar output and target is set to `None`.If your model is a regression model this will produce correct attributions. If your model is a classification model, targets for each datapoint must be defined. Not defining the target may lead to incorrect values for the attributions.Targets can be either the true classes or the classes predicted by the model.\n",
            "It looks like you are passing a model with a scalar output and target is set to `None`.If your model is a regression model this will produce correct attributions. If your model is a classification model, targets for each datapoint must be defined. Not defining the target may lead to incorrect values for the attributions.Targets can be either the true classes or the classes predicted by the model.\n",
            "It looks like you are passing a model with a scalar output and target is set to `None`.If your model is a regression model this will produce correct attributions. If your model is a classification model, targets for each datapoint must be defined. Not defining the target may lead to incorrect values for the attributions.Targets can be either the true classes or the classes predicted by the model.\n",
            "It looks like you are passing a model with a scalar output and target is set to `None`.If your model is a regression model this will produce correct attributions. If your model is a classification model, targets for each datapoint must be defined. Not defining the target may lead to incorrect values for the attributions.Targets can be either the true classes or the classes predicted by the model.\n",
            "It looks like you are passing a model with a scalar output and target is set to `None`.If your model is a regression model this will produce correct attributions. If your model is a classification model, targets for each datapoint must be defined. Not defining the target may lead to incorrect values for the attributions.Targets can be either the true classes or the classes predicted by the model.\n",
            "It looks like you are passing a model with a scalar output and target is set to `None`.If your model is a regression model this will produce correct attributions. If your model is a classification model, targets for each datapoint must be defined. Not defining the target may lead to incorrect values for the attributions.Targets can be either the true classes or the classes predicted by the model.\n",
            "It looks like you are passing a model with a scalar output and target is set to `None`.If your model is a regression model this will produce correct attributions. If your model is a classification model, targets for each datapoint must be defined. Not defining the target may lead to incorrect values for the attributions.Targets can be either the true classes or the classes predicted by the model.\n",
            "It looks like you are passing a model with a scalar output and target is set to `None`.If your model is a regression model this will produce correct attributions. If your model is a classification model, targets for each datapoint must be defined. Not defining the target may lead to incorrect values for the attributions.Targets can be either the true classes or the classes predicted by the model.\n",
            "It looks like you are passing a model with a scalar output and target is set to `None`.If your model is a regression model this will produce correct attributions. If your model is a classification model, targets for each datapoint must be defined. Not defining the target may lead to incorrect values for the attributions.Targets can be either the true classes or the classes predicted by the model.\n",
            "It looks like you are passing a model with a scalar output and target is set to `None`.If your model is a regression model this will produce correct attributions. If your model is a classification model, targets for each datapoint must be defined. Not defining the target may lead to incorrect values for the attributions.Targets can be either the true classes or the classes predicted by the model.\n",
            "It looks like you are passing a model with a scalar output and target is set to `None`.If your model is a regression model this will produce correct attributions. If your model is a classification model, targets for each datapoint must be defined. Not defining the target may lead to incorrect values for the attributions.Targets can be either the true classes or the classes predicted by the model.\n",
            "It looks like you are passing a model with a scalar output and target is set to `None`.If your model is a regression model this will produce correct attributions. If your model is a classification model, targets for each datapoint must be defined. Not defining the target may lead to incorrect values for the attributions.Targets can be either the true classes or the classes predicted by the model.\n",
            "It looks like you are passing a model with a scalar output and target is set to `None`.If your model is a regression model this will produce correct attributions. If your model is a classification model, targets for each datapoint must be defined. Not defining the target may lead to incorrect values for the attributions.Targets can be either the true classes or the classes predicted by the model.\n",
            "It looks like you are passing a model with a scalar output and target is set to `None`.If your model is a regression model this will produce correct attributions. If your model is a classification model, targets for each datapoint must be defined. Not defining the target may lead to incorrect values for the attributions.Targets can be either the true classes or the classes predicted by the model.\n",
            "It looks like you are passing a model with a scalar output and target is set to `None`.If your model is a regression model this will produce correct attributions. If your model is a classification model, targets for each datapoint must be defined. Not defining the target may lead to incorrect values for the attributions.Targets can be either the true classes or the classes predicted by the model.\n",
            "It looks like you are passing a model with a scalar output and target is set to `None`.If your model is a regression model this will produce correct attributions. If your model is a classification model, targets for each datapoint must be defined. Not defining the target may lead to incorrect values for the attributions.Targets can be either the true classes or the classes predicted by the model.\n",
            "It looks like you are passing a model with a scalar output and target is set to `None`.If your model is a regression model this will produce correct attributions. If your model is a classification model, targets for each datapoint must be defined. Not defining the target may lead to incorrect values for the attributions.Targets can be either the true classes or the classes predicted by the model.\n",
            "It looks like you are passing a model with a scalar output and target is set to `None`.If your model is a regression model this will produce correct attributions. If your model is a classification model, targets for each datapoint must be defined. Not defining the target may lead to incorrect values for the attributions.Targets can be either the true classes or the classes predicted by the model.\n",
            "It looks like you are passing a model with a scalar output and target is set to `None`.If your model is a regression model this will produce correct attributions. If your model is a classification model, targets for each datapoint must be defined. Not defining the target may lead to incorrect values for the attributions.Targets can be either the true classes or the classes predicted by the model.\n",
            "It looks like you are passing a model with a scalar output and target is set to `None`.If your model is a regression model this will produce correct attributions. If your model is a classification model, targets for each datapoint must be defined. Not defining the target may lead to incorrect values for the attributions.Targets can be either the true classes or the classes predicted by the model.\n",
            "It looks like you are passing a model with a scalar output and target is set to `None`.If your model is a regression model this will produce correct attributions. If your model is a classification model, targets for each datapoint must be defined. Not defining the target may lead to incorrect values for the attributions.Targets can be either the true classes or the classes predicted by the model.\n",
            "It looks like you are passing a model with a scalar output and target is set to `None`.If your model is a regression model this will produce correct attributions. If your model is a classification model, targets for each datapoint must be defined. Not defining the target may lead to incorrect values for the attributions.Targets can be either the true classes or the classes predicted by the model.\n",
            "It looks like you are passing a model with a scalar output and target is set to `None`.If your model is a regression model this will produce correct attributions. If your model is a classification model, targets for each datapoint must be defined. Not defining the target may lead to incorrect values for the attributions.Targets can be either the true classes or the classes predicted by the model.\n",
            "It looks like you are passing a model with a scalar output and target is set to `None`.If your model is a regression model this will produce correct attributions. If your model is a classification model, targets for each datapoint must be defined. Not defining the target may lead to incorrect values for the attributions.Targets can be either the true classes or the classes predicted by the model.\n",
            "It looks like you are passing a model with a scalar output and target is set to `None`.If your model is a regression model this will produce correct attributions. If your model is a classification model, targets for each datapoint must be defined. Not defining the target may lead to incorrect values for the attributions.Targets can be either the true classes or the classes predicted by the model.\n",
            "It looks like you are passing a model with a scalar output and target is set to `None`.If your model is a regression model this will produce correct attributions. If your model is a classification model, targets for each datapoint must be defined. Not defining the target may lead to incorrect values for the attributions.Targets can be either the true classes or the classes predicted by the model.\n",
            "It looks like you are passing a model with a scalar output and target is set to `None`.If your model is a regression model this will produce correct attributions. If your model is a classification model, targets for each datapoint must be defined. Not defining the target may lead to incorrect values for the attributions.Targets can be either the true classes or the classes predicted by the model.\n",
            "It looks like you are passing a model with a scalar output and target is set to `None`.If your model is a regression model this will produce correct attributions. If your model is a classification model, targets for each datapoint must be defined. Not defining the target may lead to incorrect values for the attributions.Targets can be either the true classes or the classes predicted by the model.\n",
            "It looks like you are passing a model with a scalar output and target is set to `None`.If your model is a regression model this will produce correct attributions. If your model is a classification model, targets for each datapoint must be defined. Not defining the target may lead to incorrect values for the attributions.Targets can be either the true classes or the classes predicted by the model.\n",
            "It looks like you are passing a model with a scalar output and target is set to `None`.If your model is a regression model this will produce correct attributions. If your model is a classification model, targets for each datapoint must be defined. Not defining the target may lead to incorrect values for the attributions.Targets can be either the true classes or the classes predicted by the model.\n",
            "It looks like you are passing a model with a scalar output and target is set to `None`.If your model is a regression model this will produce correct attributions. If your model is a classification model, targets for each datapoint must be defined. Not defining the target may lead to incorrect values for the attributions.Targets can be either the true classes or the classes predicted by the model.\n",
            "It looks like you are passing a model with a scalar output and target is set to `None`.If your model is a regression model this will produce correct attributions. If your model is a classification model, targets for each datapoint must be defined. Not defining the target may lead to incorrect values for the attributions.Targets can be either the true classes or the classes predicted by the model.\n",
            "It looks like you are passing a model with a scalar output and target is set to `None`.If your model is a regression model this will produce correct attributions. If your model is a classification model, targets for each datapoint must be defined. Not defining the target may lead to incorrect values for the attributions.Targets can be either the true classes or the classes predicted by the model.\n",
            "It looks like you are passing a model with a scalar output and target is set to `None`.If your model is a regression model this will produce correct attributions. If your model is a classification model, targets for each datapoint must be defined. Not defining the target may lead to incorrect values for the attributions.Targets can be either the true classes or the classes predicted by the model.\n",
            "It looks like you are passing a model with a scalar output and target is set to `None`.If your model is a regression model this will produce correct attributions. If your model is a classification model, targets for each datapoint must be defined. Not defining the target may lead to incorrect values for the attributions.Targets can be either the true classes or the classes predicted by the model.\n",
            "It looks like you are passing a model with a scalar output and target is set to `None`.If your model is a regression model this will produce correct attributions. If your model is a classification model, targets for each datapoint must be defined. Not defining the target may lead to incorrect values for the attributions.Targets can be either the true classes or the classes predicted by the model.\n",
            "It looks like you are passing a model with a scalar output and target is set to `None`.If your model is a regression model this will produce correct attributions. If your model is a classification model, targets for each datapoint must be defined. Not defining the target may lead to incorrect values for the attributions.Targets can be either the true classes or the classes predicted by the model.\n",
            "It looks like you are passing a model with a scalar output and target is set to `None`.If your model is a regression model this will produce correct attributions. If your model is a classification model, targets for each datapoint must be defined. Not defining the target may lead to incorrect values for the attributions.Targets can be either the true classes or the classes predicted by the model.\n",
            "It looks like you are passing a model with a scalar output and target is set to `None`.If your model is a regression model this will produce correct attributions. If your model is a classification model, targets for each datapoint must be defined. Not defining the target may lead to incorrect values for the attributions.Targets can be either the true classes or the classes predicted by the model.\n",
            "It looks like you are passing a model with a scalar output and target is set to `None`.If your model is a regression model this will produce correct attributions. If your model is a classification model, targets for each datapoint must be defined. Not defining the target may lead to incorrect values for the attributions.Targets can be either the true classes or the classes predicted by the model.\n",
            "It looks like you are passing a model with a scalar output and target is set to `None`.If your model is a regression model this will produce correct attributions. If your model is a classification model, targets for each datapoint must be defined. Not defining the target may lead to incorrect values for the attributions.Targets can be either the true classes or the classes predicted by the model.\n",
            "It looks like you are passing a model with a scalar output and target is set to `None`.If your model is a regression model this will produce correct attributions. If your model is a classification model, targets for each datapoint must be defined. Not defining the target may lead to incorrect values for the attributions.Targets can be either the true classes or the classes predicted by the model.\n",
            "It looks like you are passing a model with a scalar output and target is set to `None`.If your model is a regression model this will produce correct attributions. If your model is a classification model, targets for each datapoint must be defined. Not defining the target may lead to incorrect values for the attributions.Targets can be either the true classes or the classes predicted by the model.\n",
            "It looks like you are passing a model with a scalar output and target is set to `None`.If your model is a regression model this will produce correct attributions. If your model is a classification model, targets for each datapoint must be defined. Not defining the target may lead to incorrect values for the attributions.Targets can be either the true classes or the classes predicted by the model.\n",
            "It looks like you are passing a model with a scalar output and target is set to `None`.If your model is a regression model this will produce correct attributions. If your model is a classification model, targets for each datapoint must be defined. Not defining the target may lead to incorrect values for the attributions.Targets can be either the true classes or the classes predicted by the model.\n",
            "It looks like you are passing a model with a scalar output and target is set to `None`.If your model is a regression model this will produce correct attributions. If your model is a classification model, targets for each datapoint must be defined. Not defining the target may lead to incorrect values for the attributions.Targets can be either the true classes or the classes predicted by the model.\n",
            "It looks like you are passing a model with a scalar output and target is set to `None`.If your model is a regression model this will produce correct attributions. If your model is a classification model, targets for each datapoint must be defined. Not defining the target may lead to incorrect values for the attributions.Targets can be either the true classes or the classes predicted by the model.\n",
            "It looks like you are passing a model with a scalar output and target is set to `None`.If your model is a regression model this will produce correct attributions. If your model is a classification model, targets for each datapoint must be defined. Not defining the target may lead to incorrect values for the attributions.Targets can be either the true classes or the classes predicted by the model.\n",
            "It looks like you are passing a model with a scalar output and target is set to `None`.If your model is a regression model this will produce correct attributions. If your model is a classification model, targets for each datapoint must be defined. Not defining the target may lead to incorrect values for the attributions.Targets can be either the true classes or the classes predicted by the model.\n",
            "It looks like you are passing a model with a scalar output and target is set to `None`.If your model is a regression model this will produce correct attributions. If your model is a classification model, targets for each datapoint must be defined. Not defining the target may lead to incorrect values for the attributions.Targets can be either the true classes or the classes predicted by the model.\n",
            "It looks like you are passing a model with a scalar output and target is set to `None`.If your model is a regression model this will produce correct attributions. If your model is a classification model, targets for each datapoint must be defined. Not defining the target may lead to incorrect values for the attributions.Targets can be either the true classes or the classes predicted by the model.\n",
            "It looks like you are passing a model with a scalar output and target is set to `None`.If your model is a regression model this will produce correct attributions. If your model is a classification model, targets for each datapoint must be defined. Not defining the target may lead to incorrect values for the attributions.Targets can be either the true classes or the classes predicted by the model.\n",
            "It looks like you are passing a model with a scalar output and target is set to `None`.If your model is a regression model this will produce correct attributions. If your model is a classification model, targets for each datapoint must be defined. Not defining the target may lead to incorrect values for the attributions.Targets can be either the true classes or the classes predicted by the model.\n",
            "It looks like you are passing a model with a scalar output and target is set to `None`.If your model is a regression model this will produce correct attributions. If your model is a classification model, targets for each datapoint must be defined. Not defining the target may lead to incorrect values for the attributions.Targets can be either the true classes or the classes predicted by the model.\n",
            "It looks like you are passing a model with a scalar output and target is set to `None`.If your model is a regression model this will produce correct attributions. If your model is a classification model, targets for each datapoint must be defined. Not defining the target may lead to incorrect values for the attributions.Targets can be either the true classes or the classes predicted by the model.\n",
            "It looks like you are passing a model with a scalar output and target is set to `None`.If your model is a regression model this will produce correct attributions. If your model is a classification model, targets for each datapoint must be defined. Not defining the target may lead to incorrect values for the attributions.Targets can be either the true classes or the classes predicted by the model.\n",
            "It looks like you are passing a model with a scalar output and target is set to `None`.If your model is a regression model this will produce correct attributions. If your model is a classification model, targets for each datapoint must be defined. Not defining the target may lead to incorrect values for the attributions.Targets can be either the true classes or the classes predicted by the model.\n",
            "It looks like you are passing a model with a scalar output and target is set to `None`.If your model is a regression model this will produce correct attributions. If your model is a classification model, targets for each datapoint must be defined. Not defining the target may lead to incorrect values for the attributions.Targets can be either the true classes or the classes predicted by the model.\n",
            "It looks like you are passing a model with a scalar output and target is set to `None`.If your model is a regression model this will produce correct attributions. If your model is a classification model, targets for each datapoint must be defined. Not defining the target may lead to incorrect values for the attributions.Targets can be either the true classes or the classes predicted by the model.\n",
            "It looks like you are passing a model with a scalar output and target is set to `None`.If your model is a regression model this will produce correct attributions. If your model is a classification model, targets for each datapoint must be defined. Not defining the target may lead to incorrect values for the attributions.Targets can be either the true classes or the classes predicted by the model.\n",
            "It looks like you are passing a model with a scalar output and target is set to `None`.If your model is a regression model this will produce correct attributions. If your model is a classification model, targets for each datapoint must be defined. Not defining the target may lead to incorrect values for the attributions.Targets can be either the true classes or the classes predicted by the model.\n",
            "It looks like you are passing a model with a scalar output and target is set to `None`.If your model is a regression model this will produce correct attributions. If your model is a classification model, targets for each datapoint must be defined. Not defining the target may lead to incorrect values for the attributions.Targets can be either the true classes or the classes predicted by the model.\n",
            "It looks like you are passing a model with a scalar output and target is set to `None`.If your model is a regression model this will produce correct attributions. If your model is a classification model, targets for each datapoint must be defined. Not defining the target may lead to incorrect values for the attributions.Targets can be either the true classes or the classes predicted by the model.\n",
            "It looks like you are passing a model with a scalar output and target is set to `None`.If your model is a regression model this will produce correct attributions. If your model is a classification model, targets for each datapoint must be defined. Not defining the target may lead to incorrect values for the attributions.Targets can be either the true classes or the classes predicted by the model.\n",
            "It looks like you are passing a model with a scalar output and target is set to `None`.If your model is a regression model this will produce correct attributions. If your model is a classification model, targets for each datapoint must be defined. Not defining the target may lead to incorrect values for the attributions.Targets can be either the true classes or the classes predicted by the model.\n",
            "It looks like you are passing a model with a scalar output and target is set to `None`.If your model is a regression model this will produce correct attributions. If your model is a classification model, targets for each datapoint must be defined. Not defining the target may lead to incorrect values for the attributions.Targets can be either the true classes or the classes predicted by the model.\n",
            "It looks like you are passing a model with a scalar output and target is set to `None`.If your model is a regression model this will produce correct attributions. If your model is a classification model, targets for each datapoint must be defined. Not defining the target may lead to incorrect values for the attributions.Targets can be either the true classes or the classes predicted by the model.\n",
            "It looks like you are passing a model with a scalar output and target is set to `None`.If your model is a regression model this will produce correct attributions. If your model is a classification model, targets for each datapoint must be defined. Not defining the target may lead to incorrect values for the attributions.Targets can be either the true classes or the classes predicted by the model.\n",
            "It looks like you are passing a model with a scalar output and target is set to `None`.If your model is a regression model this will produce correct attributions. If your model is a classification model, targets for each datapoint must be defined. Not defining the target may lead to incorrect values for the attributions.Targets can be either the true classes or the classes predicted by the model.\n",
            "It looks like you are passing a model with a scalar output and target is set to `None`.If your model is a regression model this will produce correct attributions. If your model is a classification model, targets for each datapoint must be defined. Not defining the target may lead to incorrect values for the attributions.Targets can be either the true classes or the classes predicted by the model.\n",
            "It looks like you are passing a model with a scalar output and target is set to `None`.If your model is a regression model this will produce correct attributions. If your model is a classification model, targets for each datapoint must be defined. Not defining the target may lead to incorrect values for the attributions.Targets can be either the true classes or the classes predicted by the model.\n",
            "It looks like you are passing a model with a scalar output and target is set to `None`.If your model is a regression model this will produce correct attributions. If your model is a classification model, targets for each datapoint must be defined. Not defining the target may lead to incorrect values for the attributions.Targets can be either the true classes or the classes predicted by the model.\n",
            "It looks like you are passing a model with a scalar output and target is set to `None`.If your model is a regression model this will produce correct attributions. If your model is a classification model, targets for each datapoint must be defined. Not defining the target may lead to incorrect values for the attributions.Targets can be either the true classes or the classes predicted by the model.\n",
            "It looks like you are passing a model with a scalar output and target is set to `None`.If your model is a regression model this will produce correct attributions. If your model is a classification model, targets for each datapoint must be defined. Not defining the target may lead to incorrect values for the attributions.Targets can be either the true classes or the classes predicted by the model.\n",
            "It looks like you are passing a model with a scalar output and target is set to `None`.If your model is a regression model this will produce correct attributions. If your model is a classification model, targets for each datapoint must be defined. Not defining the target may lead to incorrect values for the attributions.Targets can be either the true classes or the classes predicted by the model.\n",
            "It looks like you are passing a model with a scalar output and target is set to `None`.If your model is a regression model this will produce correct attributions. If your model is a classification model, targets for each datapoint must be defined. Not defining the target may lead to incorrect values for the attributions.Targets can be either the true classes or the classes predicted by the model.\n",
            "It looks like you are passing a model with a scalar output and target is set to `None`.If your model is a regression model this will produce correct attributions. If your model is a classification model, targets for each datapoint must be defined. Not defining the target may lead to incorrect values for the attributions.Targets can be either the true classes or the classes predicted by the model.\n",
            "It looks like you are passing a model with a scalar output and target is set to `None`.If your model is a regression model this will produce correct attributions. If your model is a classification model, targets for each datapoint must be defined. Not defining the target may lead to incorrect values for the attributions.Targets can be either the true classes or the classes predicted by the model.\n",
            "It looks like you are passing a model with a scalar output and target is set to `None`.If your model is a regression model this will produce correct attributions. If your model is a classification model, targets for each datapoint must be defined. Not defining the target may lead to incorrect values for the attributions.Targets can be either the true classes or the classes predicted by the model.\n",
            "It looks like you are passing a model with a scalar output and target is set to `None`.If your model is a regression model this will produce correct attributions. If your model is a classification model, targets for each datapoint must be defined. Not defining the target may lead to incorrect values for the attributions.Targets can be either the true classes or the classes predicted by the model.\n",
            "It looks like you are passing a model with a scalar output and target is set to `None`.If your model is a regression model this will produce correct attributions. If your model is a classification model, targets for each datapoint must be defined. Not defining the target may lead to incorrect values for the attributions.Targets can be either the true classes or the classes predicted by the model.\n",
            "It looks like you are passing a model with a scalar output and target is set to `None`.If your model is a regression model this will produce correct attributions. If your model is a classification model, targets for each datapoint must be defined. Not defining the target may lead to incorrect values for the attributions.Targets can be either the true classes or the classes predicted by the model.\n",
            "It looks like you are passing a model with a scalar output and target is set to `None`.If your model is a regression model this will produce correct attributions. If your model is a classification model, targets for each datapoint must be defined. Not defining the target may lead to incorrect values for the attributions.Targets can be either the true classes or the classes predicted by the model.\n",
            "It looks like you are passing a model with a scalar output and target is set to `None`.If your model is a regression model this will produce correct attributions. If your model is a classification model, targets for each datapoint must be defined. Not defining the target may lead to incorrect values for the attributions.Targets can be either the true classes or the classes predicted by the model.\n",
            "It looks like you are passing a model with a scalar output and target is set to `None`.If your model is a regression model this will produce correct attributions. If your model is a classification model, targets for each datapoint must be defined. Not defining the target may lead to incorrect values for the attributions.Targets can be either the true classes or the classes predicted by the model.\n",
            "It looks like you are passing a model with a scalar output and target is set to `None`.If your model is a regression model this will produce correct attributions. If your model is a classification model, targets for each datapoint must be defined. Not defining the target may lead to incorrect values for the attributions.Targets can be either the true classes or the classes predicted by the model.\n",
            "It looks like you are passing a model with a scalar output and target is set to `None`.If your model is a regression model this will produce correct attributions. If your model is a classification model, targets for each datapoint must be defined. Not defining the target may lead to incorrect values for the attributions.Targets can be either the true classes or the classes predicted by the model.\n",
            "It looks like you are passing a model with a scalar output and target is set to `None`.If your model is a regression model this will produce correct attributions. If your model is a classification model, targets for each datapoint must be defined. Not defining the target may lead to incorrect values for the attributions.Targets can be either the true classes or the classes predicted by the model.\n",
            "It looks like you are passing a model with a scalar output and target is set to `None`.If your model is a regression model this will produce correct attributions. If your model is a classification model, targets for each datapoint must be defined. Not defining the target may lead to incorrect values for the attributions.Targets can be either the true classes or the classes predicted by the model.\n",
            "It looks like you are passing a model with a scalar output and target is set to `None`.If your model is a regression model this will produce correct attributions. If your model is a classification model, targets for each datapoint must be defined. Not defining the target may lead to incorrect values for the attributions.Targets can be either the true classes or the classes predicted by the model.\n",
            "It looks like you are passing a model with a scalar output and target is set to `None`.If your model is a regression model this will produce correct attributions. If your model is a classification model, targets for each datapoint must be defined. Not defining the target may lead to incorrect values for the attributions.Targets can be either the true classes or the classes predicted by the model.\n",
            "It looks like you are passing a model with a scalar output and target is set to `None`.If your model is a regression model this will produce correct attributions. If your model is a classification model, targets for each datapoint must be defined. Not defining the target may lead to incorrect values for the attributions.Targets can be either the true classes or the classes predicted by the model.\n",
            "It looks like you are passing a model with a scalar output and target is set to `None`.If your model is a regression model this will produce correct attributions. If your model is a classification model, targets for each datapoint must be defined. Not defining the target may lead to incorrect values for the attributions.Targets can be either the true classes or the classes predicted by the model.\n",
            "It looks like you are passing a model with a scalar output and target is set to `None`.If your model is a regression model this will produce correct attributions. If your model is a classification model, targets for each datapoint must be defined. Not defining the target may lead to incorrect values for the attributions.Targets can be either the true classes or the classes predicted by the model.\n",
            "It looks like you are passing a model with a scalar output and target is set to `None`.If your model is a regression model this will produce correct attributions. If your model is a classification model, targets for each datapoint must be defined. Not defining the target may lead to incorrect values for the attributions.Targets can be either the true classes or the classes predicted by the model.\n",
            "It looks like you are passing a model with a scalar output and target is set to `None`.If your model is a regression model this will produce correct attributions. If your model is a classification model, targets for each datapoint must be defined. Not defining the target may lead to incorrect values for the attributions.Targets can be either the true classes or the classes predicted by the model.\n",
            "It looks like you are passing a model with a scalar output and target is set to `None`.If your model is a regression model this will produce correct attributions. If your model is a classification model, targets for each datapoint must be defined. Not defining the target may lead to incorrect values for the attributions.Targets can be either the true classes or the classes predicted by the model.\n"
          ],
          "name": "stderr"
        },
        {
          "output_type": "stream",
          "text": [
            "DONE\n"
          ],
          "name": "stdout"
        }
      ]
    },
    {
      "cell_type": "code",
      "metadata": {
        "colab": {
          "base_uri": "https://localhost:8080/"
        },
        "id": "VqNl4kB2oInW",
        "outputId": "aeeda136-857c-47cd-b75a-783800137f3f"
      },
      "source": [
        "gc.collect()"
      ],
      "execution_count": 40,
      "outputs": [
        {
          "output_type": "execute_result",
          "data": {
            "text/plain": [
              "0"
            ]
          },
          "metadata": {
            "tags": []
          },
          "execution_count": 40
        }
      ]
    },
    {
      "cell_type": "code",
      "metadata": {
        "colab": {
          "base_uri": "https://localhost:8080/"
        },
        "id": "fO-8KYl3IJLu",
        "outputId": "a9951cd0-f51e-47a8-e9c3-d566976b4af3"
      },
      "source": [
        "attr_type = 'false_beg'\r\n",
        "create_model_and_train(attr_type)\r\n",
        "\r\n",
        "gc.collect()\r\n",
        "\r\n",
        "attr_type = 'false_end'\r\n",
        "create_model_and_train(attr_type)"
      ],
      "execution_count": 41,
      "outputs": [
        {
          "output_type": "stream",
          "text": [
            "It looks like you are passing a model with a scalar output and target is set to `None`.If your model is a regression model this will produce correct attributions. If your model is a classification model, targets for each datapoint must be defined. Not defining the target may lead to incorrect values for the attributions.Targets can be either the true classes or the classes predicted by the model.\n",
            "It looks like you are passing a model with a scalar output and target is set to `None`.If your model is a regression model this will produce correct attributions. If your model is a classification model, targets for each datapoint must be defined. Not defining the target may lead to incorrect values for the attributions.Targets can be either the true classes or the classes predicted by the model.\n",
            "It looks like you are passing a model with a scalar output and target is set to `None`.If your model is a regression model this will produce correct attributions. If your model is a classification model, targets for each datapoint must be defined. Not defining the target may lead to incorrect values for the attributions.Targets can be either the true classes or the classes predicted by the model.\n",
            "It looks like you are passing a model with a scalar output and target is set to `None`.If your model is a regression model this will produce correct attributions. If your model is a classification model, targets for each datapoint must be defined. Not defining the target may lead to incorrect values for the attributions.Targets can be either the true classes or the classes predicted by the model.\n",
            "It looks like you are passing a model with a scalar output and target is set to `None`.If your model is a regression model this will produce correct attributions. If your model is a classification model, targets for each datapoint must be defined. Not defining the target may lead to incorrect values for the attributions.Targets can be either the true classes or the classes predicted by the model.\n",
            "It looks like you are passing a model with a scalar output and target is set to `None`.If your model is a regression model this will produce correct attributions. If your model is a classification model, targets for each datapoint must be defined. Not defining the target may lead to incorrect values for the attributions.Targets can be either the true classes or the classes predicted by the model.\n",
            "It looks like you are passing a model with a scalar output and target is set to `None`.If your model is a regression model this will produce correct attributions. If your model is a classification model, targets for each datapoint must be defined. Not defining the target may lead to incorrect values for the attributions.Targets can be either the true classes or the classes predicted by the model.\n",
            "It looks like you are passing a model with a scalar output and target is set to `None`.If your model is a regression model this will produce correct attributions. If your model is a classification model, targets for each datapoint must be defined. Not defining the target may lead to incorrect values for the attributions.Targets can be either the true classes or the classes predicted by the model.\n",
            "It looks like you are passing a model with a scalar output and target is set to `None`.If your model is a regression model this will produce correct attributions. If your model is a classification model, targets for each datapoint must be defined. Not defining the target may lead to incorrect values for the attributions.Targets can be either the true classes or the classes predicted by the model.\n",
            "It looks like you are passing a model with a scalar output and target is set to `None`.If your model is a regression model this will produce correct attributions. If your model is a classification model, targets for each datapoint must be defined. Not defining the target may lead to incorrect values for the attributions.Targets can be either the true classes or the classes predicted by the model.\n",
            "It looks like you are passing a model with a scalar output and target is set to `None`.If your model is a regression model this will produce correct attributions. If your model is a classification model, targets for each datapoint must be defined. Not defining the target may lead to incorrect values for the attributions.Targets can be either the true classes or the classes predicted by the model.\n",
            "It looks like you are passing a model with a scalar output and target is set to `None`.If your model is a regression model this will produce correct attributions. If your model is a classification model, targets for each datapoint must be defined. Not defining the target may lead to incorrect values for the attributions.Targets can be either the true classes or the classes predicted by the model.\n",
            "It looks like you are passing a model with a scalar output and target is set to `None`.If your model is a regression model this will produce correct attributions. If your model is a classification model, targets for each datapoint must be defined. Not defining the target may lead to incorrect values for the attributions.Targets can be either the true classes or the classes predicted by the model.\n",
            "It looks like you are passing a model with a scalar output and target is set to `None`.If your model is a regression model this will produce correct attributions. If your model is a classification model, targets for each datapoint must be defined. Not defining the target may lead to incorrect values for the attributions.Targets can be either the true classes or the classes predicted by the model.\n",
            "It looks like you are passing a model with a scalar output and target is set to `None`.If your model is a regression model this will produce correct attributions. If your model is a classification model, targets for each datapoint must be defined. Not defining the target may lead to incorrect values for the attributions.Targets can be either the true classes or the classes predicted by the model.\n",
            "It looks like you are passing a model with a scalar output and target is set to `None`.If your model is a regression model this will produce correct attributions. If your model is a classification model, targets for each datapoint must be defined. Not defining the target may lead to incorrect values for the attributions.Targets can be either the true classes or the classes predicted by the model.\n",
            "It looks like you are passing a model with a scalar output and target is set to `None`.If your model is a regression model this will produce correct attributions. If your model is a classification model, targets for each datapoint must be defined. Not defining the target may lead to incorrect values for the attributions.Targets can be either the true classes or the classes predicted by the model.\n",
            "It looks like you are passing a model with a scalar output and target is set to `None`.If your model is a regression model this will produce correct attributions. If your model is a classification model, targets for each datapoint must be defined. Not defining the target may lead to incorrect values for the attributions.Targets can be either the true classes or the classes predicted by the model.\n",
            "It looks like you are passing a model with a scalar output and target is set to `None`.If your model is a regression model this will produce correct attributions. If your model is a classification model, targets for each datapoint must be defined. Not defining the target may lead to incorrect values for the attributions.Targets can be either the true classes or the classes predicted by the model.\n",
            "It looks like you are passing a model with a scalar output and target is set to `None`.If your model is a regression model this will produce correct attributions. If your model is a classification model, targets for each datapoint must be defined. Not defining the target may lead to incorrect values for the attributions.Targets can be either the true classes or the classes predicted by the model.\n",
            "It looks like you are passing a model with a scalar output and target is set to `None`.If your model is a regression model this will produce correct attributions. If your model is a classification model, targets for each datapoint must be defined. Not defining the target may lead to incorrect values for the attributions.Targets can be either the true classes or the classes predicted by the model.\n",
            "It looks like you are passing a model with a scalar output and target is set to `None`.If your model is a regression model this will produce correct attributions. If your model is a classification model, targets for each datapoint must be defined. Not defining the target may lead to incorrect values for the attributions.Targets can be either the true classes or the classes predicted by the model.\n",
            "It looks like you are passing a model with a scalar output and target is set to `None`.If your model is a regression model this will produce correct attributions. If your model is a classification model, targets for each datapoint must be defined. Not defining the target may lead to incorrect values for the attributions.Targets can be either the true classes or the classes predicted by the model.\n",
            "It looks like you are passing a model with a scalar output and target is set to `None`.If your model is a regression model this will produce correct attributions. If your model is a classification model, targets for each datapoint must be defined. Not defining the target may lead to incorrect values for the attributions.Targets can be either the true classes or the classes predicted by the model.\n",
            "It looks like you are passing a model with a scalar output and target is set to `None`.If your model is a regression model this will produce correct attributions. If your model is a classification model, targets for each datapoint must be defined. Not defining the target may lead to incorrect values for the attributions.Targets can be either the true classes or the classes predicted by the model.\n",
            "It looks like you are passing a model with a scalar output and target is set to `None`.If your model is a regression model this will produce correct attributions. If your model is a classification model, targets for each datapoint must be defined. Not defining the target may lead to incorrect values for the attributions.Targets can be either the true classes or the classes predicted by the model.\n",
            "It looks like you are passing a model with a scalar output and target is set to `None`.If your model is a regression model this will produce correct attributions. If your model is a classification model, targets for each datapoint must be defined. Not defining the target may lead to incorrect values for the attributions.Targets can be either the true classes or the classes predicted by the model.\n",
            "It looks like you are passing a model with a scalar output and target is set to `None`.If your model is a regression model this will produce correct attributions. If your model is a classification model, targets for each datapoint must be defined. Not defining the target may lead to incorrect values for the attributions.Targets can be either the true classes or the classes predicted by the model.\n",
            "It looks like you are passing a model with a scalar output and target is set to `None`.If your model is a regression model this will produce correct attributions. If your model is a classification model, targets for each datapoint must be defined. Not defining the target may lead to incorrect values for the attributions.Targets can be either the true classes or the classes predicted by the model.\n",
            "It looks like you are passing a model with a scalar output and target is set to `None`.If your model is a regression model this will produce correct attributions. If your model is a classification model, targets for each datapoint must be defined. Not defining the target may lead to incorrect values for the attributions.Targets can be either the true classes or the classes predicted by the model.\n",
            "It looks like you are passing a model with a scalar output and target is set to `None`.If your model is a regression model this will produce correct attributions. If your model is a classification model, targets for each datapoint must be defined. Not defining the target may lead to incorrect values for the attributions.Targets can be either the true classes or the classes predicted by the model.\n",
            "It looks like you are passing a model with a scalar output and target is set to `None`.If your model is a regression model this will produce correct attributions. If your model is a classification model, targets for each datapoint must be defined. Not defining the target may lead to incorrect values for the attributions.Targets can be either the true classes or the classes predicted by the model.\n",
            "It looks like you are passing a model with a scalar output and target is set to `None`.If your model is a regression model this will produce correct attributions. If your model is a classification model, targets for each datapoint must be defined. Not defining the target may lead to incorrect values for the attributions.Targets can be either the true classes or the classes predicted by the model.\n",
            "It looks like you are passing a model with a scalar output and target is set to `None`.If your model is a regression model this will produce correct attributions. If your model is a classification model, targets for each datapoint must be defined. Not defining the target may lead to incorrect values for the attributions.Targets can be either the true classes or the classes predicted by the model.\n",
            "It looks like you are passing a model with a scalar output and target is set to `None`.If your model is a regression model this will produce correct attributions. If your model is a classification model, targets for each datapoint must be defined. Not defining the target may lead to incorrect values for the attributions.Targets can be either the true classes or the classes predicted by the model.\n",
            "It looks like you are passing a model with a scalar output and target is set to `None`.If your model is a regression model this will produce correct attributions. If your model is a classification model, targets for each datapoint must be defined. Not defining the target may lead to incorrect values for the attributions.Targets can be either the true classes or the classes predicted by the model.\n",
            "It looks like you are passing a model with a scalar output and target is set to `None`.If your model is a regression model this will produce correct attributions. If your model is a classification model, targets for each datapoint must be defined. Not defining the target may lead to incorrect values for the attributions.Targets can be either the true classes or the classes predicted by the model.\n",
            "It looks like you are passing a model with a scalar output and target is set to `None`.If your model is a regression model this will produce correct attributions. If your model is a classification model, targets for each datapoint must be defined. Not defining the target may lead to incorrect values for the attributions.Targets can be either the true classes or the classes predicted by the model.\n",
            "It looks like you are passing a model with a scalar output and target is set to `None`.If your model is a regression model this will produce correct attributions. If your model is a classification model, targets for each datapoint must be defined. Not defining the target may lead to incorrect values for the attributions.Targets can be either the true classes or the classes predicted by the model.\n",
            "It looks like you are passing a model with a scalar output and target is set to `None`.If your model is a regression model this will produce correct attributions. If your model is a classification model, targets for each datapoint must be defined. Not defining the target may lead to incorrect values for the attributions.Targets can be either the true classes or the classes predicted by the model.\n",
            "It looks like you are passing a model with a scalar output and target is set to `None`.If your model is a regression model this will produce correct attributions. If your model is a classification model, targets for each datapoint must be defined. Not defining the target may lead to incorrect values for the attributions.Targets can be either the true classes or the classes predicted by the model.\n",
            "It looks like you are passing a model with a scalar output and target is set to `None`.If your model is a regression model this will produce correct attributions. If your model is a classification model, targets for each datapoint must be defined. Not defining the target may lead to incorrect values for the attributions.Targets can be either the true classes or the classes predicted by the model.\n",
            "It looks like you are passing a model with a scalar output and target is set to `None`.If your model is a regression model this will produce correct attributions. If your model is a classification model, targets for each datapoint must be defined. Not defining the target may lead to incorrect values for the attributions.Targets can be either the true classes or the classes predicted by the model.\n",
            "It looks like you are passing a model with a scalar output and target is set to `None`.If your model is a regression model this will produce correct attributions. If your model is a classification model, targets for each datapoint must be defined. Not defining the target may lead to incorrect values for the attributions.Targets can be either the true classes or the classes predicted by the model.\n",
            "It looks like you are passing a model with a scalar output and target is set to `None`.If your model is a regression model this will produce correct attributions. If your model is a classification model, targets for each datapoint must be defined. Not defining the target may lead to incorrect values for the attributions.Targets can be either the true classes or the classes predicted by the model.\n",
            "It looks like you are passing a model with a scalar output and target is set to `None`.If your model is a regression model this will produce correct attributions. If your model is a classification model, targets for each datapoint must be defined. Not defining the target may lead to incorrect values for the attributions.Targets can be either the true classes or the classes predicted by the model.\n",
            "It looks like you are passing a model with a scalar output and target is set to `None`.If your model is a regression model this will produce correct attributions. If your model is a classification model, targets for each datapoint must be defined. Not defining the target may lead to incorrect values for the attributions.Targets can be either the true classes or the classes predicted by the model.\n",
            "It looks like you are passing a model with a scalar output and target is set to `None`.If your model is a regression model this will produce correct attributions. If your model is a classification model, targets for each datapoint must be defined. Not defining the target may lead to incorrect values for the attributions.Targets can be either the true classes or the classes predicted by the model.\n",
            "It looks like you are passing a model with a scalar output and target is set to `None`.If your model is a regression model this will produce correct attributions. If your model is a classification model, targets for each datapoint must be defined. Not defining the target may lead to incorrect values for the attributions.Targets can be either the true classes or the classes predicted by the model.\n",
            "It looks like you are passing a model with a scalar output and target is set to `None`.If your model is a regression model this will produce correct attributions. If your model is a classification model, targets for each datapoint must be defined. Not defining the target may lead to incorrect values for the attributions.Targets can be either the true classes or the classes predicted by the model.\n",
            "It looks like you are passing a model with a scalar output and target is set to `None`.If your model is a regression model this will produce correct attributions. If your model is a classification model, targets for each datapoint must be defined. Not defining the target may lead to incorrect values for the attributions.Targets can be either the true classes or the classes predicted by the model.\n",
            "It looks like you are passing a model with a scalar output and target is set to `None`.If your model is a regression model this will produce correct attributions. If your model is a classification model, targets for each datapoint must be defined. Not defining the target may lead to incorrect values for the attributions.Targets can be either the true classes or the classes predicted by the model.\n",
            "It looks like you are passing a model with a scalar output and target is set to `None`.If your model is a regression model this will produce correct attributions. If your model is a classification model, targets for each datapoint must be defined. Not defining the target may lead to incorrect values for the attributions.Targets can be either the true classes or the classes predicted by the model.\n",
            "It looks like you are passing a model with a scalar output and target is set to `None`.If your model is a regression model this will produce correct attributions. If your model is a classification model, targets for each datapoint must be defined. Not defining the target may lead to incorrect values for the attributions.Targets can be either the true classes or the classes predicted by the model.\n",
            "It looks like you are passing a model with a scalar output and target is set to `None`.If your model is a regression model this will produce correct attributions. If your model is a classification model, targets for each datapoint must be defined. Not defining the target may lead to incorrect values for the attributions.Targets can be either the true classes or the classes predicted by the model.\n",
            "It looks like you are passing a model with a scalar output and target is set to `None`.If your model is a regression model this will produce correct attributions. If your model is a classification model, targets for each datapoint must be defined. Not defining the target may lead to incorrect values for the attributions.Targets can be either the true classes or the classes predicted by the model.\n",
            "It looks like you are passing a model with a scalar output and target is set to `None`.If your model is a regression model this will produce correct attributions. If your model is a classification model, targets for each datapoint must be defined. Not defining the target may lead to incorrect values for the attributions.Targets can be either the true classes or the classes predicted by the model.\n",
            "It looks like you are passing a model with a scalar output and target is set to `None`.If your model is a regression model this will produce correct attributions. If your model is a classification model, targets for each datapoint must be defined. Not defining the target may lead to incorrect values for the attributions.Targets can be either the true classes or the classes predicted by the model.\n",
            "It looks like you are passing a model with a scalar output and target is set to `None`.If your model is a regression model this will produce correct attributions. If your model is a classification model, targets for each datapoint must be defined. Not defining the target may lead to incorrect values for the attributions.Targets can be either the true classes or the classes predicted by the model.\n",
            "It looks like you are passing a model with a scalar output and target is set to `None`.If your model is a regression model this will produce correct attributions. If your model is a classification model, targets for each datapoint must be defined. Not defining the target may lead to incorrect values for the attributions.Targets can be either the true classes or the classes predicted by the model.\n",
            "It looks like you are passing a model with a scalar output and target is set to `None`.If your model is a regression model this will produce correct attributions. If your model is a classification model, targets for each datapoint must be defined. Not defining the target may lead to incorrect values for the attributions.Targets can be either the true classes or the classes predicted by the model.\n",
            "It looks like you are passing a model with a scalar output and target is set to `None`.If your model is a regression model this will produce correct attributions. If your model is a classification model, targets for each datapoint must be defined. Not defining the target may lead to incorrect values for the attributions.Targets can be either the true classes or the classes predicted by the model.\n",
            "It looks like you are passing a model with a scalar output and target is set to `None`.If your model is a regression model this will produce correct attributions. If your model is a classification model, targets for each datapoint must be defined. Not defining the target may lead to incorrect values for the attributions.Targets can be either the true classes or the classes predicted by the model.\n",
            "It looks like you are passing a model with a scalar output and target is set to `None`.If your model is a regression model this will produce correct attributions. If your model is a classification model, targets for each datapoint must be defined. Not defining the target may lead to incorrect values for the attributions.Targets can be either the true classes or the classes predicted by the model.\n",
            "It looks like you are passing a model with a scalar output and target is set to `None`.If your model is a regression model this will produce correct attributions. If your model is a classification model, targets for each datapoint must be defined. Not defining the target may lead to incorrect values for the attributions.Targets can be either the true classes or the classes predicted by the model.\n",
            "It looks like you are passing a model with a scalar output and target is set to `None`.If your model is a regression model this will produce correct attributions. If your model is a classification model, targets for each datapoint must be defined. Not defining the target may lead to incorrect values for the attributions.Targets can be either the true classes or the classes predicted by the model.\n",
            "It looks like you are passing a model with a scalar output and target is set to `None`.If your model is a regression model this will produce correct attributions. If your model is a classification model, targets for each datapoint must be defined. Not defining the target may lead to incorrect values for the attributions.Targets can be either the true classes or the classes predicted by the model.\n",
            "It looks like you are passing a model with a scalar output and target is set to `None`.If your model is a regression model this will produce correct attributions. If your model is a classification model, targets for each datapoint must be defined. Not defining the target may lead to incorrect values for the attributions.Targets can be either the true classes or the classes predicted by the model.\n",
            "It looks like you are passing a model with a scalar output and target is set to `None`.If your model is a regression model this will produce correct attributions. If your model is a classification model, targets for each datapoint must be defined. Not defining the target may lead to incorrect values for the attributions.Targets can be either the true classes or the classes predicted by the model.\n",
            "It looks like you are passing a model with a scalar output and target is set to `None`.If your model is a regression model this will produce correct attributions. If your model is a classification model, targets for each datapoint must be defined. Not defining the target may lead to incorrect values for the attributions.Targets can be either the true classes or the classes predicted by the model.\n",
            "It looks like you are passing a model with a scalar output and target is set to `None`.If your model is a regression model this will produce correct attributions. If your model is a classification model, targets for each datapoint must be defined. Not defining the target may lead to incorrect values for the attributions.Targets can be either the true classes or the classes predicted by the model.\n",
            "It looks like you are passing a model with a scalar output and target is set to `None`.If your model is a regression model this will produce correct attributions. If your model is a classification model, targets for each datapoint must be defined. Not defining the target may lead to incorrect values for the attributions.Targets can be either the true classes or the classes predicted by the model.\n",
            "It looks like you are passing a model with a scalar output and target is set to `None`.If your model is a regression model this will produce correct attributions. If your model is a classification model, targets for each datapoint must be defined. Not defining the target may lead to incorrect values for the attributions.Targets can be either the true classes or the classes predicted by the model.\n",
            "It looks like you are passing a model with a scalar output and target is set to `None`.If your model is a regression model this will produce correct attributions. If your model is a classification model, targets for each datapoint must be defined. Not defining the target may lead to incorrect values for the attributions.Targets can be either the true classes or the classes predicted by the model.\n",
            "It looks like you are passing a model with a scalar output and target is set to `None`.If your model is a regression model this will produce correct attributions. If your model is a classification model, targets for each datapoint must be defined. Not defining the target may lead to incorrect values for the attributions.Targets can be either the true classes or the classes predicted by the model.\n",
            "It looks like you are passing a model with a scalar output and target is set to `None`.If your model is a regression model this will produce correct attributions. If your model is a classification model, targets for each datapoint must be defined. Not defining the target may lead to incorrect values for the attributions.Targets can be either the true classes or the classes predicted by the model.\n",
            "It looks like you are passing a model with a scalar output and target is set to `None`.If your model is a regression model this will produce correct attributions. If your model is a classification model, targets for each datapoint must be defined. Not defining the target may lead to incorrect values for the attributions.Targets can be either the true classes or the classes predicted by the model.\n",
            "It looks like you are passing a model with a scalar output and target is set to `None`.If your model is a regression model this will produce correct attributions. If your model is a classification model, targets for each datapoint must be defined. Not defining the target may lead to incorrect values for the attributions.Targets can be either the true classes or the classes predicted by the model.\n",
            "It looks like you are passing a model with a scalar output and target is set to `None`.If your model is a regression model this will produce correct attributions. If your model is a classification model, targets for each datapoint must be defined. Not defining the target may lead to incorrect values for the attributions.Targets can be either the true classes or the classes predicted by the model.\n",
            "It looks like you are passing a model with a scalar output and target is set to `None`.If your model is a regression model this will produce correct attributions. If your model is a classification model, targets for each datapoint must be defined. Not defining the target may lead to incorrect values for the attributions.Targets can be either the true classes or the classes predicted by the model.\n",
            "It looks like you are passing a model with a scalar output and target is set to `None`.If your model is a regression model this will produce correct attributions. If your model is a classification model, targets for each datapoint must be defined. Not defining the target may lead to incorrect values for the attributions.Targets can be either the true classes or the classes predicted by the model.\n",
            "It looks like you are passing a model with a scalar output and target is set to `None`.If your model is a regression model this will produce correct attributions. If your model is a classification model, targets for each datapoint must be defined. Not defining the target may lead to incorrect values for the attributions.Targets can be either the true classes or the classes predicted by the model.\n",
            "It looks like you are passing a model with a scalar output and target is set to `None`.If your model is a regression model this will produce correct attributions. If your model is a classification model, targets for each datapoint must be defined. Not defining the target may lead to incorrect values for the attributions.Targets can be either the true classes or the classes predicted by the model.\n",
            "It looks like you are passing a model with a scalar output and target is set to `None`.If your model is a regression model this will produce correct attributions. If your model is a classification model, targets for each datapoint must be defined. Not defining the target may lead to incorrect values for the attributions.Targets can be either the true classes or the classes predicted by the model.\n",
            "It looks like you are passing a model with a scalar output and target is set to `None`.If your model is a regression model this will produce correct attributions. If your model is a classification model, targets for each datapoint must be defined. Not defining the target may lead to incorrect values for the attributions.Targets can be either the true classes or the classes predicted by the model.\n",
            "It looks like you are passing a model with a scalar output and target is set to `None`.If your model is a regression model this will produce correct attributions. If your model is a classification model, targets for each datapoint must be defined. Not defining the target may lead to incorrect values for the attributions.Targets can be either the true classes or the classes predicted by the model.\n",
            "It looks like you are passing a model with a scalar output and target is set to `None`.If your model is a regression model this will produce correct attributions. If your model is a classification model, targets for each datapoint must be defined. Not defining the target may lead to incorrect values for the attributions.Targets can be either the true classes or the classes predicted by the model.\n",
            "It looks like you are passing a model with a scalar output and target is set to `None`.If your model is a regression model this will produce correct attributions. If your model is a classification model, targets for each datapoint must be defined. Not defining the target may lead to incorrect values for the attributions.Targets can be either the true classes or the classes predicted by the model.\n",
            "It looks like you are passing a model with a scalar output and target is set to `None`.If your model is a regression model this will produce correct attributions. If your model is a classification model, targets for each datapoint must be defined. Not defining the target may lead to incorrect values for the attributions.Targets can be either the true classes or the classes predicted by the model.\n",
            "It looks like you are passing a model with a scalar output and target is set to `None`.If your model is a regression model this will produce correct attributions. If your model is a classification model, targets for each datapoint must be defined. Not defining the target may lead to incorrect values for the attributions.Targets can be either the true classes or the classes predicted by the model.\n",
            "It looks like you are passing a model with a scalar output and target is set to `None`.If your model is a regression model this will produce correct attributions. If your model is a classification model, targets for each datapoint must be defined. Not defining the target may lead to incorrect values for the attributions.Targets can be either the true classes or the classes predicted by the model.\n",
            "It looks like you are passing a model with a scalar output and target is set to `None`.If your model is a regression model this will produce correct attributions. If your model is a classification model, targets for each datapoint must be defined. Not defining the target may lead to incorrect values for the attributions.Targets can be either the true classes or the classes predicted by the model.\n",
            "It looks like you are passing a model with a scalar output and target is set to `None`.If your model is a regression model this will produce correct attributions. If your model is a classification model, targets for each datapoint must be defined. Not defining the target may lead to incorrect values for the attributions.Targets can be either the true classes or the classes predicted by the model.\n",
            "It looks like you are passing a model with a scalar output and target is set to `None`.If your model is a regression model this will produce correct attributions. If your model is a classification model, targets for each datapoint must be defined. Not defining the target may lead to incorrect values for the attributions.Targets can be either the true classes or the classes predicted by the model.\n",
            "It looks like you are passing a model with a scalar output and target is set to `None`.If your model is a regression model this will produce correct attributions. If your model is a classification model, targets for each datapoint must be defined. Not defining the target may lead to incorrect values for the attributions.Targets can be either the true classes or the classes predicted by the model.\n",
            "It looks like you are passing a model with a scalar output and target is set to `None`.If your model is a regression model this will produce correct attributions. If your model is a classification model, targets for each datapoint must be defined. Not defining the target may lead to incorrect values for the attributions.Targets can be either the true classes or the classes predicted by the model.\n",
            "It looks like you are passing a model with a scalar output and target is set to `None`.If your model is a regression model this will produce correct attributions. If your model is a classification model, targets for each datapoint must be defined. Not defining the target may lead to incorrect values for the attributions.Targets can be either the true classes or the classes predicted by the model.\n",
            "It looks like you are passing a model with a scalar output and target is set to `None`.If your model is a regression model this will produce correct attributions. If your model is a classification model, targets for each datapoint must be defined. Not defining the target may lead to incorrect values for the attributions.Targets can be either the true classes or the classes predicted by the model.\n",
            "It looks like you are passing a model with a scalar output and target is set to `None`.If your model is a regression model this will produce correct attributions. If your model is a classification model, targets for each datapoint must be defined. Not defining the target may lead to incorrect values for the attributions.Targets can be either the true classes or the classes predicted by the model.\n",
            "It looks like you are passing a model with a scalar output and target is set to `None`.If your model is a regression model this will produce correct attributions. If your model is a classification model, targets for each datapoint must be defined. Not defining the target may lead to incorrect values for the attributions.Targets can be either the true classes or the classes predicted by the model.\n"
          ],
          "name": "stderr"
        },
        {
          "output_type": "stream",
          "text": [
            "DONE\n"
          ],
          "name": "stdout"
        },
        {
          "output_type": "stream",
          "text": [
            "It looks like you are passing a model with a scalar output and target is set to `None`.If your model is a regression model this will produce correct attributions. If your model is a classification model, targets for each datapoint must be defined. Not defining the target may lead to incorrect values for the attributions.Targets can be either the true classes or the classes predicted by the model.\n",
            "It looks like you are passing a model with a scalar output and target is set to `None`.If your model is a regression model this will produce correct attributions. If your model is a classification model, targets for each datapoint must be defined. Not defining the target may lead to incorrect values for the attributions.Targets can be either the true classes or the classes predicted by the model.\n",
            "It looks like you are passing a model with a scalar output and target is set to `None`.If your model is a regression model this will produce correct attributions. If your model is a classification model, targets for each datapoint must be defined. Not defining the target may lead to incorrect values for the attributions.Targets can be either the true classes or the classes predicted by the model.\n",
            "It looks like you are passing a model with a scalar output and target is set to `None`.If your model is a regression model this will produce correct attributions. If your model is a classification model, targets for each datapoint must be defined. Not defining the target may lead to incorrect values for the attributions.Targets can be either the true classes or the classes predicted by the model.\n",
            "It looks like you are passing a model with a scalar output and target is set to `None`.If your model is a regression model this will produce correct attributions. If your model is a classification model, targets for each datapoint must be defined. Not defining the target may lead to incorrect values for the attributions.Targets can be either the true classes or the classes predicted by the model.\n",
            "It looks like you are passing a model with a scalar output and target is set to `None`.If your model is a regression model this will produce correct attributions. If your model is a classification model, targets for each datapoint must be defined. Not defining the target may lead to incorrect values for the attributions.Targets can be either the true classes or the classes predicted by the model.\n",
            "It looks like you are passing a model with a scalar output and target is set to `None`.If your model is a regression model this will produce correct attributions. If your model is a classification model, targets for each datapoint must be defined. Not defining the target may lead to incorrect values for the attributions.Targets can be either the true classes or the classes predicted by the model.\n",
            "It looks like you are passing a model with a scalar output and target is set to `None`.If your model is a regression model this will produce correct attributions. If your model is a classification model, targets for each datapoint must be defined. Not defining the target may lead to incorrect values for the attributions.Targets can be either the true classes or the classes predicted by the model.\n",
            "It looks like you are passing a model with a scalar output and target is set to `None`.If your model is a regression model this will produce correct attributions. If your model is a classification model, targets for each datapoint must be defined. Not defining the target may lead to incorrect values for the attributions.Targets can be either the true classes or the classes predicted by the model.\n",
            "It looks like you are passing a model with a scalar output and target is set to `None`.If your model is a regression model this will produce correct attributions. If your model is a classification model, targets for each datapoint must be defined. Not defining the target may lead to incorrect values for the attributions.Targets can be either the true classes or the classes predicted by the model.\n",
            "It looks like you are passing a model with a scalar output and target is set to `None`.If your model is a regression model this will produce correct attributions. If your model is a classification model, targets for each datapoint must be defined. Not defining the target may lead to incorrect values for the attributions.Targets can be either the true classes or the classes predicted by the model.\n",
            "It looks like you are passing a model with a scalar output and target is set to `None`.If your model is a regression model this will produce correct attributions. If your model is a classification model, targets for each datapoint must be defined. Not defining the target may lead to incorrect values for the attributions.Targets can be either the true classes or the classes predicted by the model.\n",
            "It looks like you are passing a model with a scalar output and target is set to `None`.If your model is a regression model this will produce correct attributions. If your model is a classification model, targets for each datapoint must be defined. Not defining the target may lead to incorrect values for the attributions.Targets can be either the true classes or the classes predicted by the model.\n",
            "It looks like you are passing a model with a scalar output and target is set to `None`.If your model is a regression model this will produce correct attributions. If your model is a classification model, targets for each datapoint must be defined. Not defining the target may lead to incorrect values for the attributions.Targets can be either the true classes or the classes predicted by the model.\n",
            "It looks like you are passing a model with a scalar output and target is set to `None`.If your model is a regression model this will produce correct attributions. If your model is a classification model, targets for each datapoint must be defined. Not defining the target may lead to incorrect values for the attributions.Targets can be either the true classes or the classes predicted by the model.\n",
            "It looks like you are passing a model with a scalar output and target is set to `None`.If your model is a regression model this will produce correct attributions. If your model is a classification model, targets for each datapoint must be defined. Not defining the target may lead to incorrect values for the attributions.Targets can be either the true classes or the classes predicted by the model.\n",
            "It looks like you are passing a model with a scalar output and target is set to `None`.If your model is a regression model this will produce correct attributions. If your model is a classification model, targets for each datapoint must be defined. Not defining the target may lead to incorrect values for the attributions.Targets can be either the true classes or the classes predicted by the model.\n",
            "It looks like you are passing a model with a scalar output and target is set to `None`.If your model is a regression model this will produce correct attributions. If your model is a classification model, targets for each datapoint must be defined. Not defining the target may lead to incorrect values for the attributions.Targets can be either the true classes or the classes predicted by the model.\n",
            "It looks like you are passing a model with a scalar output and target is set to `None`.If your model is a regression model this will produce correct attributions. If your model is a classification model, targets for each datapoint must be defined. Not defining the target may lead to incorrect values for the attributions.Targets can be either the true classes or the classes predicted by the model.\n",
            "It looks like you are passing a model with a scalar output and target is set to `None`.If your model is a regression model this will produce correct attributions. If your model is a classification model, targets for each datapoint must be defined. Not defining the target may lead to incorrect values for the attributions.Targets can be either the true classes or the classes predicted by the model.\n",
            "It looks like you are passing a model with a scalar output and target is set to `None`.If your model is a regression model this will produce correct attributions. If your model is a classification model, targets for each datapoint must be defined. Not defining the target may lead to incorrect values for the attributions.Targets can be either the true classes or the classes predicted by the model.\n",
            "It looks like you are passing a model with a scalar output and target is set to `None`.If your model is a regression model this will produce correct attributions. If your model is a classification model, targets for each datapoint must be defined. Not defining the target may lead to incorrect values for the attributions.Targets can be either the true classes or the classes predicted by the model.\n",
            "It looks like you are passing a model with a scalar output and target is set to `None`.If your model is a regression model this will produce correct attributions. If your model is a classification model, targets for each datapoint must be defined. Not defining the target may lead to incorrect values for the attributions.Targets can be either the true classes or the classes predicted by the model.\n",
            "It looks like you are passing a model with a scalar output and target is set to `None`.If your model is a regression model this will produce correct attributions. If your model is a classification model, targets for each datapoint must be defined. Not defining the target may lead to incorrect values for the attributions.Targets can be either the true classes or the classes predicted by the model.\n",
            "It looks like you are passing a model with a scalar output and target is set to `None`.If your model is a regression model this will produce correct attributions. If your model is a classification model, targets for each datapoint must be defined. Not defining the target may lead to incorrect values for the attributions.Targets can be either the true classes or the classes predicted by the model.\n",
            "It looks like you are passing a model with a scalar output and target is set to `None`.If your model is a regression model this will produce correct attributions. If your model is a classification model, targets for each datapoint must be defined. Not defining the target may lead to incorrect values for the attributions.Targets can be either the true classes or the classes predicted by the model.\n",
            "It looks like you are passing a model with a scalar output and target is set to `None`.If your model is a regression model this will produce correct attributions. If your model is a classification model, targets for each datapoint must be defined. Not defining the target may lead to incorrect values for the attributions.Targets can be either the true classes or the classes predicted by the model.\n",
            "It looks like you are passing a model with a scalar output and target is set to `None`.If your model is a regression model this will produce correct attributions. If your model is a classification model, targets for each datapoint must be defined. Not defining the target may lead to incorrect values for the attributions.Targets can be either the true classes or the classes predicted by the model.\n",
            "It looks like you are passing a model with a scalar output and target is set to `None`.If your model is a regression model this will produce correct attributions. If your model is a classification model, targets for each datapoint must be defined. Not defining the target may lead to incorrect values for the attributions.Targets can be either the true classes or the classes predicted by the model.\n",
            "It looks like you are passing a model with a scalar output and target is set to `None`.If your model is a regression model this will produce correct attributions. If your model is a classification model, targets for each datapoint must be defined. Not defining the target may lead to incorrect values for the attributions.Targets can be either the true classes or the classes predicted by the model.\n",
            "It looks like you are passing a model with a scalar output and target is set to `None`.If your model is a regression model this will produce correct attributions. If your model is a classification model, targets for each datapoint must be defined. Not defining the target may lead to incorrect values for the attributions.Targets can be either the true classes or the classes predicted by the model.\n",
            "It looks like you are passing a model with a scalar output and target is set to `None`.If your model is a regression model this will produce correct attributions. If your model is a classification model, targets for each datapoint must be defined. Not defining the target may lead to incorrect values for the attributions.Targets can be either the true classes or the classes predicted by the model.\n",
            "It looks like you are passing a model with a scalar output and target is set to `None`.If your model is a regression model this will produce correct attributions. If your model is a classification model, targets for each datapoint must be defined. Not defining the target may lead to incorrect values for the attributions.Targets can be either the true classes or the classes predicted by the model.\n",
            "It looks like you are passing a model with a scalar output and target is set to `None`.If your model is a regression model this will produce correct attributions. If your model is a classification model, targets for each datapoint must be defined. Not defining the target may lead to incorrect values for the attributions.Targets can be either the true classes or the classes predicted by the model.\n",
            "It looks like you are passing a model with a scalar output and target is set to `None`.If your model is a regression model this will produce correct attributions. If your model is a classification model, targets for each datapoint must be defined. Not defining the target may lead to incorrect values for the attributions.Targets can be either the true classes or the classes predicted by the model.\n",
            "It looks like you are passing a model with a scalar output and target is set to `None`.If your model is a regression model this will produce correct attributions. If your model is a classification model, targets for each datapoint must be defined. Not defining the target may lead to incorrect values for the attributions.Targets can be either the true classes or the classes predicted by the model.\n",
            "It looks like you are passing a model with a scalar output and target is set to `None`.If your model is a regression model this will produce correct attributions. If your model is a classification model, targets for each datapoint must be defined. Not defining the target may lead to incorrect values for the attributions.Targets can be either the true classes or the classes predicted by the model.\n",
            "It looks like you are passing a model with a scalar output and target is set to `None`.If your model is a regression model this will produce correct attributions. If your model is a classification model, targets for each datapoint must be defined. Not defining the target may lead to incorrect values for the attributions.Targets can be either the true classes or the classes predicted by the model.\n",
            "It looks like you are passing a model with a scalar output and target is set to `None`.If your model is a regression model this will produce correct attributions. If your model is a classification model, targets for each datapoint must be defined. Not defining the target may lead to incorrect values for the attributions.Targets can be either the true classes or the classes predicted by the model.\n",
            "It looks like you are passing a model with a scalar output and target is set to `None`.If your model is a regression model this will produce correct attributions. If your model is a classification model, targets for each datapoint must be defined. Not defining the target may lead to incorrect values for the attributions.Targets can be either the true classes or the classes predicted by the model.\n",
            "It looks like you are passing a model with a scalar output and target is set to `None`.If your model is a regression model this will produce correct attributions. If your model is a classification model, targets for each datapoint must be defined. Not defining the target may lead to incorrect values for the attributions.Targets can be either the true classes or the classes predicted by the model.\n",
            "It looks like you are passing a model with a scalar output and target is set to `None`.If your model is a regression model this will produce correct attributions. If your model is a classification model, targets for each datapoint must be defined. Not defining the target may lead to incorrect values for the attributions.Targets can be either the true classes or the classes predicted by the model.\n",
            "It looks like you are passing a model with a scalar output and target is set to `None`.If your model is a regression model this will produce correct attributions. If your model is a classification model, targets for each datapoint must be defined. Not defining the target may lead to incorrect values for the attributions.Targets can be either the true classes or the classes predicted by the model.\n",
            "It looks like you are passing a model with a scalar output and target is set to `None`.If your model is a regression model this will produce correct attributions. If your model is a classification model, targets for each datapoint must be defined. Not defining the target may lead to incorrect values for the attributions.Targets can be either the true classes or the classes predicted by the model.\n",
            "It looks like you are passing a model with a scalar output and target is set to `None`.If your model is a regression model this will produce correct attributions. If your model is a classification model, targets for each datapoint must be defined. Not defining the target may lead to incorrect values for the attributions.Targets can be either the true classes or the classes predicted by the model.\n",
            "It looks like you are passing a model with a scalar output and target is set to `None`.If your model is a regression model this will produce correct attributions. If your model is a classification model, targets for each datapoint must be defined. Not defining the target may lead to incorrect values for the attributions.Targets can be either the true classes or the classes predicted by the model.\n",
            "It looks like you are passing a model with a scalar output and target is set to `None`.If your model is a regression model this will produce correct attributions. If your model is a classification model, targets for each datapoint must be defined. Not defining the target may lead to incorrect values for the attributions.Targets can be either the true classes or the classes predicted by the model.\n",
            "It looks like you are passing a model with a scalar output and target is set to `None`.If your model is a regression model this will produce correct attributions. If your model is a classification model, targets for each datapoint must be defined. Not defining the target may lead to incorrect values for the attributions.Targets can be either the true classes or the classes predicted by the model.\n",
            "It looks like you are passing a model with a scalar output and target is set to `None`.If your model is a regression model this will produce correct attributions. If your model is a classification model, targets for each datapoint must be defined. Not defining the target may lead to incorrect values for the attributions.Targets can be either the true classes or the classes predicted by the model.\n",
            "It looks like you are passing a model with a scalar output and target is set to `None`.If your model is a regression model this will produce correct attributions. If your model is a classification model, targets for each datapoint must be defined. Not defining the target may lead to incorrect values for the attributions.Targets can be either the true classes or the classes predicted by the model.\n",
            "It looks like you are passing a model with a scalar output and target is set to `None`.If your model is a regression model this will produce correct attributions. If your model is a classification model, targets for each datapoint must be defined. Not defining the target may lead to incorrect values for the attributions.Targets can be either the true classes or the classes predicted by the model.\n",
            "It looks like you are passing a model with a scalar output and target is set to `None`.If your model is a regression model this will produce correct attributions. If your model is a classification model, targets for each datapoint must be defined. Not defining the target may lead to incorrect values for the attributions.Targets can be either the true classes or the classes predicted by the model.\n",
            "It looks like you are passing a model with a scalar output and target is set to `None`.If your model is a regression model this will produce correct attributions. If your model is a classification model, targets for each datapoint must be defined. Not defining the target may lead to incorrect values for the attributions.Targets can be either the true classes or the classes predicted by the model.\n",
            "It looks like you are passing a model with a scalar output and target is set to `None`.If your model is a regression model this will produce correct attributions. If your model is a classification model, targets for each datapoint must be defined. Not defining the target may lead to incorrect values for the attributions.Targets can be either the true classes or the classes predicted by the model.\n",
            "It looks like you are passing a model with a scalar output and target is set to `None`.If your model is a regression model this will produce correct attributions. If your model is a classification model, targets for each datapoint must be defined. Not defining the target may lead to incorrect values for the attributions.Targets can be either the true classes or the classes predicted by the model.\n",
            "It looks like you are passing a model with a scalar output and target is set to `None`.If your model is a regression model this will produce correct attributions. If your model is a classification model, targets for each datapoint must be defined. Not defining the target may lead to incorrect values for the attributions.Targets can be either the true classes or the classes predicted by the model.\n",
            "It looks like you are passing a model with a scalar output and target is set to `None`.If your model is a regression model this will produce correct attributions. If your model is a classification model, targets for each datapoint must be defined. Not defining the target may lead to incorrect values for the attributions.Targets can be either the true classes or the classes predicted by the model.\n",
            "It looks like you are passing a model with a scalar output and target is set to `None`.If your model is a regression model this will produce correct attributions. If your model is a classification model, targets for each datapoint must be defined. Not defining the target may lead to incorrect values for the attributions.Targets can be either the true classes or the classes predicted by the model.\n",
            "It looks like you are passing a model with a scalar output and target is set to `None`.If your model is a regression model this will produce correct attributions. If your model is a classification model, targets for each datapoint must be defined. Not defining the target may lead to incorrect values for the attributions.Targets can be either the true classes or the classes predicted by the model.\n",
            "It looks like you are passing a model with a scalar output and target is set to `None`.If your model is a regression model this will produce correct attributions. If your model is a classification model, targets for each datapoint must be defined. Not defining the target may lead to incorrect values for the attributions.Targets can be either the true classes or the classes predicted by the model.\n",
            "It looks like you are passing a model with a scalar output and target is set to `None`.If your model is a regression model this will produce correct attributions. If your model is a classification model, targets for each datapoint must be defined. Not defining the target may lead to incorrect values for the attributions.Targets can be either the true classes or the classes predicted by the model.\n",
            "It looks like you are passing a model with a scalar output and target is set to `None`.If your model is a regression model this will produce correct attributions. If your model is a classification model, targets for each datapoint must be defined. Not defining the target may lead to incorrect values for the attributions.Targets can be either the true classes or the classes predicted by the model.\n",
            "It looks like you are passing a model with a scalar output and target is set to `None`.If your model is a regression model this will produce correct attributions. If your model is a classification model, targets for each datapoint must be defined. Not defining the target may lead to incorrect values for the attributions.Targets can be either the true classes or the classes predicted by the model.\n",
            "It looks like you are passing a model with a scalar output and target is set to `None`.If your model is a regression model this will produce correct attributions. If your model is a classification model, targets for each datapoint must be defined. Not defining the target may lead to incorrect values for the attributions.Targets can be either the true classes or the classes predicted by the model.\n",
            "It looks like you are passing a model with a scalar output and target is set to `None`.If your model is a regression model this will produce correct attributions. If your model is a classification model, targets for each datapoint must be defined. Not defining the target may lead to incorrect values for the attributions.Targets can be either the true classes or the classes predicted by the model.\n",
            "It looks like you are passing a model with a scalar output and target is set to `None`.If your model is a regression model this will produce correct attributions. If your model is a classification model, targets for each datapoint must be defined. Not defining the target may lead to incorrect values for the attributions.Targets can be either the true classes or the classes predicted by the model.\n",
            "It looks like you are passing a model with a scalar output and target is set to `None`.If your model is a regression model this will produce correct attributions. If your model is a classification model, targets for each datapoint must be defined. Not defining the target may lead to incorrect values for the attributions.Targets can be either the true classes or the classes predicted by the model.\n",
            "It looks like you are passing a model with a scalar output and target is set to `None`.If your model is a regression model this will produce correct attributions. If your model is a classification model, targets for each datapoint must be defined. Not defining the target may lead to incorrect values for the attributions.Targets can be either the true classes or the classes predicted by the model.\n",
            "It looks like you are passing a model with a scalar output and target is set to `None`.If your model is a regression model this will produce correct attributions. If your model is a classification model, targets for each datapoint must be defined. Not defining the target may lead to incorrect values for the attributions.Targets can be either the true classes or the classes predicted by the model.\n",
            "It looks like you are passing a model with a scalar output and target is set to `None`.If your model is a regression model this will produce correct attributions. If your model is a classification model, targets for each datapoint must be defined. Not defining the target may lead to incorrect values for the attributions.Targets can be either the true classes or the classes predicted by the model.\n",
            "It looks like you are passing a model with a scalar output and target is set to `None`.If your model is a regression model this will produce correct attributions. If your model is a classification model, targets for each datapoint must be defined. Not defining the target may lead to incorrect values for the attributions.Targets can be either the true classes or the classes predicted by the model.\n",
            "It looks like you are passing a model with a scalar output and target is set to `None`.If your model is a regression model this will produce correct attributions. If your model is a classification model, targets for each datapoint must be defined. Not defining the target may lead to incorrect values for the attributions.Targets can be either the true classes or the classes predicted by the model.\n",
            "It looks like you are passing a model with a scalar output and target is set to `None`.If your model is a regression model this will produce correct attributions. If your model is a classification model, targets for each datapoint must be defined. Not defining the target may lead to incorrect values for the attributions.Targets can be either the true classes or the classes predicted by the model.\n",
            "It looks like you are passing a model with a scalar output and target is set to `None`.If your model is a regression model this will produce correct attributions. If your model is a classification model, targets for each datapoint must be defined. Not defining the target may lead to incorrect values for the attributions.Targets can be either the true classes or the classes predicted by the model.\n",
            "It looks like you are passing a model with a scalar output and target is set to `None`.If your model is a regression model this will produce correct attributions. If your model is a classification model, targets for each datapoint must be defined. Not defining the target may lead to incorrect values for the attributions.Targets can be either the true classes or the classes predicted by the model.\n",
            "It looks like you are passing a model with a scalar output and target is set to `None`.If your model is a regression model this will produce correct attributions. If your model is a classification model, targets for each datapoint must be defined. Not defining the target may lead to incorrect values for the attributions.Targets can be either the true classes or the classes predicted by the model.\n",
            "It looks like you are passing a model with a scalar output and target is set to `None`.If your model is a regression model this will produce correct attributions. If your model is a classification model, targets for each datapoint must be defined. Not defining the target may lead to incorrect values for the attributions.Targets can be either the true classes or the classes predicted by the model.\n",
            "It looks like you are passing a model with a scalar output and target is set to `None`.If your model is a regression model this will produce correct attributions. If your model is a classification model, targets for each datapoint must be defined. Not defining the target may lead to incorrect values for the attributions.Targets can be either the true classes or the classes predicted by the model.\n",
            "It looks like you are passing a model with a scalar output and target is set to `None`.If your model is a regression model this will produce correct attributions. If your model is a classification model, targets for each datapoint must be defined. Not defining the target may lead to incorrect values for the attributions.Targets can be either the true classes or the classes predicted by the model.\n",
            "It looks like you are passing a model with a scalar output and target is set to `None`.If your model is a regression model this will produce correct attributions. If your model is a classification model, targets for each datapoint must be defined. Not defining the target may lead to incorrect values for the attributions.Targets can be either the true classes or the classes predicted by the model.\n",
            "It looks like you are passing a model with a scalar output and target is set to `None`.If your model is a regression model this will produce correct attributions. If your model is a classification model, targets for each datapoint must be defined. Not defining the target may lead to incorrect values for the attributions.Targets can be either the true classes or the classes predicted by the model.\n",
            "It looks like you are passing a model with a scalar output and target is set to `None`.If your model is a regression model this will produce correct attributions. If your model is a classification model, targets for each datapoint must be defined. Not defining the target may lead to incorrect values for the attributions.Targets can be either the true classes or the classes predicted by the model.\n",
            "It looks like you are passing a model with a scalar output and target is set to `None`.If your model is a regression model this will produce correct attributions. If your model is a classification model, targets for each datapoint must be defined. Not defining the target may lead to incorrect values for the attributions.Targets can be either the true classes or the classes predicted by the model.\n",
            "It looks like you are passing a model with a scalar output and target is set to `None`.If your model is a regression model this will produce correct attributions. If your model is a classification model, targets for each datapoint must be defined. Not defining the target may lead to incorrect values for the attributions.Targets can be either the true classes or the classes predicted by the model.\n",
            "It looks like you are passing a model with a scalar output and target is set to `None`.If your model is a regression model this will produce correct attributions. If your model is a classification model, targets for each datapoint must be defined. Not defining the target may lead to incorrect values for the attributions.Targets can be either the true classes or the classes predicted by the model.\n",
            "It looks like you are passing a model with a scalar output and target is set to `None`.If your model is a regression model this will produce correct attributions. If your model is a classification model, targets for each datapoint must be defined. Not defining the target may lead to incorrect values for the attributions.Targets can be either the true classes or the classes predicted by the model.\n",
            "It looks like you are passing a model with a scalar output and target is set to `None`.If your model is a regression model this will produce correct attributions. If your model is a classification model, targets for each datapoint must be defined. Not defining the target may lead to incorrect values for the attributions.Targets can be either the true classes or the classes predicted by the model.\n",
            "It looks like you are passing a model with a scalar output and target is set to `None`.If your model is a regression model this will produce correct attributions. If your model is a classification model, targets for each datapoint must be defined. Not defining the target may lead to incorrect values for the attributions.Targets can be either the true classes or the classes predicted by the model.\n",
            "It looks like you are passing a model with a scalar output and target is set to `None`.If your model is a regression model this will produce correct attributions. If your model is a classification model, targets for each datapoint must be defined. Not defining the target may lead to incorrect values for the attributions.Targets can be either the true classes or the classes predicted by the model.\n",
            "It looks like you are passing a model with a scalar output and target is set to `None`.If your model is a regression model this will produce correct attributions. If your model is a classification model, targets for each datapoint must be defined. Not defining the target may lead to incorrect values for the attributions.Targets can be either the true classes or the classes predicted by the model.\n",
            "It looks like you are passing a model with a scalar output and target is set to `None`.If your model is a regression model this will produce correct attributions. If your model is a classification model, targets for each datapoint must be defined. Not defining the target may lead to incorrect values for the attributions.Targets can be either the true classes or the classes predicted by the model.\n",
            "It looks like you are passing a model with a scalar output and target is set to `None`.If your model is a regression model this will produce correct attributions. If your model is a classification model, targets for each datapoint must be defined. Not defining the target may lead to incorrect values for the attributions.Targets can be either the true classes or the classes predicted by the model.\n",
            "It looks like you are passing a model with a scalar output and target is set to `None`.If your model is a regression model this will produce correct attributions. If your model is a classification model, targets for each datapoint must be defined. Not defining the target may lead to incorrect values for the attributions.Targets can be either the true classes or the classes predicted by the model.\n",
            "It looks like you are passing a model with a scalar output and target is set to `None`.If your model is a regression model this will produce correct attributions. If your model is a classification model, targets for each datapoint must be defined. Not defining the target may lead to incorrect values for the attributions.Targets can be either the true classes or the classes predicted by the model.\n",
            "It looks like you are passing a model with a scalar output and target is set to `None`.If your model is a regression model this will produce correct attributions. If your model is a classification model, targets for each datapoint must be defined. Not defining the target may lead to incorrect values for the attributions.Targets can be either the true classes or the classes predicted by the model.\n",
            "It looks like you are passing a model with a scalar output and target is set to `None`.If your model is a regression model this will produce correct attributions. If your model is a classification model, targets for each datapoint must be defined. Not defining the target may lead to incorrect values for the attributions.Targets can be either the true classes or the classes predicted by the model.\n",
            "It looks like you are passing a model with a scalar output and target is set to `None`.If your model is a regression model this will produce correct attributions. If your model is a classification model, targets for each datapoint must be defined. Not defining the target may lead to incorrect values for the attributions.Targets can be either the true classes or the classes predicted by the model.\n",
            "It looks like you are passing a model with a scalar output and target is set to `None`.If your model is a regression model this will produce correct attributions. If your model is a classification model, targets for each datapoint must be defined. Not defining the target may lead to incorrect values for the attributions.Targets can be either the true classes or the classes predicted by the model.\n",
            "It looks like you are passing a model with a scalar output and target is set to `None`.If your model is a regression model this will produce correct attributions. If your model is a classification model, targets for each datapoint must be defined. Not defining the target may lead to incorrect values for the attributions.Targets can be either the true classes or the classes predicted by the model.\n",
            "It looks like you are passing a model with a scalar output and target is set to `None`.If your model is a regression model this will produce correct attributions. If your model is a classification model, targets for each datapoint must be defined. Not defining the target may lead to incorrect values for the attributions.Targets can be either the true classes or the classes predicted by the model.\n"
          ],
          "name": "stderr"
        },
        {
          "output_type": "stream",
          "text": [
            "DONE\n"
          ],
          "name": "stdout"
        }
      ]
    },
    {
      "cell_type": "code",
      "metadata": {
        "colab": {
          "base_uri": "https://localhost:8080/"
        },
        "id": "SywuuPP1ocZl",
        "outputId": "7d4929ce-7395-4ab7-b5e1-c3329bc2f901"
      },
      "source": [
        "gc.collect()"
      ],
      "execution_count": 42,
      "outputs": [
        {
          "output_type": "execute_result",
          "data": {
            "text/plain": [
              "0"
            ]
          },
          "metadata": {
            "tags": []
          },
          "execution_count": 42
        }
      ]
    },
    {
      "cell_type": "code",
      "metadata": {
        "colab": {
          "base_uri": "https://localhost:8080/"
        },
        "id": "bfBjMiXHQU4S",
        "outputId": "984d1733-c485-42f1-97b6-09d60a63ede5"
      },
      "source": [
        "attr_type = 'normal'\r\n",
        "create_model_and_train(attr_type)"
      ],
      "execution_count": 25,
      "outputs": [
        {
          "output_type": "stream",
          "text": [
            "It looks like you are passing a model with a scalar output and target is set to `None`.If your model is a regression model this will produce correct attributions. If your model is a classification model, targets for each datapoint must be defined. Not defining the target may lead to incorrect values for the attributions.Targets can be either the true classes or the classes predicted by the model.\n",
            "It looks like you are passing a model with a scalar output and target is set to `None`.If your model is a regression model this will produce correct attributions. If your model is a classification model, targets for each datapoint must be defined. Not defining the target may lead to incorrect values for the attributions.Targets can be either the true classes or the classes predicted by the model.\n",
            "It looks like you are passing a model with a scalar output and target is set to `None`.If your model is a regression model this will produce correct attributions. If your model is a classification model, targets for each datapoint must be defined. Not defining the target may lead to incorrect values for the attributions.Targets can be either the true classes or the classes predicted by the model.\n",
            "It looks like you are passing a model with a scalar output and target is set to `None`.If your model is a regression model this will produce correct attributions. If your model is a classification model, targets for each datapoint must be defined. Not defining the target may lead to incorrect values for the attributions.Targets can be either the true classes or the classes predicted by the model.\n",
            "It looks like you are passing a model with a scalar output and target is set to `None`.If your model is a regression model this will produce correct attributions. If your model is a classification model, targets for each datapoint must be defined. Not defining the target may lead to incorrect values for the attributions.Targets can be either the true classes or the classes predicted by the model.\n",
            "It looks like you are passing a model with a scalar output and target is set to `None`.If your model is a regression model this will produce correct attributions. If your model is a classification model, targets for each datapoint must be defined. Not defining the target may lead to incorrect values for the attributions.Targets can be either the true classes or the classes predicted by the model.\n",
            "It looks like you are passing a model with a scalar output and target is set to `None`.If your model is a regression model this will produce correct attributions. If your model is a classification model, targets for each datapoint must be defined. Not defining the target may lead to incorrect values for the attributions.Targets can be either the true classes or the classes predicted by the model.\n",
            "It looks like you are passing a model with a scalar output and target is set to `None`.If your model is a regression model this will produce correct attributions. If your model is a classification model, targets for each datapoint must be defined. Not defining the target may lead to incorrect values for the attributions.Targets can be either the true classes or the classes predicted by the model.\n",
            "It looks like you are passing a model with a scalar output and target is set to `None`.If your model is a regression model this will produce correct attributions. If your model is a classification model, targets for each datapoint must be defined. Not defining the target may lead to incorrect values for the attributions.Targets can be either the true classes or the classes predicted by the model.\n",
            "It looks like you are passing a model with a scalar output and target is set to `None`.If your model is a regression model this will produce correct attributions. If your model is a classification model, targets for each datapoint must be defined. Not defining the target may lead to incorrect values for the attributions.Targets can be either the true classes or the classes predicted by the model.\n",
            "It looks like you are passing a model with a scalar output and target is set to `None`.If your model is a regression model this will produce correct attributions. If your model is a classification model, targets for each datapoint must be defined. Not defining the target may lead to incorrect values for the attributions.Targets can be either the true classes or the classes predicted by the model.\n",
            "It looks like you are passing a model with a scalar output and target is set to `None`.If your model is a regression model this will produce correct attributions. If your model is a classification model, targets for each datapoint must be defined. Not defining the target may lead to incorrect values for the attributions.Targets can be either the true classes or the classes predicted by the model.\n",
            "It looks like you are passing a model with a scalar output and target is set to `None`.If your model is a regression model this will produce correct attributions. If your model is a classification model, targets for each datapoint must be defined. Not defining the target may lead to incorrect values for the attributions.Targets can be either the true classes or the classes predicted by the model.\n",
            "It looks like you are passing a model with a scalar output and target is set to `None`.If your model is a regression model this will produce correct attributions. If your model is a classification model, targets for each datapoint must be defined. Not defining the target may lead to incorrect values for the attributions.Targets can be either the true classes or the classes predicted by the model.\n",
            "It looks like you are passing a model with a scalar output and target is set to `None`.If your model is a regression model this will produce correct attributions. If your model is a classification model, targets for each datapoint must be defined. Not defining the target may lead to incorrect values for the attributions.Targets can be either the true classes or the classes predicted by the model.\n",
            "It looks like you are passing a model with a scalar output and target is set to `None`.If your model is a regression model this will produce correct attributions. If your model is a classification model, targets for each datapoint must be defined. Not defining the target may lead to incorrect values for the attributions.Targets can be either the true classes or the classes predicted by the model.\n",
            "It looks like you are passing a model with a scalar output and target is set to `None`.If your model is a regression model this will produce correct attributions. If your model is a classification model, targets for each datapoint must be defined. Not defining the target may lead to incorrect values for the attributions.Targets can be either the true classes or the classes predicted by the model.\n",
            "It looks like you are passing a model with a scalar output and target is set to `None`.If your model is a regression model this will produce correct attributions. If your model is a classification model, targets for each datapoint must be defined. Not defining the target may lead to incorrect values for the attributions.Targets can be either the true classes or the classes predicted by the model.\n",
            "It looks like you are passing a model with a scalar output and target is set to `None`.If your model is a regression model this will produce correct attributions. If your model is a classification model, targets for each datapoint must be defined. Not defining the target may lead to incorrect values for the attributions.Targets can be either the true classes or the classes predicted by the model.\n",
            "It looks like you are passing a model with a scalar output and target is set to `None`.If your model is a regression model this will produce correct attributions. If your model is a classification model, targets for each datapoint must be defined. Not defining the target may lead to incorrect values for the attributions.Targets can be either the true classes or the classes predicted by the model.\n",
            "It looks like you are passing a model with a scalar output and target is set to `None`.If your model is a regression model this will produce correct attributions. If your model is a classification model, targets for each datapoint must be defined. Not defining the target may lead to incorrect values for the attributions.Targets can be either the true classes or the classes predicted by the model.\n",
            "It looks like you are passing a model with a scalar output and target is set to `None`.If your model is a regression model this will produce correct attributions. If your model is a classification model, targets for each datapoint must be defined. Not defining the target may lead to incorrect values for the attributions.Targets can be either the true classes or the classes predicted by the model.\n",
            "It looks like you are passing a model with a scalar output and target is set to `None`.If your model is a regression model this will produce correct attributions. If your model is a classification model, targets for each datapoint must be defined. Not defining the target may lead to incorrect values for the attributions.Targets can be either the true classes or the classes predicted by the model.\n",
            "It looks like you are passing a model with a scalar output and target is set to `None`.If your model is a regression model this will produce correct attributions. If your model is a classification model, targets for each datapoint must be defined. Not defining the target may lead to incorrect values for the attributions.Targets can be either the true classes or the classes predicted by the model.\n",
            "It looks like you are passing a model with a scalar output and target is set to `None`.If your model is a regression model this will produce correct attributions. If your model is a classification model, targets for each datapoint must be defined. Not defining the target may lead to incorrect values for the attributions.Targets can be either the true classes or the classes predicted by the model.\n",
            "It looks like you are passing a model with a scalar output and target is set to `None`.If your model is a regression model this will produce correct attributions. If your model is a classification model, targets for each datapoint must be defined. Not defining the target may lead to incorrect values for the attributions.Targets can be either the true classes or the classes predicted by the model.\n",
            "It looks like you are passing a model with a scalar output and target is set to `None`.If your model is a regression model this will produce correct attributions. If your model is a classification model, targets for each datapoint must be defined. Not defining the target may lead to incorrect values for the attributions.Targets can be either the true classes or the classes predicted by the model.\n",
            "It looks like you are passing a model with a scalar output and target is set to `None`.If your model is a regression model this will produce correct attributions. If your model is a classification model, targets for each datapoint must be defined. Not defining the target may lead to incorrect values for the attributions.Targets can be either the true classes or the classes predicted by the model.\n",
            "It looks like you are passing a model with a scalar output and target is set to `None`.If your model is a regression model this will produce correct attributions. If your model is a classification model, targets for each datapoint must be defined. Not defining the target may lead to incorrect values for the attributions.Targets can be either the true classes or the classes predicted by the model.\n",
            "It looks like you are passing a model with a scalar output and target is set to `None`.If your model is a regression model this will produce correct attributions. If your model is a classification model, targets for each datapoint must be defined. Not defining the target may lead to incorrect values for the attributions.Targets can be either the true classes or the classes predicted by the model.\n",
            "It looks like you are passing a model with a scalar output and target is set to `None`.If your model is a regression model this will produce correct attributions. If your model is a classification model, targets for each datapoint must be defined. Not defining the target may lead to incorrect values for the attributions.Targets can be either the true classes or the classes predicted by the model.\n",
            "It looks like you are passing a model with a scalar output and target is set to `None`.If your model is a regression model this will produce correct attributions. If your model is a classification model, targets for each datapoint must be defined. Not defining the target may lead to incorrect values for the attributions.Targets can be either the true classes or the classes predicted by the model.\n",
            "It looks like you are passing a model with a scalar output and target is set to `None`.If your model is a regression model this will produce correct attributions. If your model is a classification model, targets for each datapoint must be defined. Not defining the target may lead to incorrect values for the attributions.Targets can be either the true classes or the classes predicted by the model.\n",
            "It looks like you are passing a model with a scalar output and target is set to `None`.If your model is a regression model this will produce correct attributions. If your model is a classification model, targets for each datapoint must be defined. Not defining the target may lead to incorrect values for the attributions.Targets can be either the true classes or the classes predicted by the model.\n",
            "It looks like you are passing a model with a scalar output and target is set to `None`.If your model is a regression model this will produce correct attributions. If your model is a classification model, targets for each datapoint must be defined. Not defining the target may lead to incorrect values for the attributions.Targets can be either the true classes or the classes predicted by the model.\n",
            "It looks like you are passing a model with a scalar output and target is set to `None`.If your model is a regression model this will produce correct attributions. If your model is a classification model, targets for each datapoint must be defined. Not defining the target may lead to incorrect values for the attributions.Targets can be either the true classes or the classes predicted by the model.\n",
            "It looks like you are passing a model with a scalar output and target is set to `None`.If your model is a regression model this will produce correct attributions. If your model is a classification model, targets for each datapoint must be defined. Not defining the target may lead to incorrect values for the attributions.Targets can be either the true classes or the classes predicted by the model.\n",
            "It looks like you are passing a model with a scalar output and target is set to `None`.If your model is a regression model this will produce correct attributions. If your model is a classification model, targets for each datapoint must be defined. Not defining the target may lead to incorrect values for the attributions.Targets can be either the true classes or the classes predicted by the model.\n",
            "It looks like you are passing a model with a scalar output and target is set to `None`.If your model is a regression model this will produce correct attributions. If your model is a classification model, targets for each datapoint must be defined. Not defining the target may lead to incorrect values for the attributions.Targets can be either the true classes or the classes predicted by the model.\n",
            "It looks like you are passing a model with a scalar output and target is set to `None`.If your model is a regression model this will produce correct attributions. If your model is a classification model, targets for each datapoint must be defined. Not defining the target may lead to incorrect values for the attributions.Targets can be either the true classes or the classes predicted by the model.\n",
            "It looks like you are passing a model with a scalar output and target is set to `None`.If your model is a regression model this will produce correct attributions. If your model is a classification model, targets for each datapoint must be defined. Not defining the target may lead to incorrect values for the attributions.Targets can be either the true classes or the classes predicted by the model.\n",
            "It looks like you are passing a model with a scalar output and target is set to `None`.If your model is a regression model this will produce correct attributions. If your model is a classification model, targets for each datapoint must be defined. Not defining the target may lead to incorrect values for the attributions.Targets can be either the true classes or the classes predicted by the model.\n",
            "It looks like you are passing a model with a scalar output and target is set to `None`.If your model is a regression model this will produce correct attributions. If your model is a classification model, targets for each datapoint must be defined. Not defining the target may lead to incorrect values for the attributions.Targets can be either the true classes or the classes predicted by the model.\n",
            "It looks like you are passing a model with a scalar output and target is set to `None`.If your model is a regression model this will produce correct attributions. If your model is a classification model, targets for each datapoint must be defined. Not defining the target may lead to incorrect values for the attributions.Targets can be either the true classes or the classes predicted by the model.\n",
            "It looks like you are passing a model with a scalar output and target is set to `None`.If your model is a regression model this will produce correct attributions. If your model is a classification model, targets for each datapoint must be defined. Not defining the target may lead to incorrect values for the attributions.Targets can be either the true classes or the classes predicted by the model.\n",
            "It looks like you are passing a model with a scalar output and target is set to `None`.If your model is a regression model this will produce correct attributions. If your model is a classification model, targets for each datapoint must be defined. Not defining the target may lead to incorrect values for the attributions.Targets can be either the true classes or the classes predicted by the model.\n",
            "It looks like you are passing a model with a scalar output and target is set to `None`.If your model is a regression model this will produce correct attributions. If your model is a classification model, targets for each datapoint must be defined. Not defining the target may lead to incorrect values for the attributions.Targets can be either the true classes or the classes predicted by the model.\n",
            "It looks like you are passing a model with a scalar output and target is set to `None`.If your model is a regression model this will produce correct attributions. If your model is a classification model, targets for each datapoint must be defined. Not defining the target may lead to incorrect values for the attributions.Targets can be either the true classes or the classes predicted by the model.\n",
            "It looks like you are passing a model with a scalar output and target is set to `None`.If your model is a regression model this will produce correct attributions. If your model is a classification model, targets for each datapoint must be defined. Not defining the target may lead to incorrect values for the attributions.Targets can be either the true classes or the classes predicted by the model.\n",
            "It looks like you are passing a model with a scalar output and target is set to `None`.If your model is a regression model this will produce correct attributions. If your model is a classification model, targets for each datapoint must be defined. Not defining the target may lead to incorrect values for the attributions.Targets can be either the true classes or the classes predicted by the model.\n",
            "It looks like you are passing a model with a scalar output and target is set to `None`.If your model is a regression model this will produce correct attributions. If your model is a classification model, targets for each datapoint must be defined. Not defining the target may lead to incorrect values for the attributions.Targets can be either the true classes or the classes predicted by the model.\n",
            "It looks like you are passing a model with a scalar output and target is set to `None`.If your model is a regression model this will produce correct attributions. If your model is a classification model, targets for each datapoint must be defined. Not defining the target may lead to incorrect values for the attributions.Targets can be either the true classes or the classes predicted by the model.\n",
            "It looks like you are passing a model with a scalar output and target is set to `None`.If your model is a regression model this will produce correct attributions. If your model is a classification model, targets for each datapoint must be defined. Not defining the target may lead to incorrect values for the attributions.Targets can be either the true classes or the classes predicted by the model.\n",
            "It looks like you are passing a model with a scalar output and target is set to `None`.If your model is a regression model this will produce correct attributions. If your model is a classification model, targets for each datapoint must be defined. Not defining the target may lead to incorrect values for the attributions.Targets can be either the true classes or the classes predicted by the model.\n",
            "It looks like you are passing a model with a scalar output and target is set to `None`.If your model is a regression model this will produce correct attributions. If your model is a classification model, targets for each datapoint must be defined. Not defining the target may lead to incorrect values for the attributions.Targets can be either the true classes or the classes predicted by the model.\n",
            "It looks like you are passing a model with a scalar output and target is set to `None`.If your model is a regression model this will produce correct attributions. If your model is a classification model, targets for each datapoint must be defined. Not defining the target may lead to incorrect values for the attributions.Targets can be either the true classes or the classes predicted by the model.\n",
            "It looks like you are passing a model with a scalar output and target is set to `None`.If your model is a regression model this will produce correct attributions. If your model is a classification model, targets for each datapoint must be defined. Not defining the target may lead to incorrect values for the attributions.Targets can be either the true classes or the classes predicted by the model.\n",
            "It looks like you are passing a model with a scalar output and target is set to `None`.If your model is a regression model this will produce correct attributions. If your model is a classification model, targets for each datapoint must be defined. Not defining the target may lead to incorrect values for the attributions.Targets can be either the true classes or the classes predicted by the model.\n",
            "It looks like you are passing a model with a scalar output and target is set to `None`.If your model is a regression model this will produce correct attributions. If your model is a classification model, targets for each datapoint must be defined. Not defining the target may lead to incorrect values for the attributions.Targets can be either the true classes or the classes predicted by the model.\n",
            "It looks like you are passing a model with a scalar output and target is set to `None`.If your model is a regression model this will produce correct attributions. If your model is a classification model, targets for each datapoint must be defined. Not defining the target may lead to incorrect values for the attributions.Targets can be either the true classes or the classes predicted by the model.\n",
            "It looks like you are passing a model with a scalar output and target is set to `None`.If your model is a regression model this will produce correct attributions. If your model is a classification model, targets for each datapoint must be defined. Not defining the target may lead to incorrect values for the attributions.Targets can be either the true classes or the classes predicted by the model.\n",
            "It looks like you are passing a model with a scalar output and target is set to `None`.If your model is a regression model this will produce correct attributions. If your model is a classification model, targets for each datapoint must be defined. Not defining the target may lead to incorrect values for the attributions.Targets can be either the true classes or the classes predicted by the model.\n",
            "It looks like you are passing a model with a scalar output and target is set to `None`.If your model is a regression model this will produce correct attributions. If your model is a classification model, targets for each datapoint must be defined. Not defining the target may lead to incorrect values for the attributions.Targets can be either the true classes or the classes predicted by the model.\n",
            "It looks like you are passing a model with a scalar output and target is set to `None`.If your model is a regression model this will produce correct attributions. If your model is a classification model, targets for each datapoint must be defined. Not defining the target may lead to incorrect values for the attributions.Targets can be either the true classes or the classes predicted by the model.\n",
            "It looks like you are passing a model with a scalar output and target is set to `None`.If your model is a regression model this will produce correct attributions. If your model is a classification model, targets for each datapoint must be defined. Not defining the target may lead to incorrect values for the attributions.Targets can be either the true classes or the classes predicted by the model.\n",
            "It looks like you are passing a model with a scalar output and target is set to `None`.If your model is a regression model this will produce correct attributions. If your model is a classification model, targets for each datapoint must be defined. Not defining the target may lead to incorrect values for the attributions.Targets can be either the true classes or the classes predicted by the model.\n",
            "It looks like you are passing a model with a scalar output and target is set to `None`.If your model is a regression model this will produce correct attributions. If your model is a classification model, targets for each datapoint must be defined. Not defining the target may lead to incorrect values for the attributions.Targets can be either the true classes or the classes predicted by the model.\n",
            "It looks like you are passing a model with a scalar output and target is set to `None`.If your model is a regression model this will produce correct attributions. If your model is a classification model, targets for each datapoint must be defined. Not defining the target may lead to incorrect values for the attributions.Targets can be either the true classes or the classes predicted by the model.\n",
            "It looks like you are passing a model with a scalar output and target is set to `None`.If your model is a regression model this will produce correct attributions. If your model is a classification model, targets for each datapoint must be defined. Not defining the target may lead to incorrect values for the attributions.Targets can be either the true classes or the classes predicted by the model.\n",
            "It looks like you are passing a model with a scalar output and target is set to `None`.If your model is a regression model this will produce correct attributions. If your model is a classification model, targets for each datapoint must be defined. Not defining the target may lead to incorrect values for the attributions.Targets can be either the true classes or the classes predicted by the model.\n",
            "It looks like you are passing a model with a scalar output and target is set to `None`.If your model is a regression model this will produce correct attributions. If your model is a classification model, targets for each datapoint must be defined. Not defining the target may lead to incorrect values for the attributions.Targets can be either the true classes or the classes predicted by the model.\n",
            "It looks like you are passing a model with a scalar output and target is set to `None`.If your model is a regression model this will produce correct attributions. If your model is a classification model, targets for each datapoint must be defined. Not defining the target may lead to incorrect values for the attributions.Targets can be either the true classes or the classes predicted by the model.\n",
            "It looks like you are passing a model with a scalar output and target is set to `None`.If your model is a regression model this will produce correct attributions. If your model is a classification model, targets for each datapoint must be defined. Not defining the target may lead to incorrect values for the attributions.Targets can be either the true classes or the classes predicted by the model.\n",
            "It looks like you are passing a model with a scalar output and target is set to `None`.If your model is a regression model this will produce correct attributions. If your model is a classification model, targets for each datapoint must be defined. Not defining the target may lead to incorrect values for the attributions.Targets can be either the true classes or the classes predicted by the model.\n",
            "It looks like you are passing a model with a scalar output and target is set to `None`.If your model is a regression model this will produce correct attributions. If your model is a classification model, targets for each datapoint must be defined. Not defining the target may lead to incorrect values for the attributions.Targets can be either the true classes or the classes predicted by the model.\n",
            "It looks like you are passing a model with a scalar output and target is set to `None`.If your model is a regression model this will produce correct attributions. If your model is a classification model, targets for each datapoint must be defined. Not defining the target may lead to incorrect values for the attributions.Targets can be either the true classes or the classes predicted by the model.\n",
            "It looks like you are passing a model with a scalar output and target is set to `None`.If your model is a regression model this will produce correct attributions. If your model is a classification model, targets for each datapoint must be defined. Not defining the target may lead to incorrect values for the attributions.Targets can be either the true classes or the classes predicted by the model.\n",
            "It looks like you are passing a model with a scalar output and target is set to `None`.If your model is a regression model this will produce correct attributions. If your model is a classification model, targets for each datapoint must be defined. Not defining the target may lead to incorrect values for the attributions.Targets can be either the true classes or the classes predicted by the model.\n",
            "It looks like you are passing a model with a scalar output and target is set to `None`.If your model is a regression model this will produce correct attributions. If your model is a classification model, targets for each datapoint must be defined. Not defining the target may lead to incorrect values for the attributions.Targets can be either the true classes or the classes predicted by the model.\n",
            "It looks like you are passing a model with a scalar output and target is set to `None`.If your model is a regression model this will produce correct attributions. If your model is a classification model, targets for each datapoint must be defined. Not defining the target may lead to incorrect values for the attributions.Targets can be either the true classes or the classes predicted by the model.\n",
            "It looks like you are passing a model with a scalar output and target is set to `None`.If your model is a regression model this will produce correct attributions. If your model is a classification model, targets for each datapoint must be defined. Not defining the target may lead to incorrect values for the attributions.Targets can be either the true classes or the classes predicted by the model.\n",
            "It looks like you are passing a model with a scalar output and target is set to `None`.If your model is a regression model this will produce correct attributions. If your model is a classification model, targets for each datapoint must be defined. Not defining the target may lead to incorrect values for the attributions.Targets can be either the true classes or the classes predicted by the model.\n",
            "It looks like you are passing a model with a scalar output and target is set to `None`.If your model is a regression model this will produce correct attributions. If your model is a classification model, targets for each datapoint must be defined. Not defining the target may lead to incorrect values for the attributions.Targets can be either the true classes or the classes predicted by the model.\n",
            "It looks like you are passing a model with a scalar output and target is set to `None`.If your model is a regression model this will produce correct attributions. If your model is a classification model, targets for each datapoint must be defined. Not defining the target may lead to incorrect values for the attributions.Targets can be either the true classes or the classes predicted by the model.\n",
            "It looks like you are passing a model with a scalar output and target is set to `None`.If your model is a regression model this will produce correct attributions. If your model is a classification model, targets for each datapoint must be defined. Not defining the target may lead to incorrect values for the attributions.Targets can be either the true classes or the classes predicted by the model.\n",
            "It looks like you are passing a model with a scalar output and target is set to `None`.If your model is a regression model this will produce correct attributions. If your model is a classification model, targets for each datapoint must be defined. Not defining the target may lead to incorrect values for the attributions.Targets can be either the true classes or the classes predicted by the model.\n",
            "It looks like you are passing a model with a scalar output and target is set to `None`.If your model is a regression model this will produce correct attributions. If your model is a classification model, targets for each datapoint must be defined. Not defining the target may lead to incorrect values for the attributions.Targets can be either the true classes or the classes predicted by the model.\n",
            "It looks like you are passing a model with a scalar output and target is set to `None`.If your model is a regression model this will produce correct attributions. If your model is a classification model, targets for each datapoint must be defined. Not defining the target may lead to incorrect values for the attributions.Targets can be either the true classes or the classes predicted by the model.\n",
            "It looks like you are passing a model with a scalar output and target is set to `None`.If your model is a regression model this will produce correct attributions. If your model is a classification model, targets for each datapoint must be defined. Not defining the target may lead to incorrect values for the attributions.Targets can be either the true classes or the classes predicted by the model.\n",
            "It looks like you are passing a model with a scalar output and target is set to `None`.If your model is a regression model this will produce correct attributions. If your model is a classification model, targets for each datapoint must be defined. Not defining the target may lead to incorrect values for the attributions.Targets can be either the true classes or the classes predicted by the model.\n",
            "It looks like you are passing a model with a scalar output and target is set to `None`.If your model is a regression model this will produce correct attributions. If your model is a classification model, targets for each datapoint must be defined. Not defining the target may lead to incorrect values for the attributions.Targets can be either the true classes or the classes predicted by the model.\n",
            "It looks like you are passing a model with a scalar output and target is set to `None`.If your model is a regression model this will produce correct attributions. If your model is a classification model, targets for each datapoint must be defined. Not defining the target may lead to incorrect values for the attributions.Targets can be either the true classes or the classes predicted by the model.\n",
            "It looks like you are passing a model with a scalar output and target is set to `None`.If your model is a regression model this will produce correct attributions. If your model is a classification model, targets for each datapoint must be defined. Not defining the target may lead to incorrect values for the attributions.Targets can be either the true classes or the classes predicted by the model.\n",
            "It looks like you are passing a model with a scalar output and target is set to `None`.If your model is a regression model this will produce correct attributions. If your model is a classification model, targets for each datapoint must be defined. Not defining the target may lead to incorrect values for the attributions.Targets can be either the true classes or the classes predicted by the model.\n",
            "It looks like you are passing a model with a scalar output and target is set to `None`.If your model is a regression model this will produce correct attributions. If your model is a classification model, targets for each datapoint must be defined. Not defining the target may lead to incorrect values for the attributions.Targets can be either the true classes or the classes predicted by the model.\n",
            "It looks like you are passing a model with a scalar output and target is set to `None`.If your model is a regression model this will produce correct attributions. If your model is a classification model, targets for each datapoint must be defined. Not defining the target may lead to incorrect values for the attributions.Targets can be either the true classes or the classes predicted by the model.\n",
            "It looks like you are passing a model with a scalar output and target is set to `None`.If your model is a regression model this will produce correct attributions. If your model is a classification model, targets for each datapoint must be defined. Not defining the target may lead to incorrect values for the attributions.Targets can be either the true classes or the classes predicted by the model.\n",
            "It looks like you are passing a model with a scalar output and target is set to `None`.If your model is a regression model this will produce correct attributions. If your model is a classification model, targets for each datapoint must be defined. Not defining the target may lead to incorrect values for the attributions.Targets can be either the true classes or the classes predicted by the model.\n",
            "It looks like you are passing a model with a scalar output and target is set to `None`.If your model is a regression model this will produce correct attributions. If your model is a classification model, targets for each datapoint must be defined. Not defining the target may lead to incorrect values for the attributions.Targets can be either the true classes or the classes predicted by the model.\n",
            "It looks like you are passing a model with a scalar output and target is set to `None`.If your model is a regression model this will produce correct attributions. If your model is a classification model, targets for each datapoint must be defined. Not defining the target may lead to incorrect values for the attributions.Targets can be either the true classes or the classes predicted by the model.\n"
          ],
          "name": "stderr"
        },
        {
          "output_type": "stream",
          "text": [
            "DONE\n"
          ],
          "name": "stdout"
        }
      ]
    },
    {
      "cell_type": "code",
      "metadata": {
        "colab": {
          "base_uri": "https://localhost:8080/"
        },
        "id": "VKlLNMIUIJJa",
        "outputId": "db55ab57-c024-41e8-dd9f-8d6cf2cb84b4"
      },
      "source": [
        "# attr_type = 'shuffle'\r\n",
        "# create_model_and_train(attr_type)\r\n",
        "\r\n",
        "gc.collect()\r\n",
        "\r\n",
        "attr_type = 'syn'\r\n",
        "create_model_and_train(attr_type)"
      ],
      "execution_count": 24,
      "outputs": [
        {
          "output_type": "stream",
          "text": [
            "It looks like you are passing a model with a scalar output and target is set to `None`.If your model is a regression model this will produce correct attributions. If your model is a classification model, targets for each datapoint must be defined. Not defining the target may lead to incorrect values for the attributions.Targets can be either the true classes or the classes predicted by the model.\n",
            "It looks like you are passing a model with a scalar output and target is set to `None`.If your model is a regression model this will produce correct attributions. If your model is a classification model, targets for each datapoint must be defined. Not defining the target may lead to incorrect values for the attributions.Targets can be either the true classes or the classes predicted by the model.\n",
            "It looks like you are passing a model with a scalar output and target is set to `None`.If your model is a regression model this will produce correct attributions. If your model is a classification model, targets for each datapoint must be defined. Not defining the target may lead to incorrect values for the attributions.Targets can be either the true classes or the classes predicted by the model.\n",
            "It looks like you are passing a model with a scalar output and target is set to `None`.If your model is a regression model this will produce correct attributions. If your model is a classification model, targets for each datapoint must be defined. Not defining the target may lead to incorrect values for the attributions.Targets can be either the true classes or the classes predicted by the model.\n",
            "It looks like you are passing a model with a scalar output and target is set to `None`.If your model is a regression model this will produce correct attributions. If your model is a classification model, targets for each datapoint must be defined. Not defining the target may lead to incorrect values for the attributions.Targets can be either the true classes or the classes predicted by the model.\n",
            "It looks like you are passing a model with a scalar output and target is set to `None`.If your model is a regression model this will produce correct attributions. If your model is a classification model, targets for each datapoint must be defined. Not defining the target may lead to incorrect values for the attributions.Targets can be either the true classes or the classes predicted by the model.\n",
            "It looks like you are passing a model with a scalar output and target is set to `None`.If your model is a regression model this will produce correct attributions. If your model is a classification model, targets for each datapoint must be defined. Not defining the target may lead to incorrect values for the attributions.Targets can be either the true classes or the classes predicted by the model.\n",
            "It looks like you are passing a model with a scalar output and target is set to `None`.If your model is a regression model this will produce correct attributions. If your model is a classification model, targets for each datapoint must be defined. Not defining the target may lead to incorrect values for the attributions.Targets can be either the true classes or the classes predicted by the model.\n",
            "It looks like you are passing a model with a scalar output and target is set to `None`.If your model is a regression model this will produce correct attributions. If your model is a classification model, targets for each datapoint must be defined. Not defining the target may lead to incorrect values for the attributions.Targets can be either the true classes or the classes predicted by the model.\n",
            "It looks like you are passing a model with a scalar output and target is set to `None`.If your model is a regression model this will produce correct attributions. If your model is a classification model, targets for each datapoint must be defined. Not defining the target may lead to incorrect values for the attributions.Targets can be either the true classes or the classes predicted by the model.\n",
            "It looks like you are passing a model with a scalar output and target is set to `None`.If your model is a regression model this will produce correct attributions. If your model is a classification model, targets for each datapoint must be defined. Not defining the target may lead to incorrect values for the attributions.Targets can be either the true classes or the classes predicted by the model.\n",
            "It looks like you are passing a model with a scalar output and target is set to `None`.If your model is a regression model this will produce correct attributions. If your model is a classification model, targets for each datapoint must be defined. Not defining the target may lead to incorrect values for the attributions.Targets can be either the true classes or the classes predicted by the model.\n",
            "It looks like you are passing a model with a scalar output and target is set to `None`.If your model is a regression model this will produce correct attributions. If your model is a classification model, targets for each datapoint must be defined. Not defining the target may lead to incorrect values for the attributions.Targets can be either the true classes or the classes predicted by the model.\n",
            "It looks like you are passing a model with a scalar output and target is set to `None`.If your model is a regression model this will produce correct attributions. If your model is a classification model, targets for each datapoint must be defined. Not defining the target may lead to incorrect values for the attributions.Targets can be either the true classes or the classes predicted by the model.\n",
            "It looks like you are passing a model with a scalar output and target is set to `None`.If your model is a regression model this will produce correct attributions. If your model is a classification model, targets for each datapoint must be defined. Not defining the target may lead to incorrect values for the attributions.Targets can be either the true classes or the classes predicted by the model.\n",
            "It looks like you are passing a model with a scalar output and target is set to `None`.If your model is a regression model this will produce correct attributions. If your model is a classification model, targets for each datapoint must be defined. Not defining the target may lead to incorrect values for the attributions.Targets can be either the true classes or the classes predicted by the model.\n",
            "It looks like you are passing a model with a scalar output and target is set to `None`.If your model is a regression model this will produce correct attributions. If your model is a classification model, targets for each datapoint must be defined. Not defining the target may lead to incorrect values for the attributions.Targets can be either the true classes or the classes predicted by the model.\n",
            "It looks like you are passing a model with a scalar output and target is set to `None`.If your model is a regression model this will produce correct attributions. If your model is a classification model, targets for each datapoint must be defined. Not defining the target may lead to incorrect values for the attributions.Targets can be either the true classes or the classes predicted by the model.\n",
            "It looks like you are passing a model with a scalar output and target is set to `None`.If your model is a regression model this will produce correct attributions. If your model is a classification model, targets for each datapoint must be defined. Not defining the target may lead to incorrect values for the attributions.Targets can be either the true classes or the classes predicted by the model.\n",
            "It looks like you are passing a model with a scalar output and target is set to `None`.If your model is a regression model this will produce correct attributions. If your model is a classification model, targets for each datapoint must be defined. Not defining the target may lead to incorrect values for the attributions.Targets can be either the true classes or the classes predicted by the model.\n",
            "It looks like you are passing a model with a scalar output and target is set to `None`.If your model is a regression model this will produce correct attributions. If your model is a classification model, targets for each datapoint must be defined. Not defining the target may lead to incorrect values for the attributions.Targets can be either the true classes or the classes predicted by the model.\n",
            "It looks like you are passing a model with a scalar output and target is set to `None`.If your model is a regression model this will produce correct attributions. If your model is a classification model, targets for each datapoint must be defined. Not defining the target may lead to incorrect values for the attributions.Targets can be either the true classes or the classes predicted by the model.\n",
            "It looks like you are passing a model with a scalar output and target is set to `None`.If your model is a regression model this will produce correct attributions. If your model is a classification model, targets for each datapoint must be defined. Not defining the target may lead to incorrect values for the attributions.Targets can be either the true classes or the classes predicted by the model.\n",
            "It looks like you are passing a model with a scalar output and target is set to `None`.If your model is a regression model this will produce correct attributions. If your model is a classification model, targets for each datapoint must be defined. Not defining the target may lead to incorrect values for the attributions.Targets can be either the true classes or the classes predicted by the model.\n",
            "It looks like you are passing a model with a scalar output and target is set to `None`.If your model is a regression model this will produce correct attributions. If your model is a classification model, targets for each datapoint must be defined. Not defining the target may lead to incorrect values for the attributions.Targets can be either the true classes or the classes predicted by the model.\n",
            "It looks like you are passing a model with a scalar output and target is set to `None`.If your model is a regression model this will produce correct attributions. If your model is a classification model, targets for each datapoint must be defined. Not defining the target may lead to incorrect values for the attributions.Targets can be either the true classes or the classes predicted by the model.\n",
            "It looks like you are passing a model with a scalar output and target is set to `None`.If your model is a regression model this will produce correct attributions. If your model is a classification model, targets for each datapoint must be defined. Not defining the target may lead to incorrect values for the attributions.Targets can be either the true classes or the classes predicted by the model.\n",
            "It looks like you are passing a model with a scalar output and target is set to `None`.If your model is a regression model this will produce correct attributions. If your model is a classification model, targets for each datapoint must be defined. Not defining the target may lead to incorrect values for the attributions.Targets can be either the true classes or the classes predicted by the model.\n",
            "It looks like you are passing a model with a scalar output and target is set to `None`.If your model is a regression model this will produce correct attributions. If your model is a classification model, targets for each datapoint must be defined. Not defining the target may lead to incorrect values for the attributions.Targets can be either the true classes or the classes predicted by the model.\n",
            "It looks like you are passing a model with a scalar output and target is set to `None`.If your model is a regression model this will produce correct attributions. If your model is a classification model, targets for each datapoint must be defined. Not defining the target may lead to incorrect values for the attributions.Targets can be either the true classes or the classes predicted by the model.\n",
            "It looks like you are passing a model with a scalar output and target is set to `None`.If your model is a regression model this will produce correct attributions. If your model is a classification model, targets for each datapoint must be defined. Not defining the target may lead to incorrect values for the attributions.Targets can be either the true classes or the classes predicted by the model.\n",
            "It looks like you are passing a model with a scalar output and target is set to `None`.If your model is a regression model this will produce correct attributions. If your model is a classification model, targets for each datapoint must be defined. Not defining the target may lead to incorrect values for the attributions.Targets can be either the true classes or the classes predicted by the model.\n",
            "It looks like you are passing a model with a scalar output and target is set to `None`.If your model is a regression model this will produce correct attributions. If your model is a classification model, targets for each datapoint must be defined. Not defining the target may lead to incorrect values for the attributions.Targets can be either the true classes or the classes predicted by the model.\n",
            "It looks like you are passing a model with a scalar output and target is set to `None`.If your model is a regression model this will produce correct attributions. If your model is a classification model, targets for each datapoint must be defined. Not defining the target may lead to incorrect values for the attributions.Targets can be either the true classes or the classes predicted by the model.\n",
            "It looks like you are passing a model with a scalar output and target is set to `None`.If your model is a regression model this will produce correct attributions. If your model is a classification model, targets for each datapoint must be defined. Not defining the target may lead to incorrect values for the attributions.Targets can be either the true classes or the classes predicted by the model.\n",
            "It looks like you are passing a model with a scalar output and target is set to `None`.If your model is a regression model this will produce correct attributions. If your model is a classification model, targets for each datapoint must be defined. Not defining the target may lead to incorrect values for the attributions.Targets can be either the true classes or the classes predicted by the model.\n",
            "It looks like you are passing a model with a scalar output and target is set to `None`.If your model is a regression model this will produce correct attributions. If your model is a classification model, targets for each datapoint must be defined. Not defining the target may lead to incorrect values for the attributions.Targets can be either the true classes or the classes predicted by the model.\n",
            "It looks like you are passing a model with a scalar output and target is set to `None`.If your model is a regression model this will produce correct attributions. If your model is a classification model, targets for each datapoint must be defined. Not defining the target may lead to incorrect values for the attributions.Targets can be either the true classes or the classes predicted by the model.\n",
            "It looks like you are passing a model with a scalar output and target is set to `None`.If your model is a regression model this will produce correct attributions. If your model is a classification model, targets for each datapoint must be defined. Not defining the target may lead to incorrect values for the attributions.Targets can be either the true classes or the classes predicted by the model.\n",
            "It looks like you are passing a model with a scalar output and target is set to `None`.If your model is a regression model this will produce correct attributions. If your model is a classification model, targets for each datapoint must be defined. Not defining the target may lead to incorrect values for the attributions.Targets can be either the true classes or the classes predicted by the model.\n",
            "It looks like you are passing a model with a scalar output and target is set to `None`.If your model is a regression model this will produce correct attributions. If your model is a classification model, targets for each datapoint must be defined. Not defining the target may lead to incorrect values for the attributions.Targets can be either the true classes or the classes predicted by the model.\n",
            "It looks like you are passing a model with a scalar output and target is set to `None`.If your model is a regression model this will produce correct attributions. If your model is a classification model, targets for each datapoint must be defined. Not defining the target may lead to incorrect values for the attributions.Targets can be either the true classes or the classes predicted by the model.\n",
            "It looks like you are passing a model with a scalar output and target is set to `None`.If your model is a regression model this will produce correct attributions. If your model is a classification model, targets for each datapoint must be defined. Not defining the target may lead to incorrect values for the attributions.Targets can be either the true classes or the classes predicted by the model.\n",
            "It looks like you are passing a model with a scalar output and target is set to `None`.If your model is a regression model this will produce correct attributions. If your model is a classification model, targets for each datapoint must be defined. Not defining the target may lead to incorrect values for the attributions.Targets can be either the true classes or the classes predicted by the model.\n",
            "It looks like you are passing a model with a scalar output and target is set to `None`.If your model is a regression model this will produce correct attributions. If your model is a classification model, targets for each datapoint must be defined. Not defining the target may lead to incorrect values for the attributions.Targets can be either the true classes or the classes predicted by the model.\n",
            "It looks like you are passing a model with a scalar output and target is set to `None`.If your model is a regression model this will produce correct attributions. If your model is a classification model, targets for each datapoint must be defined. Not defining the target may lead to incorrect values for the attributions.Targets can be either the true classes or the classes predicted by the model.\n",
            "It looks like you are passing a model with a scalar output and target is set to `None`.If your model is a regression model this will produce correct attributions. If your model is a classification model, targets for each datapoint must be defined. Not defining the target may lead to incorrect values for the attributions.Targets can be either the true classes or the classes predicted by the model.\n",
            "It looks like you are passing a model with a scalar output and target is set to `None`.If your model is a regression model this will produce correct attributions. If your model is a classification model, targets for each datapoint must be defined. Not defining the target may lead to incorrect values for the attributions.Targets can be either the true classes or the classes predicted by the model.\n",
            "It looks like you are passing a model with a scalar output and target is set to `None`.If your model is a regression model this will produce correct attributions. If your model is a classification model, targets for each datapoint must be defined. Not defining the target may lead to incorrect values for the attributions.Targets can be either the true classes or the classes predicted by the model.\n",
            "It looks like you are passing a model with a scalar output and target is set to `None`.If your model is a regression model this will produce correct attributions. If your model is a classification model, targets for each datapoint must be defined. Not defining the target may lead to incorrect values for the attributions.Targets can be either the true classes or the classes predicted by the model.\n",
            "It looks like you are passing a model with a scalar output and target is set to `None`.If your model is a regression model this will produce correct attributions. If your model is a classification model, targets for each datapoint must be defined. Not defining the target may lead to incorrect values for the attributions.Targets can be either the true classes or the classes predicted by the model.\n",
            "It looks like you are passing a model with a scalar output and target is set to `None`.If your model is a regression model this will produce correct attributions. If your model is a classification model, targets for each datapoint must be defined. Not defining the target may lead to incorrect values for the attributions.Targets can be either the true classes or the classes predicted by the model.\n",
            "It looks like you are passing a model with a scalar output and target is set to `None`.If your model is a regression model this will produce correct attributions. If your model is a classification model, targets for each datapoint must be defined. Not defining the target may lead to incorrect values for the attributions.Targets can be either the true classes or the classes predicted by the model.\n",
            "It looks like you are passing a model with a scalar output and target is set to `None`.If your model is a regression model this will produce correct attributions. If your model is a classification model, targets for each datapoint must be defined. Not defining the target may lead to incorrect values for the attributions.Targets can be either the true classes or the classes predicted by the model.\n",
            "It looks like you are passing a model with a scalar output and target is set to `None`.If your model is a regression model this will produce correct attributions. If your model is a classification model, targets for each datapoint must be defined. Not defining the target may lead to incorrect values for the attributions.Targets can be either the true classes or the classes predicted by the model.\n",
            "It looks like you are passing a model with a scalar output and target is set to `None`.If your model is a regression model this will produce correct attributions. If your model is a classification model, targets for each datapoint must be defined. Not defining the target may lead to incorrect values for the attributions.Targets can be either the true classes or the classes predicted by the model.\n",
            "It looks like you are passing a model with a scalar output and target is set to `None`.If your model is a regression model this will produce correct attributions. If your model is a classification model, targets for each datapoint must be defined. Not defining the target may lead to incorrect values for the attributions.Targets can be either the true classes or the classes predicted by the model.\n",
            "It looks like you are passing a model with a scalar output and target is set to `None`.If your model is a regression model this will produce correct attributions. If your model is a classification model, targets for each datapoint must be defined. Not defining the target may lead to incorrect values for the attributions.Targets can be either the true classes or the classes predicted by the model.\n",
            "It looks like you are passing a model with a scalar output and target is set to `None`.If your model is a regression model this will produce correct attributions. If your model is a classification model, targets for each datapoint must be defined. Not defining the target may lead to incorrect values for the attributions.Targets can be either the true classes or the classes predicted by the model.\n",
            "It looks like you are passing a model with a scalar output and target is set to `None`.If your model is a regression model this will produce correct attributions. If your model is a classification model, targets for each datapoint must be defined. Not defining the target may lead to incorrect values for the attributions.Targets can be either the true classes or the classes predicted by the model.\n",
            "It looks like you are passing a model with a scalar output and target is set to `None`.If your model is a regression model this will produce correct attributions. If your model is a classification model, targets for each datapoint must be defined. Not defining the target may lead to incorrect values for the attributions.Targets can be either the true classes or the classes predicted by the model.\n",
            "It looks like you are passing a model with a scalar output and target is set to `None`.If your model is a regression model this will produce correct attributions. If your model is a classification model, targets for each datapoint must be defined. Not defining the target may lead to incorrect values for the attributions.Targets can be either the true classes or the classes predicted by the model.\n",
            "It looks like you are passing a model with a scalar output and target is set to `None`.If your model is a regression model this will produce correct attributions. If your model is a classification model, targets for each datapoint must be defined. Not defining the target may lead to incorrect values for the attributions.Targets can be either the true classes or the classes predicted by the model.\n",
            "It looks like you are passing a model with a scalar output and target is set to `None`.If your model is a regression model this will produce correct attributions. If your model is a classification model, targets for each datapoint must be defined. Not defining the target may lead to incorrect values for the attributions.Targets can be either the true classes or the classes predicted by the model.\n",
            "It looks like you are passing a model with a scalar output and target is set to `None`.If your model is a regression model this will produce correct attributions. If your model is a classification model, targets for each datapoint must be defined. Not defining the target may lead to incorrect values for the attributions.Targets can be either the true classes or the classes predicted by the model.\n",
            "It looks like you are passing a model with a scalar output and target is set to `None`.If your model is a regression model this will produce correct attributions. If your model is a classification model, targets for each datapoint must be defined. Not defining the target may lead to incorrect values for the attributions.Targets can be either the true classes or the classes predicted by the model.\n",
            "It looks like you are passing a model with a scalar output and target is set to `None`.If your model is a regression model this will produce correct attributions. If your model is a classification model, targets for each datapoint must be defined. Not defining the target may lead to incorrect values for the attributions.Targets can be either the true classes or the classes predicted by the model.\n",
            "It looks like you are passing a model with a scalar output and target is set to `None`.If your model is a regression model this will produce correct attributions. If your model is a classification model, targets for each datapoint must be defined. Not defining the target may lead to incorrect values for the attributions.Targets can be either the true classes or the classes predicted by the model.\n",
            "It looks like you are passing a model with a scalar output and target is set to `None`.If your model is a regression model this will produce correct attributions. If your model is a classification model, targets for each datapoint must be defined. Not defining the target may lead to incorrect values for the attributions.Targets can be either the true classes or the classes predicted by the model.\n",
            "It looks like you are passing a model with a scalar output and target is set to `None`.If your model is a regression model this will produce correct attributions. If your model is a classification model, targets for each datapoint must be defined. Not defining the target may lead to incorrect values for the attributions.Targets can be either the true classes or the classes predicted by the model.\n",
            "It looks like you are passing a model with a scalar output and target is set to `None`.If your model is a regression model this will produce correct attributions. If your model is a classification model, targets for each datapoint must be defined. Not defining the target may lead to incorrect values for the attributions.Targets can be either the true classes or the classes predicted by the model.\n",
            "It looks like you are passing a model with a scalar output and target is set to `None`.If your model is a regression model this will produce correct attributions. If your model is a classification model, targets for each datapoint must be defined. Not defining the target may lead to incorrect values for the attributions.Targets can be either the true classes or the classes predicted by the model.\n",
            "It looks like you are passing a model with a scalar output and target is set to `None`.If your model is a regression model this will produce correct attributions. If your model is a classification model, targets for each datapoint must be defined. Not defining the target may lead to incorrect values for the attributions.Targets can be either the true classes or the classes predicted by the model.\n",
            "It looks like you are passing a model with a scalar output and target is set to `None`.If your model is a regression model this will produce correct attributions. If your model is a classification model, targets for each datapoint must be defined. Not defining the target may lead to incorrect values for the attributions.Targets can be either the true classes or the classes predicted by the model.\n",
            "It looks like you are passing a model with a scalar output and target is set to `None`.If your model is a regression model this will produce correct attributions. If your model is a classification model, targets for each datapoint must be defined. Not defining the target may lead to incorrect values for the attributions.Targets can be either the true classes or the classes predicted by the model.\n",
            "It looks like you are passing a model with a scalar output and target is set to `None`.If your model is a regression model this will produce correct attributions. If your model is a classification model, targets for each datapoint must be defined. Not defining the target may lead to incorrect values for the attributions.Targets can be either the true classes or the classes predicted by the model.\n",
            "It looks like you are passing a model with a scalar output and target is set to `None`.If your model is a regression model this will produce correct attributions. If your model is a classification model, targets for each datapoint must be defined. Not defining the target may lead to incorrect values for the attributions.Targets can be either the true classes or the classes predicted by the model.\n",
            "It looks like you are passing a model with a scalar output and target is set to `None`.If your model is a regression model this will produce correct attributions. If your model is a classification model, targets for each datapoint must be defined. Not defining the target may lead to incorrect values for the attributions.Targets can be either the true classes or the classes predicted by the model.\n",
            "It looks like you are passing a model with a scalar output and target is set to `None`.If your model is a regression model this will produce correct attributions. If your model is a classification model, targets for each datapoint must be defined. Not defining the target may lead to incorrect values for the attributions.Targets can be either the true classes or the classes predicted by the model.\n",
            "It looks like you are passing a model with a scalar output and target is set to `None`.If your model is a regression model this will produce correct attributions. If your model is a classification model, targets for each datapoint must be defined. Not defining the target may lead to incorrect values for the attributions.Targets can be either the true classes or the classes predicted by the model.\n",
            "It looks like you are passing a model with a scalar output and target is set to `None`.If your model is a regression model this will produce correct attributions. If your model is a classification model, targets for each datapoint must be defined. Not defining the target may lead to incorrect values for the attributions.Targets can be either the true classes or the classes predicted by the model.\n",
            "It looks like you are passing a model with a scalar output and target is set to `None`.If your model is a regression model this will produce correct attributions. If your model is a classification model, targets for each datapoint must be defined. Not defining the target may lead to incorrect values for the attributions.Targets can be either the true classes or the classes predicted by the model.\n",
            "It looks like you are passing a model with a scalar output and target is set to `None`.If your model is a regression model this will produce correct attributions. If your model is a classification model, targets for each datapoint must be defined. Not defining the target may lead to incorrect values for the attributions.Targets can be either the true classes or the classes predicted by the model.\n",
            "It looks like you are passing a model with a scalar output and target is set to `None`.If your model is a regression model this will produce correct attributions. If your model is a classification model, targets for each datapoint must be defined. Not defining the target may lead to incorrect values for the attributions.Targets can be either the true classes or the classes predicted by the model.\n",
            "It looks like you are passing a model with a scalar output and target is set to `None`.If your model is a regression model this will produce correct attributions. If your model is a classification model, targets for each datapoint must be defined. Not defining the target may lead to incorrect values for the attributions.Targets can be either the true classes or the classes predicted by the model.\n",
            "It looks like you are passing a model with a scalar output and target is set to `None`.If your model is a regression model this will produce correct attributions. If your model is a classification model, targets for each datapoint must be defined. Not defining the target may lead to incorrect values for the attributions.Targets can be either the true classes or the classes predicted by the model.\n",
            "It looks like you are passing a model with a scalar output and target is set to `None`.If your model is a regression model this will produce correct attributions. If your model is a classification model, targets for each datapoint must be defined. Not defining the target may lead to incorrect values for the attributions.Targets can be either the true classes or the classes predicted by the model.\n",
            "It looks like you are passing a model with a scalar output and target is set to `None`.If your model is a regression model this will produce correct attributions. If your model is a classification model, targets for each datapoint must be defined. Not defining the target may lead to incorrect values for the attributions.Targets can be either the true classes or the classes predicted by the model.\n",
            "It looks like you are passing a model with a scalar output and target is set to `None`.If your model is a regression model this will produce correct attributions. If your model is a classification model, targets for each datapoint must be defined. Not defining the target may lead to incorrect values for the attributions.Targets can be either the true classes or the classes predicted by the model.\n",
            "It looks like you are passing a model with a scalar output and target is set to `None`.If your model is a regression model this will produce correct attributions. If your model is a classification model, targets for each datapoint must be defined. Not defining the target may lead to incorrect values for the attributions.Targets can be either the true classes or the classes predicted by the model.\n",
            "It looks like you are passing a model with a scalar output and target is set to `None`.If your model is a regression model this will produce correct attributions. If your model is a classification model, targets for each datapoint must be defined. Not defining the target may lead to incorrect values for the attributions.Targets can be either the true classes or the classes predicted by the model.\n",
            "It looks like you are passing a model with a scalar output and target is set to `None`.If your model is a regression model this will produce correct attributions. If your model is a classification model, targets for each datapoint must be defined. Not defining the target may lead to incorrect values for the attributions.Targets can be either the true classes or the classes predicted by the model.\n",
            "It looks like you are passing a model with a scalar output and target is set to `None`.If your model is a regression model this will produce correct attributions. If your model is a classification model, targets for each datapoint must be defined. Not defining the target may lead to incorrect values for the attributions.Targets can be either the true classes or the classes predicted by the model.\n",
            "It looks like you are passing a model with a scalar output and target is set to `None`.If your model is a regression model this will produce correct attributions. If your model is a classification model, targets for each datapoint must be defined. Not defining the target may lead to incorrect values for the attributions.Targets can be either the true classes or the classes predicted by the model.\n",
            "It looks like you are passing a model with a scalar output and target is set to `None`.If your model is a regression model this will produce correct attributions. If your model is a classification model, targets for each datapoint must be defined. Not defining the target may lead to incorrect values for the attributions.Targets can be either the true classes or the classes predicted by the model.\n",
            "It looks like you are passing a model with a scalar output and target is set to `None`.If your model is a regression model this will produce correct attributions. If your model is a classification model, targets for each datapoint must be defined. Not defining the target may lead to incorrect values for the attributions.Targets can be either the true classes or the classes predicted by the model.\n",
            "It looks like you are passing a model with a scalar output and target is set to `None`.If your model is a regression model this will produce correct attributions. If your model is a classification model, targets for each datapoint must be defined. Not defining the target may lead to incorrect values for the attributions.Targets can be either the true classes or the classes predicted by the model.\n",
            "It looks like you are passing a model with a scalar output and target is set to `None`.If your model is a regression model this will produce correct attributions. If your model is a classification model, targets for each datapoint must be defined. Not defining the target may lead to incorrect values for the attributions.Targets can be either the true classes or the classes predicted by the model.\n",
            "It looks like you are passing a model with a scalar output and target is set to `None`.If your model is a regression model this will produce correct attributions. If your model is a classification model, targets for each datapoint must be defined. Not defining the target may lead to incorrect values for the attributions.Targets can be either the true classes or the classes predicted by the model.\n",
            "It looks like you are passing a model with a scalar output and target is set to `None`.If your model is a regression model this will produce correct attributions. If your model is a classification model, targets for each datapoint must be defined. Not defining the target may lead to incorrect values for the attributions.Targets can be either the true classes or the classes predicted by the model.\n"
          ],
          "name": "stderr"
        },
        {
          "output_type": "stream",
          "text": [
            "DONE\n"
          ],
          "name": "stdout"
        }
      ]
    },
    {
      "cell_type": "code",
      "metadata": {
        "colab": {
          "base_uri": "https://localhost:8080/"
        },
        "id": "CO3fJ_8NIJEk",
        "outputId": "530d9bcc-327b-462f-c393-694cfeba96f3"
      },
      "source": [
        "gc.collect()"
      ],
      "execution_count": 44,
      "outputs": [
        {
          "output_type": "execute_result",
          "data": {
            "text/plain": [
              "0"
            ]
          },
          "metadata": {
            "tags": []
          },
          "execution_count": 44
        }
      ]
    },
    {
      "cell_type": "code",
      "metadata": {
        "id": "bnz0Qm5YIJB6"
      },
      "source": [
        ""
      ],
      "execution_count": null,
      "outputs": []
    },
    {
      "cell_type": "code",
      "metadata": {
        "id": "Pl7VwNxnII_M"
      },
      "source": [
        ""
      ],
      "execution_count": null,
      "outputs": []
    },
    {
      "cell_type": "code",
      "metadata": {
        "id": "sQ5noUaraa62"
      },
      "source": [
        ""
      ],
      "execution_count": null,
      "outputs": []
    },
    {
      "cell_type": "code",
      "metadata": {
        "id": "qy2L_97D9DuO"
      },
      "source": [
        ""
      ],
      "execution_count": null,
      "outputs": []
    },
    {
      "cell_type": "code",
      "metadata": {
        "id": "bxObqsiG9DQG"
      },
      "source": [
        ""
      ],
      "execution_count": null,
      "outputs": []
    },
    {
      "cell_type": "code",
      "metadata": {
        "id": "pJFz9hCbAlR-"
      },
      "source": [
        "import pandas as pd\n",
        "essay_set_id = '7'\n",
        "names = ['song_beg', 'song_end', 'false_beg','false_end','normal','shuffle', 'syn']\n",
        "adv_data_list = {}\n",
        "for name in names:\n",
        "  adv_data = pd.read_csv('/content/drive/My Drive/IG RESULTS/'+str(essay_set_id)+'_'+name+'.csv')\n",
        "  adv_data_list[name] = adv_data"
      ],
      "execution_count": 28,
      "outputs": []
    },
    {
      "cell_type": "code",
      "metadata": {
        "id": "qhA1MihQAlQG"
      },
      "source": [
        "E_list = {}\n",
        "labels_true = []\n",
        "labels_syn = []\n",
        "for adv_data in adv_data_list.keys():\n",
        "    texts = adv_data_list[adv_data]['text'].tolist()\n",
        "    if adv_data == 'normal':\n",
        "      labels_true = adv_data_list[adv_data]['label_orig'].tolist()\n",
        "    elif adv_data == 'syn':\n",
        "      labels_syn  = adv_data_list[adv_data]['label_orig'].tolist()\n",
        "    sequences=tokenizer.texts_to_sequences(texts) #returns list of sequences\n",
        "    data = pad_sequences(sequences, maxlen=MAX_SEQUENCE_LENGTH) #padding to max_length\n",
        "    E_list[adv_data]= data"
      ],
      "execution_count": 29,
      "outputs": []
    },
    {
      "cell_type": "code",
      "metadata": {
        "id": "G7g3KT0_AlPD",
        "colab": {
          "base_uri": "https://localhost:8080/"
        },
        "outputId": "b81b0670-4105-42d6-a997-3b877c0e48ad"
      },
      "source": [
        "e   = E_list['normal']\n",
        "labels_orig = adv.predict_and_norm(e)\n",
        "labels_orig"
      ],
      "execution_count": 114,
      "outputs": [
        {
          "output_type": "execute_result",
          "data": {
            "text/plain": [
              "[3, 24, 28, 26, 15, 15, 10]"
            ]
          },
          "metadata": {
            "tags": []
          },
          "execution_count": 114
        }
      ]
    },
    {
      "cell_type": "code",
      "metadata": {
        "id": "D3vQnOP6AlKV"
      },
      "source": [
        "from xhtml2pdf import pisa\n",
        "def convert_html_to_pdf(source_html, output_filename):\n",
        "  result_file = open(output_filename, \"w+b\")\n",
        "  pisa_status = pisa.CreatePDF(source_html, dest=result_file)          \n",
        "  result_file.close()\n",
        "\n",
        "def save_stats_add(diff, diff_attr, word_list, ratio,output_filename):\n",
        "  result = open(output_filename, 'w')\n",
        "  result.write('\\ndiff in scores:  '+str(diff))\n",
        "  result.write('\\ndiff in attrs:  '+ str(diff_attr))\n",
        "  result.write('\\nnew words in top 10%:  '+ ', '.join(word_list))\n",
        "  result.write('\\npercent of top words in added words:  '+ str(ratio))\n",
        "  result.close()\n",
        "\n",
        "def save_stats_mod(diff, diff_attr, changed_no,output_filename):\n",
        "  result = open(output_filename, 'w')\n",
        "  result.write('\\ndiff in scores:  '+str(diff))\n",
        "  result.write('\\ndiff in attrs:  '+ str(diff_attr))\n",
        "  result.write('\\nno of words which changed attr:  '+ str(changed_no))\n",
        "  result.close()\n",
        "\n",
        "def save_stats_gen(babel_total, babel_unattrib, output_filename):\n",
        "  result = open(output_filename, 'w')\n",
        "  result.write('\\ntop attributed words:  '+ str(babel_total))\n",
        "  result.write('\\ntop unattributed words:  '+ str(babel_unattrib))\n",
        "  result.close()\n",
        "\n",
        "def top_k_attrs(tokens, attrs, sign = None, k=None):\n",
        "    k = min(k, len(tokens))\n",
        "    \n",
        "    if sign != None:\n",
        "      tokens_list = []\n",
        "      signs_list = []\n",
        "      for i in np.argpartition(attrs, -k)[-k:]:\n",
        "          tokens_list.append(tokens[i].strip())\n",
        "          signs_list.append(sign[i])\n",
        "      return  tokens_list , signs_list\n",
        "    \n",
        "    else:\n",
        "      return ([tokens[i].strip() for i in np.argpartition(attrs, -k)[-k:]])\n",
        "\n",
        "def bottom_k_attrs(tokens, attrs, k):\n",
        "    k = min(k, len(tokens))\n",
        "    return [tokens[i].strip() for i in np.argpartition(attrs, k)[:k]]\n",
        "\n",
        "def save_normal_attrs(data, labels_orig, essay_type):\n",
        "  dir =  ATTRS_DIR+essay_type+'/'\n",
        "  if not os.path.exists(dir):\n",
        "    os.makedirs(dir)\n",
        "\n",
        "  a_total = []\n",
        "  w_total= [] \n",
        "  for i,essay in enumerate(data):\n",
        "    attrs, words, c= adv.explain(data[i])\n",
        "    label_new = adv.predict_and_norm(data[i:i+1])[0]\n",
        "    html = adv.visualize_token_attrs(words[c:], attrs[c:])\n",
        "    convert_html_to_pdf(html, dir+str(i)+'_'+str(labels_orig[i])+'_'+str(label_new+0)+'.pdf')\n",
        "    a_total.append(attrs)\n",
        "    w_total.append(words)\n",
        "\n",
        "  return a_total, w_total\n",
        "\n",
        "def get_loc(w):\n",
        "  count = 0\n",
        "  for x in w:\n",
        "    if x == None:\n",
        "      count+=1\n",
        "  \n",
        "  return count\n",
        "\n",
        "def save_attrs_pdf(data, data_normal, labels_orig, essay_type, type_add = False, type_mod = False, type_gen = False):\n",
        "  dir =  ATTRS_DIR+essay_type+'/'\n",
        "  if not os.path.exists(dir):\n",
        "    os.makedirs(dir)\n",
        "\n",
        "  a,w = data_normal\n",
        "  babel_total = {}\n",
        "  babel_unattrib = {}\n",
        "\n",
        "  for i,essay in enumerate(data):\n",
        "    attrs, words,c_data = adv.explain(data[i])\n",
        "    labels_new = adv.predict_and_norm(data[i:i+1])[0]\n",
        "    if not type_gen:\n",
        "      c_normal = get_loc(w[i])\n",
        "      a_normal = a[i][c_normal:]\n",
        "      w_normal = w[i][c_normal:]\n",
        "\n",
        "    a_data = attrs[c_data:]\n",
        "    w_data = words[c_data:]\n",
        "\n",
        "    if type_add:\n",
        "        diff = labels_orig[i] - labels_new\n",
        "        diff_attr = sum(attrs) - sum(a[i])\n",
        "\n",
        "        if essay_type == 'song_beg' or essay_type =='false_beg' :\n",
        "\n",
        "          pattern = w_normal[:4]\n",
        "          try:\n",
        "            loc = subfinder(w_data, pattern)[0]\n",
        "          except Exception as e:\n",
        "            loc = len(w_data)\n",
        "          new_w = w_data[:loc]\n",
        "          new_a = a_data[:loc]\n",
        "\n",
        "        elif essay_type == 'song_end' or essay_type =='false_end':\n",
        "\n",
        "          loc = len(w_normal[i])\n",
        "          new_w = w_data[loc:]\n",
        "          new_a = a_data[loc:]\n",
        "\n",
        "        top_words_normal = top_k_attrs(w_normal, a_normal, k = int(0.1*len(w_normal)))\n",
        "        \n",
        "        top_words_data   = top_k_attrs(w_data,   a_data,   k = int(0.1*len(w_data)))\n",
        "\n",
        "        top_words_final = [x for x in top_words_data if x not in top_words_normal]\n",
        "\n",
        "        html = adv.visualize_token_attrs(w_data, a_data)\n",
        "        convert_html_to_pdf(html, dir+str(i)+'_'+str(labels_orig[i])+'_'+str(labels_new+0)+'.pdf')\n",
        "        save_stats_add(diff, diff_attr, top_words_final, len(top_words_final)/len(new_w), dir+'stats_'+str(i)+'_'+str(labels_orig[i])+'_'+str(labels_new+0)+'.txt')\n",
        "    \n",
        "    elif type_gen:\n",
        "        attrs_sign= []\n",
        "        for x in a_data:\n",
        "            if x>0:\n",
        "              attrs_sign.append('+')\n",
        "            else:\n",
        "              attrs_sign.append('-')\n",
        "\n",
        "        top_words, top_words_signs = top_k_attrs(w_data, a_data, attrs_sign, k = int(0.1*len(w_data)))\n",
        "        \n",
        "        for j,x in enumerate(top_words):\n",
        "          if x in babel_total.keys():\n",
        "            if top_words_signs[j] == '+':\n",
        "              babel_total[x][0]+=1\n",
        "            else:\n",
        "              babel_total[x][1]+=1\n",
        "          else:\n",
        "            if top_words_signs[j] == '+':\n",
        "              babel_total[x] = [1,0]\n",
        "            else:\n",
        "              babel_total[x] = [0,1]\n",
        "        \n",
        "        attrs_abs = [abs(x) for x in a_data]\n",
        "        bottom_words = bottom_k_attrs(w_data, attrs_abs, k = int(0.1*len(w_data)))\n",
        "        \n",
        "        for j,x in enumerate(bottom_words):\n",
        "          if x in babel_unattrib.keys():\n",
        "            babel_unattrib[x]+= 1\n",
        "          else:\n",
        "            babel_unattrib[x] = 1\n",
        "\n",
        "        html = adv.visualize_token_attrs(w_data, a_data)\n",
        "        convert_html_to_pdf(html, dir+str(i)+'_'+str(labels_new+0)+'.pdf')\n",
        "\n",
        "    elif type_mod:\n",
        "        diff = labels_orig[i] - labels_new\n",
        "        diff_attr = sum(attrs) - sum(a[i])\n",
        "        \n",
        "        if essay_type == 'shuffle' or essay_type == 'syn':\n",
        "          attrs_abs=[]\n",
        "          attrs_sign =[]\n",
        "          for x in a_normal:\n",
        "            attrs_abs.append(abs(x))\n",
        "            if x>0:\n",
        "              attrs_sign.append('+')\n",
        "            else:\n",
        "              attrs_sign.append('-')\n",
        "\n",
        "          top_words_orig, token_signs_orig = top_k_attrs(w_normal, attrs_abs, attrs_sign, k = int(0.1*len(w_normal)))\n",
        "          \n",
        "          attrs_abs=[]\n",
        "          attrs_sign =[]\n",
        "          for x in a_data:\n",
        "            attrs_abs.append(abs(x))\n",
        "            if x>0:\n",
        "              attrs_sign.append('+')\n",
        "            else:\n",
        "              attrs_sign.append('-')\n",
        "          \n",
        "          top_words, token_signs = top_k_attrs(w_data, attrs_abs, attrs_sign, k = int(0.1*len(w_data)))\n",
        "          \n",
        "          changed_count = 0\n",
        "\n",
        "          for orig_index,t in enumerate(top_words_orig):\n",
        "            try:\n",
        "              ind = top_words.index(t)\n",
        "            except Exception as e:\n",
        "              ind = -1\n",
        "\n",
        "            if ind!=-1:\n",
        "              if token_signs_orig[orig_index] != token_signs[ind]:\n",
        "                  changed_count+=1\n",
        "\n",
        "        html = adv.visualize_token_attrs(w_data, a_data)\n",
        "        convert_html_to_pdf(html, dir+str(i)+'_'+str(labels_orig[i])+'_'+str(labels_new+0)+'.pdf')\n",
        "        # save_stats_mod(diff, diff_attr, changed_count, dir+'stats_'+str(i)+'_'+str(labels_orig[i])+'_'+str(labels_new+0)+'.txt')\n",
        "  \n",
        "  if type_gen:\n",
        "    # del babel_unattrib[None]\n",
        "    save_stats_gen(babel_total, babel_unattrib, dir+'stats_word_attributions.txt')"
      ],
      "execution_count": 30,
      "outputs": []
    },
    {
      "cell_type": "code",
      "metadata": {
        "id": "gWZS_Hcm8cO5"
      },
      "source": [
        "ATTRS_DIR = '/content/drive/My Drive/IG RESULTS/SKIPFLOW/P7/'\n",
        "ATTRS_TSV = '/content/drive/My Drive/IG RESULTS/SKIPFLOW/P7/attrs.tsv'"
      ],
      "execution_count": 31,
      "outputs": []
    },
    {
      "cell_type": "code",
      "metadata": {
        "id": "zt09B70cAlIZ",
        "colab": {
          "base_uri": "https://localhost:8080/"
        },
        "outputId": "4b9a42f3-fcbb-4030-8cf6-299bc95c916e"
      },
      "source": [
        "e_normal = E_list['normal']\n",
        "data_normal = save_normal_attrs(e_normal, labels_orig, 'normal')"
      ],
      "execution_count": 36,
      "outputs": [
        {
          "output_type": "stream",
          "text": [
            "It looks like you are passing a model with a scalar output and target is set to `None`.If your model is a regression model this will produce correct attributions. If your model is a classification model, targets for each datapoint must be defined. Not defining the target may lead to incorrect values for the attributions.Targets can be either the true classes or the classes predicted by the model.\n",
            "It looks like you are passing a model with a scalar output and target is set to `None`.If your model is a regression model this will produce correct attributions. If your model is a classification model, targets for each datapoint must be defined. Not defining the target may lead to incorrect values for the attributions.Targets can be either the true classes or the classes predicted by the model.\n",
            "It looks like you are passing a model with a scalar output and target is set to `None`.If your model is a regression model this will produce correct attributions. If your model is a classification model, targets for each datapoint must be defined. Not defining the target may lead to incorrect values for the attributions.Targets can be either the true classes or the classes predicted by the model.\n",
            "It looks like you are passing a model with a scalar output and target is set to `None`.If your model is a regression model this will produce correct attributions. If your model is a classification model, targets for each datapoint must be defined. Not defining the target may lead to incorrect values for the attributions.Targets can be either the true classes or the classes predicted by the model.\n",
            "It looks like you are passing a model with a scalar output and target is set to `None`.If your model is a regression model this will produce correct attributions. If your model is a classification model, targets for each datapoint must be defined. Not defining the target may lead to incorrect values for the attributions.Targets can be either the true classes or the classes predicted by the model.\n",
            "It looks like you are passing a model with a scalar output and target is set to `None`.If your model is a regression model this will produce correct attributions. If your model is a classification model, targets for each datapoint must be defined. Not defining the target may lead to incorrect values for the attributions.Targets can be either the true classes or the classes predicted by the model.\n",
            "It looks like you are passing a model with a scalar output and target is set to `None`.If your model is a regression model this will produce correct attributions. If your model is a classification model, targets for each datapoint must be defined. Not defining the target may lead to incorrect values for the attributions.Targets can be either the true classes or the classes predicted by the model.\n"
          ],
          "name": "stderr"
        }
      ]
    },
    {
      "cell_type": "code",
      "metadata": {
        "id": "DZ7mwk7HAlDi",
        "colab": {
          "base_uri": "https://localhost:8080/"
        },
        "outputId": "b09626d9-e34f-48b7-84fd-7979962fcec6"
      },
      "source": [
        "gc.collect()\n",
        "e_add_song = E_list['song_beg']\n",
        "save_attrs_pdf(e_add_song, data_normal, labels_orig, 'song_beg', type_add=True)\n",
        "\n",
        "gc.collect()\n",
        "e_add_song = E_list['song_end']\n",
        "save_attrs_pdf(e_add_song, data_normal, labels_orig, 'song_end', type_add=True)\n",
        "\n",
        "gc.collect()\n",
        "e_add_song = E_list['false_beg']\n",
        "save_attrs_pdf(e_add_song, data_normal, labels_orig, 'false_beg', type_add=True)\n",
        "\n",
        "gc.collect()\n",
        "e_add_song = E_list['false_end']\n",
        "save_attrs_pdf(e_add_song, data_normal, labels_orig, 'false_end', type_add=True)"
      ],
      "execution_count": 37,
      "outputs": [
        {
          "output_type": "stream",
          "text": [
            "It looks like you are passing a model with a scalar output and target is set to `None`.If your model is a regression model this will produce correct attributions. If your model is a classification model, targets for each datapoint must be defined. Not defining the target may lead to incorrect values for the attributions.Targets can be either the true classes or the classes predicted by the model.\n",
            "It looks like you are passing a model with a scalar output and target is set to `None`.If your model is a regression model this will produce correct attributions. If your model is a classification model, targets for each datapoint must be defined. Not defining the target may lead to incorrect values for the attributions.Targets can be either the true classes or the classes predicted by the model.\n",
            "It looks like you are passing a model with a scalar output and target is set to `None`.If your model is a regression model this will produce correct attributions. If your model is a classification model, targets for each datapoint must be defined. Not defining the target may lead to incorrect values for the attributions.Targets can be either the true classes or the classes predicted by the model.\n",
            "It looks like you are passing a model with a scalar output and target is set to `None`.If your model is a regression model this will produce correct attributions. If your model is a classification model, targets for each datapoint must be defined. Not defining the target may lead to incorrect values for the attributions.Targets can be either the true classes or the classes predicted by the model.\n",
            "It looks like you are passing a model with a scalar output and target is set to `None`.If your model is a regression model this will produce correct attributions. If your model is a classification model, targets for each datapoint must be defined. Not defining the target may lead to incorrect values for the attributions.Targets can be either the true classes or the classes predicted by the model.\n",
            "It looks like you are passing a model with a scalar output and target is set to `None`.If your model is a regression model this will produce correct attributions. If your model is a classification model, targets for each datapoint must be defined. Not defining the target may lead to incorrect values for the attributions.Targets can be either the true classes or the classes predicted by the model.\n",
            "It looks like you are passing a model with a scalar output and target is set to `None`.If your model is a regression model this will produce correct attributions. If your model is a classification model, targets for each datapoint must be defined. Not defining the target may lead to incorrect values for the attributions.Targets can be either the true classes or the classes predicted by the model.\n",
            "It looks like you are passing a model with a scalar output and target is set to `None`.If your model is a regression model this will produce correct attributions. If your model is a classification model, targets for each datapoint must be defined. Not defining the target may lead to incorrect values for the attributions.Targets can be either the true classes or the classes predicted by the model.\n",
            "It looks like you are passing a model with a scalar output and target is set to `None`.If your model is a regression model this will produce correct attributions. If your model is a classification model, targets for each datapoint must be defined. Not defining the target may lead to incorrect values for the attributions.Targets can be either the true classes or the classes predicted by the model.\n",
            "It looks like you are passing a model with a scalar output and target is set to `None`.If your model is a regression model this will produce correct attributions. If your model is a classification model, targets for each datapoint must be defined. Not defining the target may lead to incorrect values for the attributions.Targets can be either the true classes or the classes predicted by the model.\n",
            "It looks like you are passing a model with a scalar output and target is set to `None`.If your model is a regression model this will produce correct attributions. If your model is a classification model, targets for each datapoint must be defined. Not defining the target may lead to incorrect values for the attributions.Targets can be either the true classes or the classes predicted by the model.\n",
            "It looks like you are passing a model with a scalar output and target is set to `None`.If your model is a regression model this will produce correct attributions. If your model is a classification model, targets for each datapoint must be defined. Not defining the target may lead to incorrect values for the attributions.Targets can be either the true classes or the classes predicted by the model.\n",
            "It looks like you are passing a model with a scalar output and target is set to `None`.If your model is a regression model this will produce correct attributions. If your model is a classification model, targets for each datapoint must be defined. Not defining the target may lead to incorrect values for the attributions.Targets can be either the true classes or the classes predicted by the model.\n",
            "It looks like you are passing a model with a scalar output and target is set to `None`.If your model is a regression model this will produce correct attributions. If your model is a classification model, targets for each datapoint must be defined. Not defining the target may lead to incorrect values for the attributions.Targets can be either the true classes or the classes predicted by the model.\n",
            "It looks like you are passing a model with a scalar output and target is set to `None`.If your model is a regression model this will produce correct attributions. If your model is a classification model, targets for each datapoint must be defined. Not defining the target may lead to incorrect values for the attributions.Targets can be either the true classes or the classes predicted by the model.\n",
            "It looks like you are passing a model with a scalar output and target is set to `None`.If your model is a regression model this will produce correct attributions. If your model is a classification model, targets for each datapoint must be defined. Not defining the target may lead to incorrect values for the attributions.Targets can be either the true classes or the classes predicted by the model.\n",
            "It looks like you are passing a model with a scalar output and target is set to `None`.If your model is a regression model this will produce correct attributions. If your model is a classification model, targets for each datapoint must be defined. Not defining the target may lead to incorrect values for the attributions.Targets can be either the true classes or the classes predicted by the model.\n",
            "It looks like you are passing a model with a scalar output and target is set to `None`.If your model is a regression model this will produce correct attributions. If your model is a classification model, targets for each datapoint must be defined. Not defining the target may lead to incorrect values for the attributions.Targets can be either the true classes or the classes predicted by the model.\n",
            "It looks like you are passing a model with a scalar output and target is set to `None`.If your model is a regression model this will produce correct attributions. If your model is a classification model, targets for each datapoint must be defined. Not defining the target may lead to incorrect values for the attributions.Targets can be either the true classes or the classes predicted by the model.\n",
            "It looks like you are passing a model with a scalar output and target is set to `None`.If your model is a regression model this will produce correct attributions. If your model is a classification model, targets for each datapoint must be defined. Not defining the target may lead to incorrect values for the attributions.Targets can be either the true classes or the classes predicted by the model.\n",
            "It looks like you are passing a model with a scalar output and target is set to `None`.If your model is a regression model this will produce correct attributions. If your model is a classification model, targets for each datapoint must be defined. Not defining the target may lead to incorrect values for the attributions.Targets can be either the true classes or the classes predicted by the model.\n",
            "It looks like you are passing a model with a scalar output and target is set to `None`.If your model is a regression model this will produce correct attributions. If your model is a classification model, targets for each datapoint must be defined. Not defining the target may lead to incorrect values for the attributions.Targets can be either the true classes or the classes predicted by the model.\n",
            "It looks like you are passing a model with a scalar output and target is set to `None`.If your model is a regression model this will produce correct attributions. If your model is a classification model, targets for each datapoint must be defined. Not defining the target may lead to incorrect values for the attributions.Targets can be either the true classes or the classes predicted by the model.\n",
            "It looks like you are passing a model with a scalar output and target is set to `None`.If your model is a regression model this will produce correct attributions. If your model is a classification model, targets for each datapoint must be defined. Not defining the target may lead to incorrect values for the attributions.Targets can be either the true classes or the classes predicted by the model.\n",
            "It looks like you are passing a model with a scalar output and target is set to `None`.If your model is a regression model this will produce correct attributions. If your model is a classification model, targets for each datapoint must be defined. Not defining the target may lead to incorrect values for the attributions.Targets can be either the true classes or the classes predicted by the model.\n",
            "It looks like you are passing a model with a scalar output and target is set to `None`.If your model is a regression model this will produce correct attributions. If your model is a classification model, targets for each datapoint must be defined. Not defining the target may lead to incorrect values for the attributions.Targets can be either the true classes or the classes predicted by the model.\n",
            "It looks like you are passing a model with a scalar output and target is set to `None`.If your model is a regression model this will produce correct attributions. If your model is a classification model, targets for each datapoint must be defined. Not defining the target may lead to incorrect values for the attributions.Targets can be either the true classes or the classes predicted by the model.\n",
            "It looks like you are passing a model with a scalar output and target is set to `None`.If your model is a regression model this will produce correct attributions. If your model is a classification model, targets for each datapoint must be defined. Not defining the target may lead to incorrect values for the attributions.Targets can be either the true classes or the classes predicted by the model.\n"
          ],
          "name": "stderr"
        }
      ]
    },
    {
      "cell_type": "code",
      "metadata": {
        "id": "5AwmphicAlAm",
        "colab": {
          "base_uri": "https://localhost:8080/"
        },
        "outputId": "0ddc6c35-2535-4b18-9e41-53ce03a093c9"
      },
      "source": [
        "gc.collect()\n",
        "e_add_song = E_list['syn']\n",
        "save_attrs_pdf(e_add_song, data_normal, labels_orig, 'syn', type_mod = True)"
      ],
      "execution_count": 38,
      "outputs": [
        {
          "output_type": "stream",
          "text": [
            "It looks like you are passing a model with a scalar output and target is set to `None`.If your model is a regression model this will produce correct attributions. If your model is a classification model, targets for each datapoint must be defined. Not defining the target may lead to incorrect values for the attributions.Targets can be either the true classes or the classes predicted by the model.\n",
            "It looks like you are passing a model with a scalar output and target is set to `None`.If your model is a regression model this will produce correct attributions. If your model is a classification model, targets for each datapoint must be defined. Not defining the target may lead to incorrect values for the attributions.Targets can be either the true classes or the classes predicted by the model.\n",
            "It looks like you are passing a model with a scalar output and target is set to `None`.If your model is a regression model this will produce correct attributions. If your model is a classification model, targets for each datapoint must be defined. Not defining the target may lead to incorrect values for the attributions.Targets can be either the true classes or the classes predicted by the model.\n",
            "It looks like you are passing a model with a scalar output and target is set to `None`.If your model is a regression model this will produce correct attributions. If your model is a classification model, targets for each datapoint must be defined. Not defining the target may lead to incorrect values for the attributions.Targets can be either the true classes or the classes predicted by the model.\n",
            "It looks like you are passing a model with a scalar output and target is set to `None`.If your model is a regression model this will produce correct attributions. If your model is a classification model, targets for each datapoint must be defined. Not defining the target may lead to incorrect values for the attributions.Targets can be either the true classes or the classes predicted by the model.\n",
            "It looks like you are passing a model with a scalar output and target is set to `None`.If your model is a regression model this will produce correct attributions. If your model is a classification model, targets for each datapoint must be defined. Not defining the target may lead to incorrect values for the attributions.Targets can be either the true classes or the classes predicted by the model.\n",
            "It looks like you are passing a model with a scalar output and target is set to `None`.If your model is a regression model this will produce correct attributions. If your model is a classification model, targets for each datapoint must be defined. Not defining the target may lead to incorrect values for the attributions.Targets can be either the true classes or the classes predicted by the model.\n"
          ],
          "name": "stderr"
        }
      ]
    },
    {
      "cell_type": "code",
      "metadata": {
        "id": "WNeAKNwaAk9Y",
        "colab": {
          "base_uri": "https://localhost:8080/"
        },
        "outputId": "f97e0c6e-487b-4c47-91e5-c266b2bf403f"
      },
      "source": [
        "gc.collect()\n",
        "e_add_song = E_list['shuffle']\n",
        "save_attrs_pdf(e_add_song, data_normal, labels_orig, 'shuffle', type_mod = True)"
      ],
      "execution_count": 39,
      "outputs": [
        {
          "output_type": "stream",
          "text": [
            "It looks like you are passing a model with a scalar output and target is set to `None`.If your model is a regression model this will produce correct attributions. If your model is a classification model, targets for each datapoint must be defined. Not defining the target may lead to incorrect values for the attributions.Targets can be either the true classes or the classes predicted by the model.\n",
            "It looks like you are passing a model with a scalar output and target is set to `None`.If your model is a regression model this will produce correct attributions. If your model is a classification model, targets for each datapoint must be defined. Not defining the target may lead to incorrect values for the attributions.Targets can be either the true classes or the classes predicted by the model.\n",
            "It looks like you are passing a model with a scalar output and target is set to `None`.If your model is a regression model this will produce correct attributions. If your model is a classification model, targets for each datapoint must be defined. Not defining the target may lead to incorrect values for the attributions.Targets can be either the true classes or the classes predicted by the model.\n",
            "It looks like you are passing a model with a scalar output and target is set to `None`.If your model is a regression model this will produce correct attributions. If your model is a classification model, targets for each datapoint must be defined. Not defining the target may lead to incorrect values for the attributions.Targets can be either the true classes or the classes predicted by the model.\n",
            "It looks like you are passing a model with a scalar output and target is set to `None`.If your model is a regression model this will produce correct attributions. If your model is a classification model, targets for each datapoint must be defined. Not defining the target may lead to incorrect values for the attributions.Targets can be either the true classes or the classes predicted by the model.\n",
            "It looks like you are passing a model with a scalar output and target is set to `None`.If your model is a regression model this will produce correct attributions. If your model is a classification model, targets for each datapoint must be defined. Not defining the target may lead to incorrect values for the attributions.Targets can be either the true classes or the classes predicted by the model.\n",
            "It looks like you are passing a model with a scalar output and target is set to `None`.If your model is a regression model this will produce correct attributions. If your model is a classification model, targets for each datapoint must be defined. Not defining the target may lead to incorrect values for the attributions.Targets can be either the true classes or the classes predicted by the model.\n"
          ],
          "name": "stderr"
        }
      ]
    },
    {
      "cell_type": "code",
      "metadata": {
        "id": "UMZZCdVUAk7j"
      },
      "source": [
        "from google_drive_downloader import GoogleDriveDownloader as gdd\n",
        "gdd.download_file_from_google_drive(file_id='1CIEpiDmzLmJ6LMCVSOmCKw_eOg4ocuS4', dest_path='/content/AES.zip', unzip=True)"
      ],
      "execution_count": 32,
      "outputs": []
    },
    {
      "cell_type": "code",
      "metadata": {
        "colab": {
          "base_uri": "https://localhost:8080/"
        },
        "id": "pErMuofrM9HT",
        "outputId": "baeb0d49-be2f-4bc2-d7b0-630d07472533"
      },
      "source": [
        "tokenizer.texts_to_sequences([texts[0].lower()]) == tokenizer.texts_to_sequences([texts[0]])"
      ],
      "execution_count": 36,
      "outputs": [
        {
          "output_type": "execute_result",
          "data": {
            "text/plain": [
              "True"
            ]
          },
          "metadata": {
            "tags": []
          },
          "execution_count": 36
        }
      ]
    },
    {
      "cell_type": "code",
      "metadata": {
        "id": "1wfsjKViAk5b",
        "colab": {
          "base_uri": "https://localhost:8080/"
        },
        "outputId": "dca50254-218e-48ef-aff6-108bdb4ae5a3"
      },
      "source": [
        "gc.collect()\n",
        "babel_data = pd.read_csv('/content/AES_testcases/prompt'+str(essay_set_id)+'/prompt 7 babel - Sheet1.csv', names= ['text'])\n",
        "babel_data['label_orig'] = 0\n",
        "\n",
        "texts = babel_data['text'].tolist()\n",
        "\n",
        "sequences=tokenizer.texts_to_sequences(texts) #returns list of sequences\n",
        "data = pad_sequences(sequences, maxlen=MAX_SEQUENCE_LENGTH) #padding to max_length\n",
        "E_babel= data\n",
        "\n",
        "e_add_song = E_babel\n",
        "save_attrs_pdf(e_add_song, (1,2), babel_data['label_orig'].tolist(), 'babel', type_gen = True)"
      ],
      "execution_count": 33,
      "outputs": [
        {
          "output_type": "stream",
          "text": [
            "It looks like you are passing a model with a scalar output and target is set to `None`.If your model is a regression model this will produce correct attributions. If your model is a classification model, targets for each datapoint must be defined. Not defining the target may lead to incorrect values for the attributions.Targets can be either the true classes or the classes predicted by the model.\n",
            "It looks like you are passing a model with a scalar output and target is set to `None`.If your model is a regression model this will produce correct attributions. If your model is a classification model, targets for each datapoint must be defined. Not defining the target may lead to incorrect values for the attributions.Targets can be either the true classes or the classes predicted by the model.\n",
            "It looks like you are passing a model with a scalar output and target is set to `None`.If your model is a regression model this will produce correct attributions. If your model is a classification model, targets for each datapoint must be defined. Not defining the target may lead to incorrect values for the attributions.Targets can be either the true classes or the classes predicted by the model.\n",
            "It looks like you are passing a model with a scalar output and target is set to `None`.If your model is a regression model this will produce correct attributions. If your model is a classification model, targets for each datapoint must be defined. Not defining the target may lead to incorrect values for the attributions.Targets can be either the true classes or the classes predicted by the model.\n",
            "It looks like you are passing a model with a scalar output and target is set to `None`.If your model is a regression model this will produce correct attributions. If your model is a classification model, targets for each datapoint must be defined. Not defining the target may lead to incorrect values for the attributions.Targets can be either the true classes or the classes predicted by the model.\n",
            "It looks like you are passing a model with a scalar output and target is set to `None`.If your model is a regression model this will produce correct attributions. If your model is a classification model, targets for each datapoint must be defined. Not defining the target may lead to incorrect values for the attributions.Targets can be either the true classes or the classes predicted by the model.\n",
            "It looks like you are passing a model with a scalar output and target is set to `None`.If your model is a regression model this will produce correct attributions. If your model is a classification model, targets for each datapoint must be defined. Not defining the target may lead to incorrect values for the attributions.Targets can be either the true classes or the classes predicted by the model.\n",
            "It looks like you are passing a model with a scalar output and target is set to `None`.If your model is a regression model this will produce correct attributions. If your model is a classification model, targets for each datapoint must be defined. Not defining the target may lead to incorrect values for the attributions.Targets can be either the true classes or the classes predicted by the model.\n",
            "It looks like you are passing a model with a scalar output and target is set to `None`.If your model is a regression model this will produce correct attributions. If your model is a classification model, targets for each datapoint must be defined. Not defining the target may lead to incorrect values for the attributions.Targets can be either the true classes or the classes predicted by the model.\n",
            "It looks like you are passing a model with a scalar output and target is set to `None`.If your model is a regression model this will produce correct attributions. If your model is a classification model, targets for each datapoint must be defined. Not defining the target may lead to incorrect values for the attributions.Targets can be either the true classes or the classes predicted by the model.\n",
            "It looks like you are passing a model with a scalar output and target is set to `None`.If your model is a regression model this will produce correct attributions. If your model is a classification model, targets for each datapoint must be defined. Not defining the target may lead to incorrect values for the attributions.Targets can be either the true classes or the classes predicted by the model.\n",
            "It looks like you are passing a model with a scalar output and target is set to `None`.If your model is a regression model this will produce correct attributions. If your model is a classification model, targets for each datapoint must be defined. Not defining the target may lead to incorrect values for the attributions.Targets can be either the true classes or the classes predicted by the model.\n",
            "It looks like you are passing a model with a scalar output and target is set to `None`.If your model is a regression model this will produce correct attributions. If your model is a classification model, targets for each datapoint must be defined. Not defining the target may lead to incorrect values for the attributions.Targets can be either the true classes or the classes predicted by the model.\n",
            "It looks like you are passing a model with a scalar output and target is set to `None`.If your model is a regression model this will produce correct attributions. If your model is a classification model, targets for each datapoint must be defined. Not defining the target may lead to incorrect values for the attributions.Targets can be either the true classes or the classes predicted by the model.\n",
            "It looks like you are passing a model with a scalar output and target is set to `None`.If your model is a regression model this will produce correct attributions. If your model is a classification model, targets for each datapoint must be defined. Not defining the target may lead to incorrect values for the attributions.Targets can be either the true classes or the classes predicted by the model.\n"
          ],
          "name": "stderr"
        }
      ]
    },
    {
      "cell_type": "code",
      "metadata": {
        "colab": {
          "base_uri": "https://localhost:8080/"
        },
        "id": "K8f3kWRwgmyI",
        "outputId": "b9236ffc-7594-41ef-afb6-c6fa7286fa7a"
      },
      "source": [
        "len(data_normal[0][0])"
      ],
      "execution_count": 42,
      "outputs": [
        {
          "output_type": "execute_result",
          "data": {
            "text/plain": [
              "500"
            ]
          },
          "metadata": {
            "tags": []
          },
          "execution_count": 42
        }
      ]
    },
    {
      "cell_type": "code",
      "metadata": {
        "id": "nwnmEtcKxKmb"
      },
      "source": [
        ""
      ],
      "execution_count": null,
      "outputs": []
    },
    {
      "cell_type": "code",
      "metadata": {
        "id": "0jWHf7_SxKi6"
      },
      "source": [
        ""
      ],
      "execution_count": null,
      "outputs": []
    },
    {
      "cell_type": "code",
      "metadata": {
        "id": "3maFN--QxKhA"
      },
      "source": [
        ""
      ],
      "execution_count": null,
      "outputs": []
    },
    {
      "cell_type": "code",
      "metadata": {
        "id": "3FkvXrLUxF7h"
      },
      "source": [
        "#######################   ATTTTTTTRRSRRRRRSSS"
      ],
      "execution_count": 45,
      "outputs": []
    },
    {
      "cell_type": "code",
      "metadata": {
        "id": "PiSBpHT4gmvg"
      },
      "source": [
        "def get_w_a(essay_type):\r\n",
        "  ATTRS_DIR = '/content/drive/MyDrive/IG RESULTS/SKIPFLOW/P7/'\r\n",
        "\r\n",
        "  ### NORMAL\r\n",
        "  path = ATTRS_DIR + 'attrs_'+essay_type+'.tsv'\r\n",
        "  w = []\r\n",
        "  a = []\r\n",
        "\r\n",
        "  with open(path, 'r') as f:\r\n",
        "    for line in f:\r\n",
        "        line = line.strip()\r\n",
        "        question_attrs = line.split('\\t')[0]\r\n",
        "        question_tokens = []\r\n",
        "        attrs = []\r\n",
        "        for word_attr in question_attrs.split('||'): \r\n",
        "          if word_attr != 'done':\r\n",
        "            word, attr = word_attr.split('|')\r\n",
        "            question_tokens.append(word)\r\n",
        "            attrs.append(float(attr))\r\n",
        "        question_tokens = question_tokens\r\n",
        "        attrs = attrs + [0]*(500 - len(attrs))\r\n",
        "\r\n",
        "        w.append(question_tokens)\r\n",
        "        a.append(attrs)\r\n",
        "  return a[:-1], w[:-1]"
      ],
      "execution_count": 36,
      "outputs": []
    },
    {
      "cell_type": "code",
      "metadata": {
        "id": "JJ1xus46gms5"
      },
      "source": [
        "def save_stats_add(diff, diff_attr, percent, output_filename):\r\n",
        "  result = open(output_filename, 'w')\r\n",
        "  result.write('\\ndiff in scores:  '+str(diff))\r\n",
        "  result.write('\\ndiff in attrs:  '+ str(diff_attr))\r\n",
        "  result.write('\\npercent of top words in added words:  '+ str(percent))\r\n",
        "  result.close()\r\n",
        "\r\n",
        "def save_stats_mod_shuffle(diff, diff_attr, changed_no,output_filename):\r\n",
        "  result = open(output_filename, 'w')\r\n",
        "  result.write('\\ndiff in scores:  '+str(diff))\r\n",
        "  result.write('\\ndiff in attrs:  '+ str(diff_attr))\r\n",
        "  result.write('\\nno of top words which changed attr:  '+ str(changed_no))\r\n",
        "  result.close()\r\n",
        "\r\n",
        "def save_stats_mod_syn(diff, diff_attr, changed_top_no,changed_bottom_no, top_words, bottom_words, output_filename):\r\n",
        "  result = open(output_filename, 'w')\r\n",
        "  result.write('\\n diff in scores:  '+str(diff))\r\n",
        "  result.write('\\n diff in attrs:  '+ str(diff_attr))\r\n",
        "  result.write('\\n no of top words which changed attr:  '+ str(changed_top_no))\r\n",
        "  result.write('\\n no of bottom words which changed attr:  '+ str(changed_bottom_no))\r\n",
        "  result.write('\\n top words which changed attr:  '+ str(top_words))\r\n",
        "  result.write('\\n bottom words which changed attr:  '+ str(bottom_words))\r\n",
        "  result.close()\r\n",
        "\r\n",
        "def subfinder(l, sl):\r\n",
        "    sll=len(sl)\r\n",
        "    for ind in (i for i,e in enumerate(l) if e==sl[0]):\r\n",
        "        if l[ind:ind+sll]==sl:\r\n",
        "            return ind,ind+sll-1\r\n",
        "\r\n",
        "def top_k_attrs(tokens, attrs, sign = None, k=None):\r\n",
        "    k = min(k, len(tokens))\r\n",
        "    \r\n",
        "    if sign != None:\r\n",
        "      tokens_list = []\r\n",
        "      signs_list = []\r\n",
        "      for i in np.argpartition(attrs, -k)[-k:]:\r\n",
        "          tokens_list.append(tokens[i])\r\n",
        "          signs_list.append(sign[i])\r\n",
        "      return  tokens_list , signs_list\r\n",
        "    \r\n",
        "    else:\r\n",
        "      return ([tokens[i] for i in np.argpartition(attrs, -k)[-k:]])\r\n",
        "\r\n",
        "def bottom_k_attrs(tokens, attrs, sign = None, k=None):\r\n",
        "    k = min(k, len(tokens))\r\n",
        "\r\n",
        "    if sign != None:\r\n",
        "      tokens_list = []\r\n",
        "      signs_list = []\r\n",
        "      for i in np.argpartition(attrs, k)[:k]:\r\n",
        "          tokens_list.append(tokens[i])\r\n",
        "          signs_list.append(sign[i])\r\n",
        "      return  tokens_list , signs_list\r\n",
        "    \r\n",
        "    else:\r\n",
        "      return ([tokens[i] for i in np.argpartition(attrs, k)[:k]])"
      ],
      "execution_count": 121,
      "outputs": []
    },
    {
      "cell_type": "code",
      "metadata": {
        "id": "ncBTyRHEGtLw"
      },
      "source": [
        "adv.predict_and_norm()[0]"
      ],
      "execution_count": null,
      "outputs": []
    },
    {
      "cell_type": "code",
      "metadata": {
        "id": "8ZsltAEJgmqX"
      },
      "source": [
        "def save_big_attrs_pdf(essay_type, type_add = False, type_mod = False, type_gen = False):\r\n",
        "  ATTRS_DIR = '/content/drive/MyDrive/IG RESULTS/SKIPFLOW/P7/'\r\n",
        "  dir =  ATTRS_DIR\r\n",
        "  if not os.path.exists(dir):\r\n",
        "    os.makedirs(dir)\r\n",
        "\r\n",
        "  pattern_none = [None, None, None, None, None]\r\n",
        "  \r\n",
        "  if type_add:\r\n",
        "    diff_array = [] \r\n",
        "    diff_attr_array = []\r\n",
        "    percent_array = []\r\n",
        "\r\n",
        "  if type_mod:\r\n",
        "    diff_array = []\r\n",
        "    diff_attr_array = []\r\n",
        "    changed_count_array = []\r\n",
        "    changed_count_top_array = []\r\n",
        "    changed_count_bottom_array = []\r\n",
        "    changed_top_words = {}\r\n",
        "    changed_bottom_words = {}\r\n",
        "\r\n",
        "  ### NORMAL\r\n",
        "  a, w = get_w_a('normal')\r\n",
        "  \r\n",
        "  w_normal = []\r\n",
        "  for i,x in enumerate(w):\r\n",
        "    w_normal.append(x)\r\n",
        "  \r\n",
        "  w_normal = tokenizer.texts_to_sequences(w_normal)\r\n",
        "  if 'beg' in essay_type:\r\n",
        "    w_normal = pad_sequences(w_normal, maxlen=500, padding = 'post', truncating = 'post')\r\n",
        "  else:\r\n",
        "    w_normal = pad_sequences(w_normal, maxlen=500, padding = 'pre', truncating = 'pre')\r\n",
        "\r\n",
        "  labs_normal = adv.predict_and_norm(w_normal)\r\n",
        "\r\n",
        "  ### ADV\r\n",
        "  a_new, w_new = get_w_a(essay_type)\r\n",
        "  \r\n",
        "  w_adv = []\r\n",
        "  for i,x in enumerate(w_new):\r\n",
        "    w_adv.append(x)\r\n",
        "  \r\n",
        "  w_adv = tokenizer.texts_to_sequences(w_adv)\r\n",
        "  if 'beg' in essay_type:\r\n",
        "    w_adv = pad_sequences(w_adv, maxlen=500, padding = 'post', truncating = 'post')\r\n",
        "  else:\r\n",
        "    w_adv = pad_sequences(w_adv, maxlen=500, padding = 'pre', truncating = 'pre')\r\n",
        "\r\n",
        "  labs_adv = adv.predict_and_norm(w_adv)\r\n",
        "\r\n",
        "  for i,essay in enumerate(w_new):\r\n",
        "    attrs, words= a_new[i], essay\r\n",
        "    words = words + [None]*(500 - len(words))   \r\n",
        "    w[i] = w[i] + [None]*(500 - len(w[i]))\r\n",
        "      \r\n",
        "    if type_add:\r\n",
        "        try:\r\n",
        "          loc = subfinder(w[i], pattern_none)[0]\r\n",
        "        except Exception as e:\r\n",
        "          loc = len(w[i])\r\n",
        "        \r\n",
        "        try:\r\n",
        "          loc2 = subfinder(words, pattern_none)[0]\r\n",
        "        except Exception as e:\r\n",
        "          loc2 = len(words)\r\n",
        "\r\n",
        "        # print(loc, loc2, w[i])\r\n",
        "        if essay_type == 'song_beg' or essay_type =='false_beg' :\r\n",
        "          pattern = w[i][:5]\r\n",
        "          loc_patt = subfinder(words, pattern)[0] \r\n",
        "          # print(loc_patt)\r\n",
        "          new_w = words[:loc_patt]\r\n",
        "          new_a = attrs[:loc_patt]\r\n",
        "          other_a = attrs[loc_patt:loc2]\r\n",
        "\r\n",
        "        elif essay_type == 'song_end' or essay_type =='false_end':\r\n",
        "          new_w = words[loc:loc2]\r\n",
        "          new_a = attrs[loc:loc2]\r\n",
        "          other_a = attrs[:loc]\r\n",
        "          # print(len(new_w))\r\n",
        "\r\n",
        "        if new_w != []:\r\n",
        "          top_words_orig = top_k_attrs(w[i], a[i], k = int(0.2*loc))\r\n",
        "          top_words = top_k_attrs(words , attrs, k = int(0.2*loc2))\r\n",
        "\r\n",
        "          top_words_final = [x for x in top_words if x not in top_words_orig]\r\n",
        "\r\n",
        "          diff_attr_frac = []\r\n",
        "          for i_attrs in range(0,len(other_a), len(new_a)):\r\n",
        "            if i_attrs+len(new_a) < len(other_a):\r\n",
        "              diff_attr_frac.append(   sum(other_a[   i_attrs:i_attrs+len(new_a)  ])  )\r\n",
        "            else:\r\n",
        "              diff_attr_frac.append(   sum(other_a[   i_attrs:len(other_a)  ])  )\r\n",
        "              break\r\n",
        "\r\n",
        "          new_diff_frac = sum(diff_attr_frac) / len(diff_attr_frac)\r\n",
        "\r\n",
        "          diff_attr = sum(new_a)/new_diff_frac\r\n",
        "          diff_attr_array.append(diff_attr)\r\n",
        "\r\n",
        "          percent = len(top_words_final)/len(new_w)\r\n",
        "          percent_array.append(percent)\r\n",
        "    \r\n",
        "    elif type_mod:\r\n",
        "        \r\n",
        "        diff_attr = sum(attrs) - sum(a[i])\r\n",
        "        diff_attr_array.append(diff_attr)\r\n",
        "\r\n",
        "        ###### SYN\r\n",
        "\r\n",
        "        if essay_type == 'syn':\r\n",
        "          # normal\r\n",
        "          try:\r\n",
        "            loc = subfinder(w[i], pattern_none)[0]\r\n",
        "          except Exception as e:\r\n",
        "            loc = len(w[i])\r\n",
        "\r\n",
        "          attrs_abs=[]\r\n",
        "          attrs_sign_orig =[]\r\n",
        "          for x in a[i]:\r\n",
        "            attrs_abs.append(abs(x))\r\n",
        "            if x>0:\r\n",
        "              attrs_sign_orig.append('+')\r\n",
        "            else:\r\n",
        "              attrs_sign_orig.append('-')\r\n",
        "\r\n",
        "          top_words_orig, token_signs_orig = top_k_attrs(w[i][:loc], attrs_abs[:loc], attrs_sign_orig[:loc], k = int(0.2*loc))\r\n",
        "          bottom_words_orig, bottom_token_signs_orig = bottom_k_attrs(w[i][:loc], attrs_abs[:loc], attrs_sign_orig[:loc], k = int(0.2*loc))\r\n",
        "          \r\n",
        "          # adv\r\n",
        "          try:\r\n",
        "            loc2 = subfinder(words, pattern_none)[0]\r\n",
        "          except Exception as e:\r\n",
        "            loc2 = len(words)\r\n",
        "          \r\n",
        "          attrs_abs=[]\r\n",
        "          attrs_sign =[]\r\n",
        "          for x in attrs:\r\n",
        "            attrs_abs.append(abs(x))\r\n",
        "            if x>0:\r\n",
        "              attrs_sign.append('+')\r\n",
        "            else:\r\n",
        "              attrs_sign.append('-')\r\n",
        "          \r\n",
        "          top_words, token_signs = top_k_attrs(words[:loc2], attrs_abs[:loc2], attrs_sign[:loc2], k = int(0.2*loc2))\r\n",
        "          bottom_words, bottom_token_signs = bottom_k_attrs(words[:loc2], attrs_abs[:loc2], attrs_sign[:loc2], k = int(0.2*loc2))\r\n",
        "\r\n",
        "          changed_count_top = 0\r\n",
        "          changed_count_bottom = 0\r\n",
        "          \r\n",
        "          # top    \r\n",
        "          for orig_index,t in enumerate(top_words_orig):\r\n",
        "            try:\r\n",
        "              ind = w[i].index(t)\r\n",
        "            except Exception as e:\r\n",
        "              ind = -1\r\n",
        "\r\n",
        "            if ind!=-1:\r\n",
        "              if attrs_sign[ind] != attrs_sign_orig[ind]:\r\n",
        "                  changed_count_top+=1\r\n",
        "                  changed_top_words[t] = words[ind]\r\n",
        "          \r\n",
        "          # bottom\r\n",
        "          for orig_index,t in enumerate(bottom_words_orig):\r\n",
        "            try:\r\n",
        "              ind = w[i].index(t)\r\n",
        "            except Exception as e:\r\n",
        "              ind = -1\r\n",
        "\r\n",
        "            if ind!=-1:\r\n",
        "              if attrs_sign[ind] != attrs_sign_orig[ind]:\r\n",
        "                  changed_count_bottom+=1\r\n",
        "                  changed_bottom_words[t] = words[ind]\r\n",
        "          \r\n",
        "          changed_count_top_array.append(changed_count_top)\r\n",
        "          changed_count_bottom_array.append(changed_count_bottom)\r\n",
        "\r\n",
        "        ###### SHUFFLE \r\n",
        "        if essay_type == 'shuffle':\r\n",
        "          # print(i, len(w[i]), w[i])\r\n",
        "          try:\r\n",
        "            loc = subfinder(w[i], pattern_none)[0]\r\n",
        "          except Exception as e:\r\n",
        "            loc = len(w[i])\r\n",
        "          \r\n",
        "          attrs_abs=[]\r\n",
        "          attrs_sign =[]\r\n",
        "          for x in a[i]:\r\n",
        "            attrs_abs.append(abs(x))\r\n",
        "            if x>0:\r\n",
        "              attrs_sign.append('+')\r\n",
        "            else:\r\n",
        "              attrs_sign.append('-')\r\n",
        "\r\n",
        "          top_words_orig, token_signs_orig = top_k_attrs(w[i], attrs_abs, attrs_sign, k = int(0.2*loc))\r\n",
        "          \r\n",
        "          try:\r\n",
        "            loc = subfinder(words, pattern_none)[0]\r\n",
        "          except Exception as e:\r\n",
        "            loc = len(words)\r\n",
        "\r\n",
        "          attrs_abs=[]\r\n",
        "          attrs_sign =[]\r\n",
        "          for x in attrs:\r\n",
        "            attrs_abs.append(abs(x))\r\n",
        "            if x>0:\r\n",
        "              attrs_sign.append('+')\r\n",
        "            else:\r\n",
        "              attrs_sign.append('-')\r\n",
        "          \r\n",
        "          top_words, token_signs = top_k_attrs(words, attrs_abs, attrs_sign, k = int(0.2*loc))\r\n",
        "          \r\n",
        "          changed_count = 0\r\n",
        "\r\n",
        "          for orig_index,t in enumerate(top_words_orig):\r\n",
        "            try:\r\n",
        "              ind = top_words.index(t)\r\n",
        "            except Exception as e:\r\n",
        "              ind = -1\r\n",
        "\r\n",
        "            if ind!=-1:\r\n",
        "              if token_signs_orig[orig_index] != token_signs[ind]:\r\n",
        "                  changed_count+=1\r\n",
        "          changed_count_array.append(changed_count)\r\n",
        "\r\n",
        "  def Average(lst): \r\n",
        "    return sum(lst) / len(lst) \r\n",
        "  \r\n",
        "  if type_add:\r\n",
        "    diff_array = [abs(labs_normal[i] -labs_adv[i]) for i in range(len(labs_adv))]\r\n",
        "    save_stats_add(Average(diff_array), Average(diff_attr_array), Average(percent_array),       dir+'stats_'+essay_type+'.txt')\r\n",
        "\r\n",
        "  if type_mod and essay_type == 'syn':\r\n",
        "    diff_array = [abs(labs_normal[i] -labs_adv[i]) for i in range(len(labs_adv))]\r\n",
        "    save_stats_mod_syn(Average(diff_array), Average(diff_attr_array), Average(changed_count_top_array), \\\r\n",
        "                   Average(changed_count_bottom_array), set(changed_top_words),  set(changed_bottom_words), \\\r\n",
        "                   dir+'stats_'+essay_type+'.txt')\r\n",
        "\r\n",
        "  if type_mod and essay_type == 'shuffle':\r\n",
        "    diff_array = [abs(labs_normal[i] -labs_adv[i]) for i in range(len(labs_adv))]\r\n",
        "    save_stats_mod_shuffle(Average(diff_array), Average(diff_attr_array), Average(changed_count_array), dir+'stats_'+essay_type+'.txt')"
      ],
      "execution_count": 122,
      "outputs": []
    },
    {
      "cell_type": "code",
      "metadata": {
        "id": "ujEz7jphgmnI"
      },
      "source": [
        "save_big_attrs_pdf('song_beg', type_add=True)\r\n",
        "save_big_attrs_pdf('false_beg', type_add=True)"
      ],
      "execution_count": 123,
      "outputs": []
    },
    {
      "cell_type": "code",
      "metadata": {
        "id": "XCjT9SOj1vzr"
      },
      "source": [
        "save_big_attrs_pdf('song_end', type_add=True)\r\n",
        "save_big_attrs_pdf('false_end', type_add=True)"
      ],
      "execution_count": 124,
      "outputs": []
    },
    {
      "cell_type": "code",
      "metadata": {
        "id": "XTgtYw9ngmkB"
      },
      "source": [
        "save_big_attrs_pdf('shuffle', type_mod=True)\r\n",
        "save_big_attrs_pdf('syn', type_mod=True)"
      ],
      "execution_count": 111,
      "outputs": []
    },
    {
      "cell_type": "code",
      "metadata": {
        "id": "JOZN9LOGgmLl"
      },
      "source": [
        ""
      ],
      "execution_count": null,
      "outputs": []
    },
    {
      "cell_type": "code",
      "metadata": {
        "id": "-hUXyv4rgmJD"
      },
      "source": [
        ""
      ],
      "execution_count": null,
      "outputs": []
    },
    {
      "cell_type": "code",
      "metadata": {
        "id": "V95sRbVJgmFS"
      },
      "source": [
        ""
      ],
      "execution_count": null,
      "outputs": []
    },
    {
      "cell_type": "code",
      "metadata": {
        "id": "kK0XKcqogl85"
      },
      "source": [
        ""
      ],
      "execution_count": null,
      "outputs": []
    },
    {
      "cell_type": "code",
      "metadata": {
        "id": "Wa7IJIitgl5U"
      },
      "source": [
        ""
      ],
      "execution_count": null,
      "outputs": []
    },
    {
      "cell_type": "code",
      "metadata": {
        "id": "WI8AVa--Ak2Z"
      },
      "source": [
        "###NORMAL STUFF:\n",
        "def top_k_attrs(tokens, attrs, sign = None, k=None):\n",
        "    k = min(k, len(tokens))\n",
        "    \n",
        "    if sign != None:\n",
        "      tokens_list = []\n",
        "      signs_list = []\n",
        "      for i in np.argpartition(attrs, -k)[-k:]:\n",
        "          tokens_list.append(tokens[i].strip())\n",
        "          signs_list.append(sign[i])\n",
        "      return  tokens_list , signs_list\n",
        "    \n",
        "    else:\n",
        "      return ([tokens[i].strip() for i in np.argpartition(attrs, -k)[-k:]])\n",
        "\n",
        "# ATTRS_TSV = '/content/drive/My Drive/IG RESULTS/P1/MEMORY NET/attrs.tsv'\n",
        "lines = []\n",
        "with open(ATTRS_TSV) as f:\n",
        "    for line in f:\n",
        "      lines.append(line)\n",
        "lines = list(set(lines[-313:]))\n",
        "print(len(lines))\n",
        "def get_counts_list_normal( top_k = 10, is_abs = False, is_sign = False, is_percent = None):\n",
        "  \n",
        "  essay_list = []\n",
        "  counts_list = []\n",
        "  signs_list = []\n",
        "  for line in lines:\n",
        "      line = line.strip()\n",
        "      question_attrs = line.split('\\t')[0]\n",
        "      question_tokens = []\n",
        "      attrs = []\n",
        "      for word_attr in question_attrs.split('||'): \n",
        "          word, attr = word_attr.split('|')\n",
        "          question_tokens.append(word)\n",
        "          if is_abs:\n",
        "            attrs.append(abs(float(attr)))\n",
        "          else:\n",
        "            attrs.append(float(attr))\n",
        "\n",
        "      essay_list.append(question_tokens)\n",
        "      if is_percent!=None:\n",
        "        top_k = int(is_percent*len(question_tokens))\n",
        "  \n",
        "      if top_k == None:\n",
        "        k = len(question_tokens)\n",
        "      else:\n",
        "        k = min(top_k, len(question_tokens))\n",
        "      \n",
        "      if is_sign:\n",
        "        signs = []\n",
        "\n",
        "        for i in attrs:\n",
        "          if i>0:\n",
        "            signs.append('+')\n",
        "          else:\n",
        "            signs.append('-')\n",
        "      # get top k words by attribution \n",
        "      c_list, sign_list = top_k_attrs(question_tokens , attrs, signs,  k = k)\n",
        "      counts_list.extend(c_list)\n",
        "      signs_list.extend(sign_list)\n",
        "\n",
        "  return counts_list, signs_list, essay_list"
      ],
      "execution_count": null,
      "outputs": []
    },
    {
      "cell_type": "code",
      "metadata": {
        "id": "5NooFQPYAkzM"
      },
      "source": [
        "counts_list, signs_list, essay_list = get_counts_list_normal(is_percent = 0.1, is_sign = True)"
      ],
      "execution_count": null,
      "outputs": []
    },
    {
      "cell_type": "code",
      "metadata": {
        "id": "MdkLor3uAkwW"
      },
      "source": [
        "signs_dict= {}\n",
        "frequent_attributions = Counter(counts_list).most_common(50)\n",
        "for i in frequent_attributions:\n",
        "  w = i[0]\n",
        "  for j,w2 in enumerate(counts_list):\n",
        "    if w ==w2 :\n",
        "      if w not in signs_dict.keys():\n",
        "        signs_dict[w]=[]\n",
        "      else:\n",
        "        signs_dict[w].append(signs_list[j])\n",
        "\n",
        "for k,v in signs_dict.items():\n",
        "  signs_dict[k] = Counter(v)\n",
        "\n",
        "with open(ATTRS_DIR+'NORMAL_word_importance.txt','w') as f:\n",
        "  f.write(str(signs_dict))"
      ],
      "execution_count": null,
      "outputs": []
    },
    {
      "cell_type": "code",
      "metadata": {
        "id": "rRv-mAstAku0"
      },
      "source": [
        "###NORMAL UNATTRIBUTED STUFF:\n",
        "def bottom_k_attrs(tokens, attrs, k=None):\n",
        "    k = min(k, len(tokens))    \n",
        "    return ([tokens[i].strip() for i in np.argpartition(attrs, k)[:k]])\n",
        "\n",
        "def neg_k_attrs(tokens, attrs, k=None):\n",
        "    k = min(k, len(tokens))    \n",
        "    return ([tokens[i].strip() for i in np.argpartition(attrs, k)[:k] if attrs[i]<0 ])\n",
        "\n",
        "lines = []\n",
        "with open(ATTRS_TSV) as f:\n",
        "    for line in f:\n",
        "      lines.append(line)\n",
        "lines = list(set(lines[-271:]))\n",
        "\n",
        "def get_bottom_list_normal( top_k = 10, is_abs = True, is_percent = None, is_neg= False):\n",
        "  \n",
        "  counts_list = []\n",
        "  signs_list = []\n",
        "  for line in lines:\n",
        "      line = line.strip()\n",
        "      question_attrs = line.split('\\t')[0]\n",
        "      question_tokens = []\n",
        "      attrs = []\n",
        "      for word_attr in question_attrs.split('||'): \n",
        "          word, attr = word_attr.split('|')\n",
        "          question_tokens.append(word)\n",
        "          if is_abs:\n",
        "            attrs.append(abs(float(attr)))\n",
        "          else:\n",
        "            attrs.append(float(attr))\n",
        "\n",
        "      if is_percent!=None:\n",
        "        top_k = int(is_percent*len(question_tokens))\n",
        "  \n",
        "      if top_k == None:\n",
        "        k = len(question_tokens)\n",
        "      else:\n",
        "        k = min(top_k, len(question_tokens))\n",
        "      \n",
        "      # get top k words by attribution \n",
        "      if is_neg:\n",
        "        c_list = neg_k_attrs(question_tokens , attrs, k = k)\n",
        "      else:\n",
        "        c_list = bottom_k_attrs(question_tokens , attrs, k = k)\n",
        "      counts_list.extend(c_list)\n",
        "      \n",
        "  return counts_list\n",
        "\n",
        "counts_list_unattrib = get_bottom_list_normal(is_percent = 0.1)\n",
        "counts_list_neg = get_bottom_list_normal(is_percent = 0.1, is_abs = False, is_neg = True)\n",
        "\n",
        "with open(ATTRS_DIR+'NORMAL_bottom_attributed_words.txt','w') as f:\n",
        "  f.write(str(Counter(counts_list_unattrib).most_common(50)))\n",
        "with open(ATTRS_DIR+'NORMAL_negative_attributed_words.txt','w') as f:\n",
        "  f.write(str(Counter(counts_list_neg).most_common(50)))"
      ],
      "execution_count": null,
      "outputs": []
    },
    {
      "cell_type": "code",
      "metadata": {
        "id": "t0QFt43QAkrb"
      },
      "source": [
        "def plot_and_save(curve_data, filename, x = 'num. words in vocab', y= 'relative accuracy', title= 'title'):\n",
        "  import matplotlib.pyplot as plt\n",
        "  OVERSTABILITY_CURVE_FILE = filename\n",
        "  plt.plot(list(curve_data.keys()), list(curve_data.values()))\n",
        "  # plt.xscale('symlog')\n",
        "  plt.xlabel(x)\n",
        "  plt.ylabel(y)\n",
        "  plt.title(title)\n",
        "\n",
        "  plt.savefig(OVERSTABILITY_CURVE_FILE, format='eps')\n",
        "  plt.savefig(OVERSTABILITY_CURVE_FILE.replace('eps','png'), format='png')\n",
        "  plt.tight_layout()\n",
        "  plt.show()\n",
        "\n",
        "def plot_and_save_both(a,b, filename, x = 'num. words in vocab', y= 'relative accuracy', title= 'title'):\n",
        "  import matplotlib.pyplot as plt\n",
        "  OVERSTABILITY_CURVE_FILE = filename\n",
        "  plt.plot(a,b)\n",
        "  # plt.xscale('symlog')\n",
        "  ax = plt.gca()\n",
        "  ax.invert_xaxis()\n",
        "  plt.xlabel(x)\n",
        "  plt.title(title)\n",
        "  plt.ylabel(y)\n",
        "  plt.savefig(OVERSTABILITY_CURVE_FILE, format='eps')\n",
        "  plt.savefig(OVERSTABILITY_CURVE_FILE.replace('eps','png'), format='png')\n",
        "  plt.tight_layout()\n",
        "  plt.show()"
      ],
      "execution_count": 116,
      "outputs": []
    },
    {
      "cell_type": "code",
      "metadata": {
        "id": "jBhbEubOAkoz",
        "colab": {
          "base_uri": "https://localhost:8080/",
          "height": 1000
        },
        "outputId": "9f99bcfb-15ed-4456-d153-47aade94ed0d"
      },
      "source": [
        "### NORMAL ATTR %%%%\n",
        "data = E_list['normal']\n",
        "for i in range(len(data)):\n",
        "  attrs, words,c_data = adv.explain(data[i])\n",
        "  \n",
        "  attrs = attrs[c_data:]\n",
        "  attrs = [abs(x) for x in attrs]\n",
        "  words = words[c_data:]\n",
        "  s= {}\n",
        "  l = len(attrs)\n",
        "  for j in range(0, l, l//5):\n",
        "    s[(j)] = sum(attrs[j: j+ l//5])\n",
        "  \n",
        "  dir = ATTRS_DIR+'normal/'\n",
        "  plot_and_save(s, dir+str(i)+'_attrs_variation.txt', x= 'word number', y='absolute attribution')"
      ],
      "execution_count": 118,
      "outputs": [
        {
          "output_type": "stream",
          "text": [
            "It looks like you are passing a model with a scalar output and target is set to `None`.If your model is a regression model this will produce correct attributions. If your model is a classification model, targets for each datapoint must be defined. Not defining the target may lead to incorrect values for the attributions.Targets can be either the true classes or the classes predicted by the model.\n"
          ],
          "name": "stderr"
        },
        {
          "output_type": "display_data",
          "data": {
            "image/png": "[encoded data removed]",
            "text/plain": [
              "<Figure size 432x288 with 1 Axes>"
            ]
          },
          "metadata": {
            "tags": [],
            "needs_background": "light"
          }
        },
        {
          "output_type": "stream",
          "text": [
            "It looks like you are passing a model with a scalar output and target is set to `None`.If your model is a regression model this will produce correct attributions. If your model is a classification model, targets for each datapoint must be defined. Not defining the target may lead to incorrect values for the attributions.Targets can be either the true classes or the classes predicted by the model.\n"
          ],
          "name": "stderr"
        },
        {
          "output_type": "display_data",
          "data": {
            "image/png": "[encoded data removed]",
            "text/plain": [
              "<Figure size 432x288 with 1 Axes>"
            ]
          },
          "metadata": {
            "tags": [],
            "needs_background": "light"
          }
        },
        {
          "output_type": "stream",
          "text": [
            "It looks like you are passing a model with a scalar output and target is set to `None`.If your model is a regression model this will produce correct attributions. If your model is a classification model, targets for each datapoint must be defined. Not defining the target may lead to incorrect values for the attributions.Targets can be either the true classes or the classes predicted by the model.\n"
          ],
          "name": "stderr"
        },
        {
          "output_type": "display_data",
          "data": {
            "image/png": "[encoded data removed]",
            "text/plain": [
              "<Figure size 432x288 with 1 Axes>"
            ]
          },
          "metadata": {
            "tags": [],
            "needs_background": "light"
          }
        },
        {
          "output_type": "stream",
          "text": [
            "It looks like you are passing a model with a scalar output and target is set to `None`.If your model is a regression model this will produce correct attributions. If your model is a classification model, targets for each datapoint must be defined. Not defining the target may lead to incorrect values for the attributions.Targets can be either the true classes or the classes predicted by the model.\n"
          ],
          "name": "stderr"
        },
        {
          "output_type": "display_data",
          "data": {
            "image/png": "[encoded data removed]",
            "text/plain": [
              "<Figure size 432x288 with 1 Axes>"
            ]
          },
          "metadata": {
            "tags": [],
            "needs_background": "light"
          }
        },
        {
          "output_type": "stream",
          "text": [
            "It looks like you are passing a model with a scalar output and target is set to `None`.If your model is a regression model this will produce correct attributions. If your model is a classification model, targets for each datapoint must be defined. Not defining the target may lead to incorrect values for the attributions.Targets can be either the true classes or the classes predicted by the model.\n"
          ],
          "name": "stderr"
        },
        {
          "output_type": "display_data",
          "data": {
            "image/png": "[encoded data removed]",
            "text/plain": [
              "<Figure size 432x288 with 1 Axes>"
            ]
          },
          "metadata": {
            "tags": [],
            "needs_background": "light"
          }
        },
        {
          "output_type": "stream",
          "text": [
            "It looks like you are passing a model with a scalar output and target is set to `None`.If your model is a regression model this will produce correct attributions. If your model is a classification model, targets for each datapoint must be defined. Not defining the target may lead to incorrect values for the attributions.Targets can be either the true classes or the classes predicted by the model.\n"
          ],
          "name": "stderr"
        },
        {
          "output_type": "display_data",
          "data": {
            "image/png": "[encoded data removed]",
            "text/plain": [
              "<Figure size 432x288 with 1 Axes>"
            ]
          },
          "metadata": {
            "tags": [],
            "needs_background": "light"
          }
        },
        {
          "output_type": "stream",
          "text": [
            "It looks like you are passing a model with a scalar output and target is set to `None`.If your model is a regression model this will produce correct attributions. If your model is a classification model, targets for each datapoint must be defined. Not defining the target may lead to incorrect values for the attributions.Targets can be either the true classes or the classes predicted by the model.\n"
          ],
          "name": "stderr"
        },
        {
          "output_type": "display_data",
          "data": {
            "image/png": "[encoded data removed]",
            "text/plain": [
              "<Figure size 432x288 with 1 Axes>"
            ]
          },
          "metadata": {
            "tags": [],
            "needs_background": "light"
          }
        }
      ]
    },
    {
      "cell_type": "code",
      "metadata": {
        "id": "pGz88eWhUSWc"
      },
      "source": [
        "# with open('/content/drive/My Drive/IG RESULTS/MEM MODELS/tokenizer.pkl', 'rb') as f:\n",
        "word_to_idx = tokenizer.word_index\n",
        "\n",
        "idx_to_word = {v: k for k, v in word_to_idx.items()}"
      ],
      "execution_count": null,
      "outputs": []
    },
    {
      "cell_type": "code",
      "metadata": {
        "id": "pXFl74NPUSVe"
      },
      "source": [
        "lines = []\n",
        "with open(ATTRS_TSV) as f:\n",
        "    for line in f:\n",
        "      lines.append(line)\n",
        "lines = list(set(lines[-313:]))\n",
        "\n",
        "def get_essay_list(tsv_lines):\n",
        "  \n",
        "  essay_list = []\n",
        "  attrs_list = []\n",
        "  for line in tsv_lines:\n",
        "      line = line.strip()\n",
        "      question_attrs = line.split('\\t')[0]\n",
        "      question_tokens = []\n",
        "      attrs = []\n",
        "      for word_attr in question_attrs.split('||'): \n",
        "          word, attr = word_attr.split('|')\n",
        "          question_tokens.append(word)\n",
        "          attrs.append(float(attr))\n",
        "      \n",
        "      question_tokens_idx = tokenizer.texts_to_sequences([question_tokens])\n",
        "      l = len(question_tokens_idx[0])\n",
        "      question_tokens_idx = pad_sequences(question_tokens_idx, maxlen=MAX_SEQUENCE_LENGTH)[0]\n",
        "      essay_list.append(question_tokens_idx)\n",
        "      attrs_padded = [0.0]*(MAX_SEQUENCE_LENGTH - l) + attrs\n",
        "      attrs_list.append(attrs_padded)\n",
        "\n",
        "  return essay_list, attrs_list\n",
        "\n",
        "essay_list, attrs_list = get_essay_list(lines)"
      ],
      "execution_count": 37,
      "outputs": []
    },
    {
      "cell_type": "code",
      "metadata": {
        "id": "2sFoQoD3USUZ"
      },
      "source": [
        "def npos(orig, new):\n",
        "  count = 0\n",
        "  for i in range(len(orig)):\n",
        "    if new[i]>orig[i]:\n",
        "      count+=1 \n",
        "  return (count/len(orig))*100\n",
        "\n",
        "def nneg(orig, new):\n",
        "  count = 0\n",
        "  for i in range(len(orig)):\n",
        "    if new[i]<orig[i]:\n",
        "      count+=1 \n",
        "  return (count/len(orig))*100\n",
        "\n",
        "def nsame(orig, new):\n",
        "  count = 0\n",
        "  for i in range(len(orig)):\n",
        "    if new[i]==orig[i]:\n",
        "      count+=1 \n",
        "  return (count/len(orig))*100\n",
        "\n",
        "def mu(orig, new):\n",
        "  s=0\n",
        "  n = len(orig)\n",
        "  for i in range(n):\n",
        "    s+=(orig[i] - new[i])\n",
        "  return (s/n)/30\n",
        "\n",
        "def absmu(orig, new):\n",
        "  s=0\n",
        "  n = len(orig)\n",
        "  for i in range(n):\n",
        "    s+=(orig[i] - new[i])\n",
        "  return (abs(s)/n)/30\n",
        "\n",
        "def sd(orig, new):\n",
        "  mu_val = mu(orig, new)\n",
        "  s=0\n",
        "  n = len(orig)\n",
        "  for i in range(n):\n",
        "    s+=(orig[i] - new[i] - mu_val)**2\n",
        "  return ((s/n)**(1/2))/30\n",
        "\n",
        "def mupos(orig, new):\n",
        "  s=0\n",
        "  n = len(orig)\n",
        "  for i in range(n):\n",
        "    if new[i]>orig[i]:\n",
        "      s+=(orig[i] - new[i])\n",
        "  return (s/n)/30\n",
        "\n",
        "def muneg(orig, new):\n",
        "  s=0\n",
        "  n = len(orig)\n",
        "  for i in range(n):\n",
        "    if orig[i] > new[i]:\n",
        "      s+=-(orig[i] - new[i])\n",
        "  return (s/n)/30\n",
        "\n",
        "def get_pred_stats(orig, new, filename, K):\n",
        "  b = ('NPOS',  npos(orig, new))\n",
        "  c = ('NNEG',  nneg(orig, new))\n",
        "  d = ('NSAME', nsame(orig, new))\n",
        "  e = ('MU',    mu(orig, new))\n",
        "  f = ('ABSMU', absmu(orig, new))\n",
        "  g = ('SD',    sd(orig, new))\n",
        "  h = ('MUPOS', mupos(orig, new))\n",
        "  i = ('MUNEG', muneg(orig, new))\n",
        "  with open(filename, 'a') as file:\n",
        "    file.write(str(K)+\"___\"+str([b,c,d,e,f,g,h,i])+ \"\\n\")"
      ],
      "execution_count": 42,
      "outputs": []
    },
    {
      "cell_type": "code",
      "metadata": {
        "id": "iYpi9yR3xjks"
      },
      "source": [
        "pred_array_orig = []\n",
        "pred = adv.predict_and_norm(np.array(essay_list))\n",
        "pred_array_orig.extend(pred)"
      ],
      "execution_count": 43,
      "outputs": []
    },
    {
      "cell_type": "code",
      "metadata": {
        "id": "c-pR8oM9fpT6"
      },
      "source": [
        "from xhtml2pdf import pisa\r\n",
        "\r\n",
        "def convert_html_to_pdf(source_html, output_filename):\r\n",
        "  result_file = open(output_filename, \"w+b\")\r\n",
        "  pisa_status = pisa.CreatePDF(source_html, dest=result_file)          \r\n",
        "  result_file.close()\r\n",
        "\r\n",
        "def save_attrs(data, K, essay_type):\r\n",
        "  dir =  ATTRS_DIR+essay_type+'/'\r\n",
        "  if not os.path.exists(dir):\r\n",
        "    os.makedirs(dir)\r\n",
        "  \r\n",
        "  attrs, words,c_data = adv.explain(data)\r\n",
        "  label_new = adv.predict_and_norm([data])[0]\r\n",
        "  \r\n",
        "  html = adv.visualize_token_attrs(words[c_data:], attrs[c_data:])\r\n",
        "  convert_html_to_pdf(html, dir+str(K)+'_'+str(int(label_new))+'.pdf')\r\n",
        "  \r\n",
        "  html = IG.visualize_token_attrs(words, attrs)"
      ],
      "execution_count": 47,
      "outputs": []
    },
    {
      "cell_type": "code",
      "metadata": {
        "id": "BkCy2sL9USTr",
        "colab": {
          "base_uri": "https://localhost:8080/",
          "height": 1000
        },
        "outputId": "68f10656-775c-4639-8c23-219e54a9013e"
      },
      "source": [
        "from sklearn.metrics import cohen_kappa_score\n",
        "import numpy as np\n",
        "import random\n",
        "from random import randint\n",
        "\n",
        "random.seed(42)\n",
        "def top_k_attrs(tokens, attrs,k=None):\n",
        "    k = min(k, len(tokens))\n",
        "    return ([tokens[i] for i in np.argpartition(attrs, -k)[-k:]])\n",
        "\n",
        "d = {}\n",
        "for K in range(0,6):\n",
        "  percent = K*0.2\n",
        "  preds_new = []\n",
        "  new_essay_list = []\n",
        "  chosen_id = randint(0, 10)\n",
        "\n",
        "  for id, essay in enumerate(essay_list):\n",
        "    top_k = int(percent* len(attrs_list[id]))\n",
        "    attrs = attrs_list[id]\n",
        "    question_tokens = essay_list[id]\n",
        "    try:\n",
        "      c_list = top_k_attrs(question_tokens , attrs, k = top_k)\n",
        "    except Exception as e:\n",
        "      c_list = list(set(question_tokens))\n",
        "    if top_k==0:\n",
        "      c_list = []\n",
        "    \n",
        "    new_essay = []\n",
        "\n",
        "    for i in range(len(question_tokens)):  \n",
        "      if question_tokens[i] in c_list:\n",
        "        new_essay.append(question_tokens[i])\n",
        "    \n",
        "    new_essay_padded = pad_sequences([new_essay], maxlen=MAX_SEQUENCE_LENGTH)[0]\n",
        "    if id == chosen_id and K>1 and K<=5:\n",
        "      print(new_essay_padded)\n",
        "      save_attrs(new_essay_padded, K, essay_type='incomplete_data')\n",
        "    new_essay_list.append(new_essay_padded)\n",
        "\n",
        "  pred = adv.predict_and_norm(np.array(new_essay_list))\n",
        "  preds_new.extend(pred)\n",
        "  \n",
        "  acc = cohen_kappa_score(preds_new, pred_array_orig, weights='quadratic')\n",
        "  get_pred_stats(pred_array_orig, preds_new, ATTRS_DIR+'stats_top.txt', int(percent*100))\n",
        "  d[percent*100] = acc"
      ],
      "execution_count": 48,
      "outputs": [
        {
          "output_type": "stream",
          "text": [
            "It looks like you are passing a model with a scalar output and target is set to `None`.If your model is a regression model this will produce correct attributions. If your model is a classification model, targets for each datapoint must be defined. Not defining the target may lead to incorrect values for the attributions.Targets can be either the true classes or the classes predicted by the model.\n"
          ],
          "name": "stderr"
        },
        {
          "output_type": "stream",
          "text": [
            "[   0    0    0    0    0    0    0    0    0    0    0    0    0    0\n",
            "    0    0    0    0    0    0    0    0    0    0    0    0    0    0\n",
            "    0    0    0    0    0    0    0    0    0    0    0    0    0    0\n",
            "    0    0    0    0    0    0    0    0    0    0    0    0    0    0\n",
            "    0    0    0    0    0    0    0    0    0    0    0    0    0    0\n",
            "    0    0    0    0    0    0    0    0    0    0    0    0    0    0\n",
            "    0    0    0    0    0    0    0    0    0    0    0    0    0    0\n",
            "    0    0    0    0    0    0    0    0    0    0    0    0    0    0\n",
            "    0    0    0    0    0    0    0    0    0    0    0    0    0    0\n",
            "    0    0    0    0    0    0    0    0    0    0    0    0    0    0\n",
            "    0    0    0    0    0    0    0    0    0    0    0    0    0    0\n",
            "    0    0    0    0    0    0    0    0    0    0    0    0    0    0\n",
            "    0    0    0    0    0    0    0    0    0    0    0    0    0    0\n",
            "    0    0    0    0    0    0    0    0    0    0    0    0    0    0\n",
            "    0    0    0    0    0    0    0    0    0    0    0    0    0    0\n",
            "    0    0    0    0    0    0    0    0    0    0    0    0    0    0\n",
            "    0    0    0    0    0    0    0    0    0    0    0    0    0    0\n",
            "    0    0    0    0    0    0    0    0    0    0    0    0    0    0\n",
            "    0    0    0    0    0    0    0    0    0    0    0    0    0    0\n",
            "    0    0    0    0    0    0    0    0    0    0    0    0    0    0\n",
            "    0    0    0    0    0    0    0    0    0    0    0    0    0    0\n",
            "    0    0    0    0    0    0    0    0    0    0    0    0    0    0\n",
            "    0    0    0    0    0    0    0    0    0    0    0    0    0    0\n",
            "    0    0    0    0    0    0    0    0    0    0    0    0    0    0\n",
            "    0    0    0    0    0    0    0    0    0    0    0    0    0    0\n",
            "    0    0    0    0    0    0    0    0    0    0    0    0    0    0\n",
            "    0    0    0    0    0    0    0    0    0    0    0    0    0    0\n",
            "    0    0    0    0    0    0    0    0    0    0    0    0    0    0\n",
            "    0    0    0    0    0    0    0    0    0    0    0   36   20   62\n",
            "  114    7  141    8  484    6  484  146   85 2575    7 3463   93  126\n",
            "  218   85  158  289  493    2    5    2 1333    6 1099  280  155  209\n",
            "    6    2  762  280    3 2323   85  753  209    7  445  263  441   36\n",
            "  559    2    3  209  408  446  146    6  944  758  219    8  172    8\n",
            "    6  944  758   77   97  172  158  209   89  166  289    8    5  471\n",
            "  243    6 1944    2   89    3    2  762  579 2129   88 1099  860    3\n",
            " 3614  146    3  408  685  608    7    2    3  484]\n"
          ],
          "name": "stdout"
        },
        {
          "output_type": "error",
          "ename": "AttributeError",
          "evalue": "ignored",
          "traceback": [
            "\u001b[0;31m---------------------------------------------------------------------------\u001b[0m",
            "\u001b[0;31mAttributeError\u001b[0m                            Traceback (most recent call last)",
            "\u001b[0;32m<ipython-input-48-31e16af01ef2>\u001b[0m in \u001b[0;36m<module>\u001b[0;34m()\u001b[0m\n\u001b[1;32m     36\u001b[0m     \u001b[0;32mif\u001b[0m \u001b[0mid\u001b[0m \u001b[0;34m==\u001b[0m \u001b[0mchosen_id\u001b[0m \u001b[0;32mand\u001b[0m \u001b[0mK\u001b[0m\u001b[0;34m>\u001b[0m\u001b[0;36m1\u001b[0m \u001b[0;32mand\u001b[0m \u001b[0mK\u001b[0m\u001b[0;34m<=\u001b[0m\u001b[0;36m5\u001b[0m\u001b[0;34m:\u001b[0m\u001b[0;34m\u001b[0m\u001b[0;34m\u001b[0m\u001b[0m\n\u001b[1;32m     37\u001b[0m       \u001b[0mprint\u001b[0m\u001b[0;34m(\u001b[0m\u001b[0mnew_essay_padded\u001b[0m\u001b[0;34m)\u001b[0m\u001b[0;34m\u001b[0m\u001b[0;34m\u001b[0m\u001b[0m\n\u001b[0;32m---> 38\u001b[0;31m       \u001b[0msave_attrs\u001b[0m\u001b[0;34m(\u001b[0m\u001b[0mnew_essay_padded\u001b[0m\u001b[0;34m,\u001b[0m \u001b[0mK\u001b[0m\u001b[0;34m,\u001b[0m \u001b[0messay_type\u001b[0m\u001b[0;34m=\u001b[0m\u001b[0;34m'incomplete_data'\u001b[0m\u001b[0;34m)\u001b[0m\u001b[0;34m\u001b[0m\u001b[0;34m\u001b[0m\u001b[0m\n\u001b[0m\u001b[1;32m     39\u001b[0m     \u001b[0mnew_essay_list\u001b[0m\u001b[0;34m.\u001b[0m\u001b[0mappend\u001b[0m\u001b[0;34m(\u001b[0m\u001b[0mnew_essay_padded\u001b[0m\u001b[0;34m)\u001b[0m\u001b[0;34m\u001b[0m\u001b[0;34m\u001b[0m\u001b[0m\n\u001b[1;32m     40\u001b[0m \u001b[0;34m\u001b[0m\u001b[0m\n",
            "\u001b[0;32m<ipython-input-47-5bec0d2ecb38>\u001b[0m in \u001b[0;36msave_attrs\u001b[0;34m(data, K, essay_type)\u001b[0m\n\u001b[1;32m     11\u001b[0m     \u001b[0mos\u001b[0m\u001b[0;34m.\u001b[0m\u001b[0mmakedirs\u001b[0m\u001b[0;34m(\u001b[0m\u001b[0mdir\u001b[0m\u001b[0;34m)\u001b[0m\u001b[0;34m\u001b[0m\u001b[0;34m\u001b[0m\u001b[0m\n\u001b[1;32m     12\u001b[0m \u001b[0;34m\u001b[0m\u001b[0m\n\u001b[0;32m---> 13\u001b[0;31m   \u001b[0mattrs\u001b[0m\u001b[0;34m,\u001b[0m \u001b[0mwords\u001b[0m\u001b[0;34m,\u001b[0m\u001b[0mc_data\u001b[0m \u001b[0;34m=\u001b[0m \u001b[0madv\u001b[0m\u001b[0;34m.\u001b[0m\u001b[0mexplain\u001b[0m\u001b[0;34m(\u001b[0m\u001b[0mdata\u001b[0m\u001b[0;34m)\u001b[0m\u001b[0;34m\u001b[0m\u001b[0;34m\u001b[0m\u001b[0m\n\u001b[0m\u001b[1;32m     14\u001b[0m   \u001b[0mlabel_new\u001b[0m \u001b[0;34m=\u001b[0m \u001b[0madv\u001b[0m\u001b[0;34m.\u001b[0m\u001b[0mpredict_and_norm\u001b[0m\u001b[0;34m(\u001b[0m\u001b[0;34m[\u001b[0m\u001b[0mdata\u001b[0m\u001b[0;34m]\u001b[0m\u001b[0;34m)\u001b[0m\u001b[0;34m[\u001b[0m\u001b[0;36m0\u001b[0m\u001b[0;34m]\u001b[0m\u001b[0;34m\u001b[0m\u001b[0;34m\u001b[0m\u001b[0m\n\u001b[1;32m     15\u001b[0m \u001b[0;34m\u001b[0m\u001b[0m\n",
            "\u001b[0;32m<ipython-input-21-8dc6a3314917>\u001b[0m in \u001b[0;36mexplain\u001b[0;34m(self, essay)\u001b[0m\n\u001b[1;32m    300\u001b[0m \u001b[0;34m\u001b[0m\u001b[0m\n\u001b[1;32m    301\u001b[0m     \u001b[0;32mdef\u001b[0m \u001b[0mexplain\u001b[0m\u001b[0;34m(\u001b[0m\u001b[0mself\u001b[0m\u001b[0;34m,\u001b[0m \u001b[0messay\u001b[0m\u001b[0;34m)\u001b[0m\u001b[0;34m:\u001b[0m\u001b[0;34m\u001b[0m\u001b[0;34m\u001b[0m\u001b[0m\n\u001b[0;32m--> 302\u001b[0;31m         \u001b[0mattrs\u001b[0m \u001b[0;34m=\u001b[0m \u001b[0mself\u001b[0m\u001b[0;34m.\u001b[0m\u001b[0mget_attrs_alibi\u001b[0m\u001b[0;34m(\u001b[0m\u001b[0mnp\u001b[0m\u001b[0;34m.\u001b[0m\u001b[0marray\u001b[0m\u001b[0;34m(\u001b[0m\u001b[0;34m[\u001b[0m\u001b[0messay\u001b[0m\u001b[0;34m]\u001b[0m\u001b[0;34m)\u001b[0m\u001b[0;34m)\u001b[0m\u001b[0;34m[\u001b[0m\u001b[0;36m0\u001b[0m\u001b[0;34m]\u001b[0m\u001b[0;34m\u001b[0m\u001b[0;34m\u001b[0m\u001b[0m\n\u001b[0m\u001b[1;32m    303\u001b[0m         \u001b[0mwords\u001b[0m\u001b[0;34m,\u001b[0m\u001b[0mcount\u001b[0m \u001b[0;34m=\u001b[0m \u001b[0mself\u001b[0m\u001b[0;34m.\u001b[0m\u001b[0msequence_to_text\u001b[0m\u001b[0;34m(\u001b[0m\u001b[0messay\u001b[0m\u001b[0;34m)\u001b[0m\u001b[0;34m\u001b[0m\u001b[0;34m\u001b[0m\u001b[0m\n\u001b[1;32m    304\u001b[0m         \u001b[0;32massert\u001b[0m \u001b[0mlen\u001b[0m\u001b[0;34m(\u001b[0m\u001b[0mwords\u001b[0m\u001b[0;34m[\u001b[0m\u001b[0mcount\u001b[0m\u001b[0;34m:\u001b[0m\u001b[0;34m]\u001b[0m\u001b[0;34m)\u001b[0m \u001b[0;34m==\u001b[0m \u001b[0mlen\u001b[0m\u001b[0;34m(\u001b[0m\u001b[0mattrs\u001b[0m\u001b[0;34m[\u001b[0m\u001b[0mcount\u001b[0m\u001b[0;34m:\u001b[0m\u001b[0;34m]\u001b[0m\u001b[0;34m)\u001b[0m\u001b[0;34m\u001b[0m\u001b[0;34m\u001b[0m\u001b[0m\n",
            "\u001b[0;32m<ipython-input-21-8dc6a3314917>\u001b[0m in \u001b[0;36mget_attrs_alibi\u001b[0;34m(self, v)\u001b[0m\n\u001b[1;32m    286\u001b[0m         \u001b[0mbaseline\u001b[0m \u001b[0;34m=\u001b[0m \u001b[0mnp\u001b[0m\u001b[0;34m.\u001b[0m\u001b[0mzeros\u001b[0m\u001b[0;34m(\u001b[0m\u001b[0mx_val\u001b[0m\u001b[0;34m[\u001b[0m\u001b[0;36m0\u001b[0m\u001b[0;34m:\u001b[0m\u001b[0;36m1\u001b[0m\u001b[0;34m]\u001b[0m\u001b[0;34m.\u001b[0m\u001b[0mshape\u001b[0m\u001b[0;34m)\u001b[0m\u001b[0;34m\u001b[0m\u001b[0;34m\u001b[0m\u001b[0m\n\u001b[1;32m    287\u001b[0m         \u001b[0mbaseline\u001b[0m\u001b[0;34m[\u001b[0m\u001b[0;36m0\u001b[0m\u001b[0;34m]\u001b[0m\u001b[0;34m[\u001b[0m\u001b[0;36m0\u001b[0m\u001b[0;34m]\u001b[0m \u001b[0;34m=\u001b[0m \u001b[0mtokenizer\u001b[0m\u001b[0;34m.\u001b[0m\u001b[0mword_index\u001b[0m\u001b[0;34m[\u001b[0m\u001b[0;34m'a'\u001b[0m\u001b[0;34m]\u001b[0m\u001b[0;34m\u001b[0m\u001b[0;34m\u001b[0m\u001b[0m\n\u001b[0;32m--> 288\u001b[0;31m         \u001b[0mexplanation\u001b[0m \u001b[0;34m=\u001b[0m \u001b[0mself\u001b[0m\u001b[0;34m.\u001b[0m\u001b[0mig\u001b[0m\u001b[0;34m.\u001b[0m\u001b[0mexplain\u001b[0m\u001b[0;34m(\u001b[0m\u001b[0mv\u001b[0m\u001b[0;34m,\u001b[0m \u001b[0mbaselines\u001b[0m\u001b[0;34m=\u001b[0m\u001b[0mbaseline\u001b[0m\u001b[0;34m)\u001b[0m\u001b[0;34m\u001b[0m\u001b[0;34m\u001b[0m\u001b[0m\n\u001b[0m\u001b[1;32m    289\u001b[0m         \u001b[0mattrs\u001b[0m \u001b[0;34m=\u001b[0m \u001b[0mexplanation\u001b[0m\u001b[0;34m.\u001b[0m\u001b[0mattributions\u001b[0m\u001b[0;34m\u001b[0m\u001b[0;34m\u001b[0m\u001b[0m\n\u001b[1;32m    290\u001b[0m         \u001b[0mattrs\u001b[0m \u001b[0;34m=\u001b[0m \u001b[0mattrs\u001b[0m\u001b[0;34m.\u001b[0m\u001b[0msum\u001b[0m\u001b[0;34m(\u001b[0m\u001b[0maxis\u001b[0m\u001b[0;34m=\u001b[0m\u001b[0;36m2\u001b[0m\u001b[0;34m)\u001b[0m\u001b[0;34m\u001b[0m\u001b[0;34m\u001b[0m\u001b[0m\n",
            "\u001b[0;32m/usr/local/lib/python3.6/dist-packages/alibi/explainers/integrated_gradients.py\u001b[0m in \u001b[0;36mexplain\u001b[0;34m(self, X, baselines, target)\u001b[0m\n\u001b[1;32m    425\u001b[0m             \u001b[0;32mif\u001b[0m \u001b[0mself\u001b[0m\u001b[0;34m.\u001b[0m\u001b[0mlayer\u001b[0m \u001b[0;32mis\u001b[0m \u001b[0;32mnot\u001b[0m \u001b[0;32mNone\u001b[0m\u001b[0;34m:\u001b[0m\u001b[0;34m\u001b[0m\u001b[0;34m\u001b[0m\u001b[0m\n\u001b[1;32m    426\u001b[0m                 grads_b = _gradients_layer(self.model, self.layer, orig_call,\n\u001b[0;32m--> 427\u001b[0;31m                                            tf.dtypes.cast(paths_b, self.input_dtype), target_b)\n\u001b[0m\u001b[1;32m    428\u001b[0m             \u001b[0;32melse\u001b[0m\u001b[0;34m:\u001b[0m\u001b[0;34m\u001b[0m\u001b[0;34m\u001b[0m\u001b[0m\n\u001b[1;32m    429\u001b[0m                 grads_b = _gradients_input(self.model,\n",
            "\u001b[0;32m/usr/local/lib/python3.6/dist-packages/alibi/explainers/integrated_gradients.py\u001b[0m in \u001b[0;36m_gradients_layer\u001b[0;34m(model, layer, orig_call, x, target)\u001b[0m\n\u001b[1;32m    206\u001b[0m     \u001b[0;32mwith\u001b[0m \u001b[0mtf\u001b[0m\u001b[0;34m.\u001b[0m\u001b[0mGradientTape\u001b[0m\u001b[0;34m(\u001b[0m\u001b[0;34m)\u001b[0m \u001b[0;32mas\u001b[0m \u001b[0mtape\u001b[0m\u001b[0;34m:\u001b[0m\u001b[0;34m\u001b[0m\u001b[0;34m\u001b[0m\u001b[0m\n\u001b[1;32m    207\u001b[0m         \u001b[0mwatch_layer\u001b[0m\u001b[0;34m(\u001b[0m\u001b[0mlayer\u001b[0m\u001b[0;34m,\u001b[0m \u001b[0mtape\u001b[0m\u001b[0;34m)\u001b[0m\u001b[0;34m\u001b[0m\u001b[0;34m\u001b[0m\u001b[0m\n\u001b[0;32m--> 208\u001b[0;31m         \u001b[0mpreds\u001b[0m \u001b[0;34m=\u001b[0m \u001b[0m_run_forward\u001b[0m\u001b[0;34m(\u001b[0m\u001b[0mmodel\u001b[0m\u001b[0;34m,\u001b[0m \u001b[0mx\u001b[0m\u001b[0;34m,\u001b[0m \u001b[0mtarget\u001b[0m\u001b[0;34m)\u001b[0m\u001b[0;34m\u001b[0m\u001b[0;34m\u001b[0m\u001b[0m\n\u001b[0m\u001b[1;32m    209\u001b[0m \u001b[0;34m\u001b[0m\u001b[0m\n\u001b[1;32m    210\u001b[0m     \u001b[0mgrads\u001b[0m \u001b[0;34m=\u001b[0m \u001b[0mtape\u001b[0m\u001b[0;34m.\u001b[0m\u001b[0mgradient\u001b[0m\u001b[0;34m(\u001b[0m\u001b[0mpreds\u001b[0m\u001b[0;34m,\u001b[0m \u001b[0mlayer\u001b[0m\u001b[0;34m.\u001b[0m\u001b[0mresult\u001b[0m\u001b[0;34m)\u001b[0m\u001b[0;34m\u001b[0m\u001b[0;34m\u001b[0m\u001b[0m\n",
            "\u001b[0;32m/usr/local/lib/python3.6/dist-packages/alibi/explainers/integrated_gradients.py\u001b[0m in \u001b[0;36m_run_forward\u001b[0;34m(model, x, target)\u001b[0m\n\u001b[1;32m    114\u001b[0m         \u001b[0;32mreturn\u001b[0m \u001b[0mps\u001b[0m\u001b[0;34m\u001b[0m\u001b[0;34m\u001b[0m\u001b[0m\n\u001b[1;32m    115\u001b[0m \u001b[0;34m\u001b[0m\u001b[0m\n\u001b[0;32m--> 116\u001b[0;31m     \u001b[0mpreds\u001b[0m \u001b[0;34m=\u001b[0m \u001b[0mmodel\u001b[0m\u001b[0;34m(\u001b[0m\u001b[0mx\u001b[0m\u001b[0;34m)\u001b[0m\u001b[0;34m\u001b[0m\u001b[0;34m\u001b[0m\u001b[0m\n\u001b[0m\u001b[1;32m    117\u001b[0m     \u001b[0;32mif\u001b[0m \u001b[0mlen\u001b[0m\u001b[0;34m(\u001b[0m\u001b[0mmodel\u001b[0m\u001b[0;34m.\u001b[0m\u001b[0moutput_shape\u001b[0m\u001b[0;34m)\u001b[0m \u001b[0;34m>\u001b[0m \u001b[0;36m1\u001b[0m \u001b[0;32mand\u001b[0m \u001b[0mmodel\u001b[0m\u001b[0;34m.\u001b[0m\u001b[0moutput_shape\u001b[0m\u001b[0;34m[\u001b[0m\u001b[0;36m1\u001b[0m\u001b[0;34m]\u001b[0m \u001b[0;34m>\u001b[0m \u001b[0;36m1\u001b[0m\u001b[0;34m:\u001b[0m\u001b[0;34m\u001b[0m\u001b[0;34m\u001b[0m\u001b[0m\n\u001b[1;32m    118\u001b[0m         \u001b[0mpreds\u001b[0m \u001b[0;34m=\u001b[0m \u001b[0m_select_target\u001b[0m\u001b[0;34m(\u001b[0m\u001b[0mpreds\u001b[0m\u001b[0;34m,\u001b[0m \u001b[0mtarget\u001b[0m\u001b[0;34m)\u001b[0m\u001b[0;34m\u001b[0m\u001b[0;34m\u001b[0m\u001b[0m\n",
            "\u001b[0;32m/usr/local/lib/python3.6/dist-packages/tensorflow/python/keras/engine/base_layer.py\u001b[0m in \u001b[0;36m__call__\u001b[0;34m(self, *args, **kwargs)\u001b[0m\n\u001b[1;32m   1010\u001b[0m         with autocast_variable.enable_auto_cast_variables(\n\u001b[1;32m   1011\u001b[0m             self._compute_dtype_object):\n\u001b[0;32m-> 1012\u001b[0;31m           \u001b[0moutputs\u001b[0m \u001b[0;34m=\u001b[0m \u001b[0mcall_fn\u001b[0m\u001b[0;34m(\u001b[0m\u001b[0minputs\u001b[0m\u001b[0;34m,\u001b[0m \u001b[0;34m*\u001b[0m\u001b[0margs\u001b[0m\u001b[0;34m,\u001b[0m \u001b[0;34m**\u001b[0m\u001b[0mkwargs\u001b[0m\u001b[0;34m)\u001b[0m\u001b[0;34m\u001b[0m\u001b[0;34m\u001b[0m\u001b[0m\n\u001b[0m\u001b[1;32m   1013\u001b[0m \u001b[0;34m\u001b[0m\u001b[0m\n\u001b[1;32m   1014\u001b[0m         \u001b[0;32mif\u001b[0m \u001b[0mself\u001b[0m\u001b[0;34m.\u001b[0m\u001b[0m_activity_regularizer\u001b[0m\u001b[0;34m:\u001b[0m\u001b[0;34m\u001b[0m\u001b[0;34m\u001b[0m\u001b[0m\n",
            "\u001b[0;32m/usr/local/lib/python3.6/dist-packages/tensorflow/python/keras/engine/functional.py\u001b[0m in \u001b[0;36mcall\u001b[0;34m(self, inputs, training, mask)\u001b[0m\n\u001b[1;32m    423\u001b[0m     \"\"\"\n\u001b[1;32m    424\u001b[0m     return self._run_internal_graph(\n\u001b[0;32m--> 425\u001b[0;31m         inputs, training=training, mask=mask)\n\u001b[0m\u001b[1;32m    426\u001b[0m \u001b[0;34m\u001b[0m\u001b[0m\n\u001b[1;32m    427\u001b[0m   \u001b[0;32mdef\u001b[0m \u001b[0mcompute_output_shape\u001b[0m\u001b[0;34m(\u001b[0m\u001b[0mself\u001b[0m\u001b[0;34m,\u001b[0m \u001b[0minput_shape\u001b[0m\u001b[0;34m)\u001b[0m\u001b[0;34m:\u001b[0m\u001b[0;34m\u001b[0m\u001b[0;34m\u001b[0m\u001b[0m\n",
            "\u001b[0;32m/usr/local/lib/python3.6/dist-packages/tensorflow/python/keras/engine/functional.py\u001b[0m in \u001b[0;36m_run_internal_graph\u001b[0;34m(self, inputs, training, mask)\u001b[0m\n\u001b[1;32m    558\u001b[0m \u001b[0;34m\u001b[0m\u001b[0m\n\u001b[1;32m    559\u001b[0m         \u001b[0margs\u001b[0m\u001b[0;34m,\u001b[0m \u001b[0mkwargs\u001b[0m \u001b[0;34m=\u001b[0m \u001b[0mnode\u001b[0m\u001b[0;34m.\u001b[0m\u001b[0mmap_arguments\u001b[0m\u001b[0;34m(\u001b[0m\u001b[0mtensor_dict\u001b[0m\u001b[0;34m)\u001b[0m\u001b[0;34m\u001b[0m\u001b[0;34m\u001b[0m\u001b[0m\n\u001b[0;32m--> 560\u001b[0;31m         \u001b[0moutputs\u001b[0m \u001b[0;34m=\u001b[0m \u001b[0mnode\u001b[0m\u001b[0;34m.\u001b[0m\u001b[0mlayer\u001b[0m\u001b[0;34m(\u001b[0m\u001b[0;34m*\u001b[0m\u001b[0margs\u001b[0m\u001b[0;34m,\u001b[0m \u001b[0;34m**\u001b[0m\u001b[0mkwargs\u001b[0m\u001b[0;34m)\u001b[0m\u001b[0;34m\u001b[0m\u001b[0;34m\u001b[0m\u001b[0m\n\u001b[0m\u001b[1;32m    561\u001b[0m \u001b[0;34m\u001b[0m\u001b[0m\n\u001b[1;32m    562\u001b[0m         \u001b[0;31m# Update tensor_dict.\u001b[0m\u001b[0;34m\u001b[0m\u001b[0;34m\u001b[0m\u001b[0;34m\u001b[0m\u001b[0m\n",
            "\u001b[0;32m/usr/local/lib/python3.6/dist-packages/tensorflow/python/keras/engine/base_layer.py\u001b[0m in \u001b[0;36m__call__\u001b[0;34m(self, *args, **kwargs)\u001b[0m\n\u001b[1;32m   1010\u001b[0m         with autocast_variable.enable_auto_cast_variables(\n\u001b[1;32m   1011\u001b[0m             self._compute_dtype_object):\n\u001b[0;32m-> 1012\u001b[0;31m           \u001b[0moutputs\u001b[0m \u001b[0;34m=\u001b[0m \u001b[0mcall_fn\u001b[0m\u001b[0;34m(\u001b[0m\u001b[0minputs\u001b[0m\u001b[0;34m,\u001b[0m \u001b[0;34m*\u001b[0m\u001b[0margs\u001b[0m\u001b[0;34m,\u001b[0m \u001b[0;34m**\u001b[0m\u001b[0mkwargs\u001b[0m\u001b[0;34m)\u001b[0m\u001b[0;34m\u001b[0m\u001b[0;34m\u001b[0m\u001b[0m\n\u001b[0m\u001b[1;32m   1013\u001b[0m \u001b[0;34m\u001b[0m\u001b[0m\n\u001b[1;32m   1014\u001b[0m         \u001b[0;32mif\u001b[0m \u001b[0mself\u001b[0m\u001b[0;34m.\u001b[0m\u001b[0m_activity_regularizer\u001b[0m\u001b[0;34m:\u001b[0m\u001b[0;34m\u001b[0m\u001b[0;34m\u001b[0m\u001b[0m\n",
            "\u001b[0;32m<ipython-input-6-09610a04a267>\u001b[0m in \u001b[0;36mcall\u001b[0;34m(self, inputs, mask)\u001b[0m\n\u001b[1;32m     11\u001b[0m                 \u001b[0me1\u001b[0m\u001b[0;34m=\u001b[0m\u001b[0minputs\u001b[0m\u001b[0;34m[\u001b[0m\u001b[0;36m0\u001b[0m\u001b[0;34m]\u001b[0m\u001b[0;34m\u001b[0m\u001b[0;34m\u001b[0m\u001b[0m\n\u001b[1;32m     12\u001b[0m                 \u001b[0me2\u001b[0m\u001b[0;34m=\u001b[0m\u001b[0minputs\u001b[0m\u001b[0;34m[\u001b[0m\u001b[0;36m1\u001b[0m\u001b[0;34m]\u001b[0m\u001b[0;34m\u001b[0m\u001b[0;34m\u001b[0m\u001b[0m\n\u001b[0;32m---> 13\u001b[0;31m                 \u001b[0mbatch_size\u001b[0m\u001b[0;34m=\u001b[0m\u001b[0mK\u001b[0m\u001b[0;34m.\u001b[0m\u001b[0mshape\u001b[0m\u001b[0;34m(\u001b[0m\u001b[0me1\u001b[0m\u001b[0;34m)\u001b[0m\u001b[0;34m[\u001b[0m\u001b[0;36m0\u001b[0m\u001b[0;34m]\u001b[0m\u001b[0;34m\u001b[0m\u001b[0;34m\u001b[0m\u001b[0m\n\u001b[0m\u001b[1;32m     14\u001b[0m                 \u001b[0mk\u001b[0m\u001b[0;34m=\u001b[0m\u001b[0mself\u001b[0m\u001b[0;34m.\u001b[0m\u001b[0moutput_dim\u001b[0m\u001b[0;34m\u001b[0m\u001b[0;34m\u001b[0m\u001b[0m\n\u001b[1;32m     15\u001b[0m \u001b[0;34m\u001b[0m\u001b[0m\n",
            "\u001b[0;31mAttributeError\u001b[0m: 'int' object has no attribute 'shape'"
          ]
        }
      ]
    },
    {
      "cell_type": "code",
      "metadata": {
        "id": "6bwr0mUoUSI2"
      },
      "source": [
        "d\n",
        "plot_and_save(d,ATTRS_DIR+'adding_top', x = '% length of response', y ='relative QWK', title= 'iteratively adding words(in order of importance)')"
      ],
      "execution_count": null,
      "outputs": []
    },
    {
      "cell_type": "code",
      "metadata": {
        "id": "PPKEI8LWUSFj"
      },
      "source": [
        "def bottom_k_attrs(tokens, attrs,k=None):\n",
        "    k = min(k, len(tokens))\n",
        "    return ([tokens[i] for i in np.argpartition(attrs, k)[:k]])\n",
        "\n",
        "d2_keys = []\n",
        "d2_vals = []\n",
        "for K in range(0,6):\n",
        "  percent = K*0.2\n",
        "  preds_new = []\n",
        "  new_essay_list = []\n",
        "  for id, essay in enumerate(essay_list):\n",
        "    top_k = int(percent* len(attrs_list[id]))\n",
        "    attrs = attrs_list[id]\n",
        "    question_tokens = essay_list[id]\n",
        "    attrs = [abs(x) for x in attrs]\n",
        "    try:\n",
        "      c_list = bottom_k_attrs(question_tokens , attrs, k = top_k)\n",
        "    except Exception as e:\n",
        "      c_list = list(set(question_tokens))\n",
        "    if top_k==0:\n",
        "      c_list = []\n",
        "    \n",
        "    new_essay = []\n",
        "    for i in range(len(question_tokens)):  \n",
        "      if question_tokens[i] in c_list or question_tokens[i] == 0:\n",
        "        pass\n",
        "      else:\n",
        "        new_essay.append( question_tokens[i])\n",
        "    \n",
        "    new_essay_padded = pad_sequences([new_essay], maxlen=MAX_SEQUENCE_LENGTH)[0]\n",
        "    new_essay_list.append(new_essay_padded)\n",
        "\n",
        "  pred = adv.predict_and_norm(np.array(new_essay_list))\n",
        "  preds_new.extend(pred)\n",
        "  \n",
        "  acc = cohen_kappa_score(preds_new, pred_array_orig, weights='quadratic')\n",
        "  get_pred_stats(pred_array_orig, preds_new, ATTRS_DIR+'stats_bottom.txt', int(100-percent*100))\n",
        "  d2_keys.append(100-percent*100)\n",
        "  d2_vals.append(acc)"
      ],
      "execution_count": null,
      "outputs": []
    },
    {
      "cell_type": "code",
      "metadata": {
        "id": "Ig4sGxjRUSBN"
      },
      "source": [
        "plot_and_save_both(d2_keys, d2_vals, ATTRS_DIR+'removing_bottom', x = '% length of response', y ='relative QWK', title= 'iteratively removing words(in reverse order of importance)')\n"
      ],
      "execution_count": null,
      "outputs": []
    },
    {
      "cell_type": "code",
      "metadata": {
        "id": "HesiN5eBUR_O"
      },
      "source": [
        ""
      ],
      "execution_count": null,
      "outputs": []
    },
    {
      "cell_type": "code",
      "metadata": {
        "id": "nQXDNbtfAkmN"
      },
      "source": [
        ""
      ],
      "execution_count": null,
      "outputs": []
    },
    {
      "cell_type": "code",
      "metadata": {
        "id": "9AR71rsiUwpZ"
      },
      "source": [
        ""
      ],
      "execution_count": null,
      "outputs": []
    },
    {
      "cell_type": "code",
      "metadata": {
        "id": "WINM6y6HUwnY"
      },
      "source": [
        ""
      ],
      "execution_count": null,
      "outputs": []
    },
    {
      "cell_type": "code",
      "metadata": {
        "id": "-Yyx6hj6Uwkj"
      },
      "source": [
        ""
      ],
      "execution_count": null,
      "outputs": []
    },
    {
      "cell_type": "code",
      "metadata": {
        "id": "VHzDeaOTUwiK"
      },
      "source": [
        ""
      ],
      "execution_count": null,
      "outputs": []
    },
    {
      "cell_type": "code",
      "metadata": {
        "id": "gzqjnJFjUwdV"
      },
      "source": [
        ""
      ],
      "execution_count": null,
      "outputs": []
    },
    {
      "cell_type": "code",
      "metadata": {
        "id": "a2UfgdCNdCNq"
      },
      "source": [
        "def  hlstr(string, color='white'):\n",
        "    \"\"\"\n",
        "    Return HTML markup highlighting text with the desired color.\n",
        "    \"\"\"\n",
        "    return \"<mark style=background-color:{}>{} </mark>\".format(color, string)\n",
        "\n",
        "def colorize(attrs, cmap='PiYG'):\n",
        "    \"\"\"\n",
        "    Compute hex colors based on the attributions for a single instance.\n",
        "    Uses a diverging colorscale by default and normalizes and scales\n",
        "    the colormap so that colors are consistent with the attributions.\n",
        "    \"\"\"\n",
        "    import matplotlib as mpl\n",
        "    cmap_bound = np.abs(attrs).max()\n",
        "    norm = mpl.colors.Normalize(vmin=-cmap_bound, vmax=cmap_bound)\n",
        "    cmap = mpl.cm.get_cmap(cmap)\n",
        "\n",
        "    # now compute hex values of colors\n",
        "    colors = list(map(lambda x: mpl.colors.rgb2hex(cmap(norm(x))), attrs))\n",
        "    return colors\n",
        "\n",
        "def get_attributions(v = x_val[0:1]):\n",
        "\n",
        "  explanation = ig.explain(v, \n",
        "                         baselines=None)\n",
        "  \n",
        "  attrs = explanation.attributions\n",
        "  attrs = attrs.sum(axis=2)\n",
        "  \n",
        "  return attrs\n",
        "\n",
        "def sequence_to_text(list_of_indices):\n",
        "    # Looking up words in dictionary\n",
        "    count = 0\n",
        "    words = [reverse_word_map.get(letter) for letter in list_of_indices]\n",
        "    for x in words:\n",
        "      if x == None:\n",
        "        count+=1\n",
        "    return(words, count)\n",
        "\n",
        "reverse_word_map = dict(map(reversed, tokenizer.word_index.items()))    "
      ],
      "execution_count": null,
      "outputs": []
    },
    {
      "cell_type": "code",
      "metadata": {
        "id": "6HmwoEoitYZc"
      },
      "source": [
        "# ATTRS_TSV = './drive/My Drive/IG RESULTS/P4/SKIPFLOW/attrs_4.tsv'\n",
        "# batch = 1\n",
        "# with open(ATTRS_TSV, 'a') as outf:\n",
        "#   c=0\n",
        "#   while c<len(x_val):\n",
        "#     ans = ''\n",
        "#     for i,v in enumerate(x_val[c:c+batch]):\n",
        "#         tsv_string = ''\n",
        "#         attrs = get_attributions(np.array([v]))[0]\n",
        "#         words,count = sequence_to_text(v)\n",
        "#         assert len(words[count:]) == len(attrs[count:])\n",
        "#         question_attrs = []\n",
        "#         for ind in range(len(words[count:])):\n",
        "#                 question_attrs.append(\n",
        "#                     '|'.join([ words[count:][ind], str(attrs[count:][ind]) ])\n",
        "#                     )\n",
        "#         tsv_string = ['||'.join(question_attrs)]\n",
        "#         ans += '\\t'.join(tsv_string) + '\\n'\n",
        "#         del attrs, words, question_attrs, tsv_string\n",
        "#         gc.collect()\n",
        "#     c+=batch\n",
        "#     outf.write(ans)\n",
        "#     outf.flush()\n",
        "#     del ans\n",
        "#     gc.collect()\n",
        "#   outf.write('done')\n",
        "#   outf.flush()\n",
        "# print('DONE')"
      ],
      "execution_count": null,
      "outputs": []
    },
    {
      "cell_type": "code",
      "metadata": {
        "id": "DWqUtfC_-syO"
      },
      "source": [
        "from collections import Counter"
      ],
      "execution_count": null,
      "outputs": []
    },
    {
      "cell_type": "code",
      "metadata": {
        "id": "jSfbzfB-iiQO"
      },
      "source": [
        "counts_list = []\n",
        "top_k = 1\n",
        "with open(ATTRS_TSV) as f:\n",
        "    for line in f:\n",
        "        line = line.strip()\n",
        "        question_attrs = line.split('\\t')[0]\n",
        "        question_tokens = []\n",
        "        attrs = []\n",
        "        for word_attr in question_attrs.split('||'): \n",
        "            word, attr = word_attr.split('|')\n",
        "            question_tokens.append(word)\n",
        "            attrs.append(float(attr))\n",
        "        k = min(top_k, len(question_tokens))\n",
        "        # get top k words by attribution \n",
        "        counts_list.extend([question_tokens[i].strip() for i in np.argpartition(attrs, -k)[-k:]])\n",
        "counts_list = [w for w, _ in Counter(counts_list).most_common(len(counts_list))]"
      ],
      "execution_count": null,
      "outputs": []
    },
    {
      "cell_type": "code",
      "metadata": {
        "id": "2YgtGUcGiiNj",
        "colab": {
          "base_uri": "https://localhost:8080/",
          "height": 35
        },
        "outputId": "2ed1dacd-7a96-4d2b-819e-a3cf8741be1a"
      },
      "source": [
        "len(Counter(counts_list).keys())"
      ],
      "execution_count": null,
      "outputs": [
        {
          "output_type": "execute_result",
          "data": {
            "text/plain": [
              "136"
            ]
          },
          "metadata": {
            "tags": []
          },
          "execution_count": 27
        }
      ]
    },
    {
      "cell_type": "code",
      "metadata": {
        "id": "JBd4Gee4i3a9"
      },
      "source": [
        "curve_data = {}\n",
        "question_lengths = {}\n",
        "all_accs = []\n",
        "for K in np.append(0, np.unique(np.floor(np.geomspace(1, len(Counter(counts_list)), 25)))):\n",
        "    # take K most top attributed words\n",
        "    if K in curve_data:\n",
        "        continue\n",
        "    #whitelist = set([vocab_json['question'][w] for w, c in Counter(counts_list).most_common(int(K))])\n",
        "    whitelist = set([vocab_json['question'][w] for w in counts_list[:int(K)]]) if K > 0 else set()\n",
        "    print(len(whitelist))\n",
        "    accs = []\n",
        "    num_batches = 0\n",
        "    avg_question_length_orig = 0\n",
        "    avg_question_length_new = 0\n",
        "    num_questions = 0\n",
        "    # iterator over the validation dataset\n",
        "    tq = tqdm(LOADER, desc='{} E{:03d}'.format(PREFIX, 0), ncols=0)\n",
        "    for v, q, a, idx, q_len in tq:\n",
        "\n",
        "        old_q = np.asarray(q).copy()\n",
        "        old_q_len = np.asarray(q_len).copy()\n",
        "\n",
        "        new_q = np.zeros([config.batch_size, 23])\n",
        "        curr_batch_size = int(q.shape[0])\n",
        "        for batch_i in range(curr_batch_size):\n",
        "            len_counter = 0\n",
        "            avg_question_length_orig += int(q_len[batch_i])\n",
        "            for word_i, w in enumerate(q[batch_i,:int(q_len[batch_i])]):\n",
        "                if int(w) in whitelist:\n",
        "                    new_q[batch_i, len_counter] = int(w)\n",
        "                    len_counter += 1\n",
        "            if len_counter == 0:\n",
        "                len_counter = 1\n",
        "            avg_question_length_new += int(len_counter)\n",
        "            num_questions += 1\n",
        "            q_len[batch_i] = len_counter\n",
        "        q_len, sorted_idxs = torch.sort(q_len, descending=True)\n",
        "        new_q = new_q[sorted_idxs, :]\n",
        "        idx = idx[sorted_idxs]\n",
        "        v = v[sorted_idxs,:,:,:]\n",
        "        a = a[sorted_idxs, :]\n",
        "        old_q = old_q[sorted_idxs, :]\n",
        "        old_q_len = old_q_len[sorted_idxs]\n",
        "        q = torch.LongTensor(new_q)\n",
        "\n",
        "        v = Variable(v.cuda(async=True), **var_params)\n",
        "        q = Variable(q.cuda(async=True), **var_params)\n",
        "        a = Variable(a.cuda(async=True), **var_params)\n",
        "        q_len = Variable(q_len.cuda(async=True), **var_params)\n",
        "\n",
        "        q_emb = embedding(q)\n",
        "\n",
        "        out = net(v, q_emb, q_len)\n",
        "\n",
        "        acc = utils.batch_accuracy(out.data, a.data).cpu()\n",
        "\n",
        "        accs.append(np.array(acc.view(-1)))\n",
        "        del v, q, a, idx, q_len, q_emb, acc, out, old_q, sorted_idxs, old_q_len, new_q\n",
        "\n",
        "        if num_batches >= MAX_NUM_BATCHES:\n",
        "            break\n",
        "        num_batches += 1\n",
        "\n",
        "    accs = list(np.concatenate(accs, axis=0))\n",
        "    print(\"avg question length orig: \", float(avg_question_length_orig)/num_questions)\n",
        "    print(\"avg question length new: \", float(avg_question_length_new)/num_questions)\n",
        "    print(\"accuracy for \", K, \" is\", np.mean(accs))\n",
        "    curve_data[K] = np.mean(accs)\n",
        "    question_lengths[K] = float(avg_question_length_new)/num_questions"
      ],
      "execution_count": null,
      "outputs": []
    },
    {
      "cell_type": "code",
      "metadata": {
        "id": "mxA0QGokg7MI"
      },
      "source": [
        "print(len(Counter(counts_list)))\n",
        "plt.plot(curve_data.keys(), np.divide(list(curve_data.values()), np.mean(orig_accs)))\n",
        "plt.xscale('symlog')\n",
        "plt.xlabel('num. words in vocab')\n",
        "plt.ylabel('relative accuracy')\n",
        "plt.savefig(OVERSTABILITY_CURVE_FILE, format='eps')\n",
        "plt.savefig(OVERSTABILITY_CURVE_FILE.replace('eps','png'), format='png')\n",
        "plt.show()\n",
        "print(OVERSTABILITY_CURVE_FILE)"
      ],
      "execution_count": null,
      "outputs": []
    },
    {
      "cell_type": "code",
      "metadata": {
        "id": "ObBTcSIjb1zW",
        "colab": {
          "base_uri": "https://localhost:8080/",
          "height": 247
        },
        "outputId": "79ee26a6-80f6-4a48-e9a5-262552b7c950"
      },
      "source": [
        "# # v = data[0]\n",
        "# v = x_val[3]\n",
        "# attrs = get_attributions(np.array([v]))\n",
        "# words,count = sequence_to_text(v)\n",
        "\n",
        "# colors = colorize(attrs[count:])\n",
        "# HTML(\"\".join(list(map(hlstr, words[count:], colors))))"
      ],
      "execution_count": null,
      "outputs": [
        {
          "output_type": "stream",
          "text": [
            "It looks like you are passing a model with a scalar output and target is set to `None`.If your model is a regression model this will produce correct attributions. If your model is a classification model, targets for each datapoint must be defined. Not defining the target may lead to incorrect values for the attributions.Targets can be either the true classes or the classes predicted by the model.\n"
          ],
          "name": "stderr"
        },
        {
          "output_type": "execute_result",
          "data": {
            "text/html": [
              "<mark style=background-color:#fde2f0>in </mark><mark style=background-color:#f5f7f2>libraries </mark><mark style=background-color:#fce4f0>there </mark><mark style=background-color:#f1f6e8>should </mark><mark style=background-color:#e4f4cd>not </mark><mark style=background-color:#d4edb3>be </mark><mark style=background-color:#276419>censorship </mark><mark style=background-color:#fbe9f2>on </mark><mark style=background-color:#ecf6de>materials </mark><mark style=background-color:#b5df82>considering </mark><mark style=background-color:#f9eef4>that </mark><mark style=background-color:#f7f7f6>it's </mark><mark style=background-color:#eff6e4>an </mark><mark style=background-color:#e8f5d5>decision </mark><mark style=background-color:#f9eef4>to </mark><mark style=background-color:#eaf5d9>read </mark><mark style=background-color:#ebf6dc>what </mark><mark style=background-color:#f8f3f6>they </mark><mark style=background-color:#fde2f0>prefer </mark><mark style=background-color:#fde1ef>there </mark><mark style=background-color:#d2ecb0>is </mark><mark style=background-color:#f4f7f0>no </mark><mark style=background-color:#acd977>appropriate </mark><mark style=background-color:#f5f7f2>standard </mark><mark style=background-color:#fbe7f2>on </mark><mark style=background-color:#ebf6dc>what </mark><mark style=background-color:#e8f5d5>makes </mark><mark style=background-color:#f9f0f5>a </mark><mark style=background-color:#e8f5d5>book </mark><mark style=background-color:#69aa33>offensive </mark><mark style=background-color:#f9eef4>to </mark><mark style=background-color:#f9f1f5>a </mark><mark style=background-color:#eff6e5>group </mark><mark style=background-color:#f4f7f0>so </mark><mark style=background-color:#f5f7f2>it </mark><mark style=background-color:#f1f6ea>should </mark><mark style=background-color:#d6eeb6>be </mark><mark style=background-color:#f3f7ef>as </mark><mark style=background-color:#f9eff4>to </mark><mark style=background-color:#ebf6db>what </mark><mark style=background-color:#e8f5d5>makes </mark><mark style=background-color:#f8f2f5>a </mark><mark style=background-color:#e9f5d6>book </mark><mark style=background-color:#6faf37>offensive </mark><mark style=background-color:#fde0ef>in </mark><mark style=background-color:#f8f2f5>a </mark><mark style=background-color:#c0e593>public </mark><mark style=background-color:#edf6e1>library </mark><mark style=background-color:#eff6e5>many </mark><mark style=background-color:#e9f5d8>children </mark><mark style=background-color:#f9eef4>who </mark><mark style=background-color:#eef6e2>the </mark><mark style=background-color:#f0f6e7>books </mark><mark style=background-color:#e8f5d5>are </mark><mark style=background-color:#4b8f21>censored </mark><mark style=background-color:#edf6e1>for </mark><mark style=background-color:#e8f5d5>are </mark><mark style=background-color:#eef6e2>with </mark><mark style=background-color:#c9e8a2>their </mark><mark style=background-color:#e7f5d2>parents </mark><mark style=background-color:#e7f5d2>parents </mark><mark style=background-color:#f1f6e8>should </mark><mark style=background-color:#f1f6ea>make </mark><mark style=background-color:#eff6e4>an </mark><mark style=background-color:#aeda7a>independent </mark><mark style=background-color:#9acd61>choice </mark><mark style=background-color:#fbe8f2>on </mark><mark style=background-color:#ebf6db>what </mark><mark style=background-color:#f8f4f6>they </mark><mark style=background-color:#f9eff4>can </mark><mark style=background-color:#d2ecb0>allow </mark><mark style=background-color:#c7e89f>their </mark><mark style=background-color:#eaf5d9>children </mark><mark style=background-color:#f9eef4>to </mark><mark style=background-color:#e9f5d6>read </mark><mark style=background-color:#aeda7a>letting </mark><mark style=background-color:#9ccf64>society </mark><mark style=background-color:#cbe9a4>ban </mark><mark style=background-color:#f9f1f5>a </mark><mark style=background-color:#e7f5d3>book </mark><mark style=background-color:#95cb5c>simply </mark><mark style=background-color:#edf6df>for </mark><mark style=background-color:#edf6e1>the </mark><mark style=background-color:#f3f6ed>use </mark><mark style=background-color:#c7e89f>of </mark><mark style=background-color:#468a20>inappropriate </mark><mark style=background-color:#ecf6de>materials </mark><mark style=background-color:#d0ecad>is </mark><mark style=background-color:#a5d56f>ridiculous </mark><mark style=background-color:#f7f7f6>if </mark><mark style=background-color:#eff6e4>an </mark><mark style=background-color:#9acd61>author </mark><mark style=background-color:#f6f7f5>spent </mark><mark style=background-color:#ebf6db>time </mark><mark style=background-color:#79b73d>creating </mark><mark style=background-color:#f9eff4>a </mark><mark style=background-color:#b9e187>story </mark><mark style=background-color:#f6f7f5>it </mark><mark style=background-color:#f2f6ec>should </mark><mark style=background-color:#d8efb9>be </mark><mark style=background-color:#fbe8f2>and </mark><mark style=background-color:#f1f6ea>should </mark><mark style=background-color:#e7f5d2>not </mark><mark style=background-color:#fcdbed>put </mark><mark style=background-color:#fbe8f2>on </mark><mark style=background-color:#f9f1f5>a </mark><mark style=background-color:#f6f7f5>list </mark><mark style=background-color:#cbe9a4>of </mark><mark style=background-color:#f3f7ef>no </mark><mark style=background-color:#f6f7f5>if </mark><mark style=background-color:#f8f2f5>a </mark><mark style=background-color:#a7d672>certain </mark><mark style=background-color:#cdeaa7>person </mark><mark style=background-color:#f7f7f6>doesn't </mark><mark style=background-color:#f7cce5>like </mark><mark style=background-color:#f9f1f5>a </mark><mark style=background-color:#f7f7f6>book's </mark><mark style=background-color:#a3d36c>reputation </mark><mark style=background-color:#f5f7f2>all </mark><mark style=background-color:#f9f1f5>they </mark><mark style=background-color:#fad4e9>have </mark><mark style=background-color:#faedf3>to </mark><mark style=background-color:#e99cc8>do </mark><mark style=background-color:#d2ecb0>is </mark><mark style=background-color:#e7f5d2>not </mark><mark style=background-color:#e9f5d8>read </mark><mark style=background-color:#f5f7f2>it </mark><mark style=background-color:#e4f4cd>even </mark><mark style=background-color:#fcdbed>in </mark><mark style=background-color:#fcdbed>school </mark><mark style=background-color:#f9eef4>systems </mark><mark style=background-color:#f7f7f7>librarians </mark><mark style=background-color:#e9f5d6>are </mark><mark style=background-color:#fde0ef>there </mark><mark style=background-color:#faedf3>to </mark><mark style=background-color:#f1f6ea>guide </mark><mark style=background-color:#f8d0e7>kids </mark><mark style=background-color:#faedf3>to </mark><mark style=background-color:#eaf5d9>read </mark><mark style=background-color:#f7f7f6>good </mark><mark style=background-color:#f1f6e8>books </mark><mark style=background-color:#f7f7f6>if </mark><mark style=background-color:#f9f1f5>a </mark><mark style=background-color:#9ccf64>child </mark><mark style=background-color:#f9f1f5>wants </mark><mark style=background-color:#f9eef4>to </mark><mark style=background-color:#e9f5d8>read </mark><mark style=background-color:#eff6e4>an </mark><mark style=background-color:#43861f>inappropriate </mark><mark style=background-color:#e7f5d2>book </mark><mark style=background-color:#edf6e1>the </mark><mark style=background-color:#edf6e1>librarian </mark><mark style=background-color:#f6c9e3>will </mark><mark style=background-color:#e6f5d0>most </mark><mark style=background-color:#f7f7f6>likely </mark><mark style=background-color:#d0ecad>discourage </mark><mark style=background-color:#d8efb9>him </mark><mark style=background-color:#f7cce5>or </mark><mark style=background-color:#b5df82>her </mark><mark style=background-color:#e7f5d3>not </mark><mark style=background-color:#faecf3>to </mark><mark style=background-color:#eaf5d9>read </mark><mark style=background-color:#f5f7f3>it </mark><mark style=background-color:#fcdbed>in </mark><mark style=background-color:#f5f7f3>my </mark><mark style=background-color:#aeda7a>experience </mark><mark style=background-color:#e590bf>i </mark><mark style=background-color:#fbe7f2>wanted </mark><mark style=background-color:#f9eef4>to </mark><mark style=background-color:#e9f5d8>read </mark><mark style=background-color:#f9f1f5>a </mark><mark style=background-color:#e7f5d3>book </mark><mark style=background-color:#f9eef4>that </mark><mark style=background-color:#f5f7f2>my </mark><mark style=background-color:#d4edb3>mother </mark><mark style=background-color:#e9f5d8>suggested </mark><mark style=background-color:#f9eef4>to </mark><mark style=background-color:#fddeee>me </mark><mark style=background-color:#eaf5d9>but </mark><mark style=background-color:#f3f7ef>as </mark><mark style=background-color:#e590bf>i </mark><mark style=background-color:#f7cce5>went </mark><mark style=background-color:#f9eef4>to </mark><mark style=background-color:#edf6df>the </mark><mark style=background-color:#fddeee>school </mark><mark style=background-color:#eef6e2>library </mark><mark style=background-color:#f5f7f2>it </mark><mark style=background-color:#f0f6e7>turned </mark><mark style=background-color:#fce4f0>out </mark><mark style=background-color:#f9eef4>to </mark><mark style=background-color:#d6eeb6>be </mark><mark style=background-color:#f9f1f5>a </mark><mark style=background-color:#45881f>censored </mark><mark style=background-color:#e8f5d5>book </mark><mark style=background-color:#fde2f0>some </mark><mark style=background-color:#e7f5d2>parents </mark><mark style=background-color:#edf6df>believe </mark><mark style=background-color:#eaf5d9>children </mark><mark style=background-color:#f1f6ea>should </mark><mark style=background-color:#d6eeb6>be </mark><mark style=background-color:#7bb93e>ignorant </mark><mark style=background-color:#fde2f0>about </mark><mark style=background-color:#6bac34>offensive </mark><mark style=background-color:#f3f6ed>things </mark><mark style=background-color:#acd977>written </mark><mark style=background-color:#fcdbed>in </mark><mark style=background-color:#f0f6e7>books </mark><mark style=background-color:#eaf5d9>but </mark><mark style=background-color:#edf6e1>honestly </mark><mark style=background-color:#f0f6e7>many </mark><mark style=background-color:#c7e89f>of </mark><mark style=background-color:#edf6e1>the </mark><mark style=background-color:#edf6df>same </mark><mark style=background-color:#42841f>ideas </mark><mark style=background-color:#e7f5d3>are </mark><mark style=background-color:#f9eef4>to </mark><mark style=background-color:#e4f4cd>them </mark><mark style=background-color:#6dad36>everyday </mark><mark style=background-color:#fbe8f2>on </mark><mark style=background-color:#cfebaa>television </mark><mark style=background-color:#fbe7f2>and </mark><mark style=background-color:#c6e79c>internet </mark><mark style=background-color:#f4f7f0>so </mark><mark style=background-color:#e4f4cd>trying </mark><mark style=background-color:#f9eef4>to </mark><mark style=background-color:#bbe28a>shield </mark><mark style=background-color:#f5f7f3>your </mark><mark style=background-color:#9ed067>child </mark><mark style=background-color:#eaf5d9>from </mark><mark style=background-color:#edf6e1>the </mark><mark style=background-color:#f8f4f6>bad </mark><mark style=background-color:#f3f6ed>things </mark><mark style=background-color:#f7f7f6>month1 </mark><mark style=background-color:#d4edb3>be </mark><mark style=background-color:#f9f1f5>a </mark><mark style=background-color:#f3f7ef>great </mark><mark style=background-color:#f3f7ef>thing </mark><mark style=background-color:#e9f5d8>but </mark><mark style=background-color:#edf6e1>the </mark><mark style=background-color:#e7f5d3>are </mark><mark style=background-color:#e2f3ca>usually </mark><mark style=background-color:#f4f7f0>it </mark><mark style=background-color:#f8cee6>also </mark><mark style=background-color:#d6eeb6>never </mark><mark style=background-color:#acd977>occurs </mark><mark style=background-color:#f9eef4>to </mark><mark style=background-color:#edf6df>the </mark><mark style=background-color:#fde0ef>people </mark><mark style=background-color:#62a32e>censoring </mark><mark style=background-color:#edf6df>the </mark><mark style=background-color:#f0f6e7>books </mark><mark style=background-color:#f9eef4>that </mark><mark style=background-color:#fde0ef>some </mark><mark style=background-color:#fde0ef>people </mark><mark style=background-color:#f7f7f6>can't </mark><mark style=background-color:#fbd8eb>afford </mark><mark style=background-color:#f9eef4>to </mark><mark style=background-color:#d4539b>buy </mark><mark style=background-color:#edf6e1>the </mark><mark style=background-color:#f0f6e7>books </mark><mark style=background-color:#f8f3f6>they </mark><mark style=background-color:#fad4e9>want </mark><mark style=background-color:#f9eef4>to </mark><mark style=background-color:#e9f5d6>read </mark><mark style=background-color:#edf6e1>the </mark><mark style=background-color:#f5f7f2>libraries </mark><mark style=background-color:#ecf6de>for </mark><mark style=background-color:#fde1ef>some </mark><mark style=background-color:#e7f5d3>are </mark><mark style=background-color:#edf6df>the </mark><mark style=background-color:#c4e699>main </mark><mark style=background-color:#9ccf64>means </mark><mark style=background-color:#edf6df>for </mark><mark style=background-color:#f2f6ec>getting </mark><mark style=background-color:#f0f6e7>books </mark><mark style=background-color:#f9eef4>to </mark><mark style=background-color:#e9f5d6>conclude </mark><mark style=background-color:#fde2f0>there </mark><mark style=background-color:#d0ecad>is </mark><mark style=background-color:#cbe9a4>very </mark><mark style=background-color:#fce5f1>little </mark><mark style=background-color:#d6eeb6>reason </mark><mark style=background-color:#f9eef4>to </mark><mark style=background-color:#cbe9a4>ban </mark><mark style=background-color:#f9f1f5>a </mark><mark style=background-color:#e7f5d3>book </mark><mark style=background-color:#e9f5d8>from </mark><mark style=background-color:#edf6e1>the </mark><mark style=background-color:#fad4e9>shelves </mark><mark style=background-color:#eff6e5>many </mark><mark style=background-color:#c7e89f>of </mark><mark style=background-color:#edf6df>the </mark><mark style=background-color:#f0f6e7>books </mark><mark style=background-color:#7bb93e>banned </mark><mark style=background-color:#fcdbed>have </mark><mark style=background-color:#dbf0bf>important </mark><mark style=background-color:#e9f5d8>lessons </mark><mark style=background-color:#f9eef4>that </mark><mark style=background-color:#f9eef4>can </mark><mark style=background-color:#d6eeb6>be </mark><mark style=background-color:#ddf1c1>obtained </mark><mark style=background-color:#e1f3c7>through </mark><mark style=background-color:#bde38d>reading </mark><mark style=background-color:#f5f7f3>it </mark><mark style=background-color:#f7f7f7>if </mark><mark style=background-color:#f9f1f5>a </mark><mark style=background-color:#d2ecb0>person </mark><mark style=background-color:#f7f7f6>doesn't </mark><mark style=background-color:#f9d3e8>like </mark><mark style=background-color:#f8f2f5>a </mark><mark style=background-color:#e9f5d8>book </mark><mark style=background-color:#eef6e2>the </mark><mark style=background-color:#c2e596>simplest </mark><mark style=background-color:#f6f7f5>thing </mark><mark style=background-color:#f8f2f5>to </mark><mark style=background-color:#f6c9e3>do </mark><mark style=background-color:#e7f5d2>is </mark><mark style=background-color:#eff6e4>not </mark><mark style=background-color:#f8f4f6>to </mark><mark style=background-color:#faebf3>pick </mark><mark style=background-color:#f7f7f6>it </mark><mark style=background-color:#f8f2f5>up </mark>"
            ],
            "text/plain": [
              "<IPython.core.display.HTML object>"
            ]
          },
          "metadata": {
            "tags": []
          },
          "execution_count": 17
        }
      ]
    },
    {
      "cell_type": "code",
      "metadata": {
        "id": "3Mf4Xz5Mfw8s"
      },
      "source": [
        ""
      ],
      "execution_count": null,
      "outputs": []
    },
    {
      "cell_type": "code",
      "metadata": {
        "id": "h9ruptPUFsrF",
        "colab": {
          "base_uri": "https://localhost:8080/",
          "height": 247
        },
        "outputId": "57014b27-9285-4e55-edfe-2928c57e1eae"
      },
      "source": [
        "# v = data[0]\n",
        "v = x_val[3]\n",
        "attrs = get_attributions(np.array([v]))\n",
        "words,count = sequence_to_text(v)\n",
        "\n",
        "colors = colorize(attrs[count:])\n",
        "HTML(\"\".join(list(map(hlstr, words[count:], colors))))"
      ],
      "execution_count": null,
      "outputs": [
        {
          "output_type": "stream",
          "text": [
            "It looks like you are passing a model with a scalar output and target is set to `None`.If your model is a regression model this will produce correct attributions. If your model is a classification model, targets for each datapoint must be defined. Not defining the target may lead to incorrect values for the attributions.Targets can be either the true classes or the classes predicted by the model.\n"
          ],
          "name": "stderr"
        },
        {
          "output_type": "execute_result",
          "data": {
            "text/html": [
              "<mark style=background-color:#e7f5d2>in </mark><mark style=background-color:#eff6e4>libraries </mark><mark style=background-color:#f4f7f0>there </mark><mark style=background-color:#c82884>should </mark><mark style=background-color:#fce4f0>not </mark><mark style=background-color:#faeaf2>be </mark><mark style=background-color:#79b73d>censorship </mark><mark style=background-color:#f9d1e8>on </mark><mark style=background-color:#a3d36c>materials </mark><mark style=background-color:#f1f6e8>considering </mark><mark style=background-color:#920355>that </mark><mark style=background-color:#f7f7f6>it's </mark><mark style=background-color:#e286b8>an </mark><mark style=background-color:#8e0152>decision </mark><mark style=background-color:#e897c4>to </mark><mark style=background-color:#e48bbc>read </mark><mark style=background-color:#d4539b>what </mark><mark style=background-color:#de77ae>they </mark><mark style=background-color:#f1f6e8>prefer </mark><mark style=background-color:#bb1675>there </mark><mark style=background-color:#d14895>is </mark><mark style=background-color:#b3126f>no </mark><mark style=background-color:#fbe9f2>appropriate </mark><mark style=background-color:#d65a9f>standard </mark><mark style=background-color:#bb1675>on </mark><mark style=background-color:#e58dbe>what </mark><mark style=background-color:#fad4e9>makes </mark><mark style=background-color:#aa0e68>a </mark><mark style=background-color:#cc368b>book </mark><mark style=background-color:#f3f6ed>offensive </mark><mark style=background-color:#b3126f>to </mark><mark style=background-color:#b1116d>a </mark><mark style=background-color:#c01879>group </mark><mark style=background-color:#e181b5>so </mark><mark style=background-color:#d34f99>it </mark><mark style=background-color:#da69a6>should </mark><mark style=background-color:#df79b0>be </mark><mark style=background-color:#cd3a8d>as </mark><mark style=background-color:#a40b63>to </mark><mark style=background-color:#eda8d1>what </mark><mark style=background-color:#faeaf2>makes </mark><mark style=background-color:#c41a7c>a </mark><mark style=background-color:#f4bfdf>book </mark><mark style=background-color:#fbe9f2>offensive </mark><mark style=background-color:#a60c65>in </mark><mark style=background-color:#cc368b>a </mark><mark style=background-color:#f9eef4>public </mark><mark style=background-color:#f8f4f6>library </mark><mark style=background-color:#f5c2e0>many </mark><mark style=background-color:#fad4e9>children </mark><mark style=background-color:#e286b8>who </mark><mark style=background-color:#e89ac6>the </mark><mark style=background-color:#faeaf2>books </mark><mark style=background-color:#fce5f1>are </mark><mark style=background-color:#8ac34f>censored </mark><mark style=background-color:#e590bf>for </mark><mark style=background-color:#fbe6f1>are </mark><mark style=background-color:#f4c1df>with </mark><mark style=background-color:#fde2f0>their </mark><mark style=background-color:#f9eff4>parents </mark><mark style=background-color:#f9eff4>parents </mark><mark style=background-color:#fcdbed>should </mark><mark style=background-color:#fddeee>make </mark><mark style=background-color:#fbe9f2>an </mark><mark style=background-color:#edf6e1>independent </mark><mark style=background-color:#eef6e2>choice </mark><mark style=background-color:#f7cce5>on </mark><mark style=background-color:#f9eff4>what </mark><mark style=background-color:#fcdded>they </mark><mark style=background-color:#fce3f0>can </mark><mark style=background-color:#f3f7ef>allow </mark><mark style=background-color:#f9f0f5>their </mark><mark style=background-color:#f8f4f6>children </mark><mark style=background-color:#faedf3>to </mark><mark style=background-color:#f8f3f6>read </mark><mark style=background-color:#edf6df>letting </mark><mark style=background-color:#e1f3c7>society </mark><mark style=background-color:#f3f6ed>ban </mark><mark style=background-color:#faeaf2>a </mark><mark style=background-color:#eff6e5>book </mark><mark style=background-color:#edf6e1>simply </mark><mark style=background-color:#fbe6f1>for </mark><mark style=background-color:#f9eff4>the </mark><mark style=background-color:#fbe9f2>use </mark><mark style=background-color:#ebf6dc>of </mark><mark style=background-color:#c0e593>inappropriate </mark><mark style=background-color:#f7f7f6>materials </mark><mark style=background-color:#eef6e2>is </mark><mark style=background-color:#e7f5d3>ridiculous </mark><mark style=background-color:#faeaf2>if </mark><mark style=background-color:#f7f7f6>an </mark><mark style=background-color:#c6e79c>author </mark><mark style=background-color:#faebf3>spent </mark><mark style=background-color:#f7f6f7>time </mark><mark style=background-color:#c0e593>creating </mark><mark style=background-color:#fbe9f2>a </mark><mark style=background-color:#dbf0bf>story </mark><mark style=background-color:#f6f7f5>it </mark><mark style=background-color:#faedf3>should </mark><mark style=background-color:#f5f7f3>be </mark><mark style=background-color:#faecf3>and </mark><mark style=background-color:#faecf3>should </mark><mark style=background-color:#f8f2f5>not </mark><mark style=background-color:#fddeee>put </mark><mark style=background-color:#fbd9ec>on </mark><mark style=background-color:#fce5f1>a </mark><mark style=background-color:#f8f3f6>list </mark><mark style=background-color:#ebf6dc>of </mark><mark style=background-color:#fcdbed>no </mark><mark style=background-color:#fce5f1>if </mark><mark style=background-color:#fce5f1>a </mark><mark style=background-color:#ebf6db>certain </mark><mark style=background-color:#f2f6ec>person </mark><mark style=background-color:#f7f7f6>doesn't </mark><mark style=background-color:#fcdded>like </mark><mark style=background-color:#fbe7f2>a </mark><mark style=background-color:#f7f7f6>book's </mark><mark style=background-color:#e8f5d5>reputation </mark><mark style=background-color:#fbe8f2>all </mark><mark style=background-color:#fbe6f1>they </mark><mark style=background-color:#fcdbed>have </mark><mark style=background-color:#faedf3>to </mark><mark style=background-color:#f4bfdf>do </mark><mark style=background-color:#eff6e4>is </mark><mark style=background-color:#f8f2f5>not </mark><mark style=background-color:#f9f0f5>read </mark><mark style=background-color:#f7f6f7>it </mark><mark style=background-color:#f4f7f0>even </mark><mark style=background-color:#f9d1e8>in </mark><mark style=background-color:#fddeee>school </mark><mark style=background-color:#f8f3f6>systems </mark><mark style=background-color:#ebf6db>librarians </mark><mark style=background-color:#f3f7ef>are </mark><mark style=background-color:#fbe8f2>there </mark><mark style=background-color:#f9eef4>to </mark><mark style=background-color:#f8f3f6>guide </mark><mark style=background-color:#f7cce5>kids </mark><mark style=background-color:#f9eef4>to </mark><mark style=background-color:#f9f1f5>read </mark><mark style=background-color:#faebf3>good </mark><mark style=background-color:#f0f6e7>books </mark><mark style=background-color:#fbe6f1>if </mark><mark style=background-color:#fbe7f2>a </mark><mark style=background-color:#f3f6ed>child </mark><mark style=background-color:#fbe6f1>wants </mark><mark style=background-color:#f9eef4>to </mark><mark style=background-color:#f9f1f5>read </mark><mark style=background-color:#f7f6f7>an </mark><mark style=background-color:#bbe28a>inappropriate </mark><mark style=background-color:#f0f6e7>book </mark><mark style=background-color:#f9eef4>the </mark><mark style=background-color:#ecf6de>librarian </mark><mark style=background-color:#fbd9ec>will </mark><mark style=background-color:#f1f6ea>most </mark><mark style=background-color:#f8f3f6>likely </mark><mark style=background-color:#ebf6db>discourage </mark><mark style=background-color:#f8f3f6>him </mark><mark style=background-color:#fbd9ec>or </mark><mark style=background-color:#e9f5d6>her </mark><mark style=background-color:#f8f3f6>not </mark><mark style=background-color:#f9eef4>to </mark><mark style=background-color:#f9f1f5>read </mark><mark style=background-color:#f7f7f7>it </mark><mark style=background-color:#f8d0e7>in </mark><mark style=background-color:#f8f4f6>my </mark><mark style=background-color:#ddf1c1>experience </mark><mark style=background-color:#f5c4e1>i </mark><mark style=background-color:#fbe6f1>wanted </mark><mark style=background-color:#f9eef4>to </mark><mark style=background-color:#f9f1f5>read </mark><mark style=background-color:#fbe8f2>a </mark><mark style=background-color:#f0f6e7>book </mark><mark style=background-color:#f9eef4>that </mark><mark style=background-color:#f8f5f6>my </mark><mark style=background-color:#f3f6ed>mother </mark><mark style=background-color:#f4f7f0>suggested </mark><mark style=background-color:#f9eef4>to </mark><mark style=background-color:#fbe6f1>me </mark><mark style=background-color:#f5f7f3>but </mark><mark style=background-color:#fbe9f2>as </mark><mark style=background-color:#f7cbe4>i </mark><mark style=background-color:#fce5f1>went </mark><mark style=background-color:#f9eff4>to </mark><mark style=background-color:#f9f0f5>the </mark><mark style=background-color:#fde0ef>school </mark><mark style=background-color:#eff6e5>library </mark><mark style=background-color:#f5f7f3>it </mark><mark style=background-color:#f0f6e7>turned </mark><mark style=background-color:#fbd8eb>out </mark><mark style=background-color:#f9eef4>to </mark><mark style=background-color:#f5f7f2>be </mark><mark style=background-color:#fbe6f1>a </mark><mark style=background-color:#93c959>censored </mark><mark style=background-color:#f1f6e8>book </mark><mark style=background-color:#fce5f1>some </mark><mark style=background-color:#f7f7f7>parents </mark><mark style=background-color:#f5f7f2>believe </mark><mark style=background-color:#f8f2f5>children </mark><mark style=background-color:#fbe9f2>should </mark><mark style=background-color:#f7f6f7>be </mark><mark style=background-color:#cfebaa>ignorant </mark><mark style=background-color:#faeaf2>about </mark><mark style=background-color:#ebf6dc>offensive </mark><mark style=background-color:#faedf3>things </mark><mark style=background-color:#e7f5d3>written </mark><mark style=background-color:#f8cee6>in </mark><mark style=background-color:#f1f6e8>books </mark><mark style=background-color:#f7f6f7>but </mark><mark style=background-color:#f5f7f3>honestly </mark><mark style=background-color:#f3f7ef>many </mark><mark style=background-color:#ecf6de>of </mark><mark style=background-color:#f9eef4>the </mark><mark style=background-color:#f8f4f6>same </mark><mark style=background-color:#b5df82>ideas </mark><mark style=background-color:#f4f7f0>are </mark><mark style=background-color:#f9eef4>to </mark><mark style=background-color:#f8f4f6>them </mark><mark style=background-color:#d6eeb6>everyday </mark><mark style=background-color:#fddeee>on </mark><mark style=background-color:#f2f6ec>television </mark><mark style=background-color:#faedf3>and </mark><mark style=background-color:#f4f7f0>internet </mark><mark style=background-color:#f9f0f5>so </mark><mark style=background-color:#f7f6f7>trying </mark><mark style=background-color:#f9eef4>to </mark><mark style=background-color:#eff6e4>shield </mark><mark style=background-color:#faebf3>your </mark><mark style=background-color:#f2f6ec>child </mark><mark style=background-color:#f7f7f7>from </mark><mark style=background-color:#f9eef4>the </mark><mark style=background-color:#faeaf2>bad </mark><mark style=background-color:#f9eef4>things </mark><mark style=background-color:#f7f7f6>month1 </mark><mark style=background-color:#f7f7f6>be </mark><mark style=background-color:#fbe7f2>a </mark><mark style=background-color:#f5f7f2>great </mark><mark style=background-color:#f9f0f5>thing </mark><mark style=background-color:#f7f7f7>but </mark><mark style=background-color:#f9eef4>the </mark><mark style=background-color:#f4f7f0>are </mark><mark style=background-color:#f8f5f6>usually </mark><mark style=background-color:#f7f7f6>it </mark><mark style=background-color:#fddeee>also </mark><mark style=background-color:#f4f7f0>never </mark><mark style=background-color:#e8f5d5>occurs </mark><mark style=background-color:#f9f0f5>to </mark><mark style=background-color:#f9f1f5>the </mark><mark style=background-color:#fce5f1>people </mark><mark style=background-color:#d0ecad>censoring </mark><mark style=background-color:#f9f0f5>the </mark><mark style=background-color:#eff6e4>books </mark><mark style=background-color:#f9f0f5>that </mark><mark style=background-color:#faeaf2>some </mark><mark style=background-color:#fde2f0>people </mark><mark style=background-color:#f7f7f6>can't </mark><mark style=background-color:#fce3f0>afford </mark><mark style=background-color:#f9eef4>to </mark><mark style=background-color:#eeabd2>buy </mark><mark style=background-color:#f9eff4>the </mark><mark style=background-color:#eff6e4>books </mark><mark style=background-color:#fbe8f2>they </mark><mark style=background-color:#fbd9ec>want </mark><mark style=background-color:#f9eef4>to </mark><mark style=background-color:#f9f1f5>read </mark><mark style=background-color:#f9eef4>the </mark><mark style=background-color:#edf6e1>libraries </mark><mark style=background-color:#fde1ef>for </mark><mark style=background-color:#fbe7f2>some </mark><mark style=background-color:#f3f7ef>are </mark><mark style=background-color:#f9eef4>the </mark><mark style=background-color:#e9f5d8>main </mark><mark style=background-color:#f3f6ed>means </mark><mark style=background-color:#fde1ef>for </mark><mark style=background-color:#fce5f1>getting </mark><mark style=background-color:#f1f6e8>books </mark><mark style=background-color:#faedf3>to </mark><mark style=background-color:#eff6e5>conclude </mark><mark style=background-color:#fce5f1>there </mark><mark style=background-color:#eff6e4>is </mark><mark style=background-color:#eaf5d9>very </mark><mark style=background-color:#fddeee>little </mark><mark style=background-color:#f2f6ec>reason </mark><mark style=background-color:#faedf3>to </mark><mark style=background-color:#f4f7f0>ban </mark><mark style=background-color:#fbe6f1>a </mark><mark style=background-color:#f1f6e8>book </mark><mark style=background-color:#f7f6f7>from </mark><mark style=background-color:#faedf3>the </mark><mark style=background-color:#faeaf2>shelves </mark><mark style=background-color:#f4f7f0>many </mark><mark style=background-color:#ecf6de>of </mark><mark style=background-color:#faecf3>the </mark><mark style=background-color:#f1f6e8>books </mark><mark style=background-color:#e4f4cd>banned </mark><mark style=background-color:#fad4e9>have </mark><mark style=background-color:#ecf6de>important </mark><mark style=background-color:#f4f7f0>lessons </mark><mark style=background-color:#faebf3>that </mark><mark style=background-color:#fce4f0>can </mark><mark style=background-color:#f8f4f6>be </mark><mark style=background-color:#f8f2f5>obtained </mark><mark style=background-color:#f8f5f6>through </mark><mark style=background-color:#f1f6ea>reading </mark><mark style=background-color:#f9f0f5>it </mark><mark style=background-color:#fde2f0>if </mark><mark style=background-color:#fde1ef>a </mark><mark style=background-color:#f3f7ef>person </mark><mark style=background-color:#f7f7f6>doesn't </mark><mark style=background-color:#f9d1e8>like </mark><mark style=background-color:#fde2f0>a </mark><mark style=background-color:#f4f7f0>book </mark><mark style=background-color:#fbe9f2>the </mark><mark style=background-color:#edf6df>simplest </mark><mark style=background-color:#faebf3>thing </mark><mark style=background-color:#faeaf2>to </mark><mark style=background-color:#f6c9e3>do </mark><mark style=background-color:#f5f7f3>is </mark><mark style=background-color:#f9eef4>not </mark><mark style=background-color:#f9eef4>to </mark><mark style=background-color:#fce5f1>pick </mark><mark style=background-color:#f8f2f5>it </mark><mark style=background-color:#f9eff4>up </mark>"
            ],
            "text/plain": [
              "<IPython.core.display.HTML object>"
            ]
          },
          "metadata": {
            "tags": []
          },
          "execution_count": 19
        }
      ]
    },
    {
      "cell_type": "markdown",
      "metadata": {
        "id": "TZ5CN2CdPngY"
      },
      "source": [
        ""
      ]
    },
    {
      "cell_type": "code",
      "metadata": {
        "id": "fk152p9GSxTa"
      },
      "source": [
        "def remove_token(v, token='i'):\n",
        "  if token == '':\n",
        "    t_id = None\n",
        "  else:\n",
        "    t_id = tokenizer.word_index[token]\n",
        "  w = [x for x in v if x!=t_id and x!=None]\n",
        "  return w\n",
        "\n",
        "new_val = []\n",
        "for i,v in enumerate(x_val):\n",
        "  new_val.append(remove_token(v, 'you'))\n",
        "data = pad_sequences(new_val, maxlen=MAX_SEQUENCE_LENGTH)"
      ],
      "execution_count": null,
      "outputs": []
    },
    {
      "cell_type": "code",
      "metadata": {
        "id": "41nj7EsISxRa",
        "colab": {
          "base_uri": "https://localhost:8080/",
          "height": 35
        },
        "outputId": "063eecc5-20a6-4137-d26a-1efa385a0069"
      },
      "source": [
        "y_pred=sf.predict(np.array(data))\n",
        "\n",
        "y_val_fin = [int(round(a*(range_max-range_min)+range_min)) for a in y_val]\n",
        "# print(y_val_fin)\n",
        "\n",
        "y_pred_fin =[int(round(a*(range_max-range_min)+range_min)) for a in y_pred.flatten().tolist()]\n",
        "# print(y_pred_fin)\n",
        "\n",
        "print(cohen_kappa_score(y_val_fin,y_pred_fin,weights=\"quadratic\"))"
      ],
      "execution_count": null,
      "outputs": [
        {
          "output_type": "stream",
          "text": [
            "0.7962656220403261\n"
          ],
          "name": "stdout"
        }
      ]
    },
    {
      "cell_type": "code",
      "metadata": {
        "id": "o_P__WAoRjy1"
      },
      "source": [
        "def pred_val(data):\n",
        "  y_pred=sf.predict([data])\n",
        "  y_pred_fin =[int(round(a*(range_max-range_min)+range_min)) for a in y_pred.flatten().tolist()]\n",
        "  print(y_pred_fin)"
      ],
      "execution_count": null,
      "outputs": []
    },
    {
      "cell_type": "code",
      "metadata": {
        "id": "t66k1QU9T600",
        "colab": {
          "base_uri": "https://localhost:8080/",
          "height": 35
        },
        "outputId": "e7861014-1061-4a32-8862-c8eea6cf9c65"
      },
      "source": [
        "y_pred=sf.predict([x_val])\n",
        "\n",
        "y_val_fin = [int(round(a*(range_max-range_min)+range_min)) for a in y_val]\n",
        "# print(y_val_fin)\n",
        "\n",
        "y_pred_fin =[int(round(a*(range_max-range_min)+range_min)) for a in y_pred.flatten().tolist()]\n",
        "# print(y_pred_fin)\n",
        "\n",
        "print(cohen_kappa_score(y_val_fin,y_pred_fin,weights=\"quadratic\"))"
      ],
      "execution_count": null,
      "outputs": [
        {
          "output_type": "stream",
          "text": [
            "0.8004643518223017\n"
          ],
          "name": "stdout"
        }
      ]
    },
    {
      "cell_type": "code",
      "metadata": {
        "id": "zd3o8eR-W19H",
        "colab": {
          "base_uri": "https://localhost:8080/",
          "height": 35
        },
        "outputId": "a2bee22b-f00e-472b-92aa-09f0e798244f"
      },
      "source": [
        "! pip install googledrivedownloader"
      ],
      "execution_count": null,
      "outputs": [
        {
          "output_type": "stream",
          "text": [
            "Requirement already satisfied: googledrivedownloader in /usr/local/lib/python3.6/dist-packages (0.4)\n"
          ],
          "name": "stdout"
        }
      ]
    },
    {
      "cell_type": "code",
      "metadata": {
        "id": "_vpV2XVuW49S",
        "colab": {
          "base_uri": "https://localhost:8080/",
          "height": 54
        },
        "outputId": "0bda5a34-cc52-4630-9619-6505497384a5"
      },
      "source": [
        "from google_drive_downloader import GoogleDriveDownloader as gdd\n",
        "gdd.download_file_from_google_drive(file_id='1CIEpiDmzLmJ6LMCVSOmCKw_eOg4ocuS4', dest_path='/content/AES.zip', unzip=True)"
      ],
      "execution_count": null,
      "outputs": [
        {
          "output_type": "stream",
          "text": [
            "Downloading 1CIEpiDmzLmJ6LMCVSOmCKw_eOg4ocuS4 into /content/AES.zip... Done.\n",
            "Unzipping...Done.\n"
          ],
          "name": "stdout"
        }
      ]
    },
    {
      "cell_type": "code",
      "metadata": {
        "id": "rVOw9PaRW81L"
      },
      "source": [
        ""
      ],
      "execution_count": null,
      "outputs": []
    },
    {
      "cell_type": "code",
      "metadata": {
        "id": "BJfld8EfCdgi",
        "colab": {
          "base_uri": "https://localhost:8080/",
          "height": 54
        },
        "outputId": "9bc8cdb6-d621-4fbf-9a87-1d35fef80c7f"
      },
      "source": [
        "print(len(y_val_fin))\n",
        "print(len(y_pred_fin))"
      ],
      "execution_count": null,
      "outputs": [
        {
          "output_type": "stream",
          "text": [
            "356\n",
            "356\n"
          ],
          "name": "stdout"
        }
      ]
    },
    {
      "cell_type": "code",
      "metadata": {
        "id": "osfnQmVWDWSd"
      },
      "source": [
        ""
      ],
      "execution_count": null,
      "outputs": []
    }
  ]
}